{
 "cells": [
  {
   "cell_type": "markdown",
   "metadata": {},
   "source": [
    "# Analysis Notebook - Hierarchical Bayesian Modelling sex-as events"
   ]
  },
  {
   "cell_type": "markdown",
   "metadata": {},
   "source": [
    "## **NOTE**:\n",
    "\n",
    "We assume that you have cloned the analysis repository and have `cd` into the parent directory. Before starting with the analysis make sure you have first completed the dependencies set up by following the instructions described in the **`dependencies/README.md`** document. All paths defined in this Notebook are relative to the parent directory (repository). Please close this Notebook and start again by following the above guidelines if you have not completed the aforementioned steps."
   ]
  },
  {
   "cell_type": "markdown",
   "metadata": {},
   "source": [
    "## Prerequisite input files\n",
    "\n",
    "Before starting the execution of the following code, make sure you have available in the folders `sbas/data` and `sbas/assets` the files listed below as prerequisites.\n",
    "\n",
    "###  **`sbas/data`**.\n",
    "The present analysis requires the following files to be present in the folder **`sbas/data`** uncompressed as the filenames indicate below:\n",
    "\n",
    "using splice_type -- look for any of the chosen files\n",
    "\n",
    "- [x] `fromGTF.{splice_type}.txt`\n",
    "- [x] `GTEx_Analysis_2017-06-05_v8_RNASeQCv1.1.9_gene_tpm.gct`\n",
    "- [x] `rmats_final.{splice_type}.jc.ijc.txt`\n",
    "- [x] `rmats_final.{splice_type}.jc.sjc.txt`\n",
    "- [x] `*_model_B_sex_as_events*`\n",
    "\n",
    "\n",
    "### **`sbas/assets`**\n",
    "The present analysis requires the following files to be present in the folder **`sbas/assets`**.\n",
    "\n",
    "- [x] `tissues.tsv`: metadata file with information on which tissues will be used for analysis -- only using the `include` option for analysis\n",
    "- [x] `splice-relevant-genes.txt`: list of RNA binding proteins that are annotated to splicing relevant functions from GO.\n",
    "\n",
    "\n",
    "**NOTE**: For convenience there are two `.tar.gz` archives with the contents described above.\n",
    "\n",
    "```\n",
    "gs://robinson-bucket/notebooks/bayesian-modeling/data_bayesian_se_AS_model_B_sex_as_events.tar.gz\n",
    "gs://robinson-bucket/notebooks/bayesian-modeling/assets_bayesian_se_AS_model_B_sex_as_events.tar.gz\n",
    "```\n",
    "\n",
    "Before running the notebook, one can unpack the contents of the archives in the `sbas-nf/data` folder as required by executing the following commands:\n",
    "\n",
    "```bash\n",
    "# git clone https://github.com/TheJacksonLaboratory/sbas-nf\n",
    "tar xvzf data_bayesian_se_AS_model_B_sex_as_events.tar.gz -C data/\n",
    "tar xvzf assets_bayesian_se_AS_model_B_sex_as_events.tar.gz -C assets/\n",
    "\n",
    "```\n"
   ]
  },
  {
   "cell_type": "markdown",
   "metadata": {},
   "source": [
    "## Loading dependencies\n",
    "\n",
    "If `conda` is available on your environment you can install the required dependencies by running the following commands:\n",
    "\n",
    "\n",
    "```bash\n",
    "time conda install -y r-base==3.6.2 &&\n",
    "conda install -y r-ggplot2 r-ggsci r-coda r-rstan r-rjags r-compute.es r-snakecase &&\n",
    "Rscript -e 'install.packages(\"runjags\", repos = \"https://cloud.r-project.org/\")'\n",
    "```\n",
    "\n"
   ]
  },
  {
   "cell_type": "code",
   "execution_count": 1,
   "metadata": {},
   "outputs": [],
   "source": [
    "# Start the clock!\n",
    "start_time <- Sys.time()"
   ]
  },
  {
   "cell_type": "code",
   "execution_count": 2,
   "metadata": {},
   "outputs": [
    {
     "name": "stderr",
     "output_type": "stream",
     "text": [
      "Warning message:\n",
      "“package ‘ggplot2’ was built under R version 3.6.3”\n",
      "Warning message:\n",
      "“package ‘ggsci’ was built under R version 3.6.3”\n",
      "Warning message:\n",
      "“package ‘gridExtra’ was built under R version 3.6.3”\n",
      "Warning message:\n",
      "“package ‘snakecase’ was built under R version 3.6.3”\n",
      "Warning message:\n",
      "“package ‘rstan’ was built under R version 3.6.3”\n",
      "Loading required package: StanHeaders\n",
      "\n",
      "Warning message:\n",
      "“package ‘StanHeaders’ was built under R version 3.6.3”\n",
      "rstan (Version 2.19.3, GitRev: 2e1f913d3ca3)\n",
      "\n",
      "For execution on a local, multicore CPU with excess RAM we recommend calling\n",
      "options(mc.cores = parallel::detectCores()).\n",
      "To avoid recompilation of unchanged Stan programs, we recommend calling\n",
      "rstan_options(auto_write = TRUE)\n",
      "\n",
      "Warning message:\n",
      "“package ‘rjags’ was built under R version 3.6.3”\n",
      "Loading required package: coda\n",
      "\n",
      "Warning message:\n",
      "“package ‘coda’ was built under R version 3.6.3”\n",
      "\n",
      "Attaching package: ‘coda’\n",
      "\n",
      "\n",
      "The following object is masked from ‘package:rstan’:\n",
      "\n",
      "    traceplot\n",
      "\n",
      "\n",
      "Linked to JAGS 4.3.0\n",
      "\n",
      "Loaded modules: basemod,bugs\n",
      "\n",
      "\n",
      "Attaching package: ‘runjags’\n",
      "\n",
      "\n",
      "The following object is masked from ‘package:rstan’:\n",
      "\n",
      "    extract\n",
      "\n",
      "\n",
      "Warning message:\n",
      "“package ‘compute.es’ was built under R version 3.6.3”\n"
     ]
    }
   ],
   "source": [
    "# dataviz dependencies\n",
    "library(ggplot2)\n",
    "library(ggsci)\n",
    "library(grid)\n",
    "library(gridExtra)\n",
    "library(stringr)\n",
    "library(snakecase)\n",
    "\n",
    "# BDA2E-utilities dependencies\n",
    "library(rstan)\n",
    "library(parallel)\n",
    "library(rjags)\n",
    "library(runjags)\n",
    "library(compute.es)"
   ]
  },
  {
   "cell_type": "markdown",
   "metadata": {},
   "source": [
    "Previously used list of tissues to use for the Hierarchical Bayesian modelling:\n",
    "\n",
    "\n",
    "\n",
    "```R\n",
    "tissue.list<-c(\"Heart - Left Ventricle\",\n",
    "               \"Breast - Mammary Tissue\",\n",
    "               \"Brain - Cortex.Brain - Frontal Cortex (BA9).Brain - Anterior cingulate cortex (BA24)\",\n",
    "               \"Adrenal Gland\",\n",
    "               \"Adipose - Subcutaneous\",\n",
    "               \"Muscle - Skeletal\",\n",
    "               \"Thyroid\",\n",
    "               \"Cells - Transformed fibroblasts\",\n",
    "               \"Artery - Aorta\",\n",
    "               \"Skin - Sun Exposed (Lower leg).Skin - Not Sun Exposed (Suprapubic)\")\n",
    "```"
   ]
  },
  {
   "cell_type": "code",
   "execution_count": 3,
   "metadata": {},
   "outputs": [
    {
     "name": "stderr",
     "output_type": "stream",
     "text": [
      "Parsed with column specification:\n",
      "cols(\n",
      "  name = \u001b[31mcol_character()\u001b[39m,\n",
      "  female = \u001b[32mcol_double()\u001b[39m,\n",
      "  male = \u001b[32mcol_double()\u001b[39m,\n",
      "  include = \u001b[32mcol_double()\u001b[39m,\n",
      "  display.name = \u001b[31mcol_character()\u001b[39m\n",
      ")\n",
      "\n"
     ]
    }
   ],
   "source": [
    "tissues_df <- readr::read_delim(\"../assets/tissues.tsv\", delim = \"\\t\")"
   ]
  },
  {
   "cell_type": "code",
   "execution_count": 4,
   "metadata": {},
   "outputs": [],
   "source": [
    "tissue.list <- tissues_df$name[ tissues_df$include ==1]"
   ]
  },
  {
   "cell_type": "code",
   "execution_count": 5,
   "metadata": {},
   "outputs": [
    {
     "name": "stderr",
     "output_type": "stream",
     "text": [
      "39 tissues\n",
      "\n"
     ]
    },
    {
     "name": "stdout",
     "output_type": "stream",
     "text": [
      "adipose_subcutaneous\n",
      "adipose_visceral_omentum\n",
      "adrenal_gland\n",
      "artery_aorta\n",
      "artery_coronary\n",
      "artery_tibial\n",
      "brain_caudate_basal_ganglia\n",
      "brain_cerebellar_hemisphere\n",
      "brain_cerebellum\n",
      "brain_cortex\n",
      "brain_frontal_cortex_ba_9\n",
      "brain_hippocampus\n",
      "brain_hypothalamus\n",
      "brain_nucleus_accumbens_basal_ganglia\n",
      "brain_putamen_basal_ganglia\n",
      "brain_spinal_cord_cervical_c_1\n",
      "breast_mammary_tissue\n",
      "cells_cultured_fibroblasts\n",
      "cells_ebv_transformed_lymphocytes\n",
      "colon_sigmoid\n",
      "colon_transverse\n",
      "esophagus_gastroesophageal_junction\n",
      "esophagus_mucosa\n",
      "esophagus_muscularis\n",
      "heart_atrial_appendage\n",
      "heart_left_ventricle\n",
      "liver\n",
      "lung\n",
      "muscle_skeletal\n",
      "nerve_tibial\n",
      "pancreas\n",
      "pituitary\n",
      "skin_not_sun_exposed_suprapubic\n",
      "skin_sun_exposed_lower_leg\n",
      "small_intestine_terminal_ileum\n",
      "spleen\n",
      "stomach\n",
      "thyroid\n",
      "whole_blood\n"
     ]
    }
   ],
   "source": [
    "message(length(tissue.list), \" tissues\")\n",
    "cat(tissue.list, sep = \"\\n\")"
   ]
  },
  {
   "cell_type": "code",
   "execution_count": 6,
   "metadata": {},
   "outputs": [
    {
     "name": "stderr",
     "output_type": "stream",
     "text": [
      "splice types are : \n",
      "\n"
     ]
    },
    {
     "data": {
      "text/html": [
       "<style>\n",
       ".list-inline {list-style: none; margin:0; padding: 0}\n",
       ".list-inline>li {display: inline-block}\n",
       ".list-inline>li:not(:last-child)::after {content: \"\\00b7\"; padding: 0 .5ex}\n",
       "</style>\n",
       "<ol class=list-inline><li>'a3ss'</li><li>'a5ss'</li><li>'mxe'</li><li>'ri'</li><li>'se'</li></ol>\n"
      ],
      "text/latex": [
       "\\begin{enumerate*}\n",
       "\\item 'a3ss'\n",
       "\\item 'a5ss'\n",
       "\\item 'mxe'\n",
       "\\item 'ri'\n",
       "\\item 'se'\n",
       "\\end{enumerate*}\n"
      ],
      "text/markdown": [
       "1. 'a3ss'\n",
       "2. 'a5ss'\n",
       "3. 'mxe'\n",
       "4. 'ri'\n",
       "5. 'se'\n",
       "\n",
       "\n"
      ],
      "text/plain": [
       "[1] \"a3ss\" \"a5ss\" \"mxe\"  \"ri\"   \"se\"  "
      ]
     },
     "metadata": {},
     "output_type": "display_data"
    }
   ],
   "source": [
    "splice_types <- c(\"a3ss\", \"a5ss\", \"mxe\", \"ri\", \"se\")\n",
    "message(\"splice types are : \")\n",
    "splice_types"
   ]
  },
  {
   "cell_type": "markdown",
   "metadata": {},
   "source": [
    "## Two parameters set and unset for debugging, set externally for nextflow execution of notebook, splice_index and tissue_index\n"
   ]
  },
  {
   "cell_type": "code",
   "execution_count": 7,
   "metadata": {},
   "outputs": [],
   "source": [
    "tissue_index = 17\n",
    "splice_index = 5\n",
    "tissue      <- tissue.list[tissue_index]  #can be replaced with a loop or argument to choose a different tissue\n",
    "splice_type <- splice_types[splice_index] #can be replaced with a loop or argument to choose a different splice_type"
   ]
  },
  {
   "cell_type": "code",
   "execution_count": 8,
   "metadata": {},
   "outputs": [
    {
     "data": {
      "text/html": [
       "'breast_mammary_tissue'"
      ],
      "text/latex": [
       "'breast\\_mammary\\_tissue'"
      ],
      "text/markdown": [
       "'breast_mammary_tissue'"
      ],
      "text/plain": [
       "[1] \"breast_mammary_tissue\""
      ]
     },
     "metadata": {},
     "output_type": "display_data"
    },
    {
     "data": {
      "text/html": [
       "'se'"
      ],
      "text/latex": [
       "'se'"
      ],
      "text/markdown": [
       "'se'"
      ],
      "text/plain": [
       "[1] \"se\""
      ]
     },
     "metadata": {},
     "output_type": "display_data"
    }
   ],
   "source": [
    "tissue\n",
    "splice_type"
   ]
  },
  {
   "cell_type": "markdown",
   "metadata": {},
   "source": [
    "## Pattern for choosing `topTable()` files from `limma`\n",
    "\n",
    "```bash\n",
    "# {as_site_type} + '_' + {tissue} + '_' + suffix_pattern \n",
    "se_skin_not_sun_exposed_suprapubic_AS_model_B_sex_as_events.csv\n",
    "```"
   ]
  },
  {
   "cell_type": "code",
   "execution_count": 9,
   "metadata": {},
   "outputs": [
    {
     "data": {
      "text/html": [
       "'../data/se_breast_mammary_tissue_AS_model_B_sex_as_events_refined.csv'"
      ],
      "text/latex": [
       "'../data/se\\_breast\\_mammary\\_tissue\\_AS\\_model\\_B\\_sex\\_as\\_events\\_refined.csv'"
      ],
      "text/markdown": [
       "'../data/se_breast_mammary_tissue_AS_model_B_sex_as_events_refined.csv'"
      ],
      "text/plain": [
       "[1] \"../data/se_breast_mammary_tissue_AS_model_B_sex_as_events_refined.csv\""
      ]
     },
     "metadata": {},
     "output_type": "display_data"
    },
    {
     "data": {
      "text/html": [
       "TRUE"
      ],
      "text/latex": [
       "TRUE"
      ],
      "text/markdown": [
       "TRUE"
      ],
      "text/plain": [
       "[1] TRUE"
      ]
     },
     "metadata": {},
     "output_type": "display_data"
    },
    {
     "data": {
      "text/html": [
       "'-rw-r--r-- 1 jovyan users 393101 Jun 18 16:59 ../data/se_breast_mammary_tissue_AS_model_B_sex_as_events_refined.csv'"
      ],
      "text/latex": [
       "'-rw-r--r-- 1 jovyan users 393101 Jun 18 16:59 ../data/se\\_breast\\_mammary\\_tissue\\_AS\\_model\\_B\\_sex\\_as\\_events\\_refined.csv'"
      ],
      "text/markdown": [
       "'-rw-r--r-- 1 jovyan users 393101 Jun 18 16:59 ../data/se_breast_mammary_tissue_AS_model_B_sex_as_events_refined.csv'"
      ],
      "text/plain": [
       "[1] \"-rw-r--r-- 1 jovyan users 393101 Jun 18 16:59 ../data/se_breast_mammary_tissue_AS_model_B_sex_as_events_refined.csv\""
      ]
     },
     "metadata": {},
     "output_type": "display_data"
    }
   ],
   "source": [
    "dataDir <- \"../data/\"\n",
    "assetsDir <- \"../assets/\"\n",
    "as_site_type <- splice_type\n",
    "suffix_pattern <- \"AS_model_B_sex_as_events_refined.csv\"\n",
    "\n",
    "file.with.de.results <- paste0(dataDir, as_site_type, \"_\", tissue, \"_\" , suffix_pattern  )\n",
    "file.with.de.results\n",
    "file.exists(file.with.de.results)\n",
    "system( paste0(\"ls -l \", file.with.de.results), intern = TRUE )"
   ]
  },
  {
   "cell_type": "code",
   "execution_count": 10,
   "metadata": {},
   "outputs": [
    {
     "data": {
      "text/html": [
       "<table>\n",
       "<caption>A data.frame: 2 × 6</caption>\n",
       "<thead>\n",
       "\t<tr><th></th><th scope=col>logFC</th><th scope=col>AveExpr</th><th scope=col>t</th><th scope=col>P.Value</th><th scope=col>adj.P.Val</th><th scope=col>B</th></tr>\n",
       "\t<tr><th></th><th scope=col>&lt;dbl&gt;</th><th scope=col>&lt;dbl&gt;</th><th scope=col>&lt;dbl&gt;</th><th scope=col>&lt;dbl&gt;</th><th scope=col>&lt;dbl&gt;</th><th scope=col>&lt;dbl&gt;</th></tr>\n",
       "</thead>\n",
       "<tbody>\n",
       "\t<tr><th scope=row>XIST-10154</th><td>-6.796072</td><td>1.385720</td><td>-38.73465</td><td>5.301573e-131</td><td>1.523859e-126</td><td>280.9110</td></tr>\n",
       "\t<tr><th scope=row>XIST-10149</th><td>-7.124726</td><td>1.597306</td><td>-38.68238</td><td>7.868530e-131</td><td>1.523859e-126</td><td>280.5225</td></tr>\n",
       "</tbody>\n",
       "</table>\n"
      ],
      "text/latex": [
       "A data.frame: 2 × 6\n",
       "\\begin{tabular}{r|llllll}\n",
       "  & logFC & AveExpr & t & P.Value & adj.P.Val & B\\\\\n",
       "  & <dbl> & <dbl> & <dbl> & <dbl> & <dbl> & <dbl>\\\\\n",
       "\\hline\n",
       "\tXIST-10154 & -6.796072 & 1.385720 & -38.73465 & 5.301573e-131 & 1.523859e-126 & 280.9110\\\\\n",
       "\tXIST-10149 & -7.124726 & 1.597306 & -38.68238 & 7.868530e-131 & 1.523859e-126 & 280.5225\\\\\n",
       "\\end{tabular}\n"
      ],
      "text/markdown": [
       "\n",
       "A data.frame: 2 × 6\n",
       "\n",
       "| <!--/--> | logFC &lt;dbl&gt; | AveExpr &lt;dbl&gt; | t &lt;dbl&gt; | P.Value &lt;dbl&gt; | adj.P.Val &lt;dbl&gt; | B &lt;dbl&gt; |\n",
       "|---|---|---|---|---|---|---|\n",
       "| XIST-10154 | -6.796072 | 1.385720 | -38.73465 | 5.301573e-131 | 1.523859e-126 | 280.9110 |\n",
       "| XIST-10149 | -7.124726 | 1.597306 | -38.68238 | 7.868530e-131 | 1.523859e-126 | 280.5225 |\n",
       "\n"
      ],
      "text/plain": [
       "           logFC     AveExpr  t         P.Value       adj.P.Val     B       \n",
       "XIST-10154 -6.796072 1.385720 -38.73465 5.301573e-131 1.523859e-126 280.9110\n",
       "XIST-10149 -7.124726 1.597306 -38.68238 7.868530e-131 1.523859e-126 280.5225"
      ]
     },
     "metadata": {},
     "output_type": "display_data"
    }
   ],
   "source": [
    "events.table         <- read.table(file.with.de.results, sep = \",\")\n",
    "head(events.table, 2)"
   ]
  },
  {
   "cell_type": "markdown",
   "metadata": {},
   "source": [
    "## Add annotation columns to the topTable dataframe:\n",
    "\n",
    "The feature information is encoded in the topTable dataframe as rownames. The `ID` and `geneSymbol` variables have been combined in the following pattern:\n",
    "\n",
    "```console\n",
    "{geneSymbol}-{ID} \n",
    "```\n",
    "\n",
    "- `ID`: everything **_after_** last occurence of hyphen `-`\n",
    "example: \n",
    "```R\n",
    "stringr::str_replace(\"apples - oranges - bananas\", \"^.+-\", \"\")\n",
    "```\n",
    "\n",
    "```console\n",
    "# output:\n",
    "\n",
    "' bananas'\n",
    "```\n",
    "\n",
    "- `geneSymbol`: everything **_before_** last occurence of `-`\n",
    "example: \n",
    "\n",
    "```R\n",
    "sub('-[^-]*$', '',\"apples - oranges - bananas\")\n",
    "```\n",
    "\n",
    "```console\n",
    "# output:\n",
    "\n",
    "'apples - oranges '\n",
    "```\n",
    "\n",
    "```diff\n",
    "- NOTE: The above solution covers the cases where a hyphen is part of the geneSymbol.\n",
    "```"
   ]
  },
  {
   "cell_type": "code",
   "execution_count": 11,
   "metadata": {},
   "outputs": [
    {
     "data": {
      "text/html": [
       "<style>\n",
       ".list-inline {list-style: none; margin:0; padding: 0}\n",
       ".list-inline>li {display: inline-block}\n",
       ".list-inline>li:not(:last-child)::after {content: \"\\00b7\"; padding: 0 .5ex}\n",
       "</style>\n",
       "<ol class=list-inline><li>'logFC'</li><li>'AveExpr'</li><li>'t'</li><li>'P.Value'</li><li>'adj.P.Val'</li><li>'B'</li></ol>\n"
      ],
      "text/latex": [
       "\\begin{enumerate*}\n",
       "\\item 'logFC'\n",
       "\\item 'AveExpr'\n",
       "\\item 't'\n",
       "\\item 'P.Value'\n",
       "\\item 'adj.P.Val'\n",
       "\\item 'B'\n",
       "\\end{enumerate*}\n"
      ],
      "text/markdown": [
       "1. 'logFC'\n",
       "2. 'AveExpr'\n",
       "3. 't'\n",
       "4. 'P.Value'\n",
       "5. 'adj.P.Val'\n",
       "6. 'B'\n",
       "\n",
       "\n"
      ],
      "text/plain": [
       "[1] \"logFC\"     \"AveExpr\"   \"t\"         \"P.Value\"   \"adj.P.Val\" \"B\"        "
      ]
     },
     "metadata": {},
     "output_type": "display_data"
    }
   ],
   "source": [
    "cols_initially <- colnames(events.table)\n",
    "cols_initially"
   ]
  },
  {
   "cell_type": "code",
   "execution_count": 12,
   "metadata": {},
   "outputs": [],
   "source": [
    "events.table[[\"ID\"]] <- stringr::str_replace(rownames(events.table),  \"^.+-\", \"\")\n",
    "events.table[[\"gene_name\"]] <- sub('-[^-]*$', '', rownames(events.table))"
   ]
  },
  {
   "cell_type": "code",
   "execution_count": 13,
   "metadata": {},
   "outputs": [],
   "source": [
    "keepInOrderCols <- c(\"gene_name\", \"ID\", cols_initially)"
   ]
  },
  {
   "cell_type": "code",
   "execution_count": 14,
   "metadata": {},
   "outputs": [],
   "source": [
    "events.table <- events.table[ , keepInOrderCols ]"
   ]
  },
  {
   "cell_type": "code",
   "execution_count": 15,
   "metadata": {},
   "outputs": [
    {
     "data": {
      "text/html": [
       "<table>\n",
       "<caption>A data.frame: 2 × 8</caption>\n",
       "<thead>\n",
       "\t<tr><th></th><th scope=col>gene_name</th><th scope=col>ID</th><th scope=col>logFC</th><th scope=col>AveExpr</th><th scope=col>t</th><th scope=col>P.Value</th><th scope=col>adj.P.Val</th><th scope=col>B</th></tr>\n",
       "\t<tr><th></th><th scope=col>&lt;chr&gt;</th><th scope=col>&lt;chr&gt;</th><th scope=col>&lt;dbl&gt;</th><th scope=col>&lt;dbl&gt;</th><th scope=col>&lt;dbl&gt;</th><th scope=col>&lt;dbl&gt;</th><th scope=col>&lt;dbl&gt;</th><th scope=col>&lt;dbl&gt;</th></tr>\n",
       "</thead>\n",
       "<tbody>\n",
       "\t<tr><th scope=row>TYMP-10179</th><td>TYMP </td><td>10179</td><td>0.6141156</td><td>2.719659</td><td>2.667809</td><td>0.007979548</td><td>0.04792555</td><td>-3.370464</td></tr>\n",
       "\t<tr><th scope=row>CALB2-21749</th><td>CALB2</td><td>21749</td><td>0.9789023</td><td>2.931131</td><td>2.652402</td><td>0.008352148</td><td>0.04956392</td><td>-3.374802</td></tr>\n",
       "</tbody>\n",
       "</table>\n"
      ],
      "text/latex": [
       "A data.frame: 2 × 8\n",
       "\\begin{tabular}{r|llllllll}\n",
       "  & gene\\_name & ID & logFC & AveExpr & t & P.Value & adj.P.Val & B\\\\\n",
       "  & <chr> & <chr> & <dbl> & <dbl> & <dbl> & <dbl> & <dbl> & <dbl>\\\\\n",
       "\\hline\n",
       "\tTYMP-10179 & TYMP  & 10179 & 0.6141156 & 2.719659 & 2.667809 & 0.007979548 & 0.04792555 & -3.370464\\\\\n",
       "\tCALB2-21749 & CALB2 & 21749 & 0.9789023 & 2.931131 & 2.652402 & 0.008352148 & 0.04956392 & -3.374802\\\\\n",
       "\\end{tabular}\n"
      ],
      "text/markdown": [
       "\n",
       "A data.frame: 2 × 8\n",
       "\n",
       "| <!--/--> | gene_name &lt;chr&gt; | ID &lt;chr&gt; | logFC &lt;dbl&gt; | AveExpr &lt;dbl&gt; | t &lt;dbl&gt; | P.Value &lt;dbl&gt; | adj.P.Val &lt;dbl&gt; | B &lt;dbl&gt; |\n",
       "|---|---|---|---|---|---|---|---|---|\n",
       "| TYMP-10179 | TYMP  | 10179 | 0.6141156 | 2.719659 | 2.667809 | 0.007979548 | 0.04792555 | -3.370464 |\n",
       "| CALB2-21749 | CALB2 | 21749 | 0.9789023 | 2.931131 | 2.652402 | 0.008352148 | 0.04956392 | -3.374802 |\n",
       "\n"
      ],
      "text/plain": [
       "            gene_name ID    logFC     AveExpr  t        P.Value     adj.P.Val \n",
       "TYMP-10179  TYMP      10179 0.6141156 2.719659 2.667809 0.007979548 0.04792555\n",
       "CALB2-21749 CALB2     21749 0.9789023 2.931131 2.652402 0.008352148 0.04956392\n",
       "            B        \n",
       "TYMP-10179  -3.370464\n",
       "CALB2-21749 -3.374802"
      ]
     },
     "metadata": {},
     "output_type": "display_data"
    }
   ],
   "source": [
    "tail(events.table, 2)"
   ]
  },
  {
   "cell_type": "markdown",
   "metadata": {},
   "source": [
    "## Define filepaths of required inputs\n",
    "\n",
    "`file.with.de.results` has been defined above"
   ]
  },
  {
   "cell_type": "code",
   "execution_count": 16,
   "metadata": {},
   "outputs": [
    {
     "data": {
      "text/html": [
       "TRUE"
      ],
      "text/latex": [
       "TRUE"
      ],
      "text/markdown": [
       "TRUE"
      ],
      "text/plain": [
       "[1] TRUE"
      ]
     },
     "metadata": {},
     "output_type": "display_data"
    }
   ],
   "source": [
    "rbp.table.name        <- paste0(assetsDir, \"splice-relevant-genes.txt\")\n",
    "file.exists(rbp.table.name)"
   ]
  },
  {
   "cell_type": "code",
   "execution_count": 17,
   "metadata": {},
   "outputs": [
    {
     "data": {
      "text/html": [
       "'../data/fromGTF.SE.txt'"
      ],
      "text/latex": [
       "'../data/fromGTF.SE.txt'"
      ],
      "text/markdown": [
       "'../data/fromGTF.SE.txt'"
      ],
      "text/plain": [
       "[1] \"../data/fromGTF.SE.txt\""
      ]
     },
     "metadata": {},
     "output_type": "display_data"
    },
    {
     "data": {
      "text/html": [
       "TRUE"
      ],
      "text/latex": [
       "TRUE"
      ],
      "text/markdown": [
       "TRUE"
      ],
      "text/plain": [
       "[1] TRUE"
      ]
     },
     "metadata": {},
     "output_type": "display_data"
    }
   ],
   "source": [
    "events.table.name     <- paste0(paste0(paste0(dataDir, \"fromGTF.\"), snakecase::to_upper_lower_case(splice_type)),\".txt\")\n",
    "events.table.name\n",
    "file.exists(events.table.name)"
   ]
  },
  {
   "cell_type": "code",
   "execution_count": 31,
   "metadata": {},
   "outputs": [
    {
     "data": {
      "text/html": [
       "'../data/rmats_final.se.jc.ijc.txt.gz'"
      ],
      "text/latex": [
       "'../data/rmats\\_final.se.jc.ijc.txt.gz'"
      ],
      "text/markdown": [
       "'../data/rmats_final.se.jc.ijc.txt.gz'"
      ],
      "text/plain": [
       "[1] \"../data/rmats_final.se.jc.ijc.txt.gz\""
      ]
     },
     "metadata": {},
     "output_type": "display_data"
    },
    {
     "data": {
      "text/html": [
       "TRUE"
      ],
      "text/latex": [
       "TRUE"
      ],
      "text/markdown": [
       "TRUE"
      ],
      "text/plain": [
       "[1] TRUE"
      ]
     },
     "metadata": {},
     "output_type": "display_data"
    }
   ],
   "source": [
    "jc.ijc.counts.file.name  <- paste0(paste0(paste0(dataDir, \"rmats_final.\"), splice_type),\".jc.ijc.txt.gz\")\n",
    "jc.ijc.counts.file.name\n",
    "file.exists(jc.ijc.counts.file.name)"
   ]
  },
  {
   "cell_type": "code",
   "execution_count": 32,
   "metadata": {},
   "outputs": [
    {
     "data": {
      "text/html": [
       "'../data/rmats_final.se.jc.sjc.txt.gz'"
      ],
      "text/latex": [
       "'../data/rmats\\_final.se.jc.sjc.txt.gz'"
      ],
      "text/markdown": [
       "'../data/rmats_final.se.jc.sjc.txt.gz'"
      ],
      "text/plain": [
       "[1] \"../data/rmats_final.se.jc.sjc.txt.gz\""
      ]
     },
     "metadata": {},
     "output_type": "display_data"
    },
    {
     "data": {
      "text/html": [
       "TRUE"
      ],
      "text/latex": [
       "TRUE"
      ],
      "text/markdown": [
       "TRUE"
      ],
      "text/plain": [
       "[1] TRUE"
      ]
     },
     "metadata": {},
     "output_type": "display_data"
    }
   ],
   "source": [
    "jc.sjc.counts.file.name  <- paste0(paste0(paste0(dataDir, \"rmats_final.\"), splice_type),\".jc.sjc.txt.gz\")\n",
    "jc.sjc.counts.file.name\n",
    "file.exists(jc.sjc.counts.file.name)"
   ]
  },
  {
   "cell_type": "code",
   "execution_count": 33,
   "metadata": {},
   "outputs": [
    {
     "data": {
      "text/html": [
       "TRUE"
      ],
      "text/latex": [
       "TRUE"
      ],
      "text/markdown": [
       "TRUE"
      ],
      "text/plain": [
       "[1] TRUE"
      ]
     },
     "metadata": {},
     "output_type": "display_data"
    }
   ],
   "source": [
    "metadata.file.name    <- paste0(dataDir, \"srr_pdata.csv\")\n",
    "file.exists(metadata.file.name)"
   ]
  },
  {
   "cell_type": "code",
   "execution_count": 34,
   "metadata": {},
   "outputs": [
    {
     "data": {
      "text/html": [
       "TRUE"
      ],
      "text/latex": [
       "TRUE"
      ],
      "text/markdown": [
       "TRUE"
      ],
      "text/plain": [
       "[1] TRUE"
      ]
     },
     "metadata": {},
     "output_type": "display_data"
    }
   ],
   "source": [
    "expression.file.name  <- paste0(dataDir, \"GTEx_Analysis_2017-06-05_v8_RNASeQCv1.1.9_gene_tpm.gct\")\n",
    "file.exists(expression.file.name)"
   ]
  },
  {
   "cell_type": "markdown",
   "metadata": {},
   "source": [
    "## Use the define filepaths to load/read in the tables "
   ]
  },
  {
   "cell_type": "markdown",
   "metadata": {},
   "source": [
    "Load the sjc and sjc count matrices, and the list of RNA binding proteins that are annotated to either:\n",
    "- mRNA splicing, via spliceosome `(GO:0000398)`,\n",
    "- regulation of mRNA splicing, via spliceosome `(GO:0048024)`, or \n",
    "- both. \n",
    "\n",
    "The table has the:\n",
    "- Gene Symbol\n",
    "- the Uniprot ID (`uprot.id`)\n",
    "- the NCBI Gene ID (`gene.id`) and \n",
    "- boolean columns for being \n",
    "  - `S`=mRNA splicing, via spliceosome `(GO:0000398)` and \n",
    "  - `R`=regulation of mRNA splicing, via spliceosome `(GO:0048024)`."
   ]
  },
  {
   "cell_type": "markdown",
   "metadata": {},
   "source": [
    "### Filtering of the `topTable()` object\n",
    "\n",
    "- `abs(events.table$logFC)>=log2(1.5)`\n",
    "- `events.table$adj.P.Val<=0.05`"
   ]
  },
  {
   "cell_type": "code",
   "execution_count": 35,
   "metadata": {},
   "outputs": [
    {
     "data": {
      "text/html": [
       "<style>\n",
       ".list-inline {list-style: none; margin:0; padding: 0}\n",
       ".list-inline>li {display: inline-block}\n",
       ".list-inline>li:not(:last-child)::after {content: \"\\00b7\"; padding: 0 .5ex}\n",
       "</style>\n",
       "<ol class=list-inline><li>3163</li><li>8</li></ol>\n"
      ],
      "text/latex": [
       "\\begin{enumerate*}\n",
       "\\item 3163\n",
       "\\item 8\n",
       "\\end{enumerate*}\n"
      ],
      "text/markdown": [
       "1. 3163\n",
       "2. 8\n",
       "\n",
       "\n"
      ],
      "text/plain": [
       "[1] 3163    8"
      ]
     },
     "metadata": {},
     "output_type": "display_data"
    },
    {
     "data": {
      "text/html": [
       "<style>\n",
       ".list-inline {list-style: none; margin:0; padding: 0}\n",
       ".list-inline>li {display: inline-block}\n",
       ".list-inline>li:not(:last-child)::after {content: \"\\00b7\"; padding: 0 .5ex}\n",
       "</style>\n",
       "<ol class=list-inline><li>3163</li><li>8</li></ol>\n"
      ],
      "text/latex": [
       "\\begin{enumerate*}\n",
       "\\item 3163\n",
       "\\item 8\n",
       "\\end{enumerate*}\n"
      ],
      "text/markdown": [
       "1. 3163\n",
       "2. 8\n",
       "\n",
       "\n"
      ],
      "text/plain": [
       "[1] 3163    8"
      ]
     },
     "metadata": {},
     "output_type": "display_data"
    },
    {
     "data": {
      "text/html": [
       "<table>\n",
       "<caption>A data.frame: 2 × 8</caption>\n",
       "<thead>\n",
       "\t<tr><th></th><th scope=col>gene_name</th><th scope=col>ID</th><th scope=col>logFC</th><th scope=col>AveExpr</th><th scope=col>t</th><th scope=col>P.Value</th><th scope=col>adj.P.Val</th><th scope=col>B</th></tr>\n",
       "\t<tr><th></th><th scope=col>&lt;chr&gt;</th><th scope=col>&lt;chr&gt;</th><th scope=col>&lt;dbl&gt;</th><th scope=col>&lt;dbl&gt;</th><th scope=col>&lt;dbl&gt;</th><th scope=col>&lt;dbl&gt;</th><th scope=col>&lt;dbl&gt;</th><th scope=col>&lt;dbl&gt;</th></tr>\n",
       "</thead>\n",
       "<tbody>\n",
       "\t<tr><th scope=row>XIST-10154</th><td>XIST</td><td>10154</td><td>-6.796072</td><td>1.385720</td><td>-38.73465</td><td>5.301573e-131</td><td>1.523859e-126</td><td>280.9110</td></tr>\n",
       "\t<tr><th scope=row>XIST-10149</th><td>XIST</td><td>10149</td><td>-7.124726</td><td>1.597306</td><td>-38.68238</td><td>7.868530e-131</td><td>1.523859e-126</td><td>280.5225</td></tr>\n",
       "</tbody>\n",
       "</table>\n"
      ],
      "text/latex": [
       "A data.frame: 2 × 8\n",
       "\\begin{tabular}{r|llllllll}\n",
       "  & gene\\_name & ID & logFC & AveExpr & t & P.Value & adj.P.Val & B\\\\\n",
       "  & <chr> & <chr> & <dbl> & <dbl> & <dbl> & <dbl> & <dbl> & <dbl>\\\\\n",
       "\\hline\n",
       "\tXIST-10154 & XIST & 10154 & -6.796072 & 1.385720 & -38.73465 & 5.301573e-131 & 1.523859e-126 & 280.9110\\\\\n",
       "\tXIST-10149 & XIST & 10149 & -7.124726 & 1.597306 & -38.68238 & 7.868530e-131 & 1.523859e-126 & 280.5225\\\\\n",
       "\\end{tabular}\n"
      ],
      "text/markdown": [
       "\n",
       "A data.frame: 2 × 8\n",
       "\n",
       "| <!--/--> | gene_name &lt;chr&gt; | ID &lt;chr&gt; | logFC &lt;dbl&gt; | AveExpr &lt;dbl&gt; | t &lt;dbl&gt; | P.Value &lt;dbl&gt; | adj.P.Val &lt;dbl&gt; | B &lt;dbl&gt; |\n",
       "|---|---|---|---|---|---|---|---|---|\n",
       "| XIST-10154 | XIST | 10154 | -6.796072 | 1.385720 | -38.73465 | 5.301573e-131 | 1.523859e-126 | 280.9110 |\n",
       "| XIST-10149 | XIST | 10149 | -7.124726 | 1.597306 | -38.68238 | 7.868530e-131 | 1.523859e-126 | 280.5225 |\n",
       "\n"
      ],
      "text/plain": [
       "           gene_name ID    logFC     AveExpr  t         P.Value      \n",
       "XIST-10154 XIST      10154 -6.796072 1.385720 -38.73465 5.301573e-131\n",
       "XIST-10149 XIST      10149 -7.124726 1.597306 -38.68238 7.868530e-131\n",
       "           adj.P.Val     B       \n",
       "XIST-10154 1.523859e-126 280.9110\n",
       "XIST-10149 1.523859e-126 280.5225"
      ]
     },
     "metadata": {},
     "output_type": "display_data"
    }
   ],
   "source": [
    "dim(events.table)\n",
    "events.table <- events.table[abs(events.table$logFC)>=log2(1.5) & events.table$adj.P.Val<=0.05,]\n",
    "dim(events.table)\n",
    "head(events.table,2)"
   ]
  },
  {
   "cell_type": "markdown",
   "metadata": {},
   "source": [
    "Make sure this command has been executed before `gunzip sbas/data/fromGTF.*` as the files are expected uncompressed.\n"
   ]
  },
  {
   "cell_type": "code",
   "execution_count": 36,
   "metadata": {},
   "outputs": [
    {
     "data": {
      "text/html": [
       "<style>\n",
       ".list-inline {list-style: none; margin:0; padding: 0}\n",
       ".list-inline>li {display: inline-block}\n",
       ".list-inline>li:not(:last-child)::after {content: \"\\00b7\"; padding: 0 .5ex}\n",
       "</style>\n",
       "<ol class=list-inline><li>42611</li><li>11</li></ol>\n"
      ],
      "text/latex": [
       "\\begin{enumerate*}\n",
       "\\item 42611\n",
       "\\item 11\n",
       "\\end{enumerate*}\n"
      ],
      "text/markdown": [
       "1. 42611\n",
       "2. 11\n",
       "\n",
       "\n"
      ],
      "text/plain": [
       "[1] 42611    11"
      ]
     },
     "metadata": {},
     "output_type": "display_data"
    },
    {
     "data": {
      "text/html": [
       "<table>\n",
       "<caption>A data.frame: 1 × 11</caption>\n",
       "<thead>\n",
       "\t<tr><th></th><th scope=col>ID</th><th scope=col>GeneID</th><th scope=col>geneSymbol</th><th scope=col>chr</th><th scope=col>strand</th><th scope=col>exonStart_0base</th><th scope=col>exonEnd</th><th scope=col>upstreamES</th><th scope=col>upstreamEE</th><th scope=col>downstreamES</th><th scope=col>downstreamEE</th></tr>\n",
       "\t<tr><th></th><th scope=col>&lt;int&gt;</th><th scope=col>&lt;fct&gt;</th><th scope=col>&lt;fct&gt;</th><th scope=col>&lt;fct&gt;</th><th scope=col>&lt;fct&gt;</th><th scope=col>&lt;int&gt;</th><th scope=col>&lt;int&gt;</th><th scope=col>&lt;int&gt;</th><th scope=col>&lt;int&gt;</th><th scope=col>&lt;int&gt;</th><th scope=col>&lt;int&gt;</th></tr>\n",
       "</thead>\n",
       "<tbody>\n",
       "\t<tr><th scope=row>1</th><td>1</td><td>ENSG00000034152.18</td><td>MAP2K3</td><td>chr17</td><td>+</td><td>21287990</td><td>21288091</td><td>21284709</td><td>21284969</td><td>21295674</td><td>21295769</td></tr>\n",
       "</tbody>\n",
       "</table>\n"
      ],
      "text/latex": [
       "A data.frame: 1 × 11\n",
       "\\begin{tabular}{r|lllllllllll}\n",
       "  & ID & GeneID & geneSymbol & chr & strand & exonStart\\_0base & exonEnd & upstreamES & upstreamEE & downstreamES & downstreamEE\\\\\n",
       "  & <int> & <fct> & <fct> & <fct> & <fct> & <int> & <int> & <int> & <int> & <int> & <int>\\\\\n",
       "\\hline\n",
       "\t1 & 1 & ENSG00000034152.18 & MAP2K3 & chr17 & + & 21287990 & 21288091 & 21284709 & 21284969 & 21295674 & 21295769\\\\\n",
       "\\end{tabular}\n"
      ],
      "text/markdown": [
       "\n",
       "A data.frame: 1 × 11\n",
       "\n",
       "| <!--/--> | ID &lt;int&gt; | GeneID &lt;fct&gt; | geneSymbol &lt;fct&gt; | chr &lt;fct&gt; | strand &lt;fct&gt; | exonStart_0base &lt;int&gt; | exonEnd &lt;int&gt; | upstreamES &lt;int&gt; | upstreamEE &lt;int&gt; | downstreamES &lt;int&gt; | downstreamEE &lt;int&gt; |\n",
       "|---|---|---|---|---|---|---|---|---|---|---|---|\n",
       "| 1 | 1 | ENSG00000034152.18 | MAP2K3 | chr17 | + | 21287990 | 21288091 | 21284709 | 21284969 | 21295674 | 21295769 |\n",
       "\n"
      ],
      "text/plain": [
       "  ID GeneID             geneSymbol chr   strand exonStart_0base exonEnd \n",
       "1 1  ENSG00000034152.18 MAP2K3     chr17 +      21287990        21288091\n",
       "  upstreamES upstreamEE downstreamES downstreamEE\n",
       "1 21284709   21284969   21295674     21295769    "
      ]
     },
     "metadata": {},
     "output_type": "display_data"
    }
   ],
   "source": [
    "annot.table  <- read.table(events.table.name,header=T)\n",
    "dim(annot.table)\n",
    "head(annot.table, 1)"
   ]
  },
  {
   "cell_type": "code",
   "execution_count": 37,
   "metadata": {},
   "outputs": [],
   "source": [
    "merged.table <- merge(events.table, annot.table, by=\"ID\")"
   ]
  },
  {
   "cell_type": "code",
   "execution_count": 38,
   "metadata": {},
   "outputs": [
    {
     "data": {
      "text/html": [
       "<style>\n",
       ".list-inline {list-style: none; margin:0; padding: 0}\n",
       ".list-inline>li {display: inline-block}\n",
       ".list-inline>li:not(:last-child)::after {content: \"\\00b7\"; padding: 0 .5ex}\n",
       "</style>\n",
       "<ol class=list-inline><li>3163</li><li>18</li></ol>\n"
      ],
      "text/latex": [
       "\\begin{enumerate*}\n",
       "\\item 3163\n",
       "\\item 18\n",
       "\\end{enumerate*}\n"
      ],
      "text/markdown": [
       "1. 3163\n",
       "2. 18\n",
       "\n",
       "\n"
      ],
      "text/plain": [
       "[1] 3163   18"
      ]
     },
     "metadata": {},
     "output_type": "display_data"
    },
    {
     "data": {
      "text/html": [
       "<table>\n",
       "<caption>A data.frame: 2 × 18</caption>\n",
       "<thead>\n",
       "\t<tr><th></th><th scope=col>ID</th><th scope=col>gene_name</th><th scope=col>logFC</th><th scope=col>AveExpr</th><th scope=col>t</th><th scope=col>P.Value</th><th scope=col>adj.P.Val</th><th scope=col>B</th><th scope=col>GeneID</th><th scope=col>geneSymbol</th><th scope=col>chr</th><th scope=col>strand</th><th scope=col>exonStart_0base</th><th scope=col>exonEnd</th><th scope=col>upstreamES</th><th scope=col>upstreamEE</th><th scope=col>downstreamES</th><th scope=col>downstreamEE</th></tr>\n",
       "\t<tr><th></th><th scope=col>&lt;chr&gt;</th><th scope=col>&lt;chr&gt;</th><th scope=col>&lt;dbl&gt;</th><th scope=col>&lt;dbl&gt;</th><th scope=col>&lt;dbl&gt;</th><th scope=col>&lt;dbl&gt;</th><th scope=col>&lt;dbl&gt;</th><th scope=col>&lt;dbl&gt;</th><th scope=col>&lt;fct&gt;</th><th scope=col>&lt;fct&gt;</th><th scope=col>&lt;fct&gt;</th><th scope=col>&lt;fct&gt;</th><th scope=col>&lt;int&gt;</th><th scope=col>&lt;int&gt;</th><th scope=col>&lt;int&gt;</th><th scope=col>&lt;int&gt;</th><th scope=col>&lt;int&gt;</th><th scope=col>&lt;int&gt;</th></tr>\n",
       "</thead>\n",
       "<tbody>\n",
       "\t<tr><th scope=row>1</th><td>10012</td><td>RBM4B</td><td> 0.8450169</td><td>1.183428</td><td> 6.352709</td><td>6.335981e-10</td><td>4.076604e-08</td><td>12.144677</td><td>ENSG00000173914.12</td><td>RBM4B</td><td>chr11</td><td>-</td><td>66670935</td><td>66670983</td><td>66668970</td><td>66669291</td><td>66676667</td><td>66677091</td></tr>\n",
       "\t<tr><th scope=row>2</th><td>10013</td><td>RBM4B</td><td>-0.7621263</td><td>1.752806</td><td>-4.689350</td><td>3.885523e-06</td><td>9.641124e-05</td><td> 3.795546</td><td>ENSG00000173914.12</td><td>RBM4B</td><td>chr11</td><td>-</td><td>66668614</td><td>66669291</td><td>66664997</td><td>66665578</td><td>66676667</td><td>66677091</td></tr>\n",
       "</tbody>\n",
       "</table>\n"
      ],
      "text/latex": [
       "A data.frame: 2 × 18\n",
       "\\begin{tabular}{r|llllllllllllllllll}\n",
       "  & ID & gene\\_name & logFC & AveExpr & t & P.Value & adj.P.Val & B & GeneID & geneSymbol & chr & strand & exonStart\\_0base & exonEnd & upstreamES & upstreamEE & downstreamES & downstreamEE\\\\\n",
       "  & <chr> & <chr> & <dbl> & <dbl> & <dbl> & <dbl> & <dbl> & <dbl> & <fct> & <fct> & <fct> & <fct> & <int> & <int> & <int> & <int> & <int> & <int>\\\\\n",
       "\\hline\n",
       "\t1 & 10012 & RBM4B &  0.8450169 & 1.183428 &  6.352709 & 6.335981e-10 & 4.076604e-08 & 12.144677 & ENSG00000173914.12 & RBM4B & chr11 & - & 66670935 & 66670983 & 66668970 & 66669291 & 66676667 & 66677091\\\\\n",
       "\t2 & 10013 & RBM4B & -0.7621263 & 1.752806 & -4.689350 & 3.885523e-06 & 9.641124e-05 &  3.795546 & ENSG00000173914.12 & RBM4B & chr11 & - & 66668614 & 66669291 & 66664997 & 66665578 & 66676667 & 66677091\\\\\n",
       "\\end{tabular}\n"
      ],
      "text/markdown": [
       "\n",
       "A data.frame: 2 × 18\n",
       "\n",
       "| <!--/--> | ID &lt;chr&gt; | gene_name &lt;chr&gt; | logFC &lt;dbl&gt; | AveExpr &lt;dbl&gt; | t &lt;dbl&gt; | P.Value &lt;dbl&gt; | adj.P.Val &lt;dbl&gt; | B &lt;dbl&gt; | GeneID &lt;fct&gt; | geneSymbol &lt;fct&gt; | chr &lt;fct&gt; | strand &lt;fct&gt; | exonStart_0base &lt;int&gt; | exonEnd &lt;int&gt; | upstreamES &lt;int&gt; | upstreamEE &lt;int&gt; | downstreamES &lt;int&gt; | downstreamEE &lt;int&gt; |\n",
       "|---|---|---|---|---|---|---|---|---|---|---|---|---|---|---|---|---|---|---|\n",
       "| 1 | 10012 | RBM4B |  0.8450169 | 1.183428 |  6.352709 | 6.335981e-10 | 4.076604e-08 | 12.144677 | ENSG00000173914.12 | RBM4B | chr11 | - | 66670935 | 66670983 | 66668970 | 66669291 | 66676667 | 66677091 |\n",
       "| 2 | 10013 | RBM4B | -0.7621263 | 1.752806 | -4.689350 | 3.885523e-06 | 9.641124e-05 |  3.795546 | ENSG00000173914.12 | RBM4B | chr11 | - | 66668614 | 66669291 | 66664997 | 66665578 | 66676667 | 66677091 |\n",
       "\n"
      ],
      "text/plain": [
       "  ID    gene_name logFC      AveExpr  t         P.Value      adj.P.Val   \n",
       "1 10012 RBM4B      0.8450169 1.183428  6.352709 6.335981e-10 4.076604e-08\n",
       "2 10013 RBM4B     -0.7621263 1.752806 -4.689350 3.885523e-06 9.641124e-05\n",
       "  B         GeneID             geneSymbol chr   strand exonStart_0base exonEnd \n",
       "1 12.144677 ENSG00000173914.12 RBM4B      chr11 -      66670935        66670983\n",
       "2  3.795546 ENSG00000173914.12 RBM4B      chr11 -      66668614        66669291\n",
       "  upstreamES upstreamEE downstreamES downstreamEE\n",
       "1 66668970   66669291   66676667     66677091    \n",
       "2 66664997   66665578   66676667     66677091    "
      ]
     },
     "metadata": {},
     "output_type": "display_data"
    }
   ],
   "source": [
    "dim(merged.table)\n",
    "head(merged.table, 2)"
   ]
  },
  {
   "cell_type": "code",
   "execution_count": 39,
   "metadata": {},
   "outputs": [
    {
     "data": {
      "text/html": [
       "<style>\n",
       ".list-inline {list-style: none; margin:0; padding: 0}\n",
       ".list-inline>li {display: inline-block}\n",
       ".list-inline>li:not(:last-child)::after {content: \"\\00b7\"; padding: 0 .5ex}\n",
       "</style>\n",
       "<ol class=list-inline><li>351</li><li>6</li></ol>\n"
      ],
      "text/latex": [
       "\\begin{enumerate*}\n",
       "\\item 351\n",
       "\\item 6\n",
       "\\end{enumerate*}\n"
      ],
      "text/markdown": [
       "1. 351\n",
       "2. 6\n",
       "\n",
       "\n"
      ],
      "text/plain": [
       "[1] 351   6"
      ]
     },
     "metadata": {},
     "output_type": "display_data"
    },
    {
     "data": {
      "text/html": [
       "<table>\n",
       "<caption>A data.frame: 1 × 6</caption>\n",
       "<thead>\n",
       "\t<tr><th></th><th scope=col>Gene</th><th scope=col>uprot.id</th><th scope=col>gene.id</th><th scope=col>S</th><th scope=col>R</th><th scope=col>omim</th></tr>\n",
       "\t<tr><th></th><th scope=col>&lt;fct&gt;</th><th scope=col>&lt;fct&gt;</th><th scope=col>&lt;int&gt;</th><th scope=col>&lt;lgl&gt;</th><th scope=col>&lt;lgl&gt;</th><th scope=col>&lt;fct&gt;</th></tr>\n",
       "</thead>\n",
       "<tbody>\n",
       "\t<tr><th scope=row>1</th><td>AAR2</td><td>Q9Y312</td><td>25980</td><td>TRUE</td><td>FALSE</td><td>n/a</td></tr>\n",
       "</tbody>\n",
       "</table>\n"
      ],
      "text/latex": [
       "A data.frame: 1 × 6\n",
       "\\begin{tabular}{r|llllll}\n",
       "  & Gene & uprot.id & gene.id & S & R & omim\\\\\n",
       "  & <fct> & <fct> & <int> & <lgl> & <lgl> & <fct>\\\\\n",
       "\\hline\n",
       "\t1 & AAR2 & Q9Y312 & 25980 & TRUE & FALSE & n/a\\\\\n",
       "\\end{tabular}\n"
      ],
      "text/markdown": [
       "\n",
       "A data.frame: 1 × 6\n",
       "\n",
       "| <!--/--> | Gene &lt;fct&gt; | uprot.id &lt;fct&gt; | gene.id &lt;int&gt; | S &lt;lgl&gt; | R &lt;lgl&gt; | omim &lt;fct&gt; |\n",
       "|---|---|---|---|---|---|---|\n",
       "| 1 | AAR2 | Q9Y312 | 25980 | TRUE | FALSE | n/a |\n",
       "\n"
      ],
      "text/plain": [
       "  Gene uprot.id gene.id S    R     omim\n",
       "1 AAR2 Q9Y312   25980   TRUE FALSE n/a "
      ]
     },
     "metadata": {},
     "output_type": "display_data"
    }
   ],
   "source": [
    "rbp.table    <- read.table(rbp.table.name,sep=\"\\t\",header=TRUE)\n",
    "dim(rbp.table)\n",
    "head(rbp.table, 1)"
   ]
  },
  {
   "cell_type": "markdown",
   "metadata": {},
   "source": [
    "Make sure this command has been executed before `gunzip sbas/data/rmats_final.{splice_type}.jc.*jc.*` as the files are expected uncompressed.\n"
   ]
  },
  {
   "cell_type": "code",
   "execution_count": 40,
   "metadata": {},
   "outputs": [
    {
     "data": {
      "text/html": [
       "<style>\n",
       ".list-inline {list-style: none; margin:0; padding: 0}\n",
       ".list-inline>li {display: inline-block}\n",
       ".list-inline>li:not(:last-child)::after {content: \"\\00b7\"; padding: 0 .5ex}\n",
       "</style>\n",
       "<ol class=list-inline><li>42611</li><li>8674</li></ol>\n"
      ],
      "text/latex": [
       "\\begin{enumerate*}\n",
       "\\item 42611\n",
       "\\item 8674\n",
       "\\end{enumerate*}\n"
      ],
      "text/markdown": [
       "1. 42611\n",
       "2. 8674\n",
       "\n",
       "\n"
      ],
      "text/plain": [
       "[1] 42611  8674"
      ]
     },
     "metadata": {},
     "output_type": "display_data"
    },
    {
     "data": {
      "text/html": [
       "<table>\n",
       "<caption>A data.frame: 2 × 3</caption>\n",
       "<thead>\n",
       "\t<tr><th></th><th scope=col>ID</th><th scope=col>SRR1068788</th><th scope=col>SRR1068808</th></tr>\n",
       "\t<tr><th></th><th scope=col>&lt;int&gt;</th><th scope=col>&lt;int&gt;</th><th scope=col>&lt;int&gt;</th></tr>\n",
       "</thead>\n",
       "<tbody>\n",
       "\t<tr><th scope=row>1</th><td>1</td><td> 0</td><td>  0</td></tr>\n",
       "\t<tr><th scope=row>2</th><td>2</td><td>26</td><td>247</td></tr>\n",
       "</tbody>\n",
       "</table>\n"
      ],
      "text/latex": [
       "A data.frame: 2 × 3\n",
       "\\begin{tabular}{r|lll}\n",
       "  & ID & SRR1068788 & SRR1068808\\\\\n",
       "  & <int> & <int> & <int>\\\\\n",
       "\\hline\n",
       "\t1 & 1 &  0 &   0\\\\\n",
       "\t2 & 2 & 26 & 247\\\\\n",
       "\\end{tabular}\n"
      ],
      "text/markdown": [
       "\n",
       "A data.frame: 2 × 3\n",
       "\n",
       "| <!--/--> | ID &lt;int&gt; | SRR1068788 &lt;int&gt; | SRR1068808 &lt;int&gt; |\n",
       "|---|---|---|---|\n",
       "| 1 | 1 |  0 |   0 |\n",
       "| 2 | 2 | 26 | 247 |\n",
       "\n"
      ],
      "text/plain": [
       "  ID SRR1068788 SRR1068808\n",
       "1 1   0           0       \n",
       "2 2  26         247       "
      ]
     },
     "metadata": {},
     "output_type": "display_data"
    }
   ],
   "source": [
    "jc.ijc.counts   <- as.data.frame(data.table::fread(jc.ijc.counts.file.name))\n",
    "dim(jc.ijc.counts)\n",
    "jc.ijc.counts[1:2,1:3]"
   ]
  },
  {
   "cell_type": "code",
   "execution_count": 41,
   "metadata": {},
   "outputs": [
    {
     "data": {
      "text/html": [
       "<style>\n",
       ".list-inline {list-style: none; margin:0; padding: 0}\n",
       ".list-inline>li {display: inline-block}\n",
       ".list-inline>li:not(:last-child)::after {content: \"\\00b7\"; padding: 0 .5ex}\n",
       "</style>\n",
       "<ol class=list-inline><li>42611</li><li>8674</li></ol>\n"
      ],
      "text/latex": [
       "\\begin{enumerate*}\n",
       "\\item 42611\n",
       "\\item 8674\n",
       "\\end{enumerate*}\n"
      ],
      "text/markdown": [
       "1. 42611\n",
       "2. 8674\n",
       "\n",
       "\n"
      ],
      "text/plain": [
       "[1] 42611  8674"
      ]
     },
     "metadata": {},
     "output_type": "display_data"
    },
    {
     "data": {
      "text/html": [
       "<table>\n",
       "<caption>A data.frame: 2 × 3</caption>\n",
       "<thead>\n",
       "\t<tr><th></th><th scope=col>ID</th><th scope=col>SRR1068788</th><th scope=col>SRR1068808</th></tr>\n",
       "\t<tr><th></th><th scope=col>&lt;int&gt;</th><th scope=col>&lt;int&gt;</th><th scope=col>&lt;int&gt;</th></tr>\n",
       "</thead>\n",
       "<tbody>\n",
       "\t<tr><th scope=row>1</th><td>1</td><td>2</td><td>0</td></tr>\n",
       "\t<tr><th scope=row>2</th><td>2</td><td>0</td><td>0</td></tr>\n",
       "</tbody>\n",
       "</table>\n"
      ],
      "text/latex": [
       "A data.frame: 2 × 3\n",
       "\\begin{tabular}{r|lll}\n",
       "  & ID & SRR1068788 & SRR1068808\\\\\n",
       "  & <int> & <int> & <int>\\\\\n",
       "\\hline\n",
       "\t1 & 1 & 2 & 0\\\\\n",
       "\t2 & 2 & 0 & 0\\\\\n",
       "\\end{tabular}\n"
      ],
      "text/markdown": [
       "\n",
       "A data.frame: 2 × 3\n",
       "\n",
       "| <!--/--> | ID &lt;int&gt; | SRR1068788 &lt;int&gt; | SRR1068808 &lt;int&gt; |\n",
       "|---|---|---|---|\n",
       "| 1 | 1 | 2 | 0 |\n",
       "| 2 | 2 | 0 | 0 |\n",
       "\n"
      ],
      "text/plain": [
       "  ID SRR1068788 SRR1068808\n",
       "1 1  2          0         \n",
       "2 2  0          0         "
      ]
     },
     "metadata": {},
     "output_type": "display_data"
    }
   ],
   "source": [
    "jc.sjc.counts  <- as.data.frame(data.table::fread(jc.sjc.counts.file.name))\n",
    "dim(jc.sjc.counts)\n",
    "jc.sjc.counts[1:2,1:3]"
   ]
  },
  {
   "cell_type": "markdown",
   "metadata": {},
   "source": [
    "## Check `dim()` of loaded objects"
   ]
  },
  {
   "cell_type": "code",
   "execution_count": 42,
   "metadata": {},
   "outputs": [
    {
     "data": {
      "text/html": [
       "<style>\n",
       ".list-inline {list-style: none; margin:0; padding: 0}\n",
       ".list-inline>li {display: inline-block}\n",
       ".list-inline>li:not(:last-child)::after {content: \"\\00b7\"; padding: 0 .5ex}\n",
       "</style>\n",
       "<ol class=list-inline><li>3163</li><li>8</li></ol>\n"
      ],
      "text/latex": [
       "\\begin{enumerate*}\n",
       "\\item 3163\n",
       "\\item 8\n",
       "\\end{enumerate*}\n"
      ],
      "text/markdown": [
       "1. 3163\n",
       "2. 8\n",
       "\n",
       "\n"
      ],
      "text/plain": [
       "[1] 3163    8"
      ]
     },
     "metadata": {},
     "output_type": "display_data"
    },
    {
     "data": {
      "text/html": [
       "<style>\n",
       ".list-inline {list-style: none; margin:0; padding: 0}\n",
       ".list-inline>li {display: inline-block}\n",
       ".list-inline>li:not(:last-child)::after {content: \"\\00b7\"; padding: 0 .5ex}\n",
       "</style>\n",
       "<ol class=list-inline><li>42611</li><li>11</li></ol>\n"
      ],
      "text/latex": [
       "\\begin{enumerate*}\n",
       "\\item 42611\n",
       "\\item 11\n",
       "\\end{enumerate*}\n"
      ],
      "text/markdown": [
       "1. 42611\n",
       "2. 11\n",
       "\n",
       "\n"
      ],
      "text/plain": [
       "[1] 42611    11"
      ]
     },
     "metadata": {},
     "output_type": "display_data"
    },
    {
     "data": {
      "text/html": [
       "<style>\n",
       ".list-inline {list-style: none; margin:0; padding: 0}\n",
       ".list-inline>li {display: inline-block}\n",
       ".list-inline>li:not(:last-child)::after {content: \"\\00b7\"; padding: 0 .5ex}\n",
       "</style>\n",
       "<ol class=list-inline><li>3163</li><li>18</li></ol>\n"
      ],
      "text/latex": [
       "\\begin{enumerate*}\n",
       "\\item 3163\n",
       "\\item 18\n",
       "\\end{enumerate*}\n"
      ],
      "text/markdown": [
       "1. 3163\n",
       "2. 18\n",
       "\n",
       "\n"
      ],
      "text/plain": [
       "[1] 3163   18"
      ]
     },
     "metadata": {},
     "output_type": "display_data"
    },
    {
     "data": {
      "text/html": [
       "<style>\n",
       ".list-inline {list-style: none; margin:0; padding: 0}\n",
       ".list-inline>li {display: inline-block}\n",
       ".list-inline>li:not(:last-child)::after {content: \"\\00b7\"; padding: 0 .5ex}\n",
       "</style>\n",
       "<ol class=list-inline><li>351</li><li>6</li></ol>\n"
      ],
      "text/latex": [
       "\\begin{enumerate*}\n",
       "\\item 351\n",
       "\\item 6\n",
       "\\end{enumerate*}\n"
      ],
      "text/markdown": [
       "1. 351\n",
       "2. 6\n",
       "\n",
       "\n"
      ],
      "text/plain": [
       "[1] 351   6"
      ]
     },
     "metadata": {},
     "output_type": "display_data"
    },
    {
     "data": {
      "text/html": [
       "<style>\n",
       ".list-inline {list-style: none; margin:0; padding: 0}\n",
       ".list-inline>li {display: inline-block}\n",
       ".list-inline>li:not(:last-child)::after {content: \"\\00b7\"; padding: 0 .5ex}\n",
       "</style>\n",
       "<ol class=list-inline><li>42611</li><li>8674</li></ol>\n"
      ],
      "text/latex": [
       "\\begin{enumerate*}\n",
       "\\item 42611\n",
       "\\item 8674\n",
       "\\end{enumerate*}\n"
      ],
      "text/markdown": [
       "1. 42611\n",
       "2. 8674\n",
       "\n",
       "\n"
      ],
      "text/plain": [
       "[1] 42611  8674"
      ]
     },
     "metadata": {},
     "output_type": "display_data"
    },
    {
     "data": {
      "text/html": [
       "<style>\n",
       ".list-inline {list-style: none; margin:0; padding: 0}\n",
       ".list-inline>li {display: inline-block}\n",
       ".list-inline>li:not(:last-child)::after {content: \"\\00b7\"; padding: 0 .5ex}\n",
       "</style>\n",
       "<ol class=list-inline><li>42611</li><li>8674</li></ol>\n"
      ],
      "text/latex": [
       "\\begin{enumerate*}\n",
       "\\item 42611\n",
       "\\item 8674\n",
       "\\end{enumerate*}\n"
      ],
      "text/markdown": [
       "1. 42611\n",
       "2. 8674\n",
       "\n",
       "\n"
      ],
      "text/plain": [
       "[1] 42611  8674"
      ]
     },
     "metadata": {},
     "output_type": "display_data"
    }
   ],
   "source": [
    "dim(events.table)\n",
    "dim(annot.table)\n",
    "dim(merged.table)\n",
    "dim(rbp.table)\n",
    "dim(jc.ijc.counts)\n",
    "dim(jc.sjc.counts)"
   ]
  },
  {
   "cell_type": "markdown",
   "metadata": {},
   "source": [
    "## Read sample info"
   ]
  },
  {
   "cell_type": "code",
   "execution_count": 43,
   "metadata": {},
   "outputs": [
    {
     "data": {
      "text/html": [
       "'../data/srr_pdata.csv'"
      ],
      "text/latex": [
       "'../data/srr\\_pdata.csv'"
      ],
      "text/markdown": [
       "'../data/srr_pdata.csv'"
      ],
      "text/plain": [
       "[1] \"../data/srr_pdata.csv\""
      ]
     },
     "metadata": {},
     "output_type": "display_data"
    },
    {
     "data": {
      "text/html": [
       "TRUE"
      ],
      "text/latex": [
       "TRUE"
      ],
      "text/markdown": [
       "TRUE"
      ],
      "text/plain": [
       "[1] TRUE"
      ]
     },
     "metadata": {},
     "output_type": "display_data"
    },
    {
     "data": {
      "text/html": [
       "'-rw-r--r-- 1 jovyan users 4230047 Jun 17 12:00 ../data/srr_pdata.csv'"
      ],
      "text/latex": [
       "'-rw-r--r-- 1 jovyan users 4230047 Jun 17 12:00 ../data/srr\\_pdata.csv'"
      ],
      "text/markdown": [
       "'-rw-r--r-- 1 jovyan users 4230047 Jun 17 12:00 ../data/srr_pdata.csv'"
      ],
      "text/plain": [
       "[1] \"-rw-r--r-- 1 jovyan users 4230047 Jun 17 12:00 ../data/srr_pdata.csv\""
      ]
     },
     "metadata": {},
     "output_type": "display_data"
    }
   ],
   "source": [
    "metadata.file.name\n",
    "file.exists(metadata.file.name)\n",
    "system(paste0(\"ls -l\", \" ../data/srr_pdata.csv\"), intern = TRUE)"
   ]
  },
  {
   "cell_type": "code",
   "execution_count": 44,
   "metadata": {},
   "outputs": [
    {
     "name": "stderr",
     "output_type": "stream",
     "text": [
      "Parsed with column specification:\n",
      "cols(\n",
      "  .default = col_double(),\n",
      "  SAMPID = \u001b[31mcol_character()\u001b[39m,\n",
      "  SMATSSCR = \u001b[31mcol_character()\u001b[39m,\n",
      "  SMCENTER = \u001b[31mcol_character()\u001b[39m,\n",
      "  SMPTHNTS = \u001b[31mcol_character()\u001b[39m,\n",
      "  SMTS = \u001b[31mcol_character()\u001b[39m,\n",
      "  SMTSD = \u001b[31mcol_character()\u001b[39m,\n",
      "  SMUBRID = \u001b[31mcol_character()\u001b[39m,\n",
      "  SMNABTCH = \u001b[31mcol_character()\u001b[39m,\n",
      "  SMNABTCHT = \u001b[31mcol_character()\u001b[39m,\n",
      "  SMNABTCHD = \u001b[31mcol_character()\u001b[39m,\n",
      "  SMGEBTCH = \u001b[31mcol_character()\u001b[39m,\n",
      "  SMGEBTCHD = \u001b[31mcol_character()\u001b[39m,\n",
      "  SMGEBTCHT = \u001b[31mcol_character()\u001b[39m,\n",
      "  SMAFRZE = \u001b[31mcol_character()\u001b[39m,\n",
      "  SMGTC = \u001b[33mcol_logical()\u001b[39m,\n",
      "  SMNUMGPS = \u001b[33mcol_logical()\u001b[39m,\n",
      "  SM550NRM = \u001b[33mcol_logical()\u001b[39m,\n",
      "  SM350NRM = \u001b[33mcol_logical()\u001b[39m,\n",
      "  SMMNCPB = \u001b[33mcol_logical()\u001b[39m,\n",
      "  SMMNCV = \u001b[33mcol_logical()\u001b[39m\n",
      "  # ... with 6 more columns\n",
      ")\n",
      "\n",
      "See spec(...) for full column specifications.\n",
      "\n"
     ]
    },
    {
     "data": {
      "text/html": [
       "<style>\n",
       ".list-inline {list-style: none; margin:0; padding: 0}\n",
       ".list-inline>li {display: inline-block}\n",
       ".list-inline>li:not(:last-child)::after {content: \"\\00b7\"; padding: 0 .5ex}\n",
       "</style>\n",
       "<ol class=list-inline><li>7872</li><li>68</li></ol>\n"
      ],
      "text/latex": [
       "\\begin{enumerate*}\n",
       "\\item 7872\n",
       "\\item 68\n",
       "\\end{enumerate*}\n"
      ],
      "text/markdown": [
       "1. 7872\n",
       "2. 68\n",
       "\n",
       "\n"
      ],
      "text/plain": [
       "[1] 7872   68"
      ]
     },
     "metadata": {},
     "output_type": "display_data"
    },
    {
     "data": {
      "text/html": [
       "<table>\n",
       "<caption>A tibble: 1 × 68</caption>\n",
       "<thead>\n",
       "\t<tr><th scope=col>SAMPID</th><th scope=col>SMATSSCR</th><th scope=col>SMCENTER</th><th scope=col>SMPTHNTS</th><th scope=col>SMRIN</th><th scope=col>SMTS</th><th scope=col>SMTSD</th><th scope=col>SMUBRID</th><th scope=col>SMTSISCH</th><th scope=col>SMTSPAX</th><th scope=col>⋯</th><th scope=col>SMRRNART</th><th scope=col>SME1MPRT</th><th scope=col>SMNUM5CD</th><th scope=col>SMDPMPRT</th><th scope=col>SME2PCTS</th><th scope=col>SUBJID</th><th scope=col>SEX</th><th scope=col>AGE</th><th scope=col>DTHHRDY</th><th scope=col>SRR</th></tr>\n",
       "\t<tr><th scope=col>&lt;chr&gt;</th><th scope=col>&lt;chr&gt;</th><th scope=col>&lt;chr&gt;</th><th scope=col>&lt;chr&gt;</th><th scope=col>&lt;dbl&gt;</th><th scope=col>&lt;chr&gt;</th><th scope=col>&lt;chr&gt;</th><th scope=col>&lt;chr&gt;</th><th scope=col>&lt;dbl&gt;</th><th scope=col>&lt;dbl&gt;</th><th scope=col>⋯</th><th scope=col>&lt;dbl&gt;</th><th scope=col>&lt;dbl&gt;</th><th scope=col>&lt;lgl&gt;</th><th scope=col>&lt;dbl&gt;</th><th scope=col>&lt;dbl&gt;</th><th scope=col>&lt;chr&gt;</th><th scope=col>&lt;dbl&gt;</th><th scope=col>&lt;chr&gt;</th><th scope=col>&lt;dbl&gt;</th><th scope=col>&lt;chr&gt;</th></tr>\n",
       "</thead>\n",
       "<tbody>\n",
       "\t<tr><td>GTEX.PW2O.0006.SM.2I3DV</td><td>NA</td><td>B1</td><td>NA</td><td>7.4</td><td>Blood</td><td>Whole Blood</td><td>13756</td><td>-126</td><td>NA</td><td>⋯</td><td>0.00351302</td><td>0.859573</td><td>NA</td><td>0</td><td>50.6829</td><td>GTEX-PW2O</td><td>1</td><td>20-29</td><td>0</td><td>SRR604002</td></tr>\n",
       "</tbody>\n",
       "</table>\n"
      ],
      "text/latex": [
       "A tibble: 1 × 68\n",
       "\\begin{tabular}{lllllllllllllllllllll}\n",
       " SAMPID & SMATSSCR & SMCENTER & SMPTHNTS & SMRIN & SMTS & SMTSD & SMUBRID & SMTSISCH & SMTSPAX & ⋯ & SMRRNART & SME1MPRT & SMNUM5CD & SMDPMPRT & SME2PCTS & SUBJID & SEX & AGE & DTHHRDY & SRR\\\\\n",
       " <chr> & <chr> & <chr> & <chr> & <dbl> & <chr> & <chr> & <chr> & <dbl> & <dbl> & ⋯ & <dbl> & <dbl> & <lgl> & <dbl> & <dbl> & <chr> & <dbl> & <chr> & <dbl> & <chr>\\\\\n",
       "\\hline\n",
       "\t GTEX.PW2O.0006.SM.2I3DV & NA & B1 & NA & 7.4 & Blood & Whole Blood & 13756 & -126 & NA & ⋯ & 0.00351302 & 0.859573 & NA & 0 & 50.6829 & GTEX-PW2O & 1 & 20-29 & 0 & SRR604002\\\\\n",
       "\\end{tabular}\n"
      ],
      "text/markdown": [
       "\n",
       "A tibble: 1 × 68\n",
       "\n",
       "| SAMPID &lt;chr&gt; | SMATSSCR &lt;chr&gt; | SMCENTER &lt;chr&gt; | SMPTHNTS &lt;chr&gt; | SMRIN &lt;dbl&gt; | SMTS &lt;chr&gt; | SMTSD &lt;chr&gt; | SMUBRID &lt;chr&gt; | SMTSISCH &lt;dbl&gt; | SMTSPAX &lt;dbl&gt; | ⋯ ⋯ | SMRRNART &lt;dbl&gt; | SME1MPRT &lt;dbl&gt; | SMNUM5CD &lt;lgl&gt; | SMDPMPRT &lt;dbl&gt; | SME2PCTS &lt;dbl&gt; | SUBJID &lt;chr&gt; | SEX &lt;dbl&gt; | AGE &lt;chr&gt; | DTHHRDY &lt;dbl&gt; | SRR &lt;chr&gt; |\n",
       "|---|---|---|---|---|---|---|---|---|---|---|---|---|---|---|---|---|---|---|---|---|\n",
       "| GTEX.PW2O.0006.SM.2I3DV | NA | B1 | NA | 7.4 | Blood | Whole Blood | 13756 | -126 | NA | ⋯ | 0.00351302 | 0.859573 | NA | 0 | 50.6829 | GTEX-PW2O | 1 | 20-29 | 0 | SRR604002 |\n",
       "\n"
      ],
      "text/plain": [
       "  SAMPID                  SMATSSCR SMCENTER SMPTHNTS SMRIN SMTS  SMTSD      \n",
       "1 GTEX.PW2O.0006.SM.2I3DV NA       B1       NA       7.4   Blood Whole Blood\n",
       "  SMUBRID SMTSISCH SMTSPAX ⋯ SMRRNART   SME1MPRT SMNUM5CD SMDPMPRT SME2PCTS\n",
       "1 13756   -126     NA      ⋯ 0.00351302 0.859573 NA       0        50.6829 \n",
       "  SUBJID    SEX AGE   DTHHRDY SRR      \n",
       "1 GTEX-PW2O 1   20-29 0       SRR604002"
      ]
     },
     "metadata": {},
     "output_type": "display_data"
    }
   ],
   "source": [
    "meta.data <- readr::read_csv(metadata.file.name)\n",
    "dim(meta.data)\n",
    "head(meta.data, 1)"
   ]
  },
  {
   "cell_type": "code",
   "execution_count": 45,
   "metadata": {},
   "outputs": [
    {
     "data": {
      "text/html": [
       "<style>\n",
       ".list-inline {list-style: none; margin:0; padding: 0}\n",
       ".list-inline>li {display: inline-block}\n",
       ".list-inline>li:not(:last-child)::after {content: \"\\00b7\"; padding: 0 .5ex}\n",
       "</style>\n",
       "<ol class=list-inline><li>'Whole Blood'</li><li>'Lung'</li><li>'Adipose - Subcutaneous'</li></ol>\n"
      ],
      "text/latex": [
       "\\begin{enumerate*}\n",
       "\\item 'Whole Blood'\n",
       "\\item 'Lung'\n",
       "\\item 'Adipose - Subcutaneous'\n",
       "\\end{enumerate*}\n"
      ],
      "text/markdown": [
       "1. 'Whole Blood'\n",
       "2. 'Lung'\n",
       "3. 'Adipose - Subcutaneous'\n",
       "\n",
       "\n"
      ],
      "text/plain": [
       "[1] \"Whole Blood\"            \"Lung\"                   \"Adipose - Subcutaneous\""
      ]
     },
     "metadata": {},
     "output_type": "display_data"
    }
   ],
   "source": [
    "meta.data$SMTSD[1:3]"
   ]
  },
  {
   "cell_type": "code",
   "execution_count": 46,
   "metadata": {},
   "outputs": [],
   "source": [
    "meta.data[[\"SMTSD\"]] <- as.character(meta.data[[\"SMTSD\"]])"
   ]
  },
  {
   "cell_type": "code",
   "execution_count": 47,
   "metadata": {},
   "outputs": [
    {
     "data": {
      "text/html": [
       "<style>\n",
       ".list-inline {list-style: none; margin:0; padding: 0}\n",
       ".list-inline>li {display: inline-block}\n",
       ".list-inline>li:not(:last-child)::after {content: \"\\00b7\"; padding: 0 .5ex}\n",
       "</style>\n",
       "<ol class=list-inline><li>'Whole Blood'</li><li>'Lung'</li><li>'Adipose - Subcutaneous'</li></ol>\n"
      ],
      "text/latex": [
       "\\begin{enumerate*}\n",
       "\\item 'Whole Blood'\n",
       "\\item 'Lung'\n",
       "\\item 'Adipose - Subcutaneous'\n",
       "\\end{enumerate*}\n"
      ],
      "text/markdown": [
       "1. 'Whole Blood'\n",
       "2. 'Lung'\n",
       "3. 'Adipose - Subcutaneous'\n",
       "\n",
       "\n"
      ],
      "text/plain": [
       "[1] \"Whole Blood\"            \"Lung\"                   \"Adipose - Subcutaneous\""
      ]
     },
     "metadata": {},
     "output_type": "display_data"
    }
   ],
   "source": [
    "meta.data$SMTSD[1:3]"
   ]
  },
  {
   "cell_type": "code",
   "execution_count": 48,
   "metadata": {},
   "outputs": [],
   "source": [
    "meta.data <- meta.data[ snakecase::to_snake_case(meta.data$SMTSD) == tissue,]"
   ]
  },
  {
   "cell_type": "code",
   "execution_count": 49,
   "metadata": {},
   "outputs": [
    {
     "data": {
      "text/html": [
       "'breast_mammary_tissue'"
      ],
      "text/latex": [
       "'breast\\_mammary\\_tissue'"
      ],
      "text/markdown": [
       "'breast_mammary_tissue'"
      ],
      "text/plain": [
       "[1] \"breast_mammary_tissue\""
      ]
     },
     "metadata": {},
     "output_type": "display_data"
    },
    {
     "data": {
      "text/html": [
       "<style>\n",
       ".list-inline {list-style: none; margin:0; padding: 0}\n",
       ".list-inline>li {display: inline-block}\n",
       ".list-inline>li:not(:last-child)::after {content: \"\\00b7\"; padding: 0 .5ex}\n",
       "</style>\n",
       "<ol class=list-inline><li>178</li><li>68</li></ol>\n"
      ],
      "text/latex": [
       "\\begin{enumerate*}\n",
       "\\item 178\n",
       "\\item 68\n",
       "\\end{enumerate*}\n"
      ],
      "text/markdown": [
       "1. 178\n",
       "2. 68\n",
       "\n",
       "\n"
      ],
      "text/plain": [
       "[1] 178  68"
      ]
     },
     "metadata": {},
     "output_type": "display_data"
    },
    {
     "data": {
      "text/html": [
       "<table>\n",
       "<caption>A tibble: 2 × 8</caption>\n",
       "<thead>\n",
       "\t<tr><th scope=col>SAMPID</th><th scope=col>SMATSSCR</th><th scope=col>SMCENTER</th><th scope=col>SMPTHNTS</th><th scope=col>SMRIN</th><th scope=col>SMTS</th><th scope=col>SMTSD</th><th scope=col>SMUBRID</th></tr>\n",
       "\t<tr><th scope=col>&lt;chr&gt;</th><th scope=col>&lt;chr&gt;</th><th scope=col>&lt;chr&gt;</th><th scope=col>&lt;chr&gt;</th><th scope=col>&lt;dbl&gt;</th><th scope=col>&lt;chr&gt;</th><th scope=col>&lt;chr&gt;</th><th scope=col>&lt;chr&gt;</th></tr>\n",
       "</thead>\n",
       "<tbody>\n",
       "\t<tr><td>GTEX.S4Q7.1126.SM.4AD6R</td><td>0</td><td>B1</td><td>2 aliquots                                 </td><td>6.9</td><td>Breast</td><td>Breast - Mammary Tissue</td><td>8367</td></tr>\n",
       "\t<tr><td>GTEX.ZZ64.1226.SM.5E43R</td><td>0</td><td>B1</td><td>2 pieces; fibroadipose tissue without ducts</td><td>7.2</td><td>Breast</td><td>Breast - Mammary Tissue</td><td>8367</td></tr>\n",
       "</tbody>\n",
       "</table>\n"
      ],
      "text/latex": [
       "A tibble: 2 × 8\n",
       "\\begin{tabular}{llllllll}\n",
       " SAMPID & SMATSSCR & SMCENTER & SMPTHNTS & SMRIN & SMTS & SMTSD & SMUBRID\\\\\n",
       " <chr> & <chr> & <chr> & <chr> & <dbl> & <chr> & <chr> & <chr>\\\\\n",
       "\\hline\n",
       "\t GTEX.S4Q7.1126.SM.4AD6R & 0 & B1 & 2 aliquots                                  & 6.9 & Breast & Breast - Mammary Tissue & 8367\\\\\n",
       "\t GTEX.ZZ64.1226.SM.5E43R & 0 & B1 & 2 pieces; fibroadipose tissue without ducts & 7.2 & Breast & Breast - Mammary Tissue & 8367\\\\\n",
       "\\end{tabular}\n"
      ],
      "text/markdown": [
       "\n",
       "A tibble: 2 × 8\n",
       "\n",
       "| SAMPID &lt;chr&gt; | SMATSSCR &lt;chr&gt; | SMCENTER &lt;chr&gt; | SMPTHNTS &lt;chr&gt; | SMRIN &lt;dbl&gt; | SMTS &lt;chr&gt; | SMTSD &lt;chr&gt; | SMUBRID &lt;chr&gt; |\n",
       "|---|---|---|---|---|---|---|---|\n",
       "| GTEX.S4Q7.1126.SM.4AD6R | 0 | B1 | 2 aliquots                                  | 6.9 | Breast | Breast - Mammary Tissue | 8367 |\n",
       "| GTEX.ZZ64.1226.SM.5E43R | 0 | B1 | 2 pieces; fibroadipose tissue without ducts | 7.2 | Breast | Breast - Mammary Tissue | 8367 |\n",
       "\n"
      ],
      "text/plain": [
       "  SAMPID                  SMATSSCR SMCENTER\n",
       "1 GTEX.S4Q7.1126.SM.4AD6R 0        B1      \n",
       "2 GTEX.ZZ64.1226.SM.5E43R 0        B1      \n",
       "  SMPTHNTS                                    SMRIN SMTS  \n",
       "1 2 aliquots                                  6.9   Breast\n",
       "2 2 pieces; fibroadipose tissue without ducts 7.2   Breast\n",
       "  SMTSD                   SMUBRID\n",
       "1 Breast - Mammary Tissue 8367   \n",
       "2 Breast - Mammary Tissue 8367   "
      ]
     },
     "metadata": {},
     "output_type": "display_data"
    }
   ],
   "source": [
    "tissue\n",
    "dim(meta.data)\n",
    "meta.data[1:2,1:8]"
   ]
  },
  {
   "cell_type": "code",
   "execution_count": 50,
   "metadata": {},
   "outputs": [
    {
     "data": {
      "text/html": [
       "'breast_mammary_tissue'"
      ],
      "text/latex": [
       "'breast\\_mammary\\_tissue'"
      ],
      "text/markdown": [
       "'breast_mammary_tissue'"
      ],
      "text/plain": [
       "[1] \"breast_mammary_tissue\""
      ]
     },
     "metadata": {},
     "output_type": "display_data"
    },
    {
     "data": {
      "text/html": [
       "'Breast - Mammary Tissue'"
      ],
      "text/latex": [
       "'Breast - Mammary Tissue'"
      ],
      "text/markdown": [
       "'Breast - Mammary Tissue'"
      ],
      "text/plain": [
       "[1] \"Breast - Mammary Tissue\""
      ]
     },
     "metadata": {},
     "output_type": "display_data"
    }
   ],
   "source": [
    "# Undo snakecase of SMTSD\n",
    "tissue\n",
    "tissue <- unique(meta.data$SMTSD)\n",
    "tissue"
   ]
  },
  {
   "cell_type": "code",
   "execution_count": 51,
   "metadata": {},
   "outputs": [
    {
     "data": {
      "text/html": [
       "<style>\n",
       ".list-inline {list-style: none; margin:0; padding: 0}\n",
       ".list-inline>li {display: inline-block}\n",
       ".list-inline>li:not(:last-child)::after {content: \"\\00b7\"; padding: 0 .5ex}\n",
       "</style>\n",
       "<ol class=list-inline><li>42611</li><li>8674</li></ol>\n"
      ],
      "text/latex": [
       "\\begin{enumerate*}\n",
       "\\item 42611\n",
       "\\item 8674\n",
       "\\end{enumerate*}\n"
      ],
      "text/markdown": [
       "1. 42611\n",
       "2. 8674\n",
       "\n",
       "\n"
      ],
      "text/plain": [
       "[1] 42611  8674"
      ]
     },
     "metadata": {},
     "output_type": "display_data"
    },
    {
     "data": {
      "text/html": [
       "<style>\n",
       ".list-inline {list-style: none; margin:0; padding: 0}\n",
       ".list-inline>li {display: inline-block}\n",
       ".list-inline>li:not(:last-child)::after {content: \"\\00b7\"; padding: 0 .5ex}\n",
       "</style>\n",
       "<ol class=list-inline><li>42611</li><li>178</li></ol>\n"
      ],
      "text/latex": [
       "\\begin{enumerate*}\n",
       "\\item 42611\n",
       "\\item 178\n",
       "\\end{enumerate*}\n"
      ],
      "text/markdown": [
       "1. 42611\n",
       "2. 178\n",
       "\n",
       "\n"
      ],
      "text/plain": [
       "[1] 42611   178"
      ]
     },
     "metadata": {},
     "output_type": "display_data"
    }
   ],
   "source": [
    "dim(jc.ijc.counts)\n",
    "jc.ijc.counts   <- jc.ijc.counts[,colnames(jc.ijc.counts) %in% meta.data$SRR]\n",
    "dim(jc.ijc.counts)"
   ]
  },
  {
   "cell_type": "code",
   "execution_count": 52,
   "metadata": {},
   "outputs": [
    {
     "data": {
      "text/html": [
       "<style>\n",
       ".list-inline {list-style: none; margin:0; padding: 0}\n",
       ".list-inline>li {display: inline-block}\n",
       ".list-inline>li:not(:last-child)::after {content: \"\\00b7\"; padding: 0 .5ex}\n",
       "</style>\n",
       "<ol class=list-inline><li>42611</li><li>8674</li></ol>\n"
      ],
      "text/latex": [
       "\\begin{enumerate*}\n",
       "\\item 42611\n",
       "\\item 8674\n",
       "\\end{enumerate*}\n"
      ],
      "text/markdown": [
       "1. 42611\n",
       "2. 8674\n",
       "\n",
       "\n"
      ],
      "text/plain": [
       "[1] 42611  8674"
      ]
     },
     "metadata": {},
     "output_type": "display_data"
    },
    {
     "data": {
      "text/html": [
       "<style>\n",
       ".list-inline {list-style: none; margin:0; padding: 0}\n",
       ".list-inline>li {display: inline-block}\n",
       ".list-inline>li:not(:last-child)::after {content: \"\\00b7\"; padding: 0 .5ex}\n",
       "</style>\n",
       "<ol class=list-inline><li>42611</li><li>178</li></ol>\n"
      ],
      "text/latex": [
       "\\begin{enumerate*}\n",
       "\\item 42611\n",
       "\\item 178\n",
       "\\end{enumerate*}\n"
      ],
      "text/markdown": [
       "1. 42611\n",
       "2. 178\n",
       "\n",
       "\n"
      ],
      "text/plain": [
       "[1] 42611   178"
      ]
     },
     "metadata": {},
     "output_type": "display_data"
    }
   ],
   "source": [
    "dim(jc.sjc.counts)\n",
    "jc.sjc.counts  <- jc.sjc.counts[,colnames(jc.sjc.counts) %in% meta.data$SRR]\n",
    "dim(jc.sjc.counts)"
   ]
  },
  {
   "cell_type": "markdown",
   "metadata": {},
   "source": [
    "## This notebook only signficant events are used - filtering now on Adj.P Val\n",
    "\n",
    "If there are more than 100 events that are significant, reduce this by ordering on the adjusted p-value (column Adj.P.Val).  \n",
    "\n",
    "Then update the ijc and sjc matrices and the merged.table (annotations)\n"
   ]
  },
  {
   "cell_type": "code",
   "execution_count": 53,
   "metadata": {},
   "outputs": [
    {
     "data": {
      "text/html": [
       "<style>\n",
       ".list-inline {list-style: none; margin:0; padding: 0}\n",
       ".list-inline>li {display: inline-block}\n",
       ".list-inline>li:not(:last-child)::after {content: \"\\00b7\"; padding: 0 .5ex}\n",
       "</style>\n",
       "<ol class=list-inline><li>100</li><li>18</li></ol>\n"
      ],
      "text/latex": [
       "\\begin{enumerate*}\n",
       "\\item 100\n",
       "\\item 18\n",
       "\\end{enumerate*}\n"
      ],
      "text/markdown": [
       "1. 100\n",
       "2. 18\n",
       "\n",
       "\n"
      ],
      "text/plain": [
       "[1] 100  18"
      ]
     },
     "metadata": {},
     "output_type": "display_data"
    }
   ],
   "source": [
    "if (nrow(jc.sjc.counts) > 100 ) {\n",
    "    head(merged.table,2)\n",
    "    dim(merged.table)\n",
    "    order_by_adj.P.Val <- order(merged.table$adj.P.Val,decreasing=TRUE)\n",
    "    head(merged.table[order_by_adj.P.Val,],2)\n",
    "    keep_IDs <- merged.table[order_by_adj.P.Val,]$ID[1:100]\n",
    "    head(keep_IDs)\n",
    "    keep_IDs <- keep_IDs[order(keep_IDs, decreasing=FALSE)]\n",
    "    head(keep_IDs)\n",
    "    # counts table will be identical in rows\n",
    "    counts.keep <- as.character(rownames(jc.sjc.counts)) %in% as.character(keep_IDs)\n",
    "    table(counts.keep)\n",
    "    # not so sure about merged.table - so lets have a different logical key\n",
    "    merged.keep <- as.character(merged.table$ID) %in% as.character(keep_IDs)\n",
    "    table(merged.keep)\n",
    "    \n",
    "    # update the sjc counts \n",
    "    dim(jc.sjc.counts)\n",
    "    jc.sjc.counts  <- jc.sjc.counts[counts.keep,]\n",
    "    dim(jc.sjc.counts)\n",
    " \n",
    "    # update the ijc counts\n",
    "    dim(jc.ijc.counts)\n",
    "    jc.ijc.counts   <- jc.ijc.counts[counts.keep,]\n",
    "    dim(jc.ijc.counts)\n",
    "    \n",
    "    # merged table\n",
    "    dim(merged.table)\n",
    "    merged.table       <- merged.table[merged.keep,] \n",
    "    dim(merged.table)\n",
    "}"
   ]
  },
  {
   "cell_type": "code",
   "execution_count": 54,
   "metadata": {},
   "outputs": [
    {
     "data": {
      "text/html": [
       "<style>\n",
       ".list-inline {list-style: none; margin:0; padding: 0}\n",
       ".list-inline>li {display: inline-block}\n",
       ".list-inline>li:not(:last-child)::after {content: \"\\00b7\"; padding: 0 .5ex}\n",
       "</style>\n",
       "<ol class=list-inline><li>100</li><li>178</li></ol>\n"
      ],
      "text/latex": [
       "\\begin{enumerate*}\n",
       "\\item 100\n",
       "\\item 178\n",
       "\\end{enumerate*}\n"
      ],
      "text/markdown": [
       "1. 100\n",
       "2. 178\n",
       "\n",
       "\n"
      ],
      "text/plain": [
       "[1] 100 178"
      ]
     },
     "metadata": {},
     "output_type": "display_data"
    },
    {
     "data": {
      "text/html": [
       "<style>\n",
       ".list-inline {list-style: none; margin:0; padding: 0}\n",
       ".list-inline>li {display: inline-block}\n",
       ".list-inline>li:not(:last-child)::after {content: \"\\00b7\"; padding: 0 .5ex}\n",
       "</style>\n",
       "<ol class=list-inline><li>100</li><li>178</li></ol>\n"
      ],
      "text/latex": [
       "\\begin{enumerate*}\n",
       "\\item 100\n",
       "\\item 178\n",
       "\\end{enumerate*}\n"
      ],
      "text/markdown": [
       "1. 100\n",
       "2. 178\n",
       "\n",
       "\n"
      ],
      "text/plain": [
       "[1] 100 178"
      ]
     },
     "metadata": {},
     "output_type": "display_data"
    },
    {
     "data": {
      "text/html": [
       "<style>\n",
       ".list-inline {list-style: none; margin:0; padding: 0}\n",
       ".list-inline>li {display: inline-block}\n",
       ".list-inline>li:not(:last-child)::after {content: \"\\00b7\"; padding: 0 .5ex}\n",
       "</style>\n",
       "<ol class=list-inline><li>100</li><li>18</li></ol>\n"
      ],
      "text/latex": [
       "\\begin{enumerate*}\n",
       "\\item 100\n",
       "\\item 18\n",
       "\\end{enumerate*}\n"
      ],
      "text/markdown": [
       "1. 100\n",
       "2. 18\n",
       "\n",
       "\n"
      ],
      "text/plain": [
       "[1] 100  18"
      ]
     },
     "metadata": {},
     "output_type": "display_data"
    }
   ],
   "source": [
    "dim(jc.ijc.counts)\n",
    "dim(jc.sjc.counts)\n",
    "dim(merged.table)"
   ]
  },
  {
   "cell_type": "markdown",
   "metadata": {},
   "source": [
    "## Read expression data:"
   ]
  },
  {
   "cell_type": "code",
   "execution_count": 55,
   "metadata": {},
   "outputs": [
    {
     "data": {
      "text/html": [
       "'../data/GTEx_Analysis_2017-06-05_v8_RNASeQCv1.1.9_gene_tpm.gct'"
      ],
      "text/latex": [
       "'../data/GTEx\\_Analysis\\_2017-06-05\\_v8\\_RNASeQCv1.1.9\\_gene\\_tpm.gct'"
      ],
      "text/markdown": [
       "'../data/GTEx_Analysis_2017-06-05_v8_RNASeQCv1.1.9_gene_tpm.gct'"
      ],
      "text/plain": [
       "[1] \"../data/GTEx_Analysis_2017-06-05_v8_RNASeQCv1.1.9_gene_tpm.gct\""
      ]
     },
     "metadata": {},
     "output_type": "display_data"
    },
    {
     "data": {
      "text/html": [
       "TRUE"
      ],
      "text/latex": [
       "TRUE"
      ],
      "text/markdown": [
       "TRUE"
      ],
      "text/plain": [
       "[1] TRUE"
      ]
     },
     "metadata": {},
     "output_type": "display_data"
    }
   ],
   "source": [
    "expression.file.name\n",
    "file.exists(expression.file.name)"
   ]
  },
  {
   "cell_type": "code",
   "execution_count": 56,
   "metadata": {},
   "outputs": [],
   "source": [
    "expression.mat <- read.table(expression.file.name, \n",
    "                             nrows = 1,\n",
    "                             sep = \"\\t\",\n",
    "                             header = T,\n",
    "                             skip = 2)"
   ]
  },
  {
   "cell_type": "code",
   "execution_count": 57,
   "metadata": {},
   "outputs": [
    {
     "data": {
      "text/html": [
       "<style>\n",
       ".list-inline {list-style: none; margin:0; padding: 0}\n",
       ".list-inline>li {display: inline-block}\n",
       ".list-inline>li:not(:last-child)::after {content: \"\\00b7\"; padding: 0 .5ex}\n",
       "</style>\n",
       "<ol class=list-inline><li>1</li><li>11690</li></ol>\n"
      ],
      "text/latex": [
       "\\begin{enumerate*}\n",
       "\\item 1\n",
       "\\item 11690\n",
       "\\end{enumerate*}\n"
      ],
      "text/markdown": [
       "1. 1\n",
       "2. 11690\n",
       "\n",
       "\n"
      ],
      "text/plain": [
       "[1]     1 11690"
      ]
     },
     "metadata": {},
     "output_type": "display_data"
    },
    {
     "data": {
      "text/html": [
       "<table>\n",
       "<caption>A data.frame: 2 × 4</caption>\n",
       "<thead>\n",
       "\t<tr><th></th><th scope=col>Name</th><th scope=col>Description</th><th scope=col>GTEX.1117F.0226.SM.5GZZ7</th><th scope=col>GTEX.111CU.1826.SM.5GZYN</th></tr>\n",
       "\t<tr><th></th><th scope=col>&lt;fct&gt;</th><th scope=col>&lt;fct&gt;</th><th scope=col>&lt;dbl&gt;</th><th scope=col>&lt;dbl&gt;</th></tr>\n",
       "</thead>\n",
       "<tbody>\n",
       "\t<tr><th scope=row>1</th><td>ENSG00000223972.4</td><td>DDX11L1</td><td>0.1082</td><td>0.1158</td></tr>\n",
       "\t<tr><th scope=row>NA</th><td>NA               </td><td>NA     </td><td>    NA</td><td>    NA</td></tr>\n",
       "</tbody>\n",
       "</table>\n"
      ],
      "text/latex": [
       "A data.frame: 2 × 4\n",
       "\\begin{tabular}{r|llll}\n",
       "  & Name & Description & GTEX.1117F.0226.SM.5GZZ7 & GTEX.111CU.1826.SM.5GZYN\\\\\n",
       "  & <fct> & <fct> & <dbl> & <dbl>\\\\\n",
       "\\hline\n",
       "\t1 & ENSG00000223972.4 & DDX11L1 & 0.1082 & 0.1158\\\\\n",
       "\tNA & NA                & NA      &     NA &     NA\\\\\n",
       "\\end{tabular}\n"
      ],
      "text/markdown": [
       "\n",
       "A data.frame: 2 × 4\n",
       "\n",
       "| <!--/--> | Name &lt;fct&gt; | Description &lt;fct&gt; | GTEX.1117F.0226.SM.5GZZ7 &lt;dbl&gt; | GTEX.111CU.1826.SM.5GZYN &lt;dbl&gt; |\n",
       "|---|---|---|---|---|\n",
       "| 1 | ENSG00000223972.4 | DDX11L1 | 0.1082 | 0.1158 |\n",
       "| NA | NA                | NA      |     NA |     NA |\n",
       "\n"
      ],
      "text/plain": [
       "   Name              Description GTEX.1117F.0226.SM.5GZZ7\n",
       "1  ENSG00000223972.4 DDX11L1     0.1082                  \n",
       "NA NA                NA              NA                  \n",
       "   GTEX.111CU.1826.SM.5GZYN\n",
       "1  0.1158                  \n",
       "NA     NA                  "
      ]
     },
     "metadata": {},
     "output_type": "display_data"
    }
   ],
   "source": [
    "dim(expression.mat)\n",
    "expression.mat[1:2,1:4]"
   ]
  },
  {
   "cell_type": "code",
   "execution_count": 58,
   "metadata": {},
   "outputs": [
    {
     "data": {
      "text/html": [
       "<style>\n",
       ".list-inline {list-style: none; margin:0; padding: 0}\n",
       ".list-inline>li {display: inline-block}\n",
       ".list-inline>li:not(:last-child)::after {content: \"\\00b7\"; padding: 0 .5ex}\n",
       "</style>\n",
       "<ol class=list-inline><li>'Name'</li><li>'Description'</li><li>'GTEX.1117F.0226.SM.5GZZ7'</li></ol>\n"
      ],
      "text/latex": [
       "\\begin{enumerate*}\n",
       "\\item 'Name'\n",
       "\\item 'Description'\n",
       "\\item 'GTEX.1117F.0226.SM.5GZZ7'\n",
       "\\end{enumerate*}\n"
      ],
      "text/markdown": [
       "1. 'Name'\n",
       "2. 'Description'\n",
       "3. 'GTEX.1117F.0226.SM.5GZZ7'\n",
       "\n",
       "\n"
      ],
      "text/plain": [
       "[1] \"Name\"                     \"Description\"             \n",
       "[3] \"GTEX.1117F.0226.SM.5GZZ7\""
      ]
     },
     "metadata": {},
     "output_type": "display_data"
    }
   ],
   "source": [
    "colnames(expression.mat)[1:3]"
   ]
  },
  {
   "cell_type": "code",
   "execution_count": 59,
   "metadata": {},
   "outputs": [],
   "source": [
    "colnames.expression.mat <- colnames(expression.mat)"
   ]
  },
  {
   "cell_type": "code",
   "execution_count": 60,
   "metadata": {},
   "outputs": [
    {
     "data": {
      "text/html": [
       "11690"
      ],
      "text/latex": [
       "11690"
      ],
      "text/markdown": [
       "11690"
      ],
      "text/plain": [
       "[1] 11690"
      ]
     },
     "metadata": {},
     "output_type": "display_data"
    },
    {
     "data": {
      "text/html": [
       "<style>\n",
       ".list-inline {list-style: none; margin:0; padding: 0}\n",
       ".list-inline>li {display: inline-block}\n",
       ".list-inline>li:not(:last-child)::after {content: \"\\00b7\"; padding: 0 .5ex}\n",
       "</style>\n",
       "<ol class=list-inline><li>'Name'</li><li>'Description'</li><li>'GTEX.1117F.0226.SM.5GZZ7'</li><li>'GTEX.111CU.1826.SM.5GZYN'</li></ol>\n"
      ],
      "text/latex": [
       "\\begin{enumerate*}\n",
       "\\item 'Name'\n",
       "\\item 'Description'\n",
       "\\item 'GTEX.1117F.0226.SM.5GZZ7'\n",
       "\\item 'GTEX.111CU.1826.SM.5GZYN'\n",
       "\\end{enumerate*}\n"
      ],
      "text/markdown": [
       "1. 'Name'\n",
       "2. 'Description'\n",
       "3. 'GTEX.1117F.0226.SM.5GZZ7'\n",
       "4. 'GTEX.111CU.1826.SM.5GZYN'\n",
       "\n",
       "\n"
      ],
      "text/plain": [
       "[1] \"Name\"                     \"Description\"             \n",
       "[3] \"GTEX.1117F.0226.SM.5GZZ7\" \"GTEX.111CU.1826.SM.5GZYN\""
      ]
     },
     "metadata": {},
     "output_type": "display_data"
    }
   ],
   "source": [
    "length(colnames.expression.mat)\n",
    "colnames.expression.mat[1:4]"
   ]
  },
  {
   "cell_type": "code",
   "execution_count": 61,
   "metadata": {},
   "outputs": [
    {
     "data": {
      "text/html": [
       "11690"
      ],
      "text/latex": [
       "11690"
      ],
      "text/markdown": [
       "11690"
      ],
      "text/plain": [
       "[1] 11690"
      ]
     },
     "metadata": {},
     "output_type": "display_data"
    }
   ],
   "source": [
    "length(colnames.expression.mat)"
   ]
  },
  {
   "cell_type": "code",
   "execution_count": 62,
   "metadata": {},
   "outputs": [
    {
     "data": {
      "text/html": [
       "11690"
      ],
      "text/latex": [
       "11690"
      ],
      "text/markdown": [
       "11690"
      ],
      "text/plain": [
       "[1] 11690"
      ]
     },
     "metadata": {},
     "output_type": "display_data"
    }
   ],
   "source": [
    "total.samples           <- length(colnames.expression.mat)\n",
    "total.samples"
   ]
  },
  {
   "cell_type": "code",
   "execution_count": 63,
   "metadata": {},
   "outputs": [
    {
     "data": {
      "text/html": [
       "'GTEX.S4Q7.1126.SM.4AD6R'"
      ],
      "text/latex": [
       "'GTEX.S4Q7.1126.SM.4AD6R'"
      ],
      "text/markdown": [
       "'GTEX.S4Q7.1126.SM.4AD6R'"
      ],
      "text/plain": [
       "[1] \"GTEX.S4Q7.1126.SM.4AD6R\""
      ]
     },
     "metadata": {},
     "output_type": "display_data"
    },
    {
     "data": {
      "text/html": [
       "'GTEX.S4Q7.1126.SM.4AD6R'"
      ],
      "text/latex": [
       "'GTEX.S4Q7.1126.SM.4AD6R'"
      ],
      "text/markdown": [
       "'GTEX.S4Q7.1126.SM.4AD6R'"
      ],
      "text/plain": [
       "[1] \"GTEX.S4Q7.1126.SM.4AD6R\""
      ]
     },
     "metadata": {},
     "output_type": "display_data"
    }
   ],
   "source": [
    "meta.data$SAMPID[1]\n",
    "gsub(\"-\",\"\\\\.\",meta.data$SAMPID[1])"
   ]
  },
  {
   "cell_type": "code",
   "execution_count": 64,
   "metadata": {},
   "outputs": [],
   "source": [
    "meta.data$SAMPID   <- gsub(\"-\",\"\\\\.\",meta.data$SAMPID)"
   ]
  },
  {
   "cell_type": "code",
   "execution_count": 65,
   "metadata": {},
   "outputs": [
    {
     "data": {
      "text/html": [
       "<style>\n",
       ".list-inline {list-style: none; margin:0; padding: 0}\n",
       ".list-inline>li {display: inline-block}\n",
       ".list-inline>li:not(:last-child)::after {content: \"\\00b7\"; padding: 0 .5ex}\n",
       "</style>\n",
       "<ol class=list-inline><li>178</li><li>68</li></ol>\n"
      ],
      "text/latex": [
       "\\begin{enumerate*}\n",
       "\\item 178\n",
       "\\item 68\n",
       "\\end{enumerate*}\n"
      ],
      "text/markdown": [
       "1. 178\n",
       "2. 68\n",
       "\n",
       "\n"
      ],
      "text/plain": [
       "[1] 178  68"
      ]
     },
     "metadata": {},
     "output_type": "display_data"
    },
    {
     "data": {
      "text/html": [
       "<style>\n",
       ".list-inline {list-style: none; margin:0; padding: 0}\n",
       ".list-inline>li {display: inline-block}\n",
       ".list-inline>li:not(:last-child)::after {content: \"\\00b7\"; padding: 0 .5ex}\n",
       "</style>\n",
       "<ol class=list-inline><li>175</li><li>68</li></ol>\n"
      ],
      "text/latex": [
       "\\begin{enumerate*}\n",
       "\\item 175\n",
       "\\item 68\n",
       "\\end{enumerate*}\n"
      ],
      "text/markdown": [
       "1. 175\n",
       "2. 68\n",
       "\n",
       "\n"
      ],
      "text/plain": [
       "[1] 175  68"
      ]
     },
     "metadata": {},
     "output_type": "display_data"
    }
   ],
   "source": [
    "dim(meta.data)\n",
    "meta.data               <- meta.data[meta.data$SAMPID %in% colnames(expression.mat),]\n",
    "dim(meta.data)"
   ]
  },
  {
   "cell_type": "code",
   "execution_count": 66,
   "metadata": {},
   "outputs": [
    {
     "data": {
      "text/html": [
       "<table>\n",
       "<caption>A data.frame: 2 × 4</caption>\n",
       "<thead>\n",
       "\t<tr><th></th><th scope=col>Name</th><th scope=col>Description</th><th scope=col>GTEX.1117F.0226.SM.5GZZ7</th><th scope=col>GTEX.111CU.1826.SM.5GZYN</th></tr>\n",
       "\t<tr><th></th><th scope=col>&lt;fct&gt;</th><th scope=col>&lt;fct&gt;</th><th scope=col>&lt;dbl&gt;</th><th scope=col>&lt;dbl&gt;</th></tr>\n",
       "</thead>\n",
       "<tbody>\n",
       "\t<tr><th scope=row>1</th><td>ENSG00000223972.4</td><td>DDX11L1</td><td>0.1082</td><td>0.1158</td></tr>\n",
       "\t<tr><th scope=row>NA</th><td>NA               </td><td>NA     </td><td>    NA</td><td>    NA</td></tr>\n",
       "</tbody>\n",
       "</table>\n"
      ],
      "text/latex": [
       "A data.frame: 2 × 4\n",
       "\\begin{tabular}{r|llll}\n",
       "  & Name & Description & GTEX.1117F.0226.SM.5GZZ7 & GTEX.111CU.1826.SM.5GZYN\\\\\n",
       "  & <fct> & <fct> & <dbl> & <dbl>\\\\\n",
       "\\hline\n",
       "\t1 & ENSG00000223972.4 & DDX11L1 & 0.1082 & 0.1158\\\\\n",
       "\tNA & NA                & NA      &     NA &     NA\\\\\n",
       "\\end{tabular}\n"
      ],
      "text/markdown": [
       "\n",
       "A data.frame: 2 × 4\n",
       "\n",
       "| <!--/--> | Name &lt;fct&gt; | Description &lt;fct&gt; | GTEX.1117F.0226.SM.5GZZ7 &lt;dbl&gt; | GTEX.111CU.1826.SM.5GZYN &lt;dbl&gt; |\n",
       "|---|---|---|---|---|\n",
       "| 1 | ENSG00000223972.4 | DDX11L1 | 0.1082 | 0.1158 |\n",
       "| NA | NA                | NA      |     NA |     NA |\n",
       "\n"
      ],
      "text/plain": [
       "   Name              Description GTEX.1117F.0226.SM.5GZZ7\n",
       "1  ENSG00000223972.4 DDX11L1     0.1082                  \n",
       "NA NA                NA              NA                  \n",
       "   GTEX.111CU.1826.SM.5GZYN\n",
       "1  0.1158                  \n",
       "NA     NA                  "
      ]
     },
     "metadata": {},
     "output_type": "display_data"
    }
   ],
   "source": [
    "expression.mat[1:2,1:4]"
   ]
  },
  {
   "cell_type": "code",
   "execution_count": 67,
   "metadata": {},
   "outputs": [],
   "source": [
    "meta.data <- meta.data[!duplicated(meta.data$SAMPID),]"
   ]
  },
  {
   "cell_type": "code",
   "execution_count": 68,
   "metadata": {},
   "outputs": [
    {
     "data": {
      "text/html": [
       "<style>\n",
       ".list-inline {list-style: none; margin:0; padding: 0}\n",
       ".list-inline>li {display: inline-block}\n",
       ".list-inline>li:not(:last-child)::after {content: \"\\00b7\"; padding: 0 .5ex}\n",
       "</style>\n",
       "<ol class=list-inline><li>173</li><li>68</li></ol>\n"
      ],
      "text/latex": [
       "\\begin{enumerate*}\n",
       "\\item 173\n",
       "\\item 68\n",
       "\\end{enumerate*}\n"
      ],
      "text/markdown": [
       "1. 173\n",
       "2. 68\n",
       "\n",
       "\n"
      ],
      "text/plain": [
       "[1] 173  68"
      ]
     },
     "metadata": {},
     "output_type": "display_data"
    }
   ],
   "source": [
    "dim(meta.data)"
   ]
  },
  {
   "cell_type": "code",
   "execution_count": 69,
   "metadata": {},
   "outputs": [
    {
     "data": {
      "text/html": [
       "<style>\n",
       ".list-inline {list-style: none; margin:0; padding: 0}\n",
       ".list-inline>li {display: inline-block}\n",
       ".list-inline>li:not(:last-child)::after {content: \"\\00b7\"; padding: 0 .5ex}\n",
       "</style>\n",
       "<ol class=list-inline><li>100</li><li>173</li></ol>\n"
      ],
      "text/latex": [
       "\\begin{enumerate*}\n",
       "\\item 100\n",
       "\\item 173\n",
       "\\end{enumerate*}\n"
      ],
      "text/markdown": [
       "1. 100\n",
       "2. 173\n",
       "\n",
       "\n"
      ],
      "text/plain": [
       "[1] 100 173"
      ]
     },
     "metadata": {},
     "output_type": "display_data"
    },
    {
     "data": {
      "text/html": [
       "<table>\n",
       "<caption>A data.frame: 2 × 4</caption>\n",
       "<thead>\n",
       "\t<tr><th></th><th scope=col>SRR1068977</th><th scope=col>SRR1068999</th><th scope=col>SRR1070208</th><th scope=col>SRR1071084</th></tr>\n",
       "\t<tr><th></th><th scope=col>&lt;int&gt;</th><th scope=col>&lt;int&gt;</th><th scope=col>&lt;int&gt;</th><th scope=col>&lt;int&gt;</th></tr>\n",
       "</thead>\n",
       "<tbody>\n",
       "\t<tr><th scope=row>258</th><td>30</td><td>4</td><td>18</td><td>80</td></tr>\n",
       "\t<tr><th scope=row>1214</th><td> 2</td><td>2</td><td> 1</td><td> 3</td></tr>\n",
       "</tbody>\n",
       "</table>\n"
      ],
      "text/latex": [
       "A data.frame: 2 × 4\n",
       "\\begin{tabular}{r|llll}\n",
       "  & SRR1068977 & SRR1068999 & SRR1070208 & SRR1071084\\\\\n",
       "  & <int> & <int> & <int> & <int>\\\\\n",
       "\\hline\n",
       "\t258 & 30 & 4 & 18 & 80\\\\\n",
       "\t1214 &  2 & 2 &  1 &  3\\\\\n",
       "\\end{tabular}\n"
      ],
      "text/markdown": [
       "\n",
       "A data.frame: 2 × 4\n",
       "\n",
       "| <!--/--> | SRR1068977 &lt;int&gt; | SRR1068999 &lt;int&gt; | SRR1070208 &lt;int&gt; | SRR1071084 &lt;int&gt; |\n",
       "|---|---|---|---|---|\n",
       "| 258 | 30 | 4 | 18 | 80 |\n",
       "| 1214 |  2 | 2 |  1 |  3 |\n",
       "\n"
      ],
      "text/plain": [
       "     SRR1068977 SRR1068999 SRR1070208 SRR1071084\n",
       "258  30         4          18         80        \n",
       "1214  2         2           1          3        "
      ]
     },
     "metadata": {},
     "output_type": "display_data"
    }
   ],
   "source": [
    "jc.ijc.counts <- jc.ijc.counts[,colnames(jc.ijc.counts) %in% meta.data$SRR]\n",
    "dim(jc.ijc.counts)\n",
    "jc.ijc.counts[1:2,1:4]"
   ]
  },
  {
   "cell_type": "code",
   "execution_count": 70,
   "metadata": {},
   "outputs": [
    {
     "data": {
      "text/html": [
       "<style>\n",
       ".list-inline {list-style: none; margin:0; padding: 0}\n",
       ".list-inline>li {display: inline-block}\n",
       ".list-inline>li:not(:last-child)::after {content: \"\\00b7\"; padding: 0 .5ex}\n",
       "</style>\n",
       "<ol class=list-inline><li>100</li><li>173</li></ol>\n"
      ],
      "text/latex": [
       "\\begin{enumerate*}\n",
       "\\item 100\n",
       "\\item 173\n",
       "\\end{enumerate*}\n"
      ],
      "text/markdown": [
       "1. 100\n",
       "2. 173\n",
       "\n",
       "\n"
      ],
      "text/plain": [
       "[1] 100 173"
      ]
     },
     "metadata": {},
     "output_type": "display_data"
    },
    {
     "data": {
      "text/html": [
       "<table>\n",
       "<caption>A data.frame: 2 × 4</caption>\n",
       "<thead>\n",
       "\t<tr><th></th><th scope=col>SRR1068977</th><th scope=col>SRR1068999</th><th scope=col>SRR1070208</th><th scope=col>SRR1071084</th></tr>\n",
       "\t<tr><th></th><th scope=col>&lt;int&gt;</th><th scope=col>&lt;int&gt;</th><th scope=col>&lt;int&gt;</th><th scope=col>&lt;int&gt;</th></tr>\n",
       "</thead>\n",
       "<tbody>\n",
       "\t<tr><th scope=row>258</th><td>3</td><td>0</td><td>0</td><td>0</td></tr>\n",
       "\t<tr><th scope=row>1214</th><td>0</td><td>0</td><td>0</td><td>0</td></tr>\n",
       "</tbody>\n",
       "</table>\n"
      ],
      "text/latex": [
       "A data.frame: 2 × 4\n",
       "\\begin{tabular}{r|llll}\n",
       "  & SRR1068977 & SRR1068999 & SRR1070208 & SRR1071084\\\\\n",
       "  & <int> & <int> & <int> & <int>\\\\\n",
       "\\hline\n",
       "\t258 & 3 & 0 & 0 & 0\\\\\n",
       "\t1214 & 0 & 0 & 0 & 0\\\\\n",
       "\\end{tabular}\n"
      ],
      "text/markdown": [
       "\n",
       "A data.frame: 2 × 4\n",
       "\n",
       "| <!--/--> | SRR1068977 &lt;int&gt; | SRR1068999 &lt;int&gt; | SRR1070208 &lt;int&gt; | SRR1071084 &lt;int&gt; |\n",
       "|---|---|---|---|---|\n",
       "| 258 | 3 | 0 | 0 | 0 |\n",
       "| 1214 | 0 | 0 | 0 | 0 |\n",
       "\n"
      ],
      "text/plain": [
       "     SRR1068977 SRR1068999 SRR1070208 SRR1071084\n",
       "258  3          0          0          0         \n",
       "1214 0          0          0          0         "
      ]
     },
     "metadata": {},
     "output_type": "display_data"
    }
   ],
   "source": [
    "jc.sjc.counts <- jc.sjc.counts[,colnames(jc.sjc.counts) %in% meta.data$SRR]\n",
    "dim(jc.sjc.counts)\n",
    "jc.sjc.counts[1:2,1:4]"
   ]
  },
  {
   "cell_type": "code",
   "execution_count": 72,
   "metadata": {},
   "outputs": [
    {
     "data": {
      "text/html": [
       "<style>\n",
       ".list-inline {list-style: none; margin:0; padding: 0}\n",
       ".list-inline>li {display: inline-block}\n",
       ".list-inline>li:not(:last-child)::after {content: \"\\00b7\"; padding: 0 .5ex}\n",
       "</style>\n",
       "<ol class=list-inline><li>173</li><li>68</li></ol>\n"
      ],
      "text/latex": [
       "\\begin{enumerate*}\n",
       "\\item 173\n",
       "\\item 68\n",
       "\\end{enumerate*}\n"
      ],
      "text/markdown": [
       "1. 173\n",
       "2. 68\n",
       "\n",
       "\n"
      ],
      "text/plain": [
       "[1] 173  68"
      ]
     },
     "metadata": {},
     "output_type": "display_data"
    },
    {
     "data": {
      "text/html": [
       "<table>\n",
       "<caption>A tibble: 2 × 8</caption>\n",
       "<thead>\n",
       "\t<tr><th scope=col>SAMPID</th><th scope=col>SMATSSCR</th><th scope=col>SMCENTER</th><th scope=col>SMPTHNTS</th><th scope=col>SMRIN</th><th scope=col>SMTS</th><th scope=col>SMTSD</th><th scope=col>SMUBRID</th></tr>\n",
       "\t<tr><th scope=col>&lt;chr&gt;</th><th scope=col>&lt;chr&gt;</th><th scope=col>&lt;chr&gt;</th><th scope=col>&lt;chr&gt;</th><th scope=col>&lt;dbl&gt;</th><th scope=col>&lt;chr&gt;</th><th scope=col>&lt;chr&gt;</th><th scope=col>&lt;chr&gt;</th></tr>\n",
       "</thead>\n",
       "<tbody>\n",
       "\t<tr><td>GTEX.S4Q7.1126.SM.4AD6R</td><td>0</td><td>B1</td><td>2 aliquots                                 </td><td>6.9</td><td>Breast</td><td>Breast - Mammary Tissue</td><td>8367</td></tr>\n",
       "\t<tr><td>GTEX.ZZ64.1226.SM.5E43R</td><td>0</td><td>B1</td><td>2 pieces; fibroadipose tissue without ducts</td><td>7.2</td><td>Breast</td><td>Breast - Mammary Tissue</td><td>8367</td></tr>\n",
       "</tbody>\n",
       "</table>\n"
      ],
      "text/latex": [
       "A tibble: 2 × 8\n",
       "\\begin{tabular}{llllllll}\n",
       " SAMPID & SMATSSCR & SMCENTER & SMPTHNTS & SMRIN & SMTS & SMTSD & SMUBRID\\\\\n",
       " <chr> & <chr> & <chr> & <chr> & <dbl> & <chr> & <chr> & <chr>\\\\\n",
       "\\hline\n",
       "\t GTEX.S4Q7.1126.SM.4AD6R & 0 & B1 & 2 aliquots                                  & 6.9 & Breast & Breast - Mammary Tissue & 8367\\\\\n",
       "\t GTEX.ZZ64.1226.SM.5E43R & 0 & B1 & 2 pieces; fibroadipose tissue without ducts & 7.2 & Breast & Breast - Mammary Tissue & 8367\\\\\n",
       "\\end{tabular}\n"
      ],
      "text/markdown": [
       "\n",
       "A tibble: 2 × 8\n",
       "\n",
       "| SAMPID &lt;chr&gt; | SMATSSCR &lt;chr&gt; | SMCENTER &lt;chr&gt; | SMPTHNTS &lt;chr&gt; | SMRIN &lt;dbl&gt; | SMTS &lt;chr&gt; | SMTSD &lt;chr&gt; | SMUBRID &lt;chr&gt; |\n",
       "|---|---|---|---|---|---|---|---|\n",
       "| GTEX.S4Q7.1126.SM.4AD6R | 0 | B1 | 2 aliquots                                  | 6.9 | Breast | Breast - Mammary Tissue | 8367 |\n",
       "| GTEX.ZZ64.1226.SM.5E43R | 0 | B1 | 2 pieces; fibroadipose tissue without ducts | 7.2 | Breast | Breast - Mammary Tissue | 8367 |\n",
       "\n"
      ],
      "text/plain": [
       "  SAMPID                  SMATSSCR SMCENTER\n",
       "1 GTEX.S4Q7.1126.SM.4AD6R 0        B1      \n",
       "2 GTEX.ZZ64.1226.SM.5E43R 0        B1      \n",
       "  SMPTHNTS                                    SMRIN SMTS  \n",
       "1 2 aliquots                                  6.9   Breast\n",
       "2 2 pieces; fibroadipose tissue without ducts 7.2   Breast\n",
       "  SMTSD                   SMUBRID\n",
       "1 Breast - Mammary Tissue 8367   \n",
       "2 Breast - Mammary Tissue 8367   "
      ]
     },
     "metadata": {},
     "output_type": "display_data"
    }
   ],
   "source": [
    "meta.data <- meta.data[meta.data$SRR %in% colnames(jc.ijc.counts),]\n",
    "dim(meta.data)\n",
    "meta.data[1:2,1:8]"
   ]
  },
  {
   "cell_type": "code",
   "execution_count": 73,
   "metadata": {},
   "outputs": [
    {
     "data": {
      "text/html": [
       "<style>\n",
       ".list-inline {list-style: none; margin:0; padding: 0}\n",
       ".list-inline>li {display: inline-block}\n",
       ".list-inline>li:not(:last-child)::after {content: \"\\00b7\"; padding: 0 .5ex}\n",
       "</style>\n",
       "<ol class=list-inline><li>'Name'</li><li>'Description'</li><li>'GTEX.1117F.0226.SM.5GZZ7'</li><li>'GTEX.111CU.1826.SM.5GZYN'</li></ol>\n"
      ],
      "text/latex": [
       "\\begin{enumerate*}\n",
       "\\item 'Name'\n",
       "\\item 'Description'\n",
       "\\item 'GTEX.1117F.0226.SM.5GZZ7'\n",
       "\\item 'GTEX.111CU.1826.SM.5GZYN'\n",
       "\\end{enumerate*}\n"
      ],
      "text/markdown": [
       "1. 'Name'\n",
       "2. 'Description'\n",
       "3. 'GTEX.1117F.0226.SM.5GZZ7'\n",
       "4. 'GTEX.111CU.1826.SM.5GZYN'\n",
       "\n",
       "\n"
      ],
      "text/plain": [
       "[1] \"Name\"                     \"Description\"             \n",
       "[3] \"GTEX.1117F.0226.SM.5GZZ7\" \"GTEX.111CU.1826.SM.5GZYN\""
      ]
     },
     "metadata": {},
     "output_type": "display_data"
    }
   ],
   "source": [
    "colnames.expression.mat[1:4]"
   ]
  },
  {
   "cell_type": "code",
   "execution_count": 74,
   "metadata": {},
   "outputs": [
    {
     "data": {
      "text/html": [
       "<style>\n",
       ".list-inline {list-style: none; margin:0; padding: 0}\n",
       ".list-inline>li {display: inline-block}\n",
       ".list-inline>li:not(:last-child)::after {content: \"\\00b7\"; padding: 0 .5ex}\n",
       "</style>\n",
       "<ol class=list-inline><li>1</li><li>11690</li></ol>\n"
      ],
      "text/latex": [
       "\\begin{enumerate*}\n",
       "\\item 1\n",
       "\\item 11690\n",
       "\\end{enumerate*}\n"
      ],
      "text/markdown": [
       "1. 1\n",
       "2. 11690\n",
       "\n",
       "\n"
      ],
      "text/plain": [
       "[1]     1 11690"
      ]
     },
     "metadata": {},
     "output_type": "display_data"
    },
    {
     "data": {
      "text/html": [
       "<table>\n",
       "<caption>A data.frame: 2 × 4</caption>\n",
       "<thead>\n",
       "\t<tr><th></th><th scope=col>Name</th><th scope=col>Description</th><th scope=col>GTEX.1117F.0226.SM.5GZZ7</th><th scope=col>GTEX.111CU.1826.SM.5GZYN</th></tr>\n",
       "\t<tr><th></th><th scope=col>&lt;fct&gt;</th><th scope=col>&lt;fct&gt;</th><th scope=col>&lt;dbl&gt;</th><th scope=col>&lt;dbl&gt;</th></tr>\n",
       "</thead>\n",
       "<tbody>\n",
       "\t<tr><th scope=row>1</th><td>ENSG00000223972.4</td><td>DDX11L1</td><td>0.1082</td><td>0.1158</td></tr>\n",
       "\t<tr><th scope=row>NA</th><td>NA               </td><td>NA     </td><td>    NA</td><td>    NA</td></tr>\n",
       "</tbody>\n",
       "</table>\n"
      ],
      "text/latex": [
       "A data.frame: 2 × 4\n",
       "\\begin{tabular}{r|llll}\n",
       "  & Name & Description & GTEX.1117F.0226.SM.5GZZ7 & GTEX.111CU.1826.SM.5GZYN\\\\\n",
       "  & <fct> & <fct> & <dbl> & <dbl>\\\\\n",
       "\\hline\n",
       "\t1 & ENSG00000223972.4 & DDX11L1 & 0.1082 & 0.1158\\\\\n",
       "\tNA & NA                & NA      &     NA &     NA\\\\\n",
       "\\end{tabular}\n"
      ],
      "text/markdown": [
       "\n",
       "A data.frame: 2 × 4\n",
       "\n",
       "| <!--/--> | Name &lt;fct&gt; | Description &lt;fct&gt; | GTEX.1117F.0226.SM.5GZZ7 &lt;dbl&gt; | GTEX.111CU.1826.SM.5GZYN &lt;dbl&gt; |\n",
       "|---|---|---|---|---|\n",
       "| 1 | ENSG00000223972.4 | DDX11L1 | 0.1082 | 0.1158 |\n",
       "| NA | NA                | NA      |     NA |     NA |\n",
       "\n"
      ],
      "text/plain": [
       "   Name              Description GTEX.1117F.0226.SM.5GZZ7\n",
       "1  ENSG00000223972.4 DDX11L1     0.1082                  \n",
       "NA NA                NA              NA                  \n",
       "   GTEX.111CU.1826.SM.5GZYN\n",
       "1  0.1158                  \n",
       "NA     NA                  "
      ]
     },
     "metadata": {},
     "output_type": "display_data"
    }
   ],
   "source": [
    "dim(expression.mat)\n",
    "expression.mat[1:2,1:4]"
   ]
  },
  {
   "cell_type": "code",
   "execution_count": 75,
   "metadata": {},
   "outputs": [
    {
     "data": {
      "text/html": [
       "'Breast - Mammary Tissue'"
      ],
      "text/latex": [
       "'Breast - Mammary Tissue'"
      ],
      "text/markdown": [
       "'Breast - Mammary Tissue'"
      ],
      "text/plain": [
       "[1] \"Breast - Mammary Tissue\""
      ]
     },
     "metadata": {},
     "output_type": "display_data"
    }
   ],
   "source": [
    "tissue <- unique(meta.data$SMTSD [ meta.data$SMTSD == tissue])\n",
    "tissue"
   ]
  },
  {
   "cell_type": "code",
   "execution_count": 76,
   "metadata": {},
   "outputs": [],
   "source": [
    "col.in.tissue<-c()\n",
    "for (col in colnames.expression.mat)\n",
    "  \n",
    "  col.in.tissue<-c(col.in.tissue, (col %in% meta.data$SAMPID) && (meta.data$SMTSD[which(meta.data$SAMPID==col)] %in% tissue) && (meta.data$SUBJID[which(meta.data$SAMPID==col)]!='GTEX-11ILO'))"
   ]
  },
  {
   "cell_type": "code",
   "execution_count": 77,
   "metadata": {},
   "outputs": [
    {
     "data": {
      "text/html": [
       "11690"
      ],
      "text/latex": [
       "11690"
      ],
      "text/markdown": [
       "11690"
      ],
      "text/plain": [
       "[1] 11690"
      ]
     },
     "metadata": {},
     "output_type": "display_data"
    },
    {
     "data": {
      "text/plain": [
       "col.in.tissue\n",
       "FALSE  TRUE \n",
       "11517   173 "
      ]
     },
     "metadata": {},
     "output_type": "display_data"
    }
   ],
   "source": [
    "length(col.in.tissue)\n",
    "table(col.in.tissue)"
   ]
  },
  {
   "cell_type": "code",
   "execution_count": 78,
   "metadata": {},
   "outputs": [
    {
     "data": {
      "text/html": [
       "11690"
      ],
      "text/latex": [
       "11690"
      ],
      "text/markdown": [
       "11690"
      ],
      "text/plain": [
       "[1] 11690"
      ]
     },
     "metadata": {},
     "output_type": "display_data"
    },
    {
     "data": {
      "text/html": [
       "11690"
      ],
      "text/latex": [
       "11690"
      ],
      "text/markdown": [
       "11690"
      ],
      "text/plain": [
       "[1] 11690"
      ]
     },
     "metadata": {},
     "output_type": "display_data"
    },
    {
     "data": {
      "text/html": [
       "<style>\n",
       ".list-inline {list-style: none; margin:0; padding: 0}\n",
       ".list-inline>li {display: inline-block}\n",
       ".list-inline>li:not(:last-child)::after {content: \"\\00b7\"; padding: 0 .5ex}\n",
       "</style>\n",
       "<ol class=list-inline><li>FALSE</li><li>FALSE</li><li>FALSE</li></ol>\n"
      ],
      "text/latex": [
       "\\begin{enumerate*}\n",
       "\\item FALSE\n",
       "\\item FALSE\n",
       "\\item FALSE\n",
       "\\end{enumerate*}\n"
      ],
      "text/markdown": [
       "1. FALSE\n",
       "2. FALSE\n",
       "3. FALSE\n",
       "\n",
       "\n"
      ],
      "text/plain": [
       "[1] FALSE FALSE FALSE"
      ]
     },
     "metadata": {},
     "output_type": "display_data"
    }
   ],
   "source": [
    "length(colnames.expression.mat)\n",
    "length(col.in.tissue)\n",
    "\n",
    "col.in.tissue[1:3]"
   ]
  },
  {
   "cell_type": "code",
   "execution_count": null,
   "metadata": {},
   "outputs": [],
   "source": [
    "# colClasses is used to skip columns\n",
    "expression.mat <-read.table(expression.file.name, \n",
    "                            sep= \"\\t\",\n",
    "                            header = T,\n",
    "                            skip = 2, \n",
    "                            colClasses = ifelse(col.in.tissue, \"numeric\", \"NULL\"))"
   ]
  },
  {
   "cell_type": "code",
   "execution_count": null,
   "metadata": {},
   "outputs": [],
   "source": [
    "length(col.in.tissue)"
   ]
  },
  {
   "cell_type": "markdown",
   "metadata": {},
   "source": [
    "## Read gene names:"
   ]
  },
  {
   "cell_type": "code",
   "execution_count": null,
   "metadata": {},
   "outputs": [],
   "source": [
    "dim(expression.mat)\n",
    "expression.mat <- expression.mat[,order(match(colnames(expression.mat),meta.data$SAMPID))]\n",
    "dim(expression.mat)"
   ]
  },
  {
   "cell_type": "code",
   "execution_count": null,
   "metadata": {},
   "outputs": [],
   "source": [
    "jc.ijc.counts     <- jc.ijc.counts[,order(match(colnames(jc.ijc.counts),meta.data$SRR))]\n",
    "dim(jc.ijc.counts)"
   ]
  },
  {
   "cell_type": "code",
   "execution_count": null,
   "metadata": {},
   "outputs": [],
   "source": [
    "jc.sjc.counts    <- jc.sjc.counts[,order(match(colnames(jc.sjc.counts),meta.data$SRR))]\n",
    "dim(jc.sjc.counts)"
   ]
  },
  {
   "cell_type": "code",
   "execution_count": null,
   "metadata": {},
   "outputs": [],
   "source": [
    "all.genes      <- read.table(expression.file.name,sep=\"\\t\",header=T,skip=2,colClasses = c(rep(\"character\", 2), rep(\"NULL\", total.samples-2)))\n",
    "dim(all.genes)\n",
    "head(all.genes, 2)"
   ]
  },
  {
   "cell_type": "code",
   "execution_count": null,
   "metadata": {},
   "outputs": [],
   "source": [
    "expression.mat <- expression.mat[!duplicated(all.genes$Description),]\n",
    "dim(expression.mat)\n",
    "expression.mat[1:2,1:4]"
   ]
  },
  {
   "cell_type": "code",
   "execution_count": null,
   "metadata": {},
   "outputs": [],
   "source": [
    "all.genes      <- all.genes[!duplicated(all.genes$Description),]\n",
    "dim(all.genes)"
   ]
  },
  {
   "cell_type": "code",
   "execution_count": null,
   "metadata": {},
   "outputs": [],
   "source": [
    "jc.sjc.counts    <- jc.sjc.counts[merged.table$geneSymbol %in% all.genes$Description,]\n",
    "dim(jc.sjc.counts)"
   ]
  },
  {
   "cell_type": "code",
   "execution_count": null,
   "metadata": {},
   "outputs": [],
   "source": [
    "jc.ijc.counts     <- jc.ijc.counts[merged.table$geneSymbol %in% all.genes$Description,]\n",
    "dim(jc.ijc.counts)"
   ]
  },
  {
   "cell_type": "code",
   "execution_count": null,
   "metadata": {},
   "outputs": [],
   "source": [
    "merged.table   <- merged.table[merged.table$geneSymbol %in% all.genes$Description,]\n",
    "dim(merged.table)"
   ]
  },
  {
   "cell_type": "code",
   "execution_count": null,
   "metadata": {},
   "outputs": [],
   "source": [
    "gene.names     <- unique(merged.table$geneSymbol)\n",
    "length(gene.names)"
   ]
  },
  {
   "cell_type": "code",
   "execution_count": null,
   "metadata": {},
   "outputs": [],
   "source": [
    "expression.mat <- expression.mat[all.genes$Description %in% c(as.character(rbp.table$Gene),as.character(gene.names)),]\n",
    "dim(expression.mat)"
   ]
  },
  {
   "cell_type": "code",
   "execution_count": null,
   "metadata": {},
   "outputs": [],
   "source": [
    "rownames.expression.mat <-all.genes$Description[all.genes$Description %in% c(as.character(rbp.table$Gene),as.character(gene.names))]\n",
    "length(rownames.expression.mat)"
   ]
  },
  {
   "cell_type": "code",
   "execution_count": null,
   "metadata": {},
   "outputs": [],
   "source": [
    "expression.mat <-expression.mat[!duplicated(rownames.expression.mat),]\n",
    "dim(expression.mat)"
   ]
  },
  {
   "cell_type": "code",
   "execution_count": null,
   "metadata": {},
   "outputs": [],
   "source": [
    "rownames.expression.mat <-rownames.expression.mat[!duplicated(rownames.expression.mat)]\n",
    "length(rownames.expression.mat)"
   ]
  },
  {
   "cell_type": "markdown",
   "metadata": {},
   "source": [
    "## Prepare expression of genes and RBPS:"
   ]
  },
  {
   "cell_type": "code",
   "execution_count": null,
   "metadata": {},
   "outputs": [],
   "source": [
    "num.events     <- nrow(merged.table)\n",
    "num.events"
   ]
  },
  {
   "cell_type": "code",
   "execution_count": null,
   "metadata": {},
   "outputs": [],
   "source": [
    "event.to.gene  <- c()"
   ]
  },
  {
   "cell_type": "code",
   "execution_count": null,
   "metadata": {},
   "outputs": [],
   "source": [
    "gexp           <- expression.mat[rownames.expression.mat %in% gene.names,]\n",
    "dim(gexp)"
   ]
  },
  {
   "cell_type": "code",
   "execution_count": null,
   "metadata": {},
   "outputs": [],
   "source": [
    "rownames(gexp) <- rownames.expression.mat[rownames.expression.mat %in% gene.names]"
   ]
  },
  {
   "cell_type": "code",
   "execution_count": null,
   "metadata": {},
   "outputs": [],
   "source": [
    "gexp           <- gexp[order(match(rownames(gexp),gene.names)),]\n",
    "dim(gexp)\n",
    "gexp[1:2,1:4]"
   ]
  },
  {
   "cell_type": "code",
   "execution_count": null,
   "metadata": {},
   "outputs": [],
   "source": [
    "gexp           <- log2(gexp+0.5)"
   ]
  },
  {
   "cell_type": "code",
   "execution_count": null,
   "metadata": {},
   "outputs": [],
   "source": [
    "gexp           <- gexp-rowMeans(gexp)"
   ]
  },
  {
   "cell_type": "code",
   "execution_count": null,
   "metadata": {},
   "outputs": [],
   "source": [
    "gexp[apply(gexp,1,sd)>0,] <- gexp[apply(gexp,1,sd)>0,]/apply(gexp[apply(gexp,1,sd)>0,],1,sd)"
   ]
  },
  {
   "cell_type": "code",
   "execution_count": null,
   "metadata": {},
   "outputs": [],
   "source": [
    "rexp           <- expression.mat[rownames.expression.mat %in% rbp.table$Gene,]"
   ]
  },
  {
   "cell_type": "code",
   "execution_count": null,
   "metadata": {},
   "outputs": [],
   "source": [
    "rownames(rexp) <- rownames.expression.mat[rownames.expression.mat %in% rbp.table$Gene]"
   ]
  },
  {
   "cell_type": "code",
   "execution_count": null,
   "metadata": {},
   "outputs": [],
   "source": [
    "rexp           <- rexp[order(match(rownames(rexp),rbp.table$Gene)),]"
   ]
  },
  {
   "cell_type": "code",
   "execution_count": null,
   "metadata": {},
   "outputs": [],
   "source": [
    "rexp           <- log2(rexp+0.5)"
   ]
  },
  {
   "cell_type": "code",
   "execution_count": null,
   "metadata": {},
   "outputs": [],
   "source": [
    "rexp           <- rexp-rowMeans(rexp)"
   ]
  },
  {
   "cell_type": "code",
   "execution_count": null,
   "metadata": {},
   "outputs": [],
   "source": [
    "rexp           <- rexp/apply(rexp,1,function(v){ifelse(sum(v==v[1])<length(v),sd(v),1)})"
   ]
  },
  {
   "cell_type": "code",
   "execution_count": null,
   "metadata": {},
   "outputs": [],
   "source": [
    "for (i in (1:num.events))\n",
    "  event.to.gene<-c(event.to.gene,which(unique(merged.table$geneSymbol)==merged.table[i,\"geneSymbol\"]))\n",
    "    sex<-ifelse(meta.data$SEX==1,1,0)"
   ]
  },
  {
   "cell_type": "code",
   "execution_count": null,
   "metadata": {},
   "outputs": [],
   "source": [
    "sex[1:4]\n",
    "table(sex)"
   ]
  },
  {
   "cell_type": "code",
   "execution_count": null,
   "metadata": {},
   "outputs": [],
   "source": [
    "end_time <- Sys.time()\n",
    "end_time - start_time"
   ]
  },
  {
   "cell_type": "markdown",
   "metadata": {},
   "source": [
    "## Run stan:"
   ]
  },
  {
   "cell_type": "code",
   "execution_count": null,
   "metadata": {},
   "outputs": [],
   "source": [
    "dataList = list(\n",
    "  as = round(jc.sjc.counts) ,   #sjc event counts across experiments\n",
    "  c = round(jc.sjc.counts+jc.ijc.counts)    , #total counts for event, i.e. sjc & ijc, across experiments\n",
    "  gexp = gexp, #read counts for genes (from gtex, take the raw counts) across experiments\n",
    "  rexp = rexp, #read counts for RBPs (from gtex, take the raw counts)\n",
    "  event_to_gene = event.to.gene,  #the gene index for each event (1 to the number of distinct genes) \n",
    "  Nrbp = nrow(rexp), #number of RBPs\n",
    "  Nevents = nrow(merged.table),  #most varying AS events in \n",
    "  Nexp = ncol(expression.mat),#number of experiments such that we measured each event, gene and RBP in each experiment\n",
    "  Ngenes = nrow(gexp),\n",
    "  sex=sex\n",
    ")\n",
    "\n",
    "\n",
    "modelString = \"\n",
    "data {\n",
    "int<lower=0> Nevents;\n",
    "int<lower=0> Nexp;\n",
    "int<lower=0> Nrbp;\n",
    "int<lower=0> Ngenes;\n",
    "int<lower=0> as[Nevents,Nexp] ;\n",
    "int<lower=0> c[Nevents,Nexp] ;\n",
    "matrix[Ngenes,Nexp] gexp ; \n",
    "matrix[Nrbp,Nexp] rexp ; \n",
    "int<lower=0> event_to_gene[Nevents];\n",
    "int<lower=0,upper=1> sex[Nexp];\n",
    "\n",
    "}\n",
    "\n",
    "\n",
    "parameters {\n",
    "real beta0[Nevents] ;\n",
    "real beta1[Nevents] ;\n",
    "matrix[Nevents,Nrbp] beta2 ;\n",
    "real beta3[Nevents];\n",
    "real beta4[Nrbp];\n",
    "\n",
    "}\n",
    "model {\n",
    "\n",
    "for ( i in 1:Nexp ) {  \n",
    "\n",
    "\n",
    "    for ( j in 1:Nevents ) if (c[j,i]>0) { \n",
    "\n",
    "      as[j,i] ~ binomial(c[j,i], inv_logit(beta0[j]+beta1[j]*sex[i]+dot_product(beta2[j,],rexp[,i])+beta3[j]*gexp[event_to_gene[j],i] ) );\n",
    "\n",
    "  }\n",
    "}\n",
    "\n",
    "for (k in 1:Nrbp){\n",
    "\n",
    "  for ( j in 1:Nevents ) { \n",
    "\n",
    "        beta2[j,k] ~normal(beta4[k],1);\n",
    "  }\n",
    "\n",
    "  beta4[k]~normal(0,1);\n",
    "\n",
    "}\n",
    "\n",
    "\n",
    "for ( j in 1:Nevents ) { \n",
    "\n",
    "    beta1[j] ~ normal(0,1);\n",
    "    beta0[j] ~ normal(0,1);\n",
    "    beta3[j] ~ normal(0,1);\n",
    "  }\n",
    "\n",
    "}\n",
    "\"\n",
    "\n",
    "# Start the clock!\n",
    "start_time <- Sys.time()\n",
    "\n",
    "stanDso <- rstan::stan_model( model_code=modelString ) \n",
    "stanFit <- sampling( object=stanDso , \n",
    "                    data = dataList , \n",
    "                    chains = 3 , \n",
    "                    iter = 8000, \n",
    "                    warmup = 6000,\n",
    "                    thin = 1,\n",
    "                    init = 0, \n",
    "                    cores = 3 )\n",
    "\n",
    "mcmcCoda = coda::mcmc.list( lapply( 1:ncol(stanFit) , function(x) { mcmc(as.array(stanFit)[,x,]) } ) )\n",
    "\n",
    "end_time <- Sys.time()\n",
    "end_time - start_time"
   ]
  },
  {
   "cell_type": "markdown",
   "metadata": {},
   "source": [
    "## Save R objects"
   ]
  },
  {
   "cell_type": "code",
   "execution_count": null,
   "metadata": {},
   "outputs": [],
   "source": [
    "save.image(file = \"notebook.RData\")\n",
    "file.exists(\"notebook.RData\")\n",
    "system(\"pwd && ls -l notebook.RData\", intern = TRUE)"
   ]
  },
  {
   "cell_type": "markdown",
   "metadata": {},
   "source": [
    "## Metadata\n",
    "\n",
    "For replicability and reproducibility purposes, we also print the following metadata:\n",
    "\n",
    "1. Checksums of **\"artefacts\"**, files generated during the analysis and stored in the folder directory **`data`**\n",
    "2. List of environment metadata, dependencies, versions of libraries using `utils::sessionInfo()` and [`devtools::session_info()`](https://devtools.r-lib.org/reference/session_info.html)"
   ]
  },
  {
   "cell_type": "markdown",
   "metadata": {},
   "source": [
    "### 1. Checksums with the sha256 algorithm"
   ]
  },
  {
   "cell_type": "code",
   "execution_count": null,
   "metadata": {},
   "outputs": [],
   "source": [
    "figure_id       <- \"bayesian-modeling\"\n",
    "\n",
    "message(\"Generating sha256 checksums of the artefacts in the `..data/` directory .. \")\n",
    "system(paste0(\"cd ../data/ && find . -type f -exec sha256sum {} \\\\; > ../metadata/\",  figure_id, \"_sha256sums.txt\"), intern = TRUE)\n",
    "message(\"Done!\\n\")\n",
    "\n",
    "data.table::fread(paste0(\"../metadata/\", figure_id, \"_sha256sums.txt\"), header = FALSE, col.names = c(\"sha256sum\", \"file\"))"
   ]
  },
  {
   "cell_type": "markdown",
   "metadata": {},
   "source": [
    "### 2. Libraries metadata"
   ]
  },
  {
   "cell_type": "code",
   "execution_count": null,
   "metadata": {},
   "outputs": [],
   "source": [
    "dev_session_info   <- devtools::session_info()\n",
    "utils_session_info <- utils::sessionInfo()\n",
    "\n",
    "message(\"Saving `devtools::session_info()` objects in ../metadata/devtools_session_info.rds  ..\")\n",
    "saveRDS(dev_session_info, file = paste0(\"../metadata/\", figure_id, \"_devtools_session_info.rds\"))\n",
    "message(\"Done!\\n\")\n",
    "\n",
    "message(\"Saving `utils::sessionInfo()` objects in ../metadata/utils_session_info.rds  ..\")\n",
    "saveRDS(utils_session_info, file = paste0(\"../metadata/\", figure_id ,\"_utils_info.rds\"))\n",
    "message(\"Done!\\n\")\n",
    "\n",
    "dev_session_info$platform\n",
    "dev_session_info$packages[dev_session_info$packages$attached==TRUE, ]"
   ]
  }
 ],
 "metadata": {
  "kernelspec": {
   "display_name": "R",
   "language": "R",
   "name": "ir"
  },
  "language_info": {
   "codemirror_mode": "r",
   "file_extension": ".r",
   "mimetype": "text/x-r-source",
   "name": "R",
   "pygments_lexer": "r",
   "version": "3.6.2"
  }
 },
 "nbformat": 4,
 "nbformat_minor": 4
}

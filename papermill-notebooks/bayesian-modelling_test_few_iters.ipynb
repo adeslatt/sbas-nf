{
 "cells": [
  {
   "cell_type": "markdown",
   "metadata": {},
   "source": [
    "# Analysis Notebook - Hierarchical Bayesian Modelling"
   ]
  },
  {
   "cell_type": "markdown",
   "metadata": {},
   "source": [
    "## **NOTE**:\n",
    "\n",
    "We assume that you have cloned the analysis repository and have `cd` into the parent directory. Before starting with the analysis make sure you have first completed the dependencies set up by following the instructions described in the **`dependencies/README.md`** document. All paths defined in this Notebook are relative to the parent directory (repository). Please close this Notebook and start again by following the above guidelines if you have not completed the aforementioned steps."
   ]
  },
  {
   "cell_type": "markdown",
   "metadata": {},
   "source": [
    "## Prerequisite input files\n",
    "\n",
    "Before starting the execution of the following code, make sure you have available in the folders `sbas/data` and `sbas/assets` the files listed below as prerequisites.\n",
    "\n",
    "###  **`sbas/data`**.\n",
    "The present analysis requires the following files to be present in the folder **`sbas/data`**.\n",
    "\n",
    "\n",
    "- [x] The contents of `data.tar.gz` after unpacking them into the `sbas/data` folder with `tar xvzf data.tar.gz -C sbas/data `\n",
    "- [x] `rmats_final.se.jc.ijc.txt`\n",
    "- [x] `rmats_final.se.jc.sjc.txt`\n",
    "- [x] `srr_pdata.csv` : the corrected GTEx data as created by the forked yarn and in the `annes-changes` branch https://github.com/TheJacksonLaboratory/yarn/tree/annes-changes with the SRR data as used in the `rMATS 3.2.5` experiment.\n",
    "\n",
    "\n",
    "Additionally, the file `GTEx_Analysis_2016-01-15_v7_RNASeQCv1.1.8_gene_tpm.gct` which is retrieved in the script from [`https://storage.googleapis.com/gtex_analysis_v7/rna_seq_data/`](https://storage.googleapis.com/gtex_analysis_v7/rna_seq_data/GTEx_Analysis_2016-01-15_v7_RNASeQCv1.1.8_gene_tpm.gct.gz) and stored into the folder \n",
    "`sbas/data` as well.\n",
    "\n",
    "\n",
    "### **`sbas/assets`**\n",
    "The present analysis requires the following files to be present in the folder **`sbas/assets`**.\n",
    "\n",
    "- [x] `tissues.tsv`: metadata file with information on which tissues will be used for analysis -- only using the `include` option for analysis\n",
    "- [x] `splice-relevant-genes.txt`: list of RNA binding proteins that are annotated to splicing relevant functions from GO."
   ]
  },
  {
   "cell_type": "markdown",
   "metadata": {},
   "source": [
    "## Loading dependencies\n",
    "\n",
    "If `conda` is available on your environment you can install the required dependencies by running the following commands:\n",
    "\n",
    "\n",
    "```bash\n",
    "time conda install -y r-base==3.6.2 &&\n",
    "conda install -y r-ggplot2 r-ggsci r-coda r-rstan r-rjags r-compute.es r-snakecase &&\n",
    "Rscript -e 'install.packages(\"runjags\", repos = \"https://cloud.r-project.org/\")'\n",
    "```\n",
    "\n"
   ]
  },
  {
   "cell_type": "code",
   "execution_count": 1,
   "metadata": {},
   "outputs": [],
   "source": [
    "# Start the clock!\n",
    "start_time <- Sys.time()"
   ]
  },
  {
   "cell_type": "code",
   "execution_count": 2,
   "metadata": {},
   "outputs": [
    {
     "name": "stderr",
     "output_type": "stream",
     "text": [
      "Warning message:\n",
      "“package ‘ggplot2’ was built under R version 3.6.3”\n",
      "Warning message:\n",
      "“package ‘ggsci’ was built under R version 3.6.3”\n",
      "Warning message:\n",
      "“package ‘gridExtra’ was built under R version 3.6.3”\n",
      "Warning message:\n",
      "“package ‘snakecase’ was built under R version 3.6.3”\n",
      "Warning message:\n",
      "“package ‘rstan’ was built under R version 3.6.3”\n",
      "Loading required package: StanHeaders\n",
      "\n",
      "Warning message:\n",
      "“package ‘StanHeaders’ was built under R version 3.6.3”\n",
      "rstan (Version 2.19.3, GitRev: 2e1f913d3ca3)\n",
      "\n",
      "For execution on a local, multicore CPU with excess RAM we recommend calling\n",
      "options(mc.cores = parallel::detectCores()).\n",
      "To avoid recompilation of unchanged Stan programs, we recommend calling\n",
      "rstan_options(auto_write = TRUE)\n",
      "\n",
      "Warning message:\n",
      "“package ‘rjags’ was built under R version 3.6.3”\n",
      "Loading required package: coda\n",
      "\n",
      "Warning message:\n",
      "“package ‘coda’ was built under R version 3.6.3”\n",
      "\n",
      "Attaching package: ‘coda’\n",
      "\n",
      "\n",
      "The following object is masked from ‘package:rstan’:\n",
      "\n",
      "    traceplot\n",
      "\n",
      "\n",
      "Linked to JAGS 4.3.0\n",
      "\n",
      "Loaded modules: basemod,bugs\n",
      "\n",
      "\n",
      "Attaching package: ‘runjags’\n",
      "\n",
      "\n",
      "The following object is masked from ‘package:rstan’:\n",
      "\n",
      "    extract\n",
      "\n",
      "\n",
      "Warning message:\n",
      "“package ‘compute.es’ was built under R version 3.6.3”\n"
     ]
    }
   ],
   "source": [
    "# dataviz dependencies\n",
    "library(ggplot2)\n",
    "library(ggsci)\n",
    "library(grid)\n",
    "library(gridExtra)\n",
    "library(stringr)\n",
    "library(snakecase)\n",
    "\n",
    "# BDA2E-utilities dependencies\n",
    "library(rstan)\n",
    "library(parallel)\n",
    "library(rjags)\n",
    "library(runjags)\n",
    "library(compute.es)"
   ]
  },
  {
   "cell_type": "code",
   "execution_count": 3,
   "metadata": {},
   "outputs": [
    {
     "data": {
      "text/html": [
       "TRUE"
      ],
      "text/latex": [
       "TRUE"
      ],
      "text/markdown": [
       "TRUE"
      ],
      "text/plain": [
       "[1] TRUE"
      ]
     },
     "metadata": {},
     "output_type": "display_data"
    }
   ],
   "source": [
    "file.exists(\"../data/GTEx_Analysis_2017-06-05_v8_RNASeQCv1.1.9_gene_tpm.gct\")"
   ]
  },
  {
   "cell_type": "markdown",
   "metadata": {},
   "source": [
    "Download GTEx_Analysis_2016-01-15_v7_RNASeQCv1.1.8_gene_tpm.gct from Google Cloud\n"
   ]
  },
  {
   "cell_type": "code",
   "execution_count": 4,
   "metadata": {},
   "outputs": [],
   "source": [
    "if (!(\"GTEx_Analysis_2017-06-05_v8_RNASeQCv1.1.9_gene_tpm.gct\" %in% list.files(\"../data/\"))) {\n",
    "    message(\"Downloading GTEx_Analysis_2017-06-05_v8_RNASeQCv1.1.9_gene_tpm.gct \\nfrom https://console.cloud.google.com/storage/browser/_details/gtex_analysis_v7/rna_seq_data/ ..\")\n",
    "    system(\"wget -O ../data/GTEx_Analysis_2017-06-05_v8_RNASeQCv1.1.9_gene_tpm.gct.gz https://storage.googleapis.com/gtex_analysis_v7/rna_seq_data/GTEx_Analysis_2016-01-15_v7_RNASeQCv1.1.8_gene_tpm.gct.gz\", intern = TRUE)\n",
    "    message(\"Done!\\n\\n\")\n",
    "    message(\"Unzipping compressed file GTEx_Analysis_2017-06-05_v8_RNASeQCv1.1.9_gene_tpm.gct.gz..\")\n",
    "    system(\"gunzip ../data/GTEx_Analysis_2017-06-05_v8_RNASeQCv1.1.9_gene_tpm.gct.gz\", intern = TRUE)\n",
    "    message(\"Done! \\n\\nThe file GTEx_Analysis_2017-06-05_v8_RNASeQCv1.1.9_gene_tpm.gct can be found in ../data/\")\n",
    "}"
   ]
  },
  {
   "cell_type": "markdown",
   "metadata": {},
   "source": [
    "Previously used list of tissues to use for the Hierarchical Bayesian modelling:\n",
    "\n",
    "\n",
    "\n",
    "```R\n",
    "tissue.list<-c(\"Heart - Left Ventricle\",\n",
    "               \"Breast - Mammary Tissue\",\n",
    "               \"Brain - Cortex.Brain - Frontal Cortex (BA9).Brain - Anterior cingulate cortex (BA24)\",\n",
    "               \"Adrenal Gland\",\n",
    "               \"Adipose - Subcutaneous\",\n",
    "               \"Muscle - Skeletal\",\n",
    "               \"Thyroid\",\n",
    "               \"Cells - Transformed fibroblasts\",\n",
    "               \"Artery - Aorta\",\n",
    "               \"Skin - Sun Exposed (Lower leg).Skin - Not Sun Exposed (Suprapubic)\")\n",
    "```"
   ]
  },
  {
   "cell_type": "code",
   "execution_count": 5,
   "metadata": {},
   "outputs": [
    {
     "name": "stderr",
     "output_type": "stream",
     "text": [
      "Parsed with column specification:\n",
      "cols(\n",
      "  name = \u001b[31mcol_character()\u001b[39m,\n",
      "  female = \u001b[32mcol_double()\u001b[39m,\n",
      "  male = \u001b[32mcol_double()\u001b[39m,\n",
      "  include = \u001b[32mcol_double()\u001b[39m,\n",
      "  display.name = \u001b[31mcol_character()\u001b[39m\n",
      ")\n",
      "\n"
     ]
    }
   ],
   "source": [
    "tissues_df <- readr::read_delim(\"../assets/tissues.tsv\", delim = \"\\t\")"
   ]
  },
  {
   "cell_type": "code",
   "execution_count": 6,
   "metadata": {},
   "outputs": [],
   "source": [
    "tissue.list <- tissues_df$name[ tissues_df$include ==1]"
   ]
  },
  {
   "cell_type": "code",
   "execution_count": 7,
   "metadata": {},
   "outputs": [
    {
     "name": "stderr",
     "output_type": "stream",
     "text": [
      "39 tissues\n",
      "\n"
     ]
    },
    {
     "name": "stdout",
     "output_type": "stream",
     "text": [
      "adipose_subcutaneous\n",
      "adipose_visceral_omentum\n",
      "adrenal_gland\n",
      "artery_aorta\n",
      "artery_coronary\n",
      "artery_tibial\n",
      "brain_caudate_basal_ganglia\n",
      "brain_cerebellar_hemisphere\n",
      "brain_cerebellum\n",
      "brain_cortex\n",
      "brain_frontal_cortex_ba_9\n",
      "brain_hippocampus\n",
      "brain_hypothalamus\n",
      "brain_nucleus_accumbens_basal_ganglia\n",
      "brain_putamen_basal_ganglia\n",
      "brain_spinal_cord_cervical_c_1\n",
      "breast_mammary_tissue\n",
      "cells_cultured_fibroblasts\n",
      "cells_ebv_transformed_lymphocytes\n",
      "colon_sigmoid\n",
      "colon_transverse\n",
      "esophagus_gastroesophageal_junction\n",
      "esophagus_mucosa\n",
      "esophagus_muscularis\n",
      "heart_atrial_appendage\n",
      "heart_left_ventricle\n",
      "liver\n",
      "lung\n",
      "muscle_skeletal\n",
      "nerve_tibial\n",
      "pancreas\n",
      "pituitary\n",
      "skin_not_sun_exposed_suprapubic\n",
      "skin_sun_exposed_lower_leg\n",
      "small_intestine_terminal_ileum\n",
      "spleen\n",
      "stomach\n",
      "thyroid\n",
      "whole_blood\n"
     ]
    }
   ],
   "source": [
    "message(length(tissue.list), \" tissues\")\n",
    "cat(tissue.list, sep = \"\\n\")"
   ]
  },
  {
   "cell_type": "code",
   "execution_count": 8,
   "metadata": {},
   "outputs": [],
   "source": [
    "tissue <- tissue.list[tissue_index]  #can be replaced with a loop or argument to choose a different tissue"
   ]
  },
  {
   "cell_type": "code",
   "execution_count": 9,
   "metadata": {},
   "outputs": [
    {
     "data": {
      "text/html": [
       "'breast_mammary_tissue'"
      ],
      "text/latex": [
       "'breast\\_mammary\\_tissue'"
      ],
      "text/markdown": [
       "'breast_mammary_tissue'"
      ],
      "text/plain": [
       "[1] \"breast_mammary_tissue\""
      ]
     },
     "metadata": {},
     "output_type": "display_data"
    }
   ],
   "source": [
    "tissue"
   ]
  },
  {
   "cell_type": "markdown",
   "metadata": {},
   "source": [
    "## Pattern for choosing `topTable()` files from `limma`\n",
    "\n",
    "```bash\n",
    "# {as_site_type} + '_' + {tissue} + '_' + suffix_pattern \n",
    "se_skin_not_sun_exposed_suprapubic_AS_model_B_sex_as_events.csv\n",
    "```"
   ]
  },
  {
   "cell_type": "code",
   "execution_count": 10,
   "metadata": {},
   "outputs": [
    {
     "data": {
      "text/html": [
       "'../data/se_breast_mammary_tissue_AS_model_B_sex_as_events.csv'"
      ],
      "text/latex": [
       "'../data/se\\_breast\\_mammary\\_tissue\\_AS\\_model\\_B\\_sex\\_as\\_events.csv'"
      ],
      "text/markdown": [
       "'../data/se_breast_mammary_tissue_AS_model_B_sex_as_events.csv'"
      ],
      "text/plain": [
       "[1] \"../data/se_breast_mammary_tissue_AS_model_B_sex_as_events.csv\""
      ]
     },
     "metadata": {},
     "output_type": "display_data"
    },
    {
     "data": {
      "text/html": [
       "TRUE"
      ],
      "text/latex": [
       "TRUE"
      ],
      "text/markdown": [
       "TRUE"
      ],
      "text/plain": [
       "[1] TRUE"
      ]
     },
     "metadata": {},
     "output_type": "display_data"
    },
    {
     "data": {
      "text/html": [
       "'-rw-r--r-- 1 jovyan users 4688985 Jun 18 16:59 ../data/se_breast_mammary_tissue_AS_model_B_sex_as_events.csv'"
      ],
      "text/latex": [
       "'-rw-r--r-- 1 jovyan users 4688985 Jun 18 16:59 ../data/se\\_breast\\_mammary\\_tissue\\_AS\\_model\\_B\\_sex\\_as\\_events.csv'"
      ],
      "text/markdown": [
       "'-rw-r--r-- 1 jovyan users 4688985 Jun 18 16:59 ../data/se_breast_mammary_tissue_AS_model_B_sex_as_events.csv'"
      ],
      "text/plain": [
       "[1] \"-rw-r--r-- 1 jovyan users 4688985 Jun 18 16:59 ../data/se_breast_mammary_tissue_AS_model_B_sex_as_events.csv\""
      ]
     },
     "metadata": {},
     "output_type": "display_data"
    }
   ],
   "source": [
    "dataDir <- \"../data/\"\n",
    "assetsDir <- \"../assets/\"\n",
    "as_site_type <- \"se\"\n",
    "suffix_pattern <- \"AS_model_B_sex_as_events.csv\"\n",
    "\n",
    "file.with.de.results <- paste0(dataDir, as_site_type, \"_\", tissue, \"_\" , suffix_pattern  )\n",
    "file.with.de.results\n",
    "file.exists(file.with.de.results)\n",
    "system( paste0(\"ls -l \", file.with.de.results), intern = TRUE )"
   ]
  },
  {
   "cell_type": "code",
   "execution_count": 11,
   "metadata": {},
   "outputs": [
    {
     "data": {
      "text/html": [
       "<table>\n",
       "<caption>A data.frame: 2 × 6</caption>\n",
       "<thead>\n",
       "\t<tr><th></th><th scope=col>logFC</th><th scope=col>AveExpr</th><th scope=col>t</th><th scope=col>P.Value</th><th scope=col>adj.P.Val</th><th scope=col>B</th></tr>\n",
       "\t<tr><th></th><th scope=col>&lt;dbl&gt;</th><th scope=col>&lt;dbl&gt;</th><th scope=col>&lt;dbl&gt;</th><th scope=col>&lt;dbl&gt;</th><th scope=col>&lt;dbl&gt;</th><th scope=col>&lt;dbl&gt;</th></tr>\n",
       "</thead>\n",
       "<tbody>\n",
       "\t<tr><th scope=row>XIST-10154</th><td>-6.796072</td><td>1.385720</td><td>-38.73465</td><td>5.301573e-131</td><td>1.523859e-126</td><td>280.9110</td></tr>\n",
       "\t<tr><th scope=row>XIST-10149</th><td>-7.124726</td><td>1.597306</td><td>-38.68238</td><td>7.868530e-131</td><td>1.523859e-126</td><td>280.5225</td></tr>\n",
       "</tbody>\n",
       "</table>\n"
      ],
      "text/latex": [
       "A data.frame: 2 × 6\n",
       "\\begin{tabular}{r|llllll}\n",
       "  & logFC & AveExpr & t & P.Value & adj.P.Val & B\\\\\n",
       "  & <dbl> & <dbl> & <dbl> & <dbl> & <dbl> & <dbl>\\\\\n",
       "\\hline\n",
       "\tXIST-10154 & -6.796072 & 1.385720 & -38.73465 & 5.301573e-131 & 1.523859e-126 & 280.9110\\\\\n",
       "\tXIST-10149 & -7.124726 & 1.597306 & -38.68238 & 7.868530e-131 & 1.523859e-126 & 280.5225\\\\\n",
       "\\end{tabular}\n"
      ],
      "text/markdown": [
       "\n",
       "A data.frame: 2 × 6\n",
       "\n",
       "| <!--/--> | logFC &lt;dbl&gt; | AveExpr &lt;dbl&gt; | t &lt;dbl&gt; | P.Value &lt;dbl&gt; | adj.P.Val &lt;dbl&gt; | B &lt;dbl&gt; |\n",
       "|---|---|---|---|---|---|---|\n",
       "| XIST-10154 | -6.796072 | 1.385720 | -38.73465 | 5.301573e-131 | 1.523859e-126 | 280.9110 |\n",
       "| XIST-10149 | -7.124726 | 1.597306 | -38.68238 | 7.868530e-131 | 1.523859e-126 | 280.5225 |\n",
       "\n"
      ],
      "text/plain": [
       "           logFC     AveExpr  t         P.Value       adj.P.Val     B       \n",
       "XIST-10154 -6.796072 1.385720 -38.73465 5.301573e-131 1.523859e-126 280.9110\n",
       "XIST-10149 -7.124726 1.597306 -38.68238 7.868530e-131 1.523859e-126 280.5225"
      ]
     },
     "metadata": {},
     "output_type": "display_data"
    }
   ],
   "source": [
    "events.table         <- read.table(file.with.de.results, sep = \",\")\n",
    "head(events.table, 2)"
   ]
  },
  {
   "cell_type": "markdown",
   "metadata": {},
   "source": [
    "## Add annotation columns to the topTable dataframe:\n",
    "\n",
    "The feature information is encoded in the topTable dataframe as rownames. The `ID` and `geneSymbol` variables have been combined in the following pattern:\n",
    "\n",
    "```console\n",
    "{geneSymbol}-{ID} \n",
    "```\n",
    "\n",
    "- `ID`: everything **_after_** last occurence of hyphen `-`\n",
    "example: \n",
    "```R\n",
    "stringr::str_replace(\"apples - oranges - bananas\", \"^.+-\", \"\")\n",
    "```\n",
    "\n",
    "```console\n",
    "# output:\n",
    "\n",
    "' bananas'\n",
    "```\n",
    "\n",
    "- `geneSymbol`: everything **_before_** last occurence of `-`\n",
    "example: \n",
    "\n",
    "```R\n",
    "sub('-[^-]*$', '',\"apples - oranges - bananas\")\n",
    "```\n",
    "\n",
    "```console\n",
    "# output:\n",
    "\n",
    "'apples - oranges '\n",
    "```\n",
    "\n",
    "```diff\n",
    "- NOTE: The above solution covers the cases where a hyphen is part of the geneSymbol.\n",
    "```"
   ]
  },
  {
   "cell_type": "code",
   "execution_count": 12,
   "metadata": {},
   "outputs": [
    {
     "data": {
      "text/html": [
       "<style>\n",
       ".list-inline {list-style: none; margin:0; padding: 0}\n",
       ".list-inline>li {display: inline-block}\n",
       ".list-inline>li:not(:last-child)::after {content: \"\\00b7\"; padding: 0 .5ex}\n",
       "</style>\n",
       "<ol class=list-inline><li>'logFC'</li><li>'AveExpr'</li><li>'t'</li><li>'P.Value'</li><li>'adj.P.Val'</li><li>'B'</li></ol>\n"
      ],
      "text/latex": [
       "\\begin{enumerate*}\n",
       "\\item 'logFC'\n",
       "\\item 'AveExpr'\n",
       "\\item 't'\n",
       "\\item 'P.Value'\n",
       "\\item 'adj.P.Val'\n",
       "\\item 'B'\n",
       "\\end{enumerate*}\n"
      ],
      "text/markdown": [
       "1. 'logFC'\n",
       "2. 'AveExpr'\n",
       "3. 't'\n",
       "4. 'P.Value'\n",
       "5. 'adj.P.Val'\n",
       "6. 'B'\n",
       "\n",
       "\n"
      ],
      "text/plain": [
       "[1] \"logFC\"     \"AveExpr\"   \"t\"         \"P.Value\"   \"adj.P.Val\" \"B\"        "
      ]
     },
     "metadata": {},
     "output_type": "display_data"
    }
   ],
   "source": [
    "cols_initially <- colnames(events.table)\n",
    "cols_initially"
   ]
  },
  {
   "cell_type": "code",
   "execution_count": 13,
   "metadata": {},
   "outputs": [],
   "source": [
    "events.table[[\"ID\"]] <- stringr::str_replace(rownames(events.table),  \"^.+-\", \"\")\n",
    "events.table[[\"gene_name\"]] <- sub('-[^-]*$', '', rownames(events.table))"
   ]
  },
  {
   "cell_type": "code",
   "execution_count": 14,
   "metadata": {},
   "outputs": [],
   "source": [
    "keepInOrderCols <- c(\"gene_name\", \"ID\", cols_initially)"
   ]
  },
  {
   "cell_type": "code",
   "execution_count": 15,
   "metadata": {},
   "outputs": [],
   "source": [
    "events.table <- events.table[ , keepInOrderCols ]"
   ]
  },
  {
   "cell_type": "code",
   "execution_count": 16,
   "metadata": {},
   "outputs": [
    {
     "data": {
      "text/html": [
       "<table>\n",
       "<caption>A data.frame: 2 × 8</caption>\n",
       "<thead>\n",
       "\t<tr><th></th><th scope=col>gene_name</th><th scope=col>ID</th><th scope=col>logFC</th><th scope=col>AveExpr</th><th scope=col>t</th><th scope=col>P.Value</th><th scope=col>adj.P.Val</th><th scope=col>B</th></tr>\n",
       "\t<tr><th></th><th scope=col>&lt;chr&gt;</th><th scope=col>&lt;chr&gt;</th><th scope=col>&lt;dbl&gt;</th><th scope=col>&lt;dbl&gt;</th><th scope=col>&lt;dbl&gt;</th><th scope=col>&lt;dbl&gt;</th><th scope=col>&lt;dbl&gt;</th><th scope=col>&lt;dbl&gt;</th></tr>\n",
       "</thead>\n",
       "<tbody>\n",
       "\t<tr><th scope=row>RPLP0-28659</th><td>RPLP0</td><td>28659</td><td> 0.02222658</td><td>9.584065</td><td> 0.1354014</td><td>0.8923696</td><td>0.9544973</td><td>-7.100906</td></tr>\n",
       "\t<tr><th scope=row>CD74-25493</th><td>CD74 </td><td>25493</td><td>-0.01277937</td><td>9.839909</td><td>-0.1084203</td><td>0.9137222</td><td>0.9639965</td><td>-7.254767</td></tr>\n",
       "</tbody>\n",
       "</table>\n"
      ],
      "text/latex": [
       "A data.frame: 2 × 8\n",
       "\\begin{tabular}{r|llllllll}\n",
       "  & gene\\_name & ID & logFC & AveExpr & t & P.Value & adj.P.Val & B\\\\\n",
       "  & <chr> & <chr> & <dbl> & <dbl> & <dbl> & <dbl> & <dbl> & <dbl>\\\\\n",
       "\\hline\n",
       "\tRPLP0-28659 & RPLP0 & 28659 &  0.02222658 & 9.584065 &  0.1354014 & 0.8923696 & 0.9544973 & -7.100906\\\\\n",
       "\tCD74-25493 & CD74  & 25493 & -0.01277937 & 9.839909 & -0.1084203 & 0.9137222 & 0.9639965 & -7.254767\\\\\n",
       "\\end{tabular}\n"
      ],
      "text/markdown": [
       "\n",
       "A data.frame: 2 × 8\n",
       "\n",
       "| <!--/--> | gene_name &lt;chr&gt; | ID &lt;chr&gt; | logFC &lt;dbl&gt; | AveExpr &lt;dbl&gt; | t &lt;dbl&gt; | P.Value &lt;dbl&gt; | adj.P.Val &lt;dbl&gt; | B &lt;dbl&gt; |\n",
       "|---|---|---|---|---|---|---|---|---|\n",
       "| RPLP0-28659 | RPLP0 | 28659 |  0.02222658 | 9.584065 |  0.1354014 | 0.8923696 | 0.9544973 | -7.100906 |\n",
       "| CD74-25493 | CD74  | 25493 | -0.01277937 | 9.839909 | -0.1084203 | 0.9137222 | 0.9639965 | -7.254767 |\n",
       "\n"
      ],
      "text/plain": [
       "            gene_name ID    logFC       AveExpr  t          P.Value   adj.P.Val\n",
       "RPLP0-28659 RPLP0     28659  0.02222658 9.584065  0.1354014 0.8923696 0.9544973\n",
       "CD74-25493  CD74      25493 -0.01277937 9.839909 -0.1084203 0.9137222 0.9639965\n",
       "            B        \n",
       "RPLP0-28659 -7.100906\n",
       "CD74-25493  -7.254767"
      ]
     },
     "metadata": {},
     "output_type": "display_data"
    }
   ],
   "source": [
    "tail(events.table, 2)"
   ]
  },
  {
   "cell_type": "markdown",
   "metadata": {},
   "source": [
    "## Define filepaths of required inputs\n",
    "\n",
    "`file.with.de.results` has been defined above"
   ]
  },
  {
   "cell_type": "code",
   "execution_count": 17,
   "metadata": {},
   "outputs": [
    {
     "data": {
      "text/html": [
       "TRUE"
      ],
      "text/latex": [
       "TRUE"
      ],
      "text/markdown": [
       "TRUE"
      ],
      "text/plain": [
       "[1] TRUE"
      ]
     },
     "metadata": {},
     "output_type": "display_data"
    }
   ],
   "source": [
    "rbp.table.name        <- paste0(assetsDir, \"splice-relevant-genes.txt\")\n",
    "file.exists(rbp.table.name)"
   ]
  },
  {
   "cell_type": "code",
   "execution_count": 18,
   "metadata": {},
   "outputs": [
    {
     "data": {
      "text/html": [
       "TRUE"
      ],
      "text/latex": [
       "TRUE"
      ],
      "text/markdown": [
       "TRUE"
      ],
      "text/plain": [
       "[1] TRUE"
      ]
     },
     "metadata": {},
     "output_type": "display_data"
    }
   ],
   "source": [
    "events.table.name     <- paste0(dataDir, \"fromGTF.SE.txt\")\n",
    "file.exists(events.table.name)"
   ]
  },
  {
   "cell_type": "code",
   "execution_count": 19,
   "metadata": {},
   "outputs": [
    {
     "data": {
      "text/html": [
       "TRUE"
      ],
      "text/latex": [
       "TRUE"
      ],
      "text/markdown": [
       "TRUE"
      ],
      "text/plain": [
       "[1] TRUE"
      ]
     },
     "metadata": {},
     "output_type": "display_data"
    }
   ],
   "source": [
    "inc.counts.file.name  <- paste0(dataDir, \"rmats_final.se.jc.ijc.txt\")\n",
    "file.exists(inc.counts.file.name)"
   ]
  },
  {
   "cell_type": "code",
   "execution_count": 20,
   "metadata": {},
   "outputs": [
    {
     "data": {
      "text/html": [
       "TRUE"
      ],
      "text/latex": [
       "TRUE"
      ],
      "text/markdown": [
       "TRUE"
      ],
      "text/plain": [
       "[1] TRUE"
      ]
     },
     "metadata": {},
     "output_type": "display_data"
    }
   ],
   "source": [
    "skip.counts.file.name <- paste0(dataDir, \"rmats_final.se.jc.sjc.txt\")\n",
    "file.exists(skip.counts.file.name)"
   ]
  },
  {
   "cell_type": "code",
   "execution_count": 21,
   "metadata": {},
   "outputs": [
    {
     "data": {
      "text/html": [
       "TRUE"
      ],
      "text/latex": [
       "TRUE"
      ],
      "text/markdown": [
       "TRUE"
      ],
      "text/plain": [
       "[1] TRUE"
      ]
     },
     "metadata": {},
     "output_type": "display_data"
    }
   ],
   "source": [
    "metadata.file.name    <- paste0(dataDir, \"srr_pdata.csv\")\n",
    "file.exists(metadata.file.name)"
   ]
  },
  {
   "cell_type": "code",
   "execution_count": 22,
   "metadata": {},
   "outputs": [
    {
     "data": {
      "text/html": [
       "TRUE"
      ],
      "text/latex": [
       "TRUE"
      ],
      "text/markdown": [
       "TRUE"
      ],
      "text/plain": [
       "[1] TRUE"
      ]
     },
     "metadata": {},
     "output_type": "display_data"
    }
   ],
   "source": [
    "expression.file.name  <- paste0(dataDir, \"GTEx_Analysis_2017-06-05_v8_RNASeQCv1.1.9_gene_tpm.gct\")\n",
    "file.exists(expression.file.name)"
   ]
  },
  {
   "cell_type": "markdown",
   "metadata": {},
   "source": [
    "## Use the define filepaths to load/read in the tables "
   ]
  },
  {
   "cell_type": "markdown",
   "metadata": {},
   "source": [
    "Load the skip and inclusion count matrices, and the list of RNA binding proteins that are annotated to either:\n",
    "- mRNA splicing, via spliceosome `(GO:0000398)`,\n",
    "- regulation of mRNA splicing, via spliceosome `(GO:0048024)`, or \n",
    "- both. \n",
    "\n",
    "The table has the:\n",
    "- Gene Symbol\n",
    "- the Uniprot ID (`uprot.id`)\n",
    "- the NCBI Gene ID (`gene.id`) and \n",
    "- boolean columns for being \n",
    "  - `S`=mRNA splicing, via spliceosome `(GO:0000398)` and \n",
    "  - `R`=regulation of mRNA splicing, via spliceosome `(GO:0048024)`."
   ]
  },
  {
   "cell_type": "markdown",
   "metadata": {},
   "source": [
    "### Filtering of the `topTable()` object\n",
    "\n",
    "- `abs(events.table$logFC)>=log2(1.5)`\n",
    "- `events.table$adj.P.Val<=0.05`"
   ]
  },
  {
   "cell_type": "code",
   "execution_count": 23,
   "metadata": {},
   "outputs": [
    {
     "data": {
      "text/html": [
       "<style>\n",
       ".list-inline {list-style: none; margin:0; padding: 0}\n",
       ".list-inline>li {display: inline-block}\n",
       ".list-inline>li:not(:last-child)::after {content: \"\\00b7\"; padding: 0 .5ex}\n",
       "</style>\n",
       "<ol class=list-inline><li>38733</li><li>8</li></ol>\n"
      ],
      "text/latex": [
       "\\begin{enumerate*}\n",
       "\\item 38733\n",
       "\\item 8\n",
       "\\end{enumerate*}\n"
      ],
      "text/markdown": [
       "1. 38733\n",
       "2. 8\n",
       "\n",
       "\n"
      ],
      "text/plain": [
       "[1] 38733     8"
      ]
     },
     "metadata": {},
     "output_type": "display_data"
    },
    {
     "data": {
      "text/html": [
       "<style>\n",
       ".list-inline {list-style: none; margin:0; padding: 0}\n",
       ".list-inline>li {display: inline-block}\n",
       ".list-inline>li:not(:last-child)::after {content: \"\\00b7\"; padding: 0 .5ex}\n",
       "</style>\n",
       "<ol class=list-inline><li>3163</li><li>8</li></ol>\n"
      ],
      "text/latex": [
       "\\begin{enumerate*}\n",
       "\\item 3163\n",
       "\\item 8\n",
       "\\end{enumerate*}\n"
      ],
      "text/markdown": [
       "1. 3163\n",
       "2. 8\n",
       "\n",
       "\n"
      ],
      "text/plain": [
       "[1] 3163    8"
      ]
     },
     "metadata": {},
     "output_type": "display_data"
    },
    {
     "data": {
      "text/html": [
       "<table>\n",
       "<caption>A data.frame: 2 × 8</caption>\n",
       "<thead>\n",
       "\t<tr><th></th><th scope=col>gene_name</th><th scope=col>ID</th><th scope=col>logFC</th><th scope=col>AveExpr</th><th scope=col>t</th><th scope=col>P.Value</th><th scope=col>adj.P.Val</th><th scope=col>B</th></tr>\n",
       "\t<tr><th></th><th scope=col>&lt;chr&gt;</th><th scope=col>&lt;chr&gt;</th><th scope=col>&lt;dbl&gt;</th><th scope=col>&lt;dbl&gt;</th><th scope=col>&lt;dbl&gt;</th><th scope=col>&lt;dbl&gt;</th><th scope=col>&lt;dbl&gt;</th><th scope=col>&lt;dbl&gt;</th></tr>\n",
       "</thead>\n",
       "<tbody>\n",
       "\t<tr><th scope=row>XIST-10154</th><td>XIST</td><td>10154</td><td>-6.796072</td><td>1.385720</td><td>-38.73465</td><td>5.301573e-131</td><td>1.523859e-126</td><td>280.9110</td></tr>\n",
       "\t<tr><th scope=row>XIST-10149</th><td>XIST</td><td>10149</td><td>-7.124726</td><td>1.597306</td><td>-38.68238</td><td>7.868530e-131</td><td>1.523859e-126</td><td>280.5225</td></tr>\n",
       "</tbody>\n",
       "</table>\n"
      ],
      "text/latex": [
       "A data.frame: 2 × 8\n",
       "\\begin{tabular}{r|llllllll}\n",
       "  & gene\\_name & ID & logFC & AveExpr & t & P.Value & adj.P.Val & B\\\\\n",
       "  & <chr> & <chr> & <dbl> & <dbl> & <dbl> & <dbl> & <dbl> & <dbl>\\\\\n",
       "\\hline\n",
       "\tXIST-10154 & XIST & 10154 & -6.796072 & 1.385720 & -38.73465 & 5.301573e-131 & 1.523859e-126 & 280.9110\\\\\n",
       "\tXIST-10149 & XIST & 10149 & -7.124726 & 1.597306 & -38.68238 & 7.868530e-131 & 1.523859e-126 & 280.5225\\\\\n",
       "\\end{tabular}\n"
      ],
      "text/markdown": [
       "\n",
       "A data.frame: 2 × 8\n",
       "\n",
       "| <!--/--> | gene_name &lt;chr&gt; | ID &lt;chr&gt; | logFC &lt;dbl&gt; | AveExpr &lt;dbl&gt; | t &lt;dbl&gt; | P.Value &lt;dbl&gt; | adj.P.Val &lt;dbl&gt; | B &lt;dbl&gt; |\n",
       "|---|---|---|---|---|---|---|---|---|\n",
       "| XIST-10154 | XIST | 10154 | -6.796072 | 1.385720 | -38.73465 | 5.301573e-131 | 1.523859e-126 | 280.9110 |\n",
       "| XIST-10149 | XIST | 10149 | -7.124726 | 1.597306 | -38.68238 | 7.868530e-131 | 1.523859e-126 | 280.5225 |\n",
       "\n"
      ],
      "text/plain": [
       "           gene_name ID    logFC     AveExpr  t         P.Value      \n",
       "XIST-10154 XIST      10154 -6.796072 1.385720 -38.73465 5.301573e-131\n",
       "XIST-10149 XIST      10149 -7.124726 1.597306 -38.68238 7.868530e-131\n",
       "           adj.P.Val     B       \n",
       "XIST-10154 1.523859e-126 280.9110\n",
       "XIST-10149 1.523859e-126 280.5225"
      ]
     },
     "metadata": {},
     "output_type": "display_data"
    }
   ],
   "source": [
    "dim(events.table)\n",
    "events.table <- events.table[abs(events.table$logFC)>=log2(1.5) & events.table$adj.P.Val<=0.05,]\n",
    "dim(events.table)\n",
    "head(events.table,2)"
   ]
  },
  {
   "cell_type": "markdown",
   "metadata": {},
   "source": [
    "Make sure this command has been executed before `gunzip sbas/data/fromGTF.*` as the files are expected uncompressed.\n"
   ]
  },
  {
   "cell_type": "code",
   "execution_count": 24,
   "metadata": {},
   "outputs": [
    {
     "data": {
      "text/html": [
       "<style>\n",
       ".list-inline {list-style: none; margin:0; padding: 0}\n",
       ".list-inline>li {display: inline-block}\n",
       ".list-inline>li:not(:last-child)::after {content: \"\\00b7\"; padding: 0 .5ex}\n",
       "</style>\n",
       "<ol class=list-inline><li>42611</li><li>11</li></ol>\n"
      ],
      "text/latex": [
       "\\begin{enumerate*}\n",
       "\\item 42611\n",
       "\\item 11\n",
       "\\end{enumerate*}\n"
      ],
      "text/markdown": [
       "1. 42611\n",
       "2. 11\n",
       "\n",
       "\n"
      ],
      "text/plain": [
       "[1] 42611    11"
      ]
     },
     "metadata": {},
     "output_type": "display_data"
    },
    {
     "data": {
      "text/html": [
       "<table>\n",
       "<caption>A data.frame: 1 × 11</caption>\n",
       "<thead>\n",
       "\t<tr><th></th><th scope=col>ID</th><th scope=col>GeneID</th><th scope=col>geneSymbol</th><th scope=col>chr</th><th scope=col>strand</th><th scope=col>exonStart_0base</th><th scope=col>exonEnd</th><th scope=col>upstreamES</th><th scope=col>upstreamEE</th><th scope=col>downstreamES</th><th scope=col>downstreamEE</th></tr>\n",
       "\t<tr><th></th><th scope=col>&lt;int&gt;</th><th scope=col>&lt;fct&gt;</th><th scope=col>&lt;fct&gt;</th><th scope=col>&lt;fct&gt;</th><th scope=col>&lt;fct&gt;</th><th scope=col>&lt;int&gt;</th><th scope=col>&lt;int&gt;</th><th scope=col>&lt;int&gt;</th><th scope=col>&lt;int&gt;</th><th scope=col>&lt;int&gt;</th><th scope=col>&lt;int&gt;</th></tr>\n",
       "</thead>\n",
       "<tbody>\n",
       "\t<tr><th scope=row>1</th><td>1</td><td>ENSG00000034152.18</td><td>MAP2K3</td><td>chr17</td><td>+</td><td>21287990</td><td>21288091</td><td>21284709</td><td>21284969</td><td>21295674</td><td>21295769</td></tr>\n",
       "</tbody>\n",
       "</table>\n"
      ],
      "text/latex": [
       "A data.frame: 1 × 11\n",
       "\\begin{tabular}{r|lllllllllll}\n",
       "  & ID & GeneID & geneSymbol & chr & strand & exonStart\\_0base & exonEnd & upstreamES & upstreamEE & downstreamES & downstreamEE\\\\\n",
       "  & <int> & <fct> & <fct> & <fct> & <fct> & <int> & <int> & <int> & <int> & <int> & <int>\\\\\n",
       "\\hline\n",
       "\t1 & 1 & ENSG00000034152.18 & MAP2K3 & chr17 & + & 21287990 & 21288091 & 21284709 & 21284969 & 21295674 & 21295769\\\\\n",
       "\\end{tabular}\n"
      ],
      "text/markdown": [
       "\n",
       "A data.frame: 1 × 11\n",
       "\n",
       "| <!--/--> | ID &lt;int&gt; | GeneID &lt;fct&gt; | geneSymbol &lt;fct&gt; | chr &lt;fct&gt; | strand &lt;fct&gt; | exonStart_0base &lt;int&gt; | exonEnd &lt;int&gt; | upstreamES &lt;int&gt; | upstreamEE &lt;int&gt; | downstreamES &lt;int&gt; | downstreamEE &lt;int&gt; |\n",
       "|---|---|---|---|---|---|---|---|---|---|---|---|\n",
       "| 1 | 1 | ENSG00000034152.18 | MAP2K3 | chr17 | + | 21287990 | 21288091 | 21284709 | 21284969 | 21295674 | 21295769 |\n",
       "\n"
      ],
      "text/plain": [
       "  ID GeneID             geneSymbol chr   strand exonStart_0base exonEnd \n",
       "1 1  ENSG00000034152.18 MAP2K3     chr17 +      21287990        21288091\n",
       "  upstreamES upstreamEE downstreamES downstreamEE\n",
       "1 21284709   21284969   21295674     21295769    "
      ]
     },
     "metadata": {},
     "output_type": "display_data"
    }
   ],
   "source": [
    "annot.table  <- read.table(events.table.name,header=T)\n",
    "dim(annot.table)\n",
    "head(annot.table, 1)"
   ]
  },
  {
   "cell_type": "code",
   "execution_count": 25,
   "metadata": {},
   "outputs": [],
   "source": [
    "merged.table <- merge(events.table, annot.table, by=\"ID\")"
   ]
  },
  {
   "cell_type": "code",
   "execution_count": 26,
   "metadata": {},
   "outputs": [
    {
     "data": {
      "text/html": [
       "<style>\n",
       ".list-inline {list-style: none; margin:0; padding: 0}\n",
       ".list-inline>li {display: inline-block}\n",
       ".list-inline>li:not(:last-child)::after {content: \"\\00b7\"; padding: 0 .5ex}\n",
       "</style>\n",
       "<ol class=list-inline><li>3163</li><li>18</li></ol>\n"
      ],
      "text/latex": [
       "\\begin{enumerate*}\n",
       "\\item 3163\n",
       "\\item 18\n",
       "\\end{enumerate*}\n"
      ],
      "text/markdown": [
       "1. 3163\n",
       "2. 18\n",
       "\n",
       "\n"
      ],
      "text/plain": [
       "[1] 3163   18"
      ]
     },
     "metadata": {},
     "output_type": "display_data"
    },
    {
     "data": {
      "text/html": [
       "<table>\n",
       "<caption>A data.frame: 2 × 18</caption>\n",
       "<thead>\n",
       "\t<tr><th></th><th scope=col>ID</th><th scope=col>gene_name</th><th scope=col>logFC</th><th scope=col>AveExpr</th><th scope=col>t</th><th scope=col>P.Value</th><th scope=col>adj.P.Val</th><th scope=col>B</th><th scope=col>GeneID</th><th scope=col>geneSymbol</th><th scope=col>chr</th><th scope=col>strand</th><th scope=col>exonStart_0base</th><th scope=col>exonEnd</th><th scope=col>upstreamES</th><th scope=col>upstreamEE</th><th scope=col>downstreamES</th><th scope=col>downstreamEE</th></tr>\n",
       "\t<tr><th></th><th scope=col>&lt;chr&gt;</th><th scope=col>&lt;chr&gt;</th><th scope=col>&lt;dbl&gt;</th><th scope=col>&lt;dbl&gt;</th><th scope=col>&lt;dbl&gt;</th><th scope=col>&lt;dbl&gt;</th><th scope=col>&lt;dbl&gt;</th><th scope=col>&lt;dbl&gt;</th><th scope=col>&lt;fct&gt;</th><th scope=col>&lt;fct&gt;</th><th scope=col>&lt;fct&gt;</th><th scope=col>&lt;fct&gt;</th><th scope=col>&lt;int&gt;</th><th scope=col>&lt;int&gt;</th><th scope=col>&lt;int&gt;</th><th scope=col>&lt;int&gt;</th><th scope=col>&lt;int&gt;</th><th scope=col>&lt;int&gt;</th></tr>\n",
       "</thead>\n",
       "<tbody>\n",
       "\t<tr><th scope=row>1</th><td>10012</td><td>RBM4B</td><td> 0.8450169</td><td>1.183428</td><td> 6.352709</td><td>6.335981e-10</td><td>4.076604e-08</td><td>12.144677</td><td>ENSG00000173914.12</td><td>RBM4B</td><td>chr11</td><td>-</td><td>66670935</td><td>66670983</td><td>66668970</td><td>66669291</td><td>66676667</td><td>66677091</td></tr>\n",
       "\t<tr><th scope=row>2</th><td>10013</td><td>RBM4B</td><td>-0.7621263</td><td>1.752806</td><td>-4.689350</td><td>3.885523e-06</td><td>9.641124e-05</td><td> 3.795546</td><td>ENSG00000173914.12</td><td>RBM4B</td><td>chr11</td><td>-</td><td>66668614</td><td>66669291</td><td>66664997</td><td>66665578</td><td>66676667</td><td>66677091</td></tr>\n",
       "</tbody>\n",
       "</table>\n"
      ],
      "text/latex": [
       "A data.frame: 2 × 18\n",
       "\\begin{tabular}{r|llllllllllllllllll}\n",
       "  & ID & gene\\_name & logFC & AveExpr & t & P.Value & adj.P.Val & B & GeneID & geneSymbol & chr & strand & exonStart\\_0base & exonEnd & upstreamES & upstreamEE & downstreamES & downstreamEE\\\\\n",
       "  & <chr> & <chr> & <dbl> & <dbl> & <dbl> & <dbl> & <dbl> & <dbl> & <fct> & <fct> & <fct> & <fct> & <int> & <int> & <int> & <int> & <int> & <int>\\\\\n",
       "\\hline\n",
       "\t1 & 10012 & RBM4B &  0.8450169 & 1.183428 &  6.352709 & 6.335981e-10 & 4.076604e-08 & 12.144677 & ENSG00000173914.12 & RBM4B & chr11 & - & 66670935 & 66670983 & 66668970 & 66669291 & 66676667 & 66677091\\\\\n",
       "\t2 & 10013 & RBM4B & -0.7621263 & 1.752806 & -4.689350 & 3.885523e-06 & 9.641124e-05 &  3.795546 & ENSG00000173914.12 & RBM4B & chr11 & - & 66668614 & 66669291 & 66664997 & 66665578 & 66676667 & 66677091\\\\\n",
       "\\end{tabular}\n"
      ],
      "text/markdown": [
       "\n",
       "A data.frame: 2 × 18\n",
       "\n",
       "| <!--/--> | ID &lt;chr&gt; | gene_name &lt;chr&gt; | logFC &lt;dbl&gt; | AveExpr &lt;dbl&gt; | t &lt;dbl&gt; | P.Value &lt;dbl&gt; | adj.P.Val &lt;dbl&gt; | B &lt;dbl&gt; | GeneID &lt;fct&gt; | geneSymbol &lt;fct&gt; | chr &lt;fct&gt; | strand &lt;fct&gt; | exonStart_0base &lt;int&gt; | exonEnd &lt;int&gt; | upstreamES &lt;int&gt; | upstreamEE &lt;int&gt; | downstreamES &lt;int&gt; | downstreamEE &lt;int&gt; |\n",
       "|---|---|---|---|---|---|---|---|---|---|---|---|---|---|---|---|---|---|---|\n",
       "| 1 | 10012 | RBM4B |  0.8450169 | 1.183428 |  6.352709 | 6.335981e-10 | 4.076604e-08 | 12.144677 | ENSG00000173914.12 | RBM4B | chr11 | - | 66670935 | 66670983 | 66668970 | 66669291 | 66676667 | 66677091 |\n",
       "| 2 | 10013 | RBM4B | -0.7621263 | 1.752806 | -4.689350 | 3.885523e-06 | 9.641124e-05 |  3.795546 | ENSG00000173914.12 | RBM4B | chr11 | - | 66668614 | 66669291 | 66664997 | 66665578 | 66676667 | 66677091 |\n",
       "\n"
      ],
      "text/plain": [
       "  ID    gene_name logFC      AveExpr  t         P.Value      adj.P.Val   \n",
       "1 10012 RBM4B      0.8450169 1.183428  6.352709 6.335981e-10 4.076604e-08\n",
       "2 10013 RBM4B     -0.7621263 1.752806 -4.689350 3.885523e-06 9.641124e-05\n",
       "  B         GeneID             geneSymbol chr   strand exonStart_0base exonEnd \n",
       "1 12.144677 ENSG00000173914.12 RBM4B      chr11 -      66670935        66670983\n",
       "2  3.795546 ENSG00000173914.12 RBM4B      chr11 -      66668614        66669291\n",
       "  upstreamES upstreamEE downstreamES downstreamEE\n",
       "1 66668970   66669291   66676667     66677091    \n",
       "2 66664997   66665578   66676667     66677091    "
      ]
     },
     "metadata": {},
     "output_type": "display_data"
    }
   ],
   "source": [
    "dim(merged.table)\n",
    "head(merged.table, 2)"
   ]
  },
  {
   "cell_type": "code",
   "execution_count": 27,
   "metadata": {},
   "outputs": [
    {
     "data": {
      "text/html": [
       "<style>\n",
       ".list-inline {list-style: none; margin:0; padding: 0}\n",
       ".list-inline>li {display: inline-block}\n",
       ".list-inline>li:not(:last-child)::after {content: \"\\00b7\"; padding: 0 .5ex}\n",
       "</style>\n",
       "<ol class=list-inline><li>351</li><li>6</li></ol>\n"
      ],
      "text/latex": [
       "\\begin{enumerate*}\n",
       "\\item 351\n",
       "\\item 6\n",
       "\\end{enumerate*}\n"
      ],
      "text/markdown": [
       "1. 351\n",
       "2. 6\n",
       "\n",
       "\n"
      ],
      "text/plain": [
       "[1] 351   6"
      ]
     },
     "metadata": {},
     "output_type": "display_data"
    },
    {
     "data": {
      "text/html": [
       "<table>\n",
       "<caption>A data.frame: 1 × 6</caption>\n",
       "<thead>\n",
       "\t<tr><th></th><th scope=col>Gene</th><th scope=col>uprot.id</th><th scope=col>gene.id</th><th scope=col>S</th><th scope=col>R</th><th scope=col>omim</th></tr>\n",
       "\t<tr><th></th><th scope=col>&lt;fct&gt;</th><th scope=col>&lt;fct&gt;</th><th scope=col>&lt;int&gt;</th><th scope=col>&lt;lgl&gt;</th><th scope=col>&lt;lgl&gt;</th><th scope=col>&lt;fct&gt;</th></tr>\n",
       "</thead>\n",
       "<tbody>\n",
       "\t<tr><th scope=row>1</th><td>AAR2</td><td>Q9Y312</td><td>25980</td><td>TRUE</td><td>FALSE</td><td>n/a</td></tr>\n",
       "</tbody>\n",
       "</table>\n"
      ],
      "text/latex": [
       "A data.frame: 1 × 6\n",
       "\\begin{tabular}{r|llllll}\n",
       "  & Gene & uprot.id & gene.id & S & R & omim\\\\\n",
       "  & <fct> & <fct> & <int> & <lgl> & <lgl> & <fct>\\\\\n",
       "\\hline\n",
       "\t1 & AAR2 & Q9Y312 & 25980 & TRUE & FALSE & n/a\\\\\n",
       "\\end{tabular}\n"
      ],
      "text/markdown": [
       "\n",
       "A data.frame: 1 × 6\n",
       "\n",
       "| <!--/--> | Gene &lt;fct&gt; | uprot.id &lt;fct&gt; | gene.id &lt;int&gt; | S &lt;lgl&gt; | R &lt;lgl&gt; | omim &lt;fct&gt; |\n",
       "|---|---|---|---|---|---|---|\n",
       "| 1 | AAR2 | Q9Y312 | 25980 | TRUE | FALSE | n/a |\n",
       "\n"
      ],
      "text/plain": [
       "  Gene uprot.id gene.id S    R     omim\n",
       "1 AAR2 Q9Y312   25980   TRUE FALSE n/a "
      ]
     },
     "metadata": {},
     "output_type": "display_data"
    }
   ],
   "source": [
    "rbp.table    <- read.table(rbp.table.name,sep=\"\\t\",header=TRUE)\n",
    "dim(rbp.table)\n",
    "head(rbp.table, 1)"
   ]
  },
  {
   "cell_type": "markdown",
   "metadata": {},
   "source": [
    "Make sure this command has been executed before `gunzip sbas/data/rmats_final.se.jc.*jc.*` as the files are expected uncompressed.\n"
   ]
  },
  {
   "cell_type": "code",
   "execution_count": 28,
   "metadata": {},
   "outputs": [
    {
     "data": {
      "text/html": [
       "<style>\n",
       ".list-inline {list-style: none; margin:0; padding: 0}\n",
       ".list-inline>li {display: inline-block}\n",
       ".list-inline>li:not(:last-child)::after {content: \"\\00b7\"; padding: 0 .5ex}\n",
       "</style>\n",
       "<ol class=list-inline><li>42611</li><li>8674</li></ol>\n"
      ],
      "text/latex": [
       "\\begin{enumerate*}\n",
       "\\item 42611\n",
       "\\item 8674\n",
       "\\end{enumerate*}\n"
      ],
      "text/markdown": [
       "1. 42611\n",
       "2. 8674\n",
       "\n",
       "\n"
      ],
      "text/plain": [
       "[1] 42611  8674"
      ]
     },
     "metadata": {},
     "output_type": "display_data"
    },
    {
     "data": {
      "text/html": [
       "<table>\n",
       "<caption>A data.frame: 2 × 3</caption>\n",
       "<thead>\n",
       "\t<tr><th></th><th scope=col>ID</th><th scope=col>SRR1068788</th><th scope=col>SRR1068808</th></tr>\n",
       "\t<tr><th></th><th scope=col>&lt;int&gt;</th><th scope=col>&lt;int&gt;</th><th scope=col>&lt;int&gt;</th></tr>\n",
       "</thead>\n",
       "<tbody>\n",
       "\t<tr><th scope=row>1</th><td>1</td><td> 0</td><td>  0</td></tr>\n",
       "\t<tr><th scope=row>2</th><td>2</td><td>26</td><td>247</td></tr>\n",
       "</tbody>\n",
       "</table>\n"
      ],
      "text/latex": [
       "A data.frame: 2 × 3\n",
       "\\begin{tabular}{r|lll}\n",
       "  & ID & SRR1068788 & SRR1068808\\\\\n",
       "  & <int> & <int> & <int>\\\\\n",
       "\\hline\n",
       "\t1 & 1 &  0 &   0\\\\\n",
       "\t2 & 2 & 26 & 247\\\\\n",
       "\\end{tabular}\n"
      ],
      "text/markdown": [
       "\n",
       "A data.frame: 2 × 3\n",
       "\n",
       "| <!--/--> | ID &lt;int&gt; | SRR1068788 &lt;int&gt; | SRR1068808 &lt;int&gt; |\n",
       "|---|---|---|---|\n",
       "| 1 | 1 |  0 |   0 |\n",
       "| 2 | 2 | 26 | 247 |\n",
       "\n"
      ],
      "text/plain": [
       "  ID SRR1068788 SRR1068808\n",
       "1 1   0           0       \n",
       "2 2  26         247       "
      ]
     },
     "metadata": {},
     "output_type": "display_data"
    }
   ],
   "source": [
    "inc.counts   <- as.data.frame(data.table::fread(inc.counts.file.name))\n",
    "dim(inc.counts)\n",
    "inc.counts[1:2,1:3]"
   ]
  },
  {
   "cell_type": "code",
   "execution_count": 29,
   "metadata": {},
   "outputs": [
    {
     "data": {
      "text/html": [
       "<style>\n",
       ".list-inline {list-style: none; margin:0; padding: 0}\n",
       ".list-inline>li {display: inline-block}\n",
       ".list-inline>li:not(:last-child)::after {content: \"\\00b7\"; padding: 0 .5ex}\n",
       "</style>\n",
       "<ol class=list-inline><li>42611</li><li>8674</li></ol>\n"
      ],
      "text/latex": [
       "\\begin{enumerate*}\n",
       "\\item 42611\n",
       "\\item 8674\n",
       "\\end{enumerate*}\n"
      ],
      "text/markdown": [
       "1. 42611\n",
       "2. 8674\n",
       "\n",
       "\n"
      ],
      "text/plain": [
       "[1] 42611  8674"
      ]
     },
     "metadata": {},
     "output_type": "display_data"
    },
    {
     "data": {
      "text/html": [
       "<table>\n",
       "<caption>A data.frame: 2 × 3</caption>\n",
       "<thead>\n",
       "\t<tr><th></th><th scope=col>ID</th><th scope=col>SRR1068788</th><th scope=col>SRR1068808</th></tr>\n",
       "\t<tr><th></th><th scope=col>&lt;int&gt;</th><th scope=col>&lt;int&gt;</th><th scope=col>&lt;int&gt;</th></tr>\n",
       "</thead>\n",
       "<tbody>\n",
       "\t<tr><th scope=row>1</th><td>1</td><td>2</td><td>0</td></tr>\n",
       "\t<tr><th scope=row>2</th><td>2</td><td>0</td><td>0</td></tr>\n",
       "</tbody>\n",
       "</table>\n"
      ],
      "text/latex": [
       "A data.frame: 2 × 3\n",
       "\\begin{tabular}{r|lll}\n",
       "  & ID & SRR1068788 & SRR1068808\\\\\n",
       "  & <int> & <int> & <int>\\\\\n",
       "\\hline\n",
       "\t1 & 1 & 2 & 0\\\\\n",
       "\t2 & 2 & 0 & 0\\\\\n",
       "\\end{tabular}\n"
      ],
      "text/markdown": [
       "\n",
       "A data.frame: 2 × 3\n",
       "\n",
       "| <!--/--> | ID &lt;int&gt; | SRR1068788 &lt;int&gt; | SRR1068808 &lt;int&gt; |\n",
       "|---|---|---|---|\n",
       "| 1 | 1 | 2 | 0 |\n",
       "| 2 | 2 | 0 | 0 |\n",
       "\n"
      ],
      "text/plain": [
       "  ID SRR1068788 SRR1068808\n",
       "1 1  2          0         \n",
       "2 2  0          0         "
      ]
     },
     "metadata": {},
     "output_type": "display_data"
    }
   ],
   "source": [
    "skip.counts  <- as.data.frame(data.table::fread(skip.counts.file.name))\n",
    "dim(skip.counts)\n",
    "skip.counts[1:2,1:3]"
   ]
  },
  {
   "cell_type": "markdown",
   "metadata": {},
   "source": [
    "## Check `dim()` of loaded objects"
   ]
  },
  {
   "cell_type": "code",
   "execution_count": 30,
   "metadata": {},
   "outputs": [
    {
     "data": {
      "text/html": [
       "<style>\n",
       ".list-inline {list-style: none; margin:0; padding: 0}\n",
       ".list-inline>li {display: inline-block}\n",
       ".list-inline>li:not(:last-child)::after {content: \"\\00b7\"; padding: 0 .5ex}\n",
       "</style>\n",
       "<ol class=list-inline><li>3163</li><li>8</li></ol>\n"
      ],
      "text/latex": [
       "\\begin{enumerate*}\n",
       "\\item 3163\n",
       "\\item 8\n",
       "\\end{enumerate*}\n"
      ],
      "text/markdown": [
       "1. 3163\n",
       "2. 8\n",
       "\n",
       "\n"
      ],
      "text/plain": [
       "[1] 3163    8"
      ]
     },
     "metadata": {},
     "output_type": "display_data"
    },
    {
     "data": {
      "text/html": [
       "<style>\n",
       ".list-inline {list-style: none; margin:0; padding: 0}\n",
       ".list-inline>li {display: inline-block}\n",
       ".list-inline>li:not(:last-child)::after {content: \"\\00b7\"; padding: 0 .5ex}\n",
       "</style>\n",
       "<ol class=list-inline><li>42611</li><li>11</li></ol>\n"
      ],
      "text/latex": [
       "\\begin{enumerate*}\n",
       "\\item 42611\n",
       "\\item 11\n",
       "\\end{enumerate*}\n"
      ],
      "text/markdown": [
       "1. 42611\n",
       "2. 11\n",
       "\n",
       "\n"
      ],
      "text/plain": [
       "[1] 42611    11"
      ]
     },
     "metadata": {},
     "output_type": "display_data"
    },
    {
     "data": {
      "text/html": [
       "<style>\n",
       ".list-inline {list-style: none; margin:0; padding: 0}\n",
       ".list-inline>li {display: inline-block}\n",
       ".list-inline>li:not(:last-child)::after {content: \"\\00b7\"; padding: 0 .5ex}\n",
       "</style>\n",
       "<ol class=list-inline><li>3163</li><li>18</li></ol>\n"
      ],
      "text/latex": [
       "\\begin{enumerate*}\n",
       "\\item 3163\n",
       "\\item 18\n",
       "\\end{enumerate*}\n"
      ],
      "text/markdown": [
       "1. 3163\n",
       "2. 18\n",
       "\n",
       "\n"
      ],
      "text/plain": [
       "[1] 3163   18"
      ]
     },
     "metadata": {},
     "output_type": "display_data"
    },
    {
     "data": {
      "text/html": [
       "<style>\n",
       ".list-inline {list-style: none; margin:0; padding: 0}\n",
       ".list-inline>li {display: inline-block}\n",
       ".list-inline>li:not(:last-child)::after {content: \"\\00b7\"; padding: 0 .5ex}\n",
       "</style>\n",
       "<ol class=list-inline><li>351</li><li>6</li></ol>\n"
      ],
      "text/latex": [
       "\\begin{enumerate*}\n",
       "\\item 351\n",
       "\\item 6\n",
       "\\end{enumerate*}\n"
      ],
      "text/markdown": [
       "1. 351\n",
       "2. 6\n",
       "\n",
       "\n"
      ],
      "text/plain": [
       "[1] 351   6"
      ]
     },
     "metadata": {},
     "output_type": "display_data"
    },
    {
     "data": {
      "text/html": [
       "<style>\n",
       ".list-inline {list-style: none; margin:0; padding: 0}\n",
       ".list-inline>li {display: inline-block}\n",
       ".list-inline>li:not(:last-child)::after {content: \"\\00b7\"; padding: 0 .5ex}\n",
       "</style>\n",
       "<ol class=list-inline><li>42611</li><li>8674</li></ol>\n"
      ],
      "text/latex": [
       "\\begin{enumerate*}\n",
       "\\item 42611\n",
       "\\item 8674\n",
       "\\end{enumerate*}\n"
      ],
      "text/markdown": [
       "1. 42611\n",
       "2. 8674\n",
       "\n",
       "\n"
      ],
      "text/plain": [
       "[1] 42611  8674"
      ]
     },
     "metadata": {},
     "output_type": "display_data"
    },
    {
     "data": {
      "text/html": [
       "<style>\n",
       ".list-inline {list-style: none; margin:0; padding: 0}\n",
       ".list-inline>li {display: inline-block}\n",
       ".list-inline>li:not(:last-child)::after {content: \"\\00b7\"; padding: 0 .5ex}\n",
       "</style>\n",
       "<ol class=list-inline><li>42611</li><li>8674</li></ol>\n"
      ],
      "text/latex": [
       "\\begin{enumerate*}\n",
       "\\item 42611\n",
       "\\item 8674\n",
       "\\end{enumerate*}\n"
      ],
      "text/markdown": [
       "1. 42611\n",
       "2. 8674\n",
       "\n",
       "\n"
      ],
      "text/plain": [
       "[1] 42611  8674"
      ]
     },
     "metadata": {},
     "output_type": "display_data"
    }
   ],
   "source": [
    "dim(events.table)\n",
    "dim(annot.table)\n",
    "dim(merged.table)\n",
    "dim(rbp.table)\n",
    "dim(inc.counts)\n",
    "dim(skip.counts)"
   ]
  },
  {
   "cell_type": "markdown",
   "metadata": {},
   "source": [
    "## Read sample info"
   ]
  },
  {
   "cell_type": "code",
   "execution_count": 31,
   "metadata": {},
   "outputs": [
    {
     "data": {
      "text/html": [
       "'../data/srr_pdata.csv'"
      ],
      "text/latex": [
       "'../data/srr\\_pdata.csv'"
      ],
      "text/markdown": [
       "'../data/srr_pdata.csv'"
      ],
      "text/plain": [
       "[1] \"../data/srr_pdata.csv\""
      ]
     },
     "metadata": {},
     "output_type": "display_data"
    },
    {
     "data": {
      "text/html": [
       "TRUE"
      ],
      "text/latex": [
       "TRUE"
      ],
      "text/markdown": [
       "TRUE"
      ],
      "text/plain": [
       "[1] TRUE"
      ]
     },
     "metadata": {},
     "output_type": "display_data"
    },
    {
     "data": {
      "text/html": [
       "'-rw-r--r-- 1 jovyan users 4230047 Jun 17 12:00 ../data/srr_pdata.csv'"
      ],
      "text/latex": [
       "'-rw-r--r-- 1 jovyan users 4230047 Jun 17 12:00 ../data/srr\\_pdata.csv'"
      ],
      "text/markdown": [
       "'-rw-r--r-- 1 jovyan users 4230047 Jun 17 12:00 ../data/srr_pdata.csv'"
      ],
      "text/plain": [
       "[1] \"-rw-r--r-- 1 jovyan users 4230047 Jun 17 12:00 ../data/srr_pdata.csv\""
      ]
     },
     "metadata": {},
     "output_type": "display_data"
    }
   ],
   "source": [
    "metadata.file.name\n",
    "file.exists(metadata.file.name)\n",
    "system(paste0(\"ls -l\", \" ../data/srr_pdata.csv\"), intern = TRUE)"
   ]
  },
  {
   "cell_type": "code",
   "execution_count": 32,
   "metadata": {},
   "outputs": [
    {
     "name": "stderr",
     "output_type": "stream",
     "text": [
      "Parsed with column specification:\n",
      "cols(\n",
      "  .default = col_double(),\n",
      "  SAMPID = \u001b[31mcol_character()\u001b[39m,\n",
      "  SMATSSCR = \u001b[31mcol_character()\u001b[39m,\n",
      "  SMCENTER = \u001b[31mcol_character()\u001b[39m,\n",
      "  SMPTHNTS = \u001b[31mcol_character()\u001b[39m,\n",
      "  SMTS = \u001b[31mcol_character()\u001b[39m,\n",
      "  SMTSD = \u001b[31mcol_character()\u001b[39m,\n",
      "  SMUBRID = \u001b[31mcol_character()\u001b[39m,\n",
      "  SMNABTCH = \u001b[31mcol_character()\u001b[39m,\n",
      "  SMNABTCHT = \u001b[31mcol_character()\u001b[39m,\n",
      "  SMNABTCHD = \u001b[31mcol_character()\u001b[39m,\n",
      "  SMGEBTCH = \u001b[31mcol_character()\u001b[39m,\n",
      "  SMGEBTCHD = \u001b[31mcol_character()\u001b[39m,\n",
      "  SMGEBTCHT = \u001b[31mcol_character()\u001b[39m,\n",
      "  SMAFRZE = \u001b[31mcol_character()\u001b[39m,\n",
      "  SMGTC = \u001b[33mcol_logical()\u001b[39m,\n",
      "  SMNUMGPS = \u001b[33mcol_logical()\u001b[39m,\n",
      "  SM550NRM = \u001b[33mcol_logical()\u001b[39m,\n",
      "  SM350NRM = \u001b[33mcol_logical()\u001b[39m,\n",
      "  SMMNCPB = \u001b[33mcol_logical()\u001b[39m,\n",
      "  SMMNCV = \u001b[33mcol_logical()\u001b[39m\n",
      "  # ... with 6 more columns\n",
      ")\n",
      "\n",
      "See spec(...) for full column specifications.\n",
      "\n"
     ]
    },
    {
     "data": {
      "text/html": [
       "<style>\n",
       ".list-inline {list-style: none; margin:0; padding: 0}\n",
       ".list-inline>li {display: inline-block}\n",
       ".list-inline>li:not(:last-child)::after {content: \"\\00b7\"; padding: 0 .5ex}\n",
       "</style>\n",
       "<ol class=list-inline><li>7872</li><li>68</li></ol>\n"
      ],
      "text/latex": [
       "\\begin{enumerate*}\n",
       "\\item 7872\n",
       "\\item 68\n",
       "\\end{enumerate*}\n"
      ],
      "text/markdown": [
       "1. 7872\n",
       "2. 68\n",
       "\n",
       "\n"
      ],
      "text/plain": [
       "[1] 7872   68"
      ]
     },
     "metadata": {},
     "output_type": "display_data"
    },
    {
     "data": {
      "text/html": [
       "<table>\n",
       "<caption>A tibble: 1 × 68</caption>\n",
       "<thead>\n",
       "\t<tr><th scope=col>SAMPID</th><th scope=col>SMATSSCR</th><th scope=col>SMCENTER</th><th scope=col>SMPTHNTS</th><th scope=col>SMRIN</th><th scope=col>SMTS</th><th scope=col>SMTSD</th><th scope=col>SMUBRID</th><th scope=col>SMTSISCH</th><th scope=col>SMTSPAX</th><th scope=col>⋯</th><th scope=col>SMRRNART</th><th scope=col>SME1MPRT</th><th scope=col>SMNUM5CD</th><th scope=col>SMDPMPRT</th><th scope=col>SME2PCTS</th><th scope=col>SUBJID</th><th scope=col>SEX</th><th scope=col>AGE</th><th scope=col>DTHHRDY</th><th scope=col>SRR</th></tr>\n",
       "\t<tr><th scope=col>&lt;chr&gt;</th><th scope=col>&lt;chr&gt;</th><th scope=col>&lt;chr&gt;</th><th scope=col>&lt;chr&gt;</th><th scope=col>&lt;dbl&gt;</th><th scope=col>&lt;chr&gt;</th><th scope=col>&lt;chr&gt;</th><th scope=col>&lt;chr&gt;</th><th scope=col>&lt;dbl&gt;</th><th scope=col>&lt;dbl&gt;</th><th scope=col>⋯</th><th scope=col>&lt;dbl&gt;</th><th scope=col>&lt;dbl&gt;</th><th scope=col>&lt;lgl&gt;</th><th scope=col>&lt;dbl&gt;</th><th scope=col>&lt;dbl&gt;</th><th scope=col>&lt;chr&gt;</th><th scope=col>&lt;dbl&gt;</th><th scope=col>&lt;chr&gt;</th><th scope=col>&lt;dbl&gt;</th><th scope=col>&lt;chr&gt;</th></tr>\n",
       "</thead>\n",
       "<tbody>\n",
       "\t<tr><td>GTEX.PW2O.0006.SM.2I3DV</td><td>NA</td><td>B1</td><td>NA</td><td>7.4</td><td>Blood</td><td>Whole Blood</td><td>13756</td><td>-126</td><td>NA</td><td>⋯</td><td>0.00351302</td><td>0.859573</td><td>NA</td><td>0</td><td>50.6829</td><td>GTEX-PW2O</td><td>1</td><td>20-29</td><td>0</td><td>SRR604002</td></tr>\n",
       "</tbody>\n",
       "</table>\n"
      ],
      "text/latex": [
       "A tibble: 1 × 68\n",
       "\\begin{tabular}{lllllllllllllllllllll}\n",
       " SAMPID & SMATSSCR & SMCENTER & SMPTHNTS & SMRIN & SMTS & SMTSD & SMUBRID & SMTSISCH & SMTSPAX & ⋯ & SMRRNART & SME1MPRT & SMNUM5CD & SMDPMPRT & SME2PCTS & SUBJID & SEX & AGE & DTHHRDY & SRR\\\\\n",
       " <chr> & <chr> & <chr> & <chr> & <dbl> & <chr> & <chr> & <chr> & <dbl> & <dbl> & ⋯ & <dbl> & <dbl> & <lgl> & <dbl> & <dbl> & <chr> & <dbl> & <chr> & <dbl> & <chr>\\\\\n",
       "\\hline\n",
       "\t GTEX.PW2O.0006.SM.2I3DV & NA & B1 & NA & 7.4 & Blood & Whole Blood & 13756 & -126 & NA & ⋯ & 0.00351302 & 0.859573 & NA & 0 & 50.6829 & GTEX-PW2O & 1 & 20-29 & 0 & SRR604002\\\\\n",
       "\\end{tabular}\n"
      ],
      "text/markdown": [
       "\n",
       "A tibble: 1 × 68\n",
       "\n",
       "| SAMPID &lt;chr&gt; | SMATSSCR &lt;chr&gt; | SMCENTER &lt;chr&gt; | SMPTHNTS &lt;chr&gt; | SMRIN &lt;dbl&gt; | SMTS &lt;chr&gt; | SMTSD &lt;chr&gt; | SMUBRID &lt;chr&gt; | SMTSISCH &lt;dbl&gt; | SMTSPAX &lt;dbl&gt; | ⋯ ⋯ | SMRRNART &lt;dbl&gt; | SME1MPRT &lt;dbl&gt; | SMNUM5CD &lt;lgl&gt; | SMDPMPRT &lt;dbl&gt; | SME2PCTS &lt;dbl&gt; | SUBJID &lt;chr&gt; | SEX &lt;dbl&gt; | AGE &lt;chr&gt; | DTHHRDY &lt;dbl&gt; | SRR &lt;chr&gt; |\n",
       "|---|---|---|---|---|---|---|---|---|---|---|---|---|---|---|---|---|---|---|---|---|\n",
       "| GTEX.PW2O.0006.SM.2I3DV | NA | B1 | NA | 7.4 | Blood | Whole Blood | 13756 | -126 | NA | ⋯ | 0.00351302 | 0.859573 | NA | 0 | 50.6829 | GTEX-PW2O | 1 | 20-29 | 0 | SRR604002 |\n",
       "\n"
      ],
      "text/plain": [
       "  SAMPID                  SMATSSCR SMCENTER SMPTHNTS SMRIN SMTS  SMTSD      \n",
       "1 GTEX.PW2O.0006.SM.2I3DV NA       B1       NA       7.4   Blood Whole Blood\n",
       "  SMUBRID SMTSISCH SMTSPAX ⋯ SMRRNART   SME1MPRT SMNUM5CD SMDPMPRT SME2PCTS\n",
       "1 13756   -126     NA      ⋯ 0.00351302 0.859573 NA       0        50.6829 \n",
       "  SUBJID    SEX AGE   DTHHRDY SRR      \n",
       "1 GTEX-PW2O 1   20-29 0       SRR604002"
      ]
     },
     "metadata": {},
     "output_type": "display_data"
    }
   ],
   "source": [
    "meta.data <- readr::read_csv(metadata.file.name)\n",
    "dim(meta.data)\n",
    "head(meta.data, 1)"
   ]
  },
  {
   "cell_type": "code",
   "execution_count": 33,
   "metadata": {},
   "outputs": [
    {
     "data": {
      "text/html": [
       "<style>\n",
       ".list-inline {list-style: none; margin:0; padding: 0}\n",
       ".list-inline>li {display: inline-block}\n",
       ".list-inline>li:not(:last-child)::after {content: \"\\00b7\"; padding: 0 .5ex}\n",
       "</style>\n",
       "<ol class=list-inline><li>'Whole Blood'</li><li>'Lung'</li><li>'Adipose - Subcutaneous'</li></ol>\n"
      ],
      "text/latex": [
       "\\begin{enumerate*}\n",
       "\\item 'Whole Blood'\n",
       "\\item 'Lung'\n",
       "\\item 'Adipose - Subcutaneous'\n",
       "\\end{enumerate*}\n"
      ],
      "text/markdown": [
       "1. 'Whole Blood'\n",
       "2. 'Lung'\n",
       "3. 'Adipose - Subcutaneous'\n",
       "\n",
       "\n"
      ],
      "text/plain": [
       "[1] \"Whole Blood\"            \"Lung\"                   \"Adipose - Subcutaneous\""
      ]
     },
     "metadata": {},
     "output_type": "display_data"
    }
   ],
   "source": [
    "meta.data$SMTSD[1:3]"
   ]
  },
  {
   "cell_type": "code",
   "execution_count": 34,
   "metadata": {},
   "outputs": [],
   "source": [
    "meta.data[[\"SMTSD\"]] <- as.character(meta.data[[\"SMTSD\"]])"
   ]
  },
  {
   "cell_type": "code",
   "execution_count": 35,
   "metadata": {},
   "outputs": [
    {
     "data": {
      "text/html": [
       "<style>\n",
       ".list-inline {list-style: none; margin:0; padding: 0}\n",
       ".list-inline>li {display: inline-block}\n",
       ".list-inline>li:not(:last-child)::after {content: \"\\00b7\"; padding: 0 .5ex}\n",
       "</style>\n",
       "<ol class=list-inline><li>'Whole Blood'</li><li>'Lung'</li><li>'Adipose - Subcutaneous'</li></ol>\n"
      ],
      "text/latex": [
       "\\begin{enumerate*}\n",
       "\\item 'Whole Blood'\n",
       "\\item 'Lung'\n",
       "\\item 'Adipose - Subcutaneous'\n",
       "\\end{enumerate*}\n"
      ],
      "text/markdown": [
       "1. 'Whole Blood'\n",
       "2. 'Lung'\n",
       "3. 'Adipose - Subcutaneous'\n",
       "\n",
       "\n"
      ],
      "text/plain": [
       "[1] \"Whole Blood\"            \"Lung\"                   \"Adipose - Subcutaneous\""
      ]
     },
     "metadata": {},
     "output_type": "display_data"
    }
   ],
   "source": [
    "meta.data$SMTSD[1:3]"
   ]
  },
  {
   "cell_type": "code",
   "execution_count": 36,
   "metadata": {},
   "outputs": [],
   "source": [
    "meta.data <- meta.data[ snakecase::to_snake_case(meta.data$SMTSD) == tissue,]"
   ]
  },
  {
   "cell_type": "code",
   "execution_count": 37,
   "metadata": {},
   "outputs": [
    {
     "data": {
      "text/html": [
       "'breast_mammary_tissue'"
      ],
      "text/latex": [
       "'breast\\_mammary\\_tissue'"
      ],
      "text/markdown": [
       "'breast_mammary_tissue'"
      ],
      "text/plain": [
       "[1] \"breast_mammary_tissue\""
      ]
     },
     "metadata": {},
     "output_type": "display_data"
    },
    {
     "data": {
      "text/html": [
       "<style>\n",
       ".list-inline {list-style: none; margin:0; padding: 0}\n",
       ".list-inline>li {display: inline-block}\n",
       ".list-inline>li:not(:last-child)::after {content: \"\\00b7\"; padding: 0 .5ex}\n",
       "</style>\n",
       "<ol class=list-inline><li>178</li><li>68</li></ol>\n"
      ],
      "text/latex": [
       "\\begin{enumerate*}\n",
       "\\item 178\n",
       "\\item 68\n",
       "\\end{enumerate*}\n"
      ],
      "text/markdown": [
       "1. 178\n",
       "2. 68\n",
       "\n",
       "\n"
      ],
      "text/plain": [
       "[1] 178  68"
      ]
     },
     "metadata": {},
     "output_type": "display_data"
    },
    {
     "data": {
      "text/html": [
       "<table>\n",
       "<caption>A tibble: 1 × 68</caption>\n",
       "<thead>\n",
       "\t<tr><th scope=col>SAMPID</th><th scope=col>SMATSSCR</th><th scope=col>SMCENTER</th><th scope=col>SMPTHNTS</th><th scope=col>SMRIN</th><th scope=col>SMTS</th><th scope=col>SMTSD</th><th scope=col>SMUBRID</th><th scope=col>SMTSISCH</th><th scope=col>SMTSPAX</th><th scope=col>⋯</th><th scope=col>SMRRNART</th><th scope=col>SME1MPRT</th><th scope=col>SMNUM5CD</th><th scope=col>SMDPMPRT</th><th scope=col>SME2PCTS</th><th scope=col>SUBJID</th><th scope=col>SEX</th><th scope=col>AGE</th><th scope=col>DTHHRDY</th><th scope=col>SRR</th></tr>\n",
       "\t<tr><th scope=col>&lt;chr&gt;</th><th scope=col>&lt;chr&gt;</th><th scope=col>&lt;chr&gt;</th><th scope=col>&lt;chr&gt;</th><th scope=col>&lt;dbl&gt;</th><th scope=col>&lt;chr&gt;</th><th scope=col>&lt;chr&gt;</th><th scope=col>&lt;chr&gt;</th><th scope=col>&lt;dbl&gt;</th><th scope=col>&lt;dbl&gt;</th><th scope=col>⋯</th><th scope=col>&lt;dbl&gt;</th><th scope=col>&lt;dbl&gt;</th><th scope=col>&lt;lgl&gt;</th><th scope=col>&lt;dbl&gt;</th><th scope=col>&lt;dbl&gt;</th><th scope=col>&lt;chr&gt;</th><th scope=col>&lt;dbl&gt;</th><th scope=col>&lt;chr&gt;</th><th scope=col>&lt;dbl&gt;</th><th scope=col>&lt;chr&gt;</th></tr>\n",
       "</thead>\n",
       "<tbody>\n",
       "\t<tr><td>GTEX.S4Q7.1126.SM.4AD6R</td><td>0</td><td>B1</td><td>2 aliquots</td><td>6.9</td><td>Breast</td><td>Breast - Mammary Tissue</td><td>8367</td><td>178</td><td>395</td><td>⋯</td><td>0.00513003</td><td>0.995356</td><td>NA</td><td>0</td><td>50.1072</td><td>GTEX-S4Q7</td><td>1</td><td>20-29</td><td>0</td><td>SRR1100893</td></tr>\n",
       "</tbody>\n",
       "</table>\n"
      ],
      "text/latex": [
       "A tibble: 1 × 68\n",
       "\\begin{tabular}{lllllllllllllllllllll}\n",
       " SAMPID & SMATSSCR & SMCENTER & SMPTHNTS & SMRIN & SMTS & SMTSD & SMUBRID & SMTSISCH & SMTSPAX & ⋯ & SMRRNART & SME1MPRT & SMNUM5CD & SMDPMPRT & SME2PCTS & SUBJID & SEX & AGE & DTHHRDY & SRR\\\\\n",
       " <chr> & <chr> & <chr> & <chr> & <dbl> & <chr> & <chr> & <chr> & <dbl> & <dbl> & ⋯ & <dbl> & <dbl> & <lgl> & <dbl> & <dbl> & <chr> & <dbl> & <chr> & <dbl> & <chr>\\\\\n",
       "\\hline\n",
       "\t GTEX.S4Q7.1126.SM.4AD6R & 0 & B1 & 2 aliquots & 6.9 & Breast & Breast - Mammary Tissue & 8367 & 178 & 395 & ⋯ & 0.00513003 & 0.995356 & NA & 0 & 50.1072 & GTEX-S4Q7 & 1 & 20-29 & 0 & SRR1100893\\\\\n",
       "\\end{tabular}\n"
      ],
      "text/markdown": [
       "\n",
       "A tibble: 1 × 68\n",
       "\n",
       "| SAMPID &lt;chr&gt; | SMATSSCR &lt;chr&gt; | SMCENTER &lt;chr&gt; | SMPTHNTS &lt;chr&gt; | SMRIN &lt;dbl&gt; | SMTS &lt;chr&gt; | SMTSD &lt;chr&gt; | SMUBRID &lt;chr&gt; | SMTSISCH &lt;dbl&gt; | SMTSPAX &lt;dbl&gt; | ⋯ ⋯ | SMRRNART &lt;dbl&gt; | SME1MPRT &lt;dbl&gt; | SMNUM5CD &lt;lgl&gt; | SMDPMPRT &lt;dbl&gt; | SME2PCTS &lt;dbl&gt; | SUBJID &lt;chr&gt; | SEX &lt;dbl&gt; | AGE &lt;chr&gt; | DTHHRDY &lt;dbl&gt; | SRR &lt;chr&gt; |\n",
       "|---|---|---|---|---|---|---|---|---|---|---|---|---|---|---|---|---|---|---|---|---|\n",
       "| GTEX.S4Q7.1126.SM.4AD6R | 0 | B1 | 2 aliquots | 6.9 | Breast | Breast - Mammary Tissue | 8367 | 178 | 395 | ⋯ | 0.00513003 | 0.995356 | NA | 0 | 50.1072 | GTEX-S4Q7 | 1 | 20-29 | 0 | SRR1100893 |\n",
       "\n"
      ],
      "text/plain": [
       "  SAMPID                  SMATSSCR SMCENTER SMPTHNTS   SMRIN SMTS  \n",
       "1 GTEX.S4Q7.1126.SM.4AD6R 0        B1       2 aliquots 6.9   Breast\n",
       "  SMTSD                   SMUBRID SMTSISCH SMTSPAX ⋯ SMRRNART   SME1MPRT\n",
       "1 Breast - Mammary Tissue 8367    178      395     ⋯ 0.00513003 0.995356\n",
       "  SMNUM5CD SMDPMPRT SME2PCTS SUBJID    SEX AGE   DTHHRDY SRR       \n",
       "1 NA       0        50.1072  GTEX-S4Q7 1   20-29 0       SRR1100893"
      ]
     },
     "metadata": {},
     "output_type": "display_data"
    }
   ],
   "source": [
    "tissue\n",
    "dim(meta.data)\n",
    "head(meta.data,1)"
   ]
  },
  {
   "cell_type": "code",
   "execution_count": 38,
   "metadata": {},
   "outputs": [
    {
     "data": {
      "text/html": [
       "'breast_mammary_tissue'"
      ],
      "text/latex": [
       "'breast\\_mammary\\_tissue'"
      ],
      "text/markdown": [
       "'breast_mammary_tissue'"
      ],
      "text/plain": [
       "[1] \"breast_mammary_tissue\""
      ]
     },
     "metadata": {},
     "output_type": "display_data"
    },
    {
     "data": {
      "text/html": [
       "'Breast - Mammary Tissue'"
      ],
      "text/latex": [
       "'Breast - Mammary Tissue'"
      ],
      "text/markdown": [
       "'Breast - Mammary Tissue'"
      ],
      "text/plain": [
       "[1] \"Breast - Mammary Tissue\""
      ]
     },
     "metadata": {},
     "output_type": "display_data"
    }
   ],
   "source": [
    "# Undo snakecase of SMTSD\n",
    "tissue\n",
    "tissue <- unique(meta.data$SMTSD)\n",
    "tissue"
   ]
  },
  {
   "cell_type": "code",
   "execution_count": 39,
   "metadata": {},
   "outputs": [
    {
     "data": {
      "text/html": [
       "<style>\n",
       ".list-inline {list-style: none; margin:0; padding: 0}\n",
       ".list-inline>li {display: inline-block}\n",
       ".list-inline>li:not(:last-child)::after {content: \"\\00b7\"; padding: 0 .5ex}\n",
       "</style>\n",
       "<ol class=list-inline><li>42611</li><li>8674</li></ol>\n"
      ],
      "text/latex": [
       "\\begin{enumerate*}\n",
       "\\item 42611\n",
       "\\item 8674\n",
       "\\end{enumerate*}\n"
      ],
      "text/markdown": [
       "1. 42611\n",
       "2. 8674\n",
       "\n",
       "\n"
      ],
      "text/plain": [
       "[1] 42611  8674"
      ]
     },
     "metadata": {},
     "output_type": "display_data"
    },
    {
     "data": {
      "text/html": [
       "<style>\n",
       ".list-inline {list-style: none; margin:0; padding: 0}\n",
       ".list-inline>li {display: inline-block}\n",
       ".list-inline>li:not(:last-child)::after {content: \"\\00b7\"; padding: 0 .5ex}\n",
       "</style>\n",
       "<ol class=list-inline><li>42611</li><li>178</li></ol>\n"
      ],
      "text/latex": [
       "\\begin{enumerate*}\n",
       "\\item 42611\n",
       "\\item 178\n",
       "\\end{enumerate*}\n"
      ],
      "text/markdown": [
       "1. 42611\n",
       "2. 178\n",
       "\n",
       "\n"
      ],
      "text/plain": [
       "[1] 42611   178"
      ]
     },
     "metadata": {},
     "output_type": "display_data"
    }
   ],
   "source": [
    "dim(inc.counts)\n",
    "inc.counts   <- inc.counts[,colnames(inc.counts) %in% meta.data$SRR]\n",
    "dim(inc.counts)"
   ]
  },
  {
   "cell_type": "code",
   "execution_count": 40,
   "metadata": {},
   "outputs": [
    {
     "data": {
      "text/html": [
       "<style>\n",
       ".list-inline {list-style: none; margin:0; padding: 0}\n",
       ".list-inline>li {display: inline-block}\n",
       ".list-inline>li:not(:last-child)::after {content: \"\\00b7\"; padding: 0 .5ex}\n",
       "</style>\n",
       "<ol class=list-inline><li>42611</li><li>8674</li></ol>\n"
      ],
      "text/latex": [
       "\\begin{enumerate*}\n",
       "\\item 42611\n",
       "\\item 8674\n",
       "\\end{enumerate*}\n"
      ],
      "text/markdown": [
       "1. 42611\n",
       "2. 8674\n",
       "\n",
       "\n"
      ],
      "text/plain": [
       "[1] 42611  8674"
      ]
     },
     "metadata": {},
     "output_type": "display_data"
    },
    {
     "data": {
      "text/html": [
       "<style>\n",
       ".list-inline {list-style: none; margin:0; padding: 0}\n",
       ".list-inline>li {display: inline-block}\n",
       ".list-inline>li:not(:last-child)::after {content: \"\\00b7\"; padding: 0 .5ex}\n",
       "</style>\n",
       "<ol class=list-inline><li>42611</li><li>178</li></ol>\n"
      ],
      "text/latex": [
       "\\begin{enumerate*}\n",
       "\\item 42611\n",
       "\\item 178\n",
       "\\end{enumerate*}\n"
      ],
      "text/markdown": [
       "1. 42611\n",
       "2. 178\n",
       "\n",
       "\n"
      ],
      "text/plain": [
       "[1] 42611   178"
      ]
     },
     "metadata": {},
     "output_type": "display_data"
    }
   ],
   "source": [
    "dim(skip.counts)\n",
    "skip.counts  <- skip.counts[,colnames(skip.counts) %in% meta.data$SRR]\n",
    "dim(skip.counts)"
   ]
  },
  {
   "cell_type": "code",
   "execution_count": 41,
   "metadata": {},
   "outputs": [
    {
     "data": {
      "text/html": [
       "<strong>95%:</strong> 118.455316425073"
      ],
      "text/latex": [
       "\\textbf{95\\textbackslash{}\\%:} 118.455316425073"
      ],
      "text/markdown": [
       "**95%:** 118.455316425073"
      ],
      "text/plain": [
       "     95% \n",
       "118.4553 "
      ]
     },
     "metadata": {},
     "output_type": "display_data"
    }
   ],
   "source": [
    "sd.threshold <- quantile(apply(inc.counts,1,sd)+apply(skip.counts,1,sd),0.95)\n",
    "sd.threshold"
   ]
  },
  {
   "cell_type": "code",
   "execution_count": 42,
   "metadata": {},
   "outputs": [
    {
     "data": {
      "text/html": [
       "<style>\n",
       ".list-inline {list-style: none; margin:0; padding: 0}\n",
       ".list-inline>li {display: inline-block}\n",
       ".list-inline>li:not(:last-child)::after {content: \"\\00b7\"; padding: 0 .5ex}\n",
       "</style>\n",
       "<ol class=list-inline><li>42611</li><li>178</li></ol>\n"
      ],
      "text/latex": [
       "\\begin{enumerate*}\n",
       "\\item 42611\n",
       "\\item 178\n",
       "\\end{enumerate*}\n"
      ],
      "text/markdown": [
       "1. 42611\n",
       "2. 178\n",
       "\n",
       "\n"
      ],
      "text/plain": [
       "[1] 42611   178"
      ]
     },
     "metadata": {},
     "output_type": "display_data"
    },
    {
     "data": {
      "text/html": [
       "<style>\n",
       ".list-inline {list-style: none; margin:0; padding: 0}\n",
       ".list-inline>li {display: inline-block}\n",
       ".list-inline>li:not(:last-child)::after {content: \"\\00b7\"; padding: 0 .5ex}\n",
       "</style>\n",
       "<ol class=list-inline><li>3163</li><li>178</li></ol>\n"
      ],
      "text/latex": [
       "\\begin{enumerate*}\n",
       "\\item 3163\n",
       "\\item 178\n",
       "\\end{enumerate*}\n"
      ],
      "text/markdown": [
       "1. 3163\n",
       "2. 178\n",
       "\n",
       "\n"
      ],
      "text/plain": [
       "[1] 3163  178"
      ]
     },
     "metadata": {},
     "output_type": "display_data"
    }
   ],
   "source": [
    "dim(skip.counts)\n",
    "skip.counts  <- skip.counts[rownames(skip.counts) %in% merged.table$ID,]\n",
    "dim(skip.counts)"
   ]
  },
  {
   "cell_type": "code",
   "execution_count": 43,
   "metadata": {},
   "outputs": [
    {
     "data": {
      "text/html": [
       "<style>\n",
       ".list-inline {list-style: none; margin:0; padding: 0}\n",
       ".list-inline>li {display: inline-block}\n",
       ".list-inline>li:not(:last-child)::after {content: \"\\00b7\"; padding: 0 .5ex}\n",
       "</style>\n",
       "<ol class=list-inline><li>42611</li><li>178</li></ol>\n"
      ],
      "text/latex": [
       "\\begin{enumerate*}\n",
       "\\item 42611\n",
       "\\item 178\n",
       "\\end{enumerate*}\n"
      ],
      "text/markdown": [
       "1. 42611\n",
       "2. 178\n",
       "\n",
       "\n"
      ],
      "text/plain": [
       "[1] 42611   178"
      ]
     },
     "metadata": {},
     "output_type": "display_data"
    },
    {
     "data": {
      "text/html": [
       "<style>\n",
       ".list-inline {list-style: none; margin:0; padding: 0}\n",
       ".list-inline>li {display: inline-block}\n",
       ".list-inline>li:not(:last-child)::after {content: \"\\00b7\"; padding: 0 .5ex}\n",
       "</style>\n",
       "<ol class=list-inline><li>3163</li><li>178</li></ol>\n"
      ],
      "text/latex": [
       "\\begin{enumerate*}\n",
       "\\item 3163\n",
       "\\item 178\n",
       "\\end{enumerate*}\n"
      ],
      "text/markdown": [
       "1. 3163\n",
       "2. 178\n",
       "\n",
       "\n"
      ],
      "text/plain": [
       "[1] 3163  178"
      ]
     },
     "metadata": {},
     "output_type": "display_data"
    }
   ],
   "source": [
    "dim(inc.counts)\n",
    "inc.counts   <- inc.counts[rownames(inc.counts) %in% merged.table$ID,]\n",
    "dim(inc.counts)"
   ]
  },
  {
   "cell_type": "code",
   "execution_count": 44,
   "metadata": {},
   "outputs": [
    {
     "data": {
      "text/html": [
       "TRUE"
      ],
      "text/latex": [
       "TRUE"
      ],
      "text/markdown": [
       "TRUE"
      ],
      "text/plain": [
       "[1] TRUE"
      ]
     },
     "metadata": {},
     "output_type": "display_data"
    }
   ],
   "source": [
    "nrow(skip.counts)>100"
   ]
  },
  {
   "cell_type": "code",
   "execution_count": 45,
   "metadata": {},
   "outputs": [],
   "source": [
    "if (nrow(skip.counts)>100)\n",
    "{\n",
    "  select.events <- apply(inc.counts,1,sd)+apply(skip.counts,1,sd)>sd.threshold\n",
    "  inc.counts    <- inc.counts[select.events,]\n",
    "  skip.counts   <- skip.counts[select.events,]\n",
    "  merged.table  <- merged.table[select.events,]\n",
    "}"
   ]
  },
  {
   "cell_type": "code",
   "execution_count": 46,
   "metadata": {},
   "outputs": [
    {
     "data": {
      "text/html": [
       "<style>\n",
       ".list-inline {list-style: none; margin:0; padding: 0}\n",
       ".list-inline>li {display: inline-block}\n",
       ".list-inline>li:not(:last-child)::after {content: \"\\00b7\"; padding: 0 .5ex}\n",
       "</style>\n",
       "<ol class=list-inline><li>146</li><li>178</li></ol>\n"
      ],
      "text/latex": [
       "\\begin{enumerate*}\n",
       "\\item 146\n",
       "\\item 178\n",
       "\\end{enumerate*}\n"
      ],
      "text/markdown": [
       "1. 146\n",
       "2. 178\n",
       "\n",
       "\n"
      ],
      "text/plain": [
       "[1] 146 178"
      ]
     },
     "metadata": {},
     "output_type": "display_data"
    },
    {
     "data": {
      "text/html": [
       "<style>\n",
       ".list-inline {list-style: none; margin:0; padding: 0}\n",
       ".list-inline>li {display: inline-block}\n",
       ".list-inline>li:not(:last-child)::after {content: \"\\00b7\"; padding: 0 .5ex}\n",
       "</style>\n",
       "<ol class=list-inline><li>146</li><li>178</li></ol>\n"
      ],
      "text/latex": [
       "\\begin{enumerate*}\n",
       "\\item 146\n",
       "\\item 178\n",
       "\\end{enumerate*}\n"
      ],
      "text/markdown": [
       "1. 146\n",
       "2. 178\n",
       "\n",
       "\n"
      ],
      "text/plain": [
       "[1] 146 178"
      ]
     },
     "metadata": {},
     "output_type": "display_data"
    },
    {
     "data": {
      "text/html": [
       "<style>\n",
       ".list-inline {list-style: none; margin:0; padding: 0}\n",
       ".list-inline>li {display: inline-block}\n",
       ".list-inline>li:not(:last-child)::after {content: \"\\00b7\"; padding: 0 .5ex}\n",
       "</style>\n",
       "<ol class=list-inline><li>146</li><li>18</li></ol>\n"
      ],
      "text/latex": [
       "\\begin{enumerate*}\n",
       "\\item 146\n",
       "\\item 18\n",
       "\\end{enumerate*}\n"
      ],
      "text/markdown": [
       "1. 146\n",
       "2. 18\n",
       "\n",
       "\n"
      ],
      "text/plain": [
       "[1] 146  18"
      ]
     },
     "metadata": {},
     "output_type": "display_data"
    }
   ],
   "source": [
    "dim(inc.counts)\n",
    "dim(skip.counts)\n",
    "dim(merged.table)"
   ]
  },
  {
   "cell_type": "markdown",
   "metadata": {},
   "source": [
    "## Read expression data:"
   ]
  },
  {
   "cell_type": "code",
   "execution_count": 47,
   "metadata": {},
   "outputs": [
    {
     "data": {
      "text/html": [
       "'../data/GTEx_Analysis_2017-06-05_v8_RNASeQCv1.1.9_gene_tpm.gct'"
      ],
      "text/latex": [
       "'../data/GTEx\\_Analysis\\_2017-06-05\\_v8\\_RNASeQCv1.1.9\\_gene\\_tpm.gct'"
      ],
      "text/markdown": [
       "'../data/GTEx_Analysis_2017-06-05_v8_RNASeQCv1.1.9_gene_tpm.gct'"
      ],
      "text/plain": [
       "[1] \"../data/GTEx_Analysis_2017-06-05_v8_RNASeQCv1.1.9_gene_tpm.gct\""
      ]
     },
     "metadata": {},
     "output_type": "display_data"
    },
    {
     "data": {
      "text/html": [
       "TRUE"
      ],
      "text/latex": [
       "TRUE"
      ],
      "text/markdown": [
       "TRUE"
      ],
      "text/plain": [
       "[1] TRUE"
      ]
     },
     "metadata": {},
     "output_type": "display_data"
    }
   ],
   "source": [
    "expression.file.name\n",
    "file.exists(expression.file.name)"
   ]
  },
  {
   "cell_type": "code",
   "execution_count": 48,
   "metadata": {},
   "outputs": [],
   "source": [
    "expression.mat <- read.table(expression.file.name, \n",
    "                             nrows = 1,\n",
    "                             sep = \"\\t\",\n",
    "                             header = T,\n",
    "                             skip = 2)"
   ]
  },
  {
   "cell_type": "code",
   "execution_count": 49,
   "metadata": {},
   "outputs": [
    {
     "data": {
      "text/html": [
       "<style>\n",
       ".list-inline {list-style: none; margin:0; padding: 0}\n",
       ".list-inline>li {display: inline-block}\n",
       ".list-inline>li:not(:last-child)::after {content: \"\\00b7\"; padding: 0 .5ex}\n",
       "</style>\n",
       "<ol class=list-inline><li>1</li><li>11690</li></ol>\n"
      ],
      "text/latex": [
       "\\begin{enumerate*}\n",
       "\\item 1\n",
       "\\item 11690\n",
       "\\end{enumerate*}\n"
      ],
      "text/markdown": [
       "1. 1\n",
       "2. 11690\n",
       "\n",
       "\n"
      ],
      "text/plain": [
       "[1]     1 11690"
      ]
     },
     "metadata": {},
     "output_type": "display_data"
    },
    {
     "data": {
      "text/html": [
       "<table>\n",
       "<caption>A data.frame: 1 × 11690</caption>\n",
       "<thead>\n",
       "\t<tr><th></th><th scope=col>Name</th><th scope=col>Description</th><th scope=col>GTEX.1117F.0226.SM.5GZZ7</th><th scope=col>GTEX.111CU.1826.SM.5GZYN</th><th scope=col>GTEX.111FC.0226.SM.5N9B8</th><th scope=col>GTEX.111VG.2326.SM.5N9BK</th><th scope=col>GTEX.111YS.2426.SM.5GZZQ</th><th scope=col>GTEX.1122O.2026.SM.5NQ91</th><th scope=col>GTEX.1128S.2126.SM.5H12U</th><th scope=col>GTEX.113IC.0226.SM.5HL5C</th><th scope=col>⋯</th><th scope=col>GTEX.ZVE2.0006.SM.51MRW</th><th scope=col>GTEX.ZVP2.0005.SM.51MRK</th><th scope=col>GTEX.ZVT2.0005.SM.57WBW</th><th scope=col>GTEX.ZVT3.0006.SM.51MT9</th><th scope=col>GTEX.ZVT4.0006.SM.57WB8</th><th scope=col>GTEX.ZVTK.0006.SM.57WBK</th><th scope=col>GTEX.ZVZP.0006.SM.51MSW</th><th scope=col>GTEX.ZVZQ.0006.SM.51MR8</th><th scope=col>GTEX.ZXES.0005.SM.57WCB</th><th scope=col>GTEX.ZXG5.0005.SM.57WCN</th></tr>\n",
       "\t<tr><th></th><th scope=col>&lt;fct&gt;</th><th scope=col>&lt;fct&gt;</th><th scope=col>&lt;dbl&gt;</th><th scope=col>&lt;dbl&gt;</th><th scope=col>&lt;dbl&gt;</th><th scope=col>&lt;dbl&gt;</th><th scope=col>&lt;int&gt;</th><th scope=col>&lt;dbl&gt;</th><th scope=col>&lt;dbl&gt;</th><th scope=col>&lt;dbl&gt;</th><th scope=col>⋯</th><th scope=col>&lt;dbl&gt;</th><th scope=col>&lt;dbl&gt;</th><th scope=col>&lt;dbl&gt;</th><th scope=col>&lt;int&gt;</th><th scope=col>&lt;dbl&gt;</th><th scope=col>&lt;dbl&gt;</th><th scope=col>&lt;dbl&gt;</th><th scope=col>&lt;dbl&gt;</th><th scope=col>&lt;dbl&gt;</th><th scope=col>&lt;dbl&gt;</th></tr>\n",
       "</thead>\n",
       "<tbody>\n",
       "\t<tr><th scope=row>1</th><td>ENSG00000223972.4</td><td>DDX11L1</td><td>0.1082</td><td>0.1158</td><td>0.02104</td><td>0.02329</td><td>0</td><td>0.04641</td><td>0.03076</td><td>0.09358</td><td>⋯</td><td>0.09012</td><td>0.1462</td><td>0.1045</td><td>0</td><td>0.6603</td><td>0.695</td><td>0.1213</td><td>0.4169</td><td>0.2355</td><td>0.145</td></tr>\n",
       "</tbody>\n",
       "</table>\n"
      ],
      "text/latex": [
       "A data.frame: 1 × 11690\n",
       "\\begin{tabular}{r|lllllllllllllllllllll}\n",
       "  & Name & Description & GTEX.1117F.0226.SM.5GZZ7 & GTEX.111CU.1826.SM.5GZYN & GTEX.111FC.0226.SM.5N9B8 & GTEX.111VG.2326.SM.5N9BK & GTEX.111YS.2426.SM.5GZZQ & GTEX.1122O.2026.SM.5NQ91 & GTEX.1128S.2126.SM.5H12U & GTEX.113IC.0226.SM.5HL5C & ⋯ & GTEX.ZVE2.0006.SM.51MRW & GTEX.ZVP2.0005.SM.51MRK & GTEX.ZVT2.0005.SM.57WBW & GTEX.ZVT3.0006.SM.51MT9 & GTEX.ZVT4.0006.SM.57WB8 & GTEX.ZVTK.0006.SM.57WBK & GTEX.ZVZP.0006.SM.51MSW & GTEX.ZVZQ.0006.SM.51MR8 & GTEX.ZXES.0005.SM.57WCB & GTEX.ZXG5.0005.SM.57WCN\\\\\n",
       "  & <fct> & <fct> & <dbl> & <dbl> & <dbl> & <dbl> & <int> & <dbl> & <dbl> & <dbl> & ⋯ & <dbl> & <dbl> & <dbl> & <int> & <dbl> & <dbl> & <dbl> & <dbl> & <dbl> & <dbl>\\\\\n",
       "\\hline\n",
       "\t1 & ENSG00000223972.4 & DDX11L1 & 0.1082 & 0.1158 & 0.02104 & 0.02329 & 0 & 0.04641 & 0.03076 & 0.09358 & ⋯ & 0.09012 & 0.1462 & 0.1045 & 0 & 0.6603 & 0.695 & 0.1213 & 0.4169 & 0.2355 & 0.145\\\\\n",
       "\\end{tabular}\n"
      ],
      "text/markdown": [
       "\n",
       "A data.frame: 1 × 11690\n",
       "\n",
       "| <!--/--> | Name &lt;fct&gt; | Description &lt;fct&gt; | GTEX.1117F.0226.SM.5GZZ7 &lt;dbl&gt; | GTEX.111CU.1826.SM.5GZYN &lt;dbl&gt; | GTEX.111FC.0226.SM.5N9B8 &lt;dbl&gt; | GTEX.111VG.2326.SM.5N9BK &lt;dbl&gt; | GTEX.111YS.2426.SM.5GZZQ &lt;int&gt; | GTEX.1122O.2026.SM.5NQ91 &lt;dbl&gt; | GTEX.1128S.2126.SM.5H12U &lt;dbl&gt; | GTEX.113IC.0226.SM.5HL5C &lt;dbl&gt; | ⋯ ⋯ | GTEX.ZVE2.0006.SM.51MRW &lt;dbl&gt; | GTEX.ZVP2.0005.SM.51MRK &lt;dbl&gt; | GTEX.ZVT2.0005.SM.57WBW &lt;dbl&gt; | GTEX.ZVT3.0006.SM.51MT9 &lt;int&gt; | GTEX.ZVT4.0006.SM.57WB8 &lt;dbl&gt; | GTEX.ZVTK.0006.SM.57WBK &lt;dbl&gt; | GTEX.ZVZP.0006.SM.51MSW &lt;dbl&gt; | GTEX.ZVZQ.0006.SM.51MR8 &lt;dbl&gt; | GTEX.ZXES.0005.SM.57WCB &lt;dbl&gt; | GTEX.ZXG5.0005.SM.57WCN &lt;dbl&gt; |\n",
       "|---|---|---|---|---|---|---|---|---|---|---|---|---|---|---|---|---|---|---|---|---|---|\n",
       "| 1 | ENSG00000223972.4 | DDX11L1 | 0.1082 | 0.1158 | 0.02104 | 0.02329 | 0 | 0.04641 | 0.03076 | 0.09358 | ⋯ | 0.09012 | 0.1462 | 0.1045 | 0 | 0.6603 | 0.695 | 0.1213 | 0.4169 | 0.2355 | 0.145 |\n",
       "\n"
      ],
      "text/plain": [
       "  Name              Description GTEX.1117F.0226.SM.5GZZ7\n",
       "1 ENSG00000223972.4 DDX11L1     0.1082                  \n",
       "  GTEX.111CU.1826.SM.5GZYN GTEX.111FC.0226.SM.5N9B8 GTEX.111VG.2326.SM.5N9BK\n",
       "1 0.1158                   0.02104                  0.02329                 \n",
       "  GTEX.111YS.2426.SM.5GZZQ GTEX.1122O.2026.SM.5NQ91 GTEX.1128S.2126.SM.5H12U\n",
       "1 0                        0.04641                  0.03076                 \n",
       "  GTEX.113IC.0226.SM.5HL5C ⋯ GTEX.ZVE2.0006.SM.51MRW GTEX.ZVP2.0005.SM.51MRK\n",
       "1 0.09358                  ⋯ 0.09012                 0.1462                 \n",
       "  GTEX.ZVT2.0005.SM.57WBW GTEX.ZVT3.0006.SM.51MT9 GTEX.ZVT4.0006.SM.57WB8\n",
       "1 0.1045                  0                       0.6603                 \n",
       "  GTEX.ZVTK.0006.SM.57WBK GTEX.ZVZP.0006.SM.51MSW GTEX.ZVZQ.0006.SM.51MR8\n",
       "1 0.695                   0.1213                  0.4169                 \n",
       "  GTEX.ZXES.0005.SM.57WCB GTEX.ZXG5.0005.SM.57WCN\n",
       "1 0.2355                  0.145                  "
      ]
     },
     "metadata": {},
     "output_type": "display_data"
    }
   ],
   "source": [
    "dim(expression.mat)\n",
    "head(expression.mat, 2)"
   ]
  },
  {
   "cell_type": "code",
   "execution_count": 50,
   "metadata": {},
   "outputs": [
    {
     "data": {
      "text/html": [
       "<style>\n",
       ".list-inline {list-style: none; margin:0; padding: 0}\n",
       ".list-inline>li {display: inline-block}\n",
       ".list-inline>li:not(:last-child)::after {content: \"\\00b7\"; padding: 0 .5ex}\n",
       "</style>\n",
       "<ol class=list-inline><li>'Name'</li><li>'Description'</li><li>'GTEX.1117F.0226.SM.5GZZ7'</li></ol>\n"
      ],
      "text/latex": [
       "\\begin{enumerate*}\n",
       "\\item 'Name'\n",
       "\\item 'Description'\n",
       "\\item 'GTEX.1117F.0226.SM.5GZZ7'\n",
       "\\end{enumerate*}\n"
      ],
      "text/markdown": [
       "1. 'Name'\n",
       "2. 'Description'\n",
       "3. 'GTEX.1117F.0226.SM.5GZZ7'\n",
       "\n",
       "\n"
      ],
      "text/plain": [
       "[1] \"Name\"                     \"Description\"             \n",
       "[3] \"GTEX.1117F.0226.SM.5GZZ7\""
      ]
     },
     "metadata": {},
     "output_type": "display_data"
    }
   ],
   "source": [
    "colnames(expression.mat)[1:3]"
   ]
  },
  {
   "cell_type": "code",
   "execution_count": 51,
   "metadata": {},
   "outputs": [],
   "source": [
    "colnames.expression.mat <- colnames(expression.mat)"
   ]
  },
  {
   "cell_type": "code",
   "execution_count": 52,
   "metadata": {},
   "outputs": [
    {
     "data": {
      "text/html": [
       "11690"
      ],
      "text/latex": [
       "11690"
      ],
      "text/markdown": [
       "11690"
      ],
      "text/plain": [
       "[1] 11690"
      ]
     },
     "metadata": {},
     "output_type": "display_data"
    },
    {
     "data": {
      "text/html": [
       "<style>\n",
       ".list-inline {list-style: none; margin:0; padding: 0}\n",
       ".list-inline>li {display: inline-block}\n",
       ".list-inline>li:not(:last-child)::after {content: \"\\00b7\"; padding: 0 .5ex}\n",
       "</style>\n",
       "<ol class=list-inline><li>'Name'</li><li>'Description'</li><li>'GTEX.1117F.0226.SM.5GZZ7'</li><li>'GTEX.111CU.1826.SM.5GZYN'</li></ol>\n"
      ],
      "text/latex": [
       "\\begin{enumerate*}\n",
       "\\item 'Name'\n",
       "\\item 'Description'\n",
       "\\item 'GTEX.1117F.0226.SM.5GZZ7'\n",
       "\\item 'GTEX.111CU.1826.SM.5GZYN'\n",
       "\\end{enumerate*}\n"
      ],
      "text/markdown": [
       "1. 'Name'\n",
       "2. 'Description'\n",
       "3. 'GTEX.1117F.0226.SM.5GZZ7'\n",
       "4. 'GTEX.111CU.1826.SM.5GZYN'\n",
       "\n",
       "\n"
      ],
      "text/plain": [
       "[1] \"Name\"                     \"Description\"             \n",
       "[3] \"GTEX.1117F.0226.SM.5GZZ7\" \"GTEX.111CU.1826.SM.5GZYN\""
      ]
     },
     "metadata": {},
     "output_type": "display_data"
    }
   ],
   "source": [
    "length(colnames.expression.mat)\n",
    "colnames.expression.mat[1:4]"
   ]
  },
  {
   "cell_type": "code",
   "execution_count": 53,
   "metadata": {},
   "outputs": [
    {
     "data": {
      "text/html": [
       "11690"
      ],
      "text/latex": [
       "11690"
      ],
      "text/markdown": [
       "11690"
      ],
      "text/plain": [
       "[1] 11690"
      ]
     },
     "metadata": {},
     "output_type": "display_data"
    }
   ],
   "source": [
    "length(colnames.expression.mat)"
   ]
  },
  {
   "cell_type": "code",
   "execution_count": 54,
   "metadata": {},
   "outputs": [
    {
     "data": {
      "text/html": [
       "11690"
      ],
      "text/latex": [
       "11690"
      ],
      "text/markdown": [
       "11690"
      ],
      "text/plain": [
       "[1] 11690"
      ]
     },
     "metadata": {},
     "output_type": "display_data"
    }
   ],
   "source": [
    "total.samples           <- length(colnames.expression.mat)\n",
    "total.samples"
   ]
  },
  {
   "cell_type": "code",
   "execution_count": 55,
   "metadata": {},
   "outputs": [
    {
     "data": {
      "text/html": [
       "'GTEX.S4Q7.1126.SM.4AD6R'"
      ],
      "text/latex": [
       "'GTEX.S4Q7.1126.SM.4AD6R'"
      ],
      "text/markdown": [
       "'GTEX.S4Q7.1126.SM.4AD6R'"
      ],
      "text/plain": [
       "[1] \"GTEX.S4Q7.1126.SM.4AD6R\""
      ]
     },
     "metadata": {},
     "output_type": "display_data"
    },
    {
     "data": {
      "text/html": [
       "'GTEX.S4Q7.1126.SM.4AD6R'"
      ],
      "text/latex": [
       "'GTEX.S4Q7.1126.SM.4AD6R'"
      ],
      "text/markdown": [
       "'GTEX.S4Q7.1126.SM.4AD6R'"
      ],
      "text/plain": [
       "[1] \"GTEX.S4Q7.1126.SM.4AD6R\""
      ]
     },
     "metadata": {},
     "output_type": "display_data"
    }
   ],
   "source": [
    "meta.data$SAMPID[1]\n",
    "gsub(\"-\",\"\\\\.\",meta.data$SAMPID[1])"
   ]
  },
  {
   "cell_type": "code",
   "execution_count": 56,
   "metadata": {},
   "outputs": [],
   "source": [
    "meta.data$SAMPID   <- gsub(\"-\",\"\\\\.\",meta.data$SAMPID)"
   ]
  },
  {
   "cell_type": "code",
   "execution_count": 57,
   "metadata": {},
   "outputs": [
    {
     "data": {
      "text/html": [
       "<style>\n",
       ".list-inline {list-style: none; margin:0; padding: 0}\n",
       ".list-inline>li {display: inline-block}\n",
       ".list-inline>li:not(:last-child)::after {content: \"\\00b7\"; padding: 0 .5ex}\n",
       "</style>\n",
       "<ol class=list-inline><li>178</li><li>68</li></ol>\n"
      ],
      "text/latex": [
       "\\begin{enumerate*}\n",
       "\\item 178\n",
       "\\item 68\n",
       "\\end{enumerate*}\n"
      ],
      "text/markdown": [
       "1. 178\n",
       "2. 68\n",
       "\n",
       "\n"
      ],
      "text/plain": [
       "[1] 178  68"
      ]
     },
     "metadata": {},
     "output_type": "display_data"
    },
    {
     "data": {
      "text/html": [
       "<style>\n",
       ".list-inline {list-style: none; margin:0; padding: 0}\n",
       ".list-inline>li {display: inline-block}\n",
       ".list-inline>li:not(:last-child)::after {content: \"\\00b7\"; padding: 0 .5ex}\n",
       "</style>\n",
       "<ol class=list-inline><li>175</li><li>68</li></ol>\n"
      ],
      "text/latex": [
       "\\begin{enumerate*}\n",
       "\\item 175\n",
       "\\item 68\n",
       "\\end{enumerate*}\n"
      ],
      "text/markdown": [
       "1. 175\n",
       "2. 68\n",
       "\n",
       "\n"
      ],
      "text/plain": [
       "[1] 175  68"
      ]
     },
     "metadata": {},
     "output_type": "display_data"
    }
   ],
   "source": [
    "dim(meta.data)\n",
    "meta.data               <- meta.data[meta.data$SAMPID %in% colnames(expression.mat),]\n",
    "dim(meta.data)"
   ]
  },
  {
   "cell_type": "code",
   "execution_count": 58,
   "metadata": {},
   "outputs": [
    {
     "data": {
      "text/html": [
       "<table>\n",
       "<caption>A data.frame: 1 × 11690</caption>\n",
       "<thead>\n",
       "\t<tr><th></th><th scope=col>Name</th><th scope=col>Description</th><th scope=col>GTEX.1117F.0226.SM.5GZZ7</th><th scope=col>GTEX.111CU.1826.SM.5GZYN</th><th scope=col>GTEX.111FC.0226.SM.5N9B8</th><th scope=col>GTEX.111VG.2326.SM.5N9BK</th><th scope=col>GTEX.111YS.2426.SM.5GZZQ</th><th scope=col>GTEX.1122O.2026.SM.5NQ91</th><th scope=col>GTEX.1128S.2126.SM.5H12U</th><th scope=col>GTEX.113IC.0226.SM.5HL5C</th><th scope=col>⋯</th><th scope=col>GTEX.ZVE2.0006.SM.51MRW</th><th scope=col>GTEX.ZVP2.0005.SM.51MRK</th><th scope=col>GTEX.ZVT2.0005.SM.57WBW</th><th scope=col>GTEX.ZVT3.0006.SM.51MT9</th><th scope=col>GTEX.ZVT4.0006.SM.57WB8</th><th scope=col>GTEX.ZVTK.0006.SM.57WBK</th><th scope=col>GTEX.ZVZP.0006.SM.51MSW</th><th scope=col>GTEX.ZVZQ.0006.SM.51MR8</th><th scope=col>GTEX.ZXES.0005.SM.57WCB</th><th scope=col>GTEX.ZXG5.0005.SM.57WCN</th></tr>\n",
       "\t<tr><th></th><th scope=col>&lt;fct&gt;</th><th scope=col>&lt;fct&gt;</th><th scope=col>&lt;dbl&gt;</th><th scope=col>&lt;dbl&gt;</th><th scope=col>&lt;dbl&gt;</th><th scope=col>&lt;dbl&gt;</th><th scope=col>&lt;int&gt;</th><th scope=col>&lt;dbl&gt;</th><th scope=col>&lt;dbl&gt;</th><th scope=col>&lt;dbl&gt;</th><th scope=col>⋯</th><th scope=col>&lt;dbl&gt;</th><th scope=col>&lt;dbl&gt;</th><th scope=col>&lt;dbl&gt;</th><th scope=col>&lt;int&gt;</th><th scope=col>&lt;dbl&gt;</th><th scope=col>&lt;dbl&gt;</th><th scope=col>&lt;dbl&gt;</th><th scope=col>&lt;dbl&gt;</th><th scope=col>&lt;dbl&gt;</th><th scope=col>&lt;dbl&gt;</th></tr>\n",
       "</thead>\n",
       "<tbody>\n",
       "\t<tr><th scope=row>1</th><td>ENSG00000223972.4</td><td>DDX11L1</td><td>0.1082</td><td>0.1158</td><td>0.02104</td><td>0.02329</td><td>0</td><td>0.04641</td><td>0.03076</td><td>0.09358</td><td>⋯</td><td>0.09012</td><td>0.1462</td><td>0.1045</td><td>0</td><td>0.6603</td><td>0.695</td><td>0.1213</td><td>0.4169</td><td>0.2355</td><td>0.145</td></tr>\n",
       "</tbody>\n",
       "</table>\n"
      ],
      "text/latex": [
       "A data.frame: 1 × 11690\n",
       "\\begin{tabular}{r|lllllllllllllllllllll}\n",
       "  & Name & Description & GTEX.1117F.0226.SM.5GZZ7 & GTEX.111CU.1826.SM.5GZYN & GTEX.111FC.0226.SM.5N9B8 & GTEX.111VG.2326.SM.5N9BK & GTEX.111YS.2426.SM.5GZZQ & GTEX.1122O.2026.SM.5NQ91 & GTEX.1128S.2126.SM.5H12U & GTEX.113IC.0226.SM.5HL5C & ⋯ & GTEX.ZVE2.0006.SM.51MRW & GTEX.ZVP2.0005.SM.51MRK & GTEX.ZVT2.0005.SM.57WBW & GTEX.ZVT3.0006.SM.51MT9 & GTEX.ZVT4.0006.SM.57WB8 & GTEX.ZVTK.0006.SM.57WBK & GTEX.ZVZP.0006.SM.51MSW & GTEX.ZVZQ.0006.SM.51MR8 & GTEX.ZXES.0005.SM.57WCB & GTEX.ZXG5.0005.SM.57WCN\\\\\n",
       "  & <fct> & <fct> & <dbl> & <dbl> & <dbl> & <dbl> & <int> & <dbl> & <dbl> & <dbl> & ⋯ & <dbl> & <dbl> & <dbl> & <int> & <dbl> & <dbl> & <dbl> & <dbl> & <dbl> & <dbl>\\\\\n",
       "\\hline\n",
       "\t1 & ENSG00000223972.4 & DDX11L1 & 0.1082 & 0.1158 & 0.02104 & 0.02329 & 0 & 0.04641 & 0.03076 & 0.09358 & ⋯ & 0.09012 & 0.1462 & 0.1045 & 0 & 0.6603 & 0.695 & 0.1213 & 0.4169 & 0.2355 & 0.145\\\\\n",
       "\\end{tabular}\n"
      ],
      "text/markdown": [
       "\n",
       "A data.frame: 1 × 11690\n",
       "\n",
       "| <!--/--> | Name &lt;fct&gt; | Description &lt;fct&gt; | GTEX.1117F.0226.SM.5GZZ7 &lt;dbl&gt; | GTEX.111CU.1826.SM.5GZYN &lt;dbl&gt; | GTEX.111FC.0226.SM.5N9B8 &lt;dbl&gt; | GTEX.111VG.2326.SM.5N9BK &lt;dbl&gt; | GTEX.111YS.2426.SM.5GZZQ &lt;int&gt; | GTEX.1122O.2026.SM.5NQ91 &lt;dbl&gt; | GTEX.1128S.2126.SM.5H12U &lt;dbl&gt; | GTEX.113IC.0226.SM.5HL5C &lt;dbl&gt; | ⋯ ⋯ | GTEX.ZVE2.0006.SM.51MRW &lt;dbl&gt; | GTEX.ZVP2.0005.SM.51MRK &lt;dbl&gt; | GTEX.ZVT2.0005.SM.57WBW &lt;dbl&gt; | GTEX.ZVT3.0006.SM.51MT9 &lt;int&gt; | GTEX.ZVT4.0006.SM.57WB8 &lt;dbl&gt; | GTEX.ZVTK.0006.SM.57WBK &lt;dbl&gt; | GTEX.ZVZP.0006.SM.51MSW &lt;dbl&gt; | GTEX.ZVZQ.0006.SM.51MR8 &lt;dbl&gt; | GTEX.ZXES.0005.SM.57WCB &lt;dbl&gt; | GTEX.ZXG5.0005.SM.57WCN &lt;dbl&gt; |\n",
       "|---|---|---|---|---|---|---|---|---|---|---|---|---|---|---|---|---|---|---|---|---|---|\n",
       "| 1 | ENSG00000223972.4 | DDX11L1 | 0.1082 | 0.1158 | 0.02104 | 0.02329 | 0 | 0.04641 | 0.03076 | 0.09358 | ⋯ | 0.09012 | 0.1462 | 0.1045 | 0 | 0.6603 | 0.695 | 0.1213 | 0.4169 | 0.2355 | 0.145 |\n",
       "\n"
      ],
      "text/plain": [
       "  Name              Description GTEX.1117F.0226.SM.5GZZ7\n",
       "1 ENSG00000223972.4 DDX11L1     0.1082                  \n",
       "  GTEX.111CU.1826.SM.5GZYN GTEX.111FC.0226.SM.5N9B8 GTEX.111VG.2326.SM.5N9BK\n",
       "1 0.1158                   0.02104                  0.02329                 \n",
       "  GTEX.111YS.2426.SM.5GZZQ GTEX.1122O.2026.SM.5NQ91 GTEX.1128S.2126.SM.5H12U\n",
       "1 0                        0.04641                  0.03076                 \n",
       "  GTEX.113IC.0226.SM.5HL5C ⋯ GTEX.ZVE2.0006.SM.51MRW GTEX.ZVP2.0005.SM.51MRK\n",
       "1 0.09358                  ⋯ 0.09012                 0.1462                 \n",
       "  GTEX.ZVT2.0005.SM.57WBW GTEX.ZVT3.0006.SM.51MT9 GTEX.ZVT4.0006.SM.57WB8\n",
       "1 0.1045                  0                       0.6603                 \n",
       "  GTEX.ZVTK.0006.SM.57WBK GTEX.ZVZP.0006.SM.51MSW GTEX.ZVZQ.0006.SM.51MR8\n",
       "1 0.695                   0.1213                  0.4169                 \n",
       "  GTEX.ZXES.0005.SM.57WCB GTEX.ZXG5.0005.SM.57WCN\n",
       "1 0.2355                  0.145                  "
      ]
     },
     "metadata": {},
     "output_type": "display_data"
    }
   ],
   "source": [
    "head(expression.mat)"
   ]
  },
  {
   "cell_type": "code",
   "execution_count": 59,
   "metadata": {},
   "outputs": [],
   "source": [
    "meta.data <- meta.data[!duplicated(meta.data$SAMPID),]"
   ]
  },
  {
   "cell_type": "code",
   "execution_count": 60,
   "metadata": {},
   "outputs": [
    {
     "data": {
      "text/html": [
       "<style>\n",
       ".list-inline {list-style: none; margin:0; padding: 0}\n",
       ".list-inline>li {display: inline-block}\n",
       ".list-inline>li:not(:last-child)::after {content: \"\\00b7\"; padding: 0 .5ex}\n",
       "</style>\n",
       "<ol class=list-inline><li>173</li><li>68</li></ol>\n"
      ],
      "text/latex": [
       "\\begin{enumerate*}\n",
       "\\item 173\n",
       "\\item 68\n",
       "\\end{enumerate*}\n"
      ],
      "text/markdown": [
       "1. 173\n",
       "2. 68\n",
       "\n",
       "\n"
      ],
      "text/plain": [
       "[1] 173  68"
      ]
     },
     "metadata": {},
     "output_type": "display_data"
    }
   ],
   "source": [
    "dim(meta.data)"
   ]
  },
  {
   "cell_type": "code",
   "execution_count": 61,
   "metadata": {},
   "outputs": [
    {
     "data": {
      "text/html": [
       "<style>\n",
       ".list-inline {list-style: none; margin:0; padding: 0}\n",
       ".list-inline>li {display: inline-block}\n",
       ".list-inline>li:not(:last-child)::after {content: \"\\00b7\"; padding: 0 .5ex}\n",
       "</style>\n",
       "<ol class=list-inline><li>146</li><li>173</li></ol>\n"
      ],
      "text/latex": [
       "\\begin{enumerate*}\n",
       "\\item 146\n",
       "\\item 173\n",
       "\\end{enumerate*}\n"
      ],
      "text/markdown": [
       "1. 146\n",
       "2. 173\n",
       "\n",
       "\n"
      ],
      "text/plain": [
       "[1] 146 173"
      ]
     },
     "metadata": {},
     "output_type": "display_data"
    },
    {
     "data": {
      "text/html": [
       "<table>\n",
       "<caption>A data.frame: 1 × 173</caption>\n",
       "<thead>\n",
       "\t<tr><th></th><th scope=col>SRR1068977</th><th scope=col>SRR1068999</th><th scope=col>SRR1070208</th><th scope=col>SRR1071084</th><th scope=col>SRR1071905</th><th scope=col>SRR1074860</th><th scope=col>SRR1075484</th><th scope=col>SRR1076219</th><th scope=col>SRR1076441</th><th scope=col>SRR1077139</th><th scope=col>⋯</th><th scope=col>SRR660283</th><th scope=col>SRR662306</th><th scope=col>SRR662378</th><th scope=col>SRR662811</th><th scope=col>SRR808428</th><th scope=col>SRR811285</th><th scope=col>SRR812198</th><th scope=col>SRR815208</th><th scope=col>SRR820571</th><th scope=col>SRR821498</th></tr>\n",
       "\t<tr><th></th><th scope=col>&lt;int&gt;</th><th scope=col>&lt;int&gt;</th><th scope=col>&lt;int&gt;</th><th scope=col>&lt;int&gt;</th><th scope=col>&lt;int&gt;</th><th scope=col>&lt;int&gt;</th><th scope=col>&lt;int&gt;</th><th scope=col>&lt;int&gt;</th><th scope=col>&lt;int&gt;</th><th scope=col>&lt;int&gt;</th><th scope=col>⋯</th><th scope=col>&lt;int&gt;</th><th scope=col>&lt;int&gt;</th><th scope=col>&lt;int&gt;</th><th scope=col>&lt;int&gt;</th><th scope=col>&lt;int&gt;</th><th scope=col>&lt;int&gt;</th><th scope=col>&lt;int&gt;</th><th scope=col>&lt;int&gt;</th><th scope=col>&lt;int&gt;</th><th scope=col>&lt;int&gt;</th></tr>\n",
       "</thead>\n",
       "<tbody>\n",
       "\t<tr><th scope=row>676</th><td>22</td><td>1</td><td>16</td><td>6</td><td>18</td><td>6</td><td>34</td><td>14</td><td>16</td><td>25</td><td>⋯</td><td>8</td><td>21</td><td>25</td><td>22</td><td>14</td><td>29</td><td>26</td><td>22</td><td>21</td><td>13</td></tr>\n",
       "</tbody>\n",
       "</table>\n"
      ],
      "text/latex": [
       "A data.frame: 1 × 173\n",
       "\\begin{tabular}{r|lllllllllllllllllllll}\n",
       "  & SRR1068977 & SRR1068999 & SRR1070208 & SRR1071084 & SRR1071905 & SRR1074860 & SRR1075484 & SRR1076219 & SRR1076441 & SRR1077139 & ⋯ & SRR660283 & SRR662306 & SRR662378 & SRR662811 & SRR808428 & SRR811285 & SRR812198 & SRR815208 & SRR820571 & SRR821498\\\\\n",
       "  & <int> & <int> & <int> & <int> & <int> & <int> & <int> & <int> & <int> & <int> & ⋯ & <int> & <int> & <int> & <int> & <int> & <int> & <int> & <int> & <int> & <int>\\\\\n",
       "\\hline\n",
       "\t676 & 22 & 1 & 16 & 6 & 18 & 6 & 34 & 14 & 16 & 25 & ⋯ & 8 & 21 & 25 & 22 & 14 & 29 & 26 & 22 & 21 & 13\\\\\n",
       "\\end{tabular}\n"
      ],
      "text/markdown": [
       "\n",
       "A data.frame: 1 × 173\n",
       "\n",
       "| <!--/--> | SRR1068977 &lt;int&gt; | SRR1068999 &lt;int&gt; | SRR1070208 &lt;int&gt; | SRR1071084 &lt;int&gt; | SRR1071905 &lt;int&gt; | SRR1074860 &lt;int&gt; | SRR1075484 &lt;int&gt; | SRR1076219 &lt;int&gt; | SRR1076441 &lt;int&gt; | SRR1077139 &lt;int&gt; | ⋯ ⋯ | SRR660283 &lt;int&gt; | SRR662306 &lt;int&gt; | SRR662378 &lt;int&gt; | SRR662811 &lt;int&gt; | SRR808428 &lt;int&gt; | SRR811285 &lt;int&gt; | SRR812198 &lt;int&gt; | SRR815208 &lt;int&gt; | SRR820571 &lt;int&gt; | SRR821498 &lt;int&gt; |\n",
       "|---|---|---|---|---|---|---|---|---|---|---|---|---|---|---|---|---|---|---|---|---|---|\n",
       "| 676 | 22 | 1 | 16 | 6 | 18 | 6 | 34 | 14 | 16 | 25 | ⋯ | 8 | 21 | 25 | 22 | 14 | 29 | 26 | 22 | 21 | 13 |\n",
       "\n"
      ],
      "text/plain": [
       "    SRR1068977 SRR1068999 SRR1070208 SRR1071084 SRR1071905 SRR1074860\n",
       "676 22         1          16         6          18         6         \n",
       "    SRR1075484 SRR1076219 SRR1076441 SRR1077139 ⋯ SRR660283 SRR662306 SRR662378\n",
       "676 34         14         16         25         ⋯ 8         21        25       \n",
       "    SRR662811 SRR808428 SRR811285 SRR812198 SRR815208 SRR820571 SRR821498\n",
       "676 22        14        29        26        22        21        13       "
      ]
     },
     "metadata": {},
     "output_type": "display_data"
    }
   ],
   "source": [
    "inc.counts <- inc.counts[,colnames(inc.counts) %in% meta.data$SRR]\n",
    "dim(inc.counts)\n",
    "head(inc.counts,1)"
   ]
  },
  {
   "cell_type": "code",
   "execution_count": 62,
   "metadata": {},
   "outputs": [
    {
     "data": {
      "text/html": [
       "<style>\n",
       ".list-inline {list-style: none; margin:0; padding: 0}\n",
       ".list-inline>li {display: inline-block}\n",
       ".list-inline>li:not(:last-child)::after {content: \"\\00b7\"; padding: 0 .5ex}\n",
       "</style>\n",
       "<ol class=list-inline><li>146</li><li>173</li></ol>\n"
      ],
      "text/latex": [
       "\\begin{enumerate*}\n",
       "\\item 146\n",
       "\\item 173\n",
       "\\end{enumerate*}\n"
      ],
      "text/markdown": [
       "1. 146\n",
       "2. 173\n",
       "\n",
       "\n"
      ],
      "text/plain": [
       "[1] 146 173"
      ]
     },
     "metadata": {},
     "output_type": "display_data"
    },
    {
     "data": {
      "text/html": [
       "<table>\n",
       "<caption>A data.frame: 1 × 173</caption>\n",
       "<thead>\n",
       "\t<tr><th></th><th scope=col>SRR1068977</th><th scope=col>SRR1068999</th><th scope=col>SRR1070208</th><th scope=col>SRR1071084</th><th scope=col>SRR1071905</th><th scope=col>SRR1074860</th><th scope=col>SRR1075484</th><th scope=col>SRR1076219</th><th scope=col>SRR1076441</th><th scope=col>SRR1077139</th><th scope=col>⋯</th><th scope=col>SRR660283</th><th scope=col>SRR662306</th><th scope=col>SRR662378</th><th scope=col>SRR662811</th><th scope=col>SRR808428</th><th scope=col>SRR811285</th><th scope=col>SRR812198</th><th scope=col>SRR815208</th><th scope=col>SRR820571</th><th scope=col>SRR821498</th></tr>\n",
       "\t<tr><th></th><th scope=col>&lt;int&gt;</th><th scope=col>&lt;int&gt;</th><th scope=col>&lt;int&gt;</th><th scope=col>&lt;int&gt;</th><th scope=col>&lt;int&gt;</th><th scope=col>&lt;int&gt;</th><th scope=col>&lt;int&gt;</th><th scope=col>&lt;int&gt;</th><th scope=col>&lt;int&gt;</th><th scope=col>&lt;int&gt;</th><th scope=col>⋯</th><th scope=col>&lt;int&gt;</th><th scope=col>&lt;int&gt;</th><th scope=col>&lt;int&gt;</th><th scope=col>&lt;int&gt;</th><th scope=col>&lt;int&gt;</th><th scope=col>&lt;int&gt;</th><th scope=col>&lt;int&gt;</th><th scope=col>&lt;int&gt;</th><th scope=col>&lt;int&gt;</th><th scope=col>&lt;int&gt;</th></tr>\n",
       "</thead>\n",
       "<tbody>\n",
       "\t<tr><th scope=row>676</th><td>292</td><td>616</td><td>320</td><td>195</td><td>399</td><td>285</td><td>83</td><td>515</td><td>1026</td><td>139</td><td>⋯</td><td>30</td><td>728</td><td>261</td><td>314</td><td>89</td><td>270</td><td>364</td><td>108</td><td>198</td><td>185</td></tr>\n",
       "</tbody>\n",
       "</table>\n"
      ],
      "text/latex": [
       "A data.frame: 1 × 173\n",
       "\\begin{tabular}{r|lllllllllllllllllllll}\n",
       "  & SRR1068977 & SRR1068999 & SRR1070208 & SRR1071084 & SRR1071905 & SRR1074860 & SRR1075484 & SRR1076219 & SRR1076441 & SRR1077139 & ⋯ & SRR660283 & SRR662306 & SRR662378 & SRR662811 & SRR808428 & SRR811285 & SRR812198 & SRR815208 & SRR820571 & SRR821498\\\\\n",
       "  & <int> & <int> & <int> & <int> & <int> & <int> & <int> & <int> & <int> & <int> & ⋯ & <int> & <int> & <int> & <int> & <int> & <int> & <int> & <int> & <int> & <int>\\\\\n",
       "\\hline\n",
       "\t676 & 292 & 616 & 320 & 195 & 399 & 285 & 83 & 515 & 1026 & 139 & ⋯ & 30 & 728 & 261 & 314 & 89 & 270 & 364 & 108 & 198 & 185\\\\\n",
       "\\end{tabular}\n"
      ],
      "text/markdown": [
       "\n",
       "A data.frame: 1 × 173\n",
       "\n",
       "| <!--/--> | SRR1068977 &lt;int&gt; | SRR1068999 &lt;int&gt; | SRR1070208 &lt;int&gt; | SRR1071084 &lt;int&gt; | SRR1071905 &lt;int&gt; | SRR1074860 &lt;int&gt; | SRR1075484 &lt;int&gt; | SRR1076219 &lt;int&gt; | SRR1076441 &lt;int&gt; | SRR1077139 &lt;int&gt; | ⋯ ⋯ | SRR660283 &lt;int&gt; | SRR662306 &lt;int&gt; | SRR662378 &lt;int&gt; | SRR662811 &lt;int&gt; | SRR808428 &lt;int&gt; | SRR811285 &lt;int&gt; | SRR812198 &lt;int&gt; | SRR815208 &lt;int&gt; | SRR820571 &lt;int&gt; | SRR821498 &lt;int&gt; |\n",
       "|---|---|---|---|---|---|---|---|---|---|---|---|---|---|---|---|---|---|---|---|---|---|\n",
       "| 676 | 292 | 616 | 320 | 195 | 399 | 285 | 83 | 515 | 1026 | 139 | ⋯ | 30 | 728 | 261 | 314 | 89 | 270 | 364 | 108 | 198 | 185 |\n",
       "\n"
      ],
      "text/plain": [
       "    SRR1068977 SRR1068999 SRR1070208 SRR1071084 SRR1071905 SRR1074860\n",
       "676 292        616        320        195        399        285       \n",
       "    SRR1075484 SRR1076219 SRR1076441 SRR1077139 ⋯ SRR660283 SRR662306 SRR662378\n",
       "676 83         515        1026       139        ⋯ 30        728       261      \n",
       "    SRR662811 SRR808428 SRR811285 SRR812198 SRR815208 SRR820571 SRR821498\n",
       "676 314       89        270       364       108       198       185      "
      ]
     },
     "metadata": {},
     "output_type": "display_data"
    }
   ],
   "source": [
    "skip.counts <- skip.counts[,colnames(skip.counts) %in% meta.data$SRR]\n",
    "dim(skip.counts)\n",
    "head(skip.counts, 1)"
   ]
  },
  {
   "cell_type": "code",
   "execution_count": 63,
   "metadata": {},
   "outputs": [
    {
     "data": {
      "text/html": [
       "<style>\n",
       ".list-inline {list-style: none; margin:0; padding: 0}\n",
       ".list-inline>li {display: inline-block}\n",
       ".list-inline>li:not(:last-child)::after {content: \"\\00b7\"; padding: 0 .5ex}\n",
       "</style>\n",
       "<ol class=list-inline><li>173</li><li>68</li></ol>\n"
      ],
      "text/latex": [
       "\\begin{enumerate*}\n",
       "\\item 173\n",
       "\\item 68\n",
       "\\end{enumerate*}\n"
      ],
      "text/markdown": [
       "1. 173\n",
       "2. 68\n",
       "\n",
       "\n"
      ],
      "text/plain": [
       "[1] 173  68"
      ]
     },
     "metadata": {},
     "output_type": "display_data"
    },
    {
     "data": {
      "text/html": [
       "<table>\n",
       "<caption>A tibble: 1 × 68</caption>\n",
       "<thead>\n",
       "\t<tr><th scope=col>SAMPID</th><th scope=col>SMATSSCR</th><th scope=col>SMCENTER</th><th scope=col>SMPTHNTS</th><th scope=col>SMRIN</th><th scope=col>SMTS</th><th scope=col>SMTSD</th><th scope=col>SMUBRID</th><th scope=col>SMTSISCH</th><th scope=col>SMTSPAX</th><th scope=col>⋯</th><th scope=col>SMRRNART</th><th scope=col>SME1MPRT</th><th scope=col>SMNUM5CD</th><th scope=col>SMDPMPRT</th><th scope=col>SME2PCTS</th><th scope=col>SUBJID</th><th scope=col>SEX</th><th scope=col>AGE</th><th scope=col>DTHHRDY</th><th scope=col>SRR</th></tr>\n",
       "\t<tr><th scope=col>&lt;chr&gt;</th><th scope=col>&lt;chr&gt;</th><th scope=col>&lt;chr&gt;</th><th scope=col>&lt;chr&gt;</th><th scope=col>&lt;dbl&gt;</th><th scope=col>&lt;chr&gt;</th><th scope=col>&lt;chr&gt;</th><th scope=col>&lt;chr&gt;</th><th scope=col>&lt;dbl&gt;</th><th scope=col>&lt;dbl&gt;</th><th scope=col>⋯</th><th scope=col>&lt;dbl&gt;</th><th scope=col>&lt;dbl&gt;</th><th scope=col>&lt;lgl&gt;</th><th scope=col>&lt;dbl&gt;</th><th scope=col>&lt;dbl&gt;</th><th scope=col>&lt;chr&gt;</th><th scope=col>&lt;dbl&gt;</th><th scope=col>&lt;chr&gt;</th><th scope=col>&lt;dbl&gt;</th><th scope=col>&lt;chr&gt;</th></tr>\n",
       "</thead>\n",
       "<tbody>\n",
       "\t<tr><td>GTEX.S4Q7.1126.SM.4AD6R</td><td>0</td><td>B1</td><td>2 aliquots</td><td>6.9</td><td>Breast</td><td>Breast - Mammary Tissue</td><td>8367</td><td>178</td><td>395</td><td>⋯</td><td>0.00513003</td><td>0.995356</td><td>NA</td><td>0</td><td>50.1072</td><td>GTEX-S4Q7</td><td>1</td><td>20-29</td><td>0</td><td>SRR1100893</td></tr>\n",
       "</tbody>\n",
       "</table>\n"
      ],
      "text/latex": [
       "A tibble: 1 × 68\n",
       "\\begin{tabular}{lllllllllllllllllllll}\n",
       " SAMPID & SMATSSCR & SMCENTER & SMPTHNTS & SMRIN & SMTS & SMTSD & SMUBRID & SMTSISCH & SMTSPAX & ⋯ & SMRRNART & SME1MPRT & SMNUM5CD & SMDPMPRT & SME2PCTS & SUBJID & SEX & AGE & DTHHRDY & SRR\\\\\n",
       " <chr> & <chr> & <chr> & <chr> & <dbl> & <chr> & <chr> & <chr> & <dbl> & <dbl> & ⋯ & <dbl> & <dbl> & <lgl> & <dbl> & <dbl> & <chr> & <dbl> & <chr> & <dbl> & <chr>\\\\\n",
       "\\hline\n",
       "\t GTEX.S4Q7.1126.SM.4AD6R & 0 & B1 & 2 aliquots & 6.9 & Breast & Breast - Mammary Tissue & 8367 & 178 & 395 & ⋯ & 0.00513003 & 0.995356 & NA & 0 & 50.1072 & GTEX-S4Q7 & 1 & 20-29 & 0 & SRR1100893\\\\\n",
       "\\end{tabular}\n"
      ],
      "text/markdown": [
       "\n",
       "A tibble: 1 × 68\n",
       "\n",
       "| SAMPID &lt;chr&gt; | SMATSSCR &lt;chr&gt; | SMCENTER &lt;chr&gt; | SMPTHNTS &lt;chr&gt; | SMRIN &lt;dbl&gt; | SMTS &lt;chr&gt; | SMTSD &lt;chr&gt; | SMUBRID &lt;chr&gt; | SMTSISCH &lt;dbl&gt; | SMTSPAX &lt;dbl&gt; | ⋯ ⋯ | SMRRNART &lt;dbl&gt; | SME1MPRT &lt;dbl&gt; | SMNUM5CD &lt;lgl&gt; | SMDPMPRT &lt;dbl&gt; | SME2PCTS &lt;dbl&gt; | SUBJID &lt;chr&gt; | SEX &lt;dbl&gt; | AGE &lt;chr&gt; | DTHHRDY &lt;dbl&gt; | SRR &lt;chr&gt; |\n",
       "|---|---|---|---|---|---|---|---|---|---|---|---|---|---|---|---|---|---|---|---|---|\n",
       "| GTEX.S4Q7.1126.SM.4AD6R | 0 | B1 | 2 aliquots | 6.9 | Breast | Breast - Mammary Tissue | 8367 | 178 | 395 | ⋯ | 0.00513003 | 0.995356 | NA | 0 | 50.1072 | GTEX-S4Q7 | 1 | 20-29 | 0 | SRR1100893 |\n",
       "\n"
      ],
      "text/plain": [
       "  SAMPID                  SMATSSCR SMCENTER SMPTHNTS   SMRIN SMTS  \n",
       "1 GTEX.S4Q7.1126.SM.4AD6R 0        B1       2 aliquots 6.9   Breast\n",
       "  SMTSD                   SMUBRID SMTSISCH SMTSPAX ⋯ SMRRNART   SME1MPRT\n",
       "1 Breast - Mammary Tissue 8367    178      395     ⋯ 0.00513003 0.995356\n",
       "  SMNUM5CD SMDPMPRT SME2PCTS SUBJID    SEX AGE   DTHHRDY SRR       \n",
       "1 NA       0        50.1072  GTEX-S4Q7 1   20-29 0       SRR1100893"
      ]
     },
     "metadata": {},
     "output_type": "display_data"
    }
   ],
   "source": [
    "meta.data <- meta.data[meta.data$SRR %in% colnames(inc.counts),]\n",
    "dim(meta.data)\n",
    "head(meta.data, 1)"
   ]
  },
  {
   "cell_type": "code",
   "execution_count": 64,
   "metadata": {},
   "outputs": [
    {
     "data": {
      "text/html": [
       "<style>\n",
       ".list-inline {list-style: none; margin:0; padding: 0}\n",
       ".list-inline>li {display: inline-block}\n",
       ".list-inline>li:not(:last-child)::after {content: \"\\00b7\"; padding: 0 .5ex}\n",
       "</style>\n",
       "<ol class=list-inline><li>'Name'</li><li>'Description'</li><li>'GTEX.1117F.0226.SM.5GZZ7'</li><li>'GTEX.111CU.1826.SM.5GZYN'</li></ol>\n"
      ],
      "text/latex": [
       "\\begin{enumerate*}\n",
       "\\item 'Name'\n",
       "\\item 'Description'\n",
       "\\item 'GTEX.1117F.0226.SM.5GZZ7'\n",
       "\\item 'GTEX.111CU.1826.SM.5GZYN'\n",
       "\\end{enumerate*}\n"
      ],
      "text/markdown": [
       "1. 'Name'\n",
       "2. 'Description'\n",
       "3. 'GTEX.1117F.0226.SM.5GZZ7'\n",
       "4. 'GTEX.111CU.1826.SM.5GZYN'\n",
       "\n",
       "\n"
      ],
      "text/plain": [
       "[1] \"Name\"                     \"Description\"             \n",
       "[3] \"GTEX.1117F.0226.SM.5GZZ7\" \"GTEX.111CU.1826.SM.5GZYN\""
      ]
     },
     "metadata": {},
     "output_type": "display_data"
    }
   ],
   "source": [
    "colnames.expression.mat[1:4]"
   ]
  },
  {
   "cell_type": "code",
   "execution_count": 65,
   "metadata": {},
   "outputs": [
    {
     "data": {
      "text/html": [
       "<style>\n",
       ".list-inline {list-style: none; margin:0; padding: 0}\n",
       ".list-inline>li {display: inline-block}\n",
       ".list-inline>li:not(:last-child)::after {content: \"\\00b7\"; padding: 0 .5ex}\n",
       "</style>\n",
       "<ol class=list-inline><li>1</li><li>11690</li></ol>\n"
      ],
      "text/latex": [
       "\\begin{enumerate*}\n",
       "\\item 1\n",
       "\\item 11690\n",
       "\\end{enumerate*}\n"
      ],
      "text/markdown": [
       "1. 1\n",
       "2. 11690\n",
       "\n",
       "\n"
      ],
      "text/plain": [
       "[1]     1 11690"
      ]
     },
     "metadata": {},
     "output_type": "display_data"
    },
    {
     "data": {
      "text/html": [
       "<table>\n",
       "<caption>A data.frame: 1 × 11690</caption>\n",
       "<thead>\n",
       "\t<tr><th></th><th scope=col>Name</th><th scope=col>Description</th><th scope=col>GTEX.1117F.0226.SM.5GZZ7</th><th scope=col>GTEX.111CU.1826.SM.5GZYN</th><th scope=col>GTEX.111FC.0226.SM.5N9B8</th><th scope=col>GTEX.111VG.2326.SM.5N9BK</th><th scope=col>GTEX.111YS.2426.SM.5GZZQ</th><th scope=col>GTEX.1122O.2026.SM.5NQ91</th><th scope=col>GTEX.1128S.2126.SM.5H12U</th><th scope=col>GTEX.113IC.0226.SM.5HL5C</th><th scope=col>⋯</th><th scope=col>GTEX.ZVE2.0006.SM.51MRW</th><th scope=col>GTEX.ZVP2.0005.SM.51MRK</th><th scope=col>GTEX.ZVT2.0005.SM.57WBW</th><th scope=col>GTEX.ZVT3.0006.SM.51MT9</th><th scope=col>GTEX.ZVT4.0006.SM.57WB8</th><th scope=col>GTEX.ZVTK.0006.SM.57WBK</th><th scope=col>GTEX.ZVZP.0006.SM.51MSW</th><th scope=col>GTEX.ZVZQ.0006.SM.51MR8</th><th scope=col>GTEX.ZXES.0005.SM.57WCB</th><th scope=col>GTEX.ZXG5.0005.SM.57WCN</th></tr>\n",
       "\t<tr><th></th><th scope=col>&lt;fct&gt;</th><th scope=col>&lt;fct&gt;</th><th scope=col>&lt;dbl&gt;</th><th scope=col>&lt;dbl&gt;</th><th scope=col>&lt;dbl&gt;</th><th scope=col>&lt;dbl&gt;</th><th scope=col>&lt;int&gt;</th><th scope=col>&lt;dbl&gt;</th><th scope=col>&lt;dbl&gt;</th><th scope=col>&lt;dbl&gt;</th><th scope=col>⋯</th><th scope=col>&lt;dbl&gt;</th><th scope=col>&lt;dbl&gt;</th><th scope=col>&lt;dbl&gt;</th><th scope=col>&lt;int&gt;</th><th scope=col>&lt;dbl&gt;</th><th scope=col>&lt;dbl&gt;</th><th scope=col>&lt;dbl&gt;</th><th scope=col>&lt;dbl&gt;</th><th scope=col>&lt;dbl&gt;</th><th scope=col>&lt;dbl&gt;</th></tr>\n",
       "</thead>\n",
       "<tbody>\n",
       "\t<tr><th scope=row>1</th><td>ENSG00000223972.4</td><td>DDX11L1</td><td>0.1082</td><td>0.1158</td><td>0.02104</td><td>0.02329</td><td>0</td><td>0.04641</td><td>0.03076</td><td>0.09358</td><td>⋯</td><td>0.09012</td><td>0.1462</td><td>0.1045</td><td>0</td><td>0.6603</td><td>0.695</td><td>0.1213</td><td>0.4169</td><td>0.2355</td><td>0.145</td></tr>\n",
       "</tbody>\n",
       "</table>\n"
      ],
      "text/latex": [
       "A data.frame: 1 × 11690\n",
       "\\begin{tabular}{r|lllllllllllllllllllll}\n",
       "  & Name & Description & GTEX.1117F.0226.SM.5GZZ7 & GTEX.111CU.1826.SM.5GZYN & GTEX.111FC.0226.SM.5N9B8 & GTEX.111VG.2326.SM.5N9BK & GTEX.111YS.2426.SM.5GZZQ & GTEX.1122O.2026.SM.5NQ91 & GTEX.1128S.2126.SM.5H12U & GTEX.113IC.0226.SM.5HL5C & ⋯ & GTEX.ZVE2.0006.SM.51MRW & GTEX.ZVP2.0005.SM.51MRK & GTEX.ZVT2.0005.SM.57WBW & GTEX.ZVT3.0006.SM.51MT9 & GTEX.ZVT4.0006.SM.57WB8 & GTEX.ZVTK.0006.SM.57WBK & GTEX.ZVZP.0006.SM.51MSW & GTEX.ZVZQ.0006.SM.51MR8 & GTEX.ZXES.0005.SM.57WCB & GTEX.ZXG5.0005.SM.57WCN\\\\\n",
       "  & <fct> & <fct> & <dbl> & <dbl> & <dbl> & <dbl> & <int> & <dbl> & <dbl> & <dbl> & ⋯ & <dbl> & <dbl> & <dbl> & <int> & <dbl> & <dbl> & <dbl> & <dbl> & <dbl> & <dbl>\\\\\n",
       "\\hline\n",
       "\t1 & ENSG00000223972.4 & DDX11L1 & 0.1082 & 0.1158 & 0.02104 & 0.02329 & 0 & 0.04641 & 0.03076 & 0.09358 & ⋯ & 0.09012 & 0.1462 & 0.1045 & 0 & 0.6603 & 0.695 & 0.1213 & 0.4169 & 0.2355 & 0.145\\\\\n",
       "\\end{tabular}\n"
      ],
      "text/markdown": [
       "\n",
       "A data.frame: 1 × 11690\n",
       "\n",
       "| <!--/--> | Name &lt;fct&gt; | Description &lt;fct&gt; | GTEX.1117F.0226.SM.5GZZ7 &lt;dbl&gt; | GTEX.111CU.1826.SM.5GZYN &lt;dbl&gt; | GTEX.111FC.0226.SM.5N9B8 &lt;dbl&gt; | GTEX.111VG.2326.SM.5N9BK &lt;dbl&gt; | GTEX.111YS.2426.SM.5GZZQ &lt;int&gt; | GTEX.1122O.2026.SM.5NQ91 &lt;dbl&gt; | GTEX.1128S.2126.SM.5H12U &lt;dbl&gt; | GTEX.113IC.0226.SM.5HL5C &lt;dbl&gt; | ⋯ ⋯ | GTEX.ZVE2.0006.SM.51MRW &lt;dbl&gt; | GTEX.ZVP2.0005.SM.51MRK &lt;dbl&gt; | GTEX.ZVT2.0005.SM.57WBW &lt;dbl&gt; | GTEX.ZVT3.0006.SM.51MT9 &lt;int&gt; | GTEX.ZVT4.0006.SM.57WB8 &lt;dbl&gt; | GTEX.ZVTK.0006.SM.57WBK &lt;dbl&gt; | GTEX.ZVZP.0006.SM.51MSW &lt;dbl&gt; | GTEX.ZVZQ.0006.SM.51MR8 &lt;dbl&gt; | GTEX.ZXES.0005.SM.57WCB &lt;dbl&gt; | GTEX.ZXG5.0005.SM.57WCN &lt;dbl&gt; |\n",
       "|---|---|---|---|---|---|---|---|---|---|---|---|---|---|---|---|---|---|---|---|---|---|\n",
       "| 1 | ENSG00000223972.4 | DDX11L1 | 0.1082 | 0.1158 | 0.02104 | 0.02329 | 0 | 0.04641 | 0.03076 | 0.09358 | ⋯ | 0.09012 | 0.1462 | 0.1045 | 0 | 0.6603 | 0.695 | 0.1213 | 0.4169 | 0.2355 | 0.145 |\n",
       "\n"
      ],
      "text/plain": [
       "  Name              Description GTEX.1117F.0226.SM.5GZZ7\n",
       "1 ENSG00000223972.4 DDX11L1     0.1082                  \n",
       "  GTEX.111CU.1826.SM.5GZYN GTEX.111FC.0226.SM.5N9B8 GTEX.111VG.2326.SM.5N9BK\n",
       "1 0.1158                   0.02104                  0.02329                 \n",
       "  GTEX.111YS.2426.SM.5GZZQ GTEX.1122O.2026.SM.5NQ91 GTEX.1128S.2126.SM.5H12U\n",
       "1 0                        0.04641                  0.03076                 \n",
       "  GTEX.113IC.0226.SM.5HL5C ⋯ GTEX.ZVE2.0006.SM.51MRW GTEX.ZVP2.0005.SM.51MRK\n",
       "1 0.09358                  ⋯ 0.09012                 0.1462                 \n",
       "  GTEX.ZVT2.0005.SM.57WBW GTEX.ZVT3.0006.SM.51MT9 GTEX.ZVT4.0006.SM.57WB8\n",
       "1 0.1045                  0                       0.6603                 \n",
       "  GTEX.ZVTK.0006.SM.57WBK GTEX.ZVZP.0006.SM.51MSW GTEX.ZVZQ.0006.SM.51MR8\n",
       "1 0.695                   0.1213                  0.4169                 \n",
       "  GTEX.ZXES.0005.SM.57WCB GTEX.ZXG5.0005.SM.57WCN\n",
       "1 0.2355                  0.145                  "
      ]
     },
     "metadata": {},
     "output_type": "display_data"
    }
   ],
   "source": [
    "dim(expression.mat)\n",
    "head(expression.mat, 1)"
   ]
  },
  {
   "cell_type": "code",
   "execution_count": 66,
   "metadata": {},
   "outputs": [
    {
     "data": {
      "text/html": [
       "'Breast - Mammary Tissue'"
      ],
      "text/latex": [
       "'Breast - Mammary Tissue'"
      ],
      "text/markdown": [
       "'Breast - Mammary Tissue'"
      ],
      "text/plain": [
       "[1] \"Breast - Mammary Tissue\""
      ]
     },
     "metadata": {},
     "output_type": "display_data"
    }
   ],
   "source": [
    "tissue <- unique(meta.data$SMTSD [ meta.data$SMTSD == tissue])\n",
    "tissue"
   ]
  },
  {
   "cell_type": "code",
   "execution_count": 67,
   "metadata": {},
   "outputs": [],
   "source": [
    "col.in.tissue<-c()\n",
    "for (col in colnames.expression.mat)\n",
    "  \n",
    "  col.in.tissue<-c(col.in.tissue, (col %in% meta.data$SAMPID) && (meta.data$SMTSD[which(meta.data$SAMPID==col)] %in% tissue) && (meta.data$SUBJID[which(meta.data$SAMPID==col)]!='GTEX-11ILO'))"
   ]
  },
  {
   "cell_type": "code",
   "execution_count": 68,
   "metadata": {},
   "outputs": [
    {
     "data": {
      "text/html": [
       "11690"
      ],
      "text/latex": [
       "11690"
      ],
      "text/markdown": [
       "11690"
      ],
      "text/plain": [
       "[1] 11690"
      ]
     },
     "metadata": {},
     "output_type": "display_data"
    },
    {
     "data": {
      "text/plain": [
       "col.in.tissue\n",
       "FALSE  TRUE \n",
       "11517   173 "
      ]
     },
     "metadata": {},
     "output_type": "display_data"
    }
   ],
   "source": [
    "length(col.in.tissue)\n",
    "table(col.in.tissue)"
   ]
  },
  {
   "cell_type": "code",
   "execution_count": 69,
   "metadata": {},
   "outputs": [
    {
     "data": {
      "text/html": [
       "11690"
      ],
      "text/latex": [
       "11690"
      ],
      "text/markdown": [
       "11690"
      ],
      "text/plain": [
       "[1] 11690"
      ]
     },
     "metadata": {},
     "output_type": "display_data"
    },
    {
     "data": {
      "text/html": [
       "11690"
      ],
      "text/latex": [
       "11690"
      ],
      "text/markdown": [
       "11690"
      ],
      "text/plain": [
       "[1] 11690"
      ]
     },
     "metadata": {},
     "output_type": "display_data"
    },
    {
     "data": {
      "text/html": [
       "<style>\n",
       ".list-inline {list-style: none; margin:0; padding: 0}\n",
       ".list-inline>li {display: inline-block}\n",
       ".list-inline>li:not(:last-child)::after {content: \"\\00b7\"; padding: 0 .5ex}\n",
       "</style>\n",
       "<ol class=list-inline><li>FALSE</li><li>FALSE</li><li>FALSE</li></ol>\n"
      ],
      "text/latex": [
       "\\begin{enumerate*}\n",
       "\\item FALSE\n",
       "\\item FALSE\n",
       "\\item FALSE\n",
       "\\end{enumerate*}\n"
      ],
      "text/markdown": [
       "1. FALSE\n",
       "2. FALSE\n",
       "3. FALSE\n",
       "\n",
       "\n"
      ],
      "text/plain": [
       "[1] FALSE FALSE FALSE"
      ]
     },
     "metadata": {},
     "output_type": "display_data"
    }
   ],
   "source": [
    "length(colnames.expression.mat)\n",
    "length(col.in.tissue)\n",
    "\n",
    "col.in.tissue[1:3]"
   ]
  },
  {
   "cell_type": "code",
   "execution_count": 70,
   "metadata": {},
   "outputs": [],
   "source": [
    "# colClasses is used to skip columns\n",
    "expression.mat <-read.table(expression.file.name, \n",
    "                            sep= \"\\t\",\n",
    "                            header = T,\n",
    "                            skip = 2, \n",
    "                            colClasses = ifelse(col.in.tissue, \"numeric\", \"NULL\"))"
   ]
  },
  {
   "cell_type": "code",
   "execution_count": 71,
   "metadata": {},
   "outputs": [
    {
     "data": {
      "text/html": [
       "11690"
      ],
      "text/latex": [
       "11690"
      ],
      "text/markdown": [
       "11690"
      ],
      "text/plain": [
       "[1] 11690"
      ]
     },
     "metadata": {},
     "output_type": "display_data"
    }
   ],
   "source": [
    "length(col.in.tissue)"
   ]
  },
  {
   "cell_type": "markdown",
   "metadata": {},
   "source": [
    "## Read gene names:"
   ]
  },
  {
   "cell_type": "code",
   "execution_count": 72,
   "metadata": {},
   "outputs": [
    {
     "data": {
      "text/html": [
       "<style>\n",
       ".list-inline {list-style: none; margin:0; padding: 0}\n",
       ".list-inline>li {display: inline-block}\n",
       ".list-inline>li:not(:last-child)::after {content: \"\\00b7\"; padding: 0 .5ex}\n",
       "</style>\n",
       "<ol class=list-inline><li>56202</li><li>173</li></ol>\n"
      ],
      "text/latex": [
       "\\begin{enumerate*}\n",
       "\\item 56202\n",
       "\\item 173\n",
       "\\end{enumerate*}\n"
      ],
      "text/markdown": [
       "1. 56202\n",
       "2. 173\n",
       "\n",
       "\n"
      ],
      "text/plain": [
       "[1] 56202   173"
      ]
     },
     "metadata": {},
     "output_type": "display_data"
    },
    {
     "data": {
      "text/html": [
       "<style>\n",
       ".list-inline {list-style: none; margin:0; padding: 0}\n",
       ".list-inline>li {display: inline-block}\n",
       ".list-inline>li:not(:last-child)::after {content: \"\\00b7\"; padding: 0 .5ex}\n",
       "</style>\n",
       "<ol class=list-inline><li>56202</li><li>173</li></ol>\n"
      ],
      "text/latex": [
       "\\begin{enumerate*}\n",
       "\\item 56202\n",
       "\\item 173\n",
       "\\end{enumerate*}\n"
      ],
      "text/markdown": [
       "1. 56202\n",
       "2. 173\n",
       "\n",
       "\n"
      ],
      "text/plain": [
       "[1] 56202   173"
      ]
     },
     "metadata": {},
     "output_type": "display_data"
    }
   ],
   "source": [
    "dim(expression.mat)\n",
    "expression.mat <- expression.mat[,order(match(colnames(expression.mat),meta.data$SAMPID))]\n",
    "dim(expression.mat)"
   ]
  },
  {
   "cell_type": "code",
   "execution_count": 73,
   "metadata": {},
   "outputs": [
    {
     "data": {
      "text/html": [
       "<style>\n",
       ".list-inline {list-style: none; margin:0; padding: 0}\n",
       ".list-inline>li {display: inline-block}\n",
       ".list-inline>li:not(:last-child)::after {content: \"\\00b7\"; padding: 0 .5ex}\n",
       "</style>\n",
       "<ol class=list-inline><li>146</li><li>173</li></ol>\n"
      ],
      "text/latex": [
       "\\begin{enumerate*}\n",
       "\\item 146\n",
       "\\item 173\n",
       "\\end{enumerate*}\n"
      ],
      "text/markdown": [
       "1. 146\n",
       "2. 173\n",
       "\n",
       "\n"
      ],
      "text/plain": [
       "[1] 146 173"
      ]
     },
     "metadata": {},
     "output_type": "display_data"
    }
   ],
   "source": [
    "inc.counts     <- inc.counts[,order(match(colnames(inc.counts),meta.data$SRR))]\n",
    "dim(inc.counts)"
   ]
  },
  {
   "cell_type": "code",
   "execution_count": 74,
   "metadata": {},
   "outputs": [
    {
     "data": {
      "text/html": [
       "<style>\n",
       ".list-inline {list-style: none; margin:0; padding: 0}\n",
       ".list-inline>li {display: inline-block}\n",
       ".list-inline>li:not(:last-child)::after {content: \"\\00b7\"; padding: 0 .5ex}\n",
       "</style>\n",
       "<ol class=list-inline><li>146</li><li>173</li></ol>\n"
      ],
      "text/latex": [
       "\\begin{enumerate*}\n",
       "\\item 146\n",
       "\\item 173\n",
       "\\end{enumerate*}\n"
      ],
      "text/markdown": [
       "1. 146\n",
       "2. 173\n",
       "\n",
       "\n"
      ],
      "text/plain": [
       "[1] 146 173"
      ]
     },
     "metadata": {},
     "output_type": "display_data"
    }
   ],
   "source": [
    "skip.counts    <- skip.counts[,order(match(colnames(skip.counts),meta.data$SRR))]\n",
    "dim(skip.counts)"
   ]
  },
  {
   "cell_type": "code",
   "execution_count": 75,
   "metadata": {},
   "outputs": [
    {
     "data": {
      "text/html": [
       "<style>\n",
       ".list-inline {list-style: none; margin:0; padding: 0}\n",
       ".list-inline>li {display: inline-block}\n",
       ".list-inline>li:not(:last-child)::after {content: \"\\00b7\"; padding: 0 .5ex}\n",
       "</style>\n",
       "<ol class=list-inline><li>56202</li><li>2</li></ol>\n"
      ],
      "text/latex": [
       "\\begin{enumerate*}\n",
       "\\item 56202\n",
       "\\item 2\n",
       "\\end{enumerate*}\n"
      ],
      "text/markdown": [
       "1. 56202\n",
       "2. 2\n",
       "\n",
       "\n"
      ],
      "text/plain": [
       "[1] 56202     2"
      ]
     },
     "metadata": {},
     "output_type": "display_data"
    },
    {
     "data": {
      "text/html": [
       "<table>\n",
       "<caption>A data.frame: 2 × 2</caption>\n",
       "<thead>\n",
       "\t<tr><th></th><th scope=col>Name</th><th scope=col>Description</th></tr>\n",
       "\t<tr><th></th><th scope=col>&lt;chr&gt;</th><th scope=col>&lt;chr&gt;</th></tr>\n",
       "</thead>\n",
       "<tbody>\n",
       "\t<tr><th scope=row>1</th><td>ENSG00000223972.4</td><td>DDX11L1</td></tr>\n",
       "\t<tr><th scope=row>2</th><td>ENSG00000227232.4</td><td>WASH7P </td></tr>\n",
       "</tbody>\n",
       "</table>\n"
      ],
      "text/latex": [
       "A data.frame: 2 × 2\n",
       "\\begin{tabular}{r|ll}\n",
       "  & Name & Description\\\\\n",
       "  & <chr> & <chr>\\\\\n",
       "\\hline\n",
       "\t1 & ENSG00000223972.4 & DDX11L1\\\\\n",
       "\t2 & ENSG00000227232.4 & WASH7P \\\\\n",
       "\\end{tabular}\n"
      ],
      "text/markdown": [
       "\n",
       "A data.frame: 2 × 2\n",
       "\n",
       "| <!--/--> | Name &lt;chr&gt; | Description &lt;chr&gt; |\n",
       "|---|---|---|\n",
       "| 1 | ENSG00000223972.4 | DDX11L1 |\n",
       "| 2 | ENSG00000227232.4 | WASH7P  |\n",
       "\n"
      ],
      "text/plain": [
       "  Name              Description\n",
       "1 ENSG00000223972.4 DDX11L1    \n",
       "2 ENSG00000227232.4 WASH7P     "
      ]
     },
     "metadata": {},
     "output_type": "display_data"
    }
   ],
   "source": [
    "all.genes      <- read.table(expression.file.name,sep=\"\\t\",header=T,skip=2,colClasses = c(rep(\"character\", 2), rep(\"NULL\", total.samples-2)))\n",
    "dim(all.genes)\n",
    "head(all.genes, 2)"
   ]
  },
  {
   "cell_type": "code",
   "execution_count": 76,
   "metadata": {},
   "outputs": [
    {
     "data": {
      "text/html": [
       "<style>\n",
       ".list-inline {list-style: none; margin:0; padding: 0}\n",
       ".list-inline>li {display: inline-block}\n",
       ".list-inline>li:not(:last-child)::after {content: \"\\00b7\"; padding: 0 .5ex}\n",
       "</style>\n",
       "<ol class=list-inline><li>54271</li><li>173</li></ol>\n"
      ],
      "text/latex": [
       "\\begin{enumerate*}\n",
       "\\item 54271\n",
       "\\item 173\n",
       "\\end{enumerate*}\n"
      ],
      "text/markdown": [
       "1. 54271\n",
       "2. 173\n",
       "\n",
       "\n"
      ],
      "text/plain": [
       "[1] 54271   173"
      ]
     },
     "metadata": {},
     "output_type": "display_data"
    },
    {
     "data": {
      "text/html": [
       "<table>\n",
       "<caption>A data.frame: 2 × 173</caption>\n",
       "<thead>\n",
       "\t<tr><th></th><th scope=col>GTEX.S4Q7.1126.SM.4AD6R</th><th scope=col>GTEX.ZZ64.1226.SM.5E43R</th><th scope=col>GTEX.ZA64.1526.SM.5CVMD</th><th scope=col>GTEX.11TT1.2126.SM.5GU5Y</th><th scope=col>GTEX.11NSD.0926.SM.5N9DR</th><th scope=col>GTEX.RU1J.0626.SM.4WAWY</th><th scope=col>GTEX.133LE.1726.SM.5K7VQ</th><th scope=col>GTEX.11EM3.1326.SM.5N9C6</th><th scope=col>GTEX.13FTX.1126.SM.5N9EN</th><th scope=col>GTEX.XQ3S.1326.SM.4BOPQ</th><th scope=col>⋯</th><th scope=col>GTEX.13OW5.2226.SM.5L3HC</th><th scope=col>GTEX.13O3O.0826.SM.5K7WE</th><th scope=col>GTEX.XMD1.0826.SM.4AT52</th><th scope=col>GTEX.11EI6.0626.SM.5985T</th><th scope=col>GTEX.14753.2426.SM.5LU8U</th><th scope=col>GTEX.X4EP.2926.SM.3P5YQ</th><th scope=col>GTEX.QVJO.1826.SM.447C9</th><th scope=col>GTEX.13NZ8.0126.SM.5IJCT</th><th scope=col>GTEX.1117F.2826.SM.5GZXL</th><th scope=col>GTEX.13N1W.0626.SM.5MR4U</th></tr>\n",
       "\t<tr><th></th><th scope=col>&lt;dbl&gt;</th><th scope=col>&lt;dbl&gt;</th><th scope=col>&lt;dbl&gt;</th><th scope=col>&lt;dbl&gt;</th><th scope=col>&lt;dbl&gt;</th><th scope=col>&lt;dbl&gt;</th><th scope=col>&lt;dbl&gt;</th><th scope=col>&lt;dbl&gt;</th><th scope=col>&lt;dbl&gt;</th><th scope=col>&lt;dbl&gt;</th><th scope=col>⋯</th><th scope=col>&lt;dbl&gt;</th><th scope=col>&lt;dbl&gt;</th><th scope=col>&lt;dbl&gt;</th><th scope=col>&lt;dbl&gt;</th><th scope=col>&lt;dbl&gt;</th><th scope=col>&lt;dbl&gt;</th><th scope=col>&lt;dbl&gt;</th><th scope=col>&lt;dbl&gt;</th><th scope=col>&lt;dbl&gt;</th><th scope=col>&lt;dbl&gt;</th></tr>\n",
       "</thead>\n",
       "<tbody>\n",
       "\t<tr><th scope=row>1</th><td>0.02393</td><td>0.07924</td><td>0.07894</td><td> 0.0548</td><td> 0.1406</td><td> 0.02687</td><td> 0.09482</td><td> 0.05028</td><td>0.2165</td><td> 0.05749</td><td>⋯</td><td> 0.0382</td><td> 0.02005</td><td> 0.05832</td><td> 0.06225</td><td>0.1121</td><td> 0.1559</td><td> 0.05962</td><td> 0.03483</td><td> 0.05445</td><td> 0.02398</td></tr>\n",
       "\t<tr><th scope=row>2</th><td>8.88100</td><td>9.96700</td><td>7.07600</td><td>15.0300</td><td>11.7900</td><td>25.43000</td><td>17.98000</td><td>18.39000</td><td>9.2880</td><td>13.66000</td><td>⋯</td><td>18.3700</td><td>14.53000</td><td>21.75000</td><td>15.63000</td><td>7.8300</td><td>17.2900</td><td>12.76000</td><td>19.20000</td><td>20.81000</td><td>13.56000</td></tr>\n",
       "</tbody>\n",
       "</table>\n"
      ],
      "text/latex": [
       "A data.frame: 2 × 173\n",
       "\\begin{tabular}{r|lllllllllllllllllllll}\n",
       "  & GTEX.S4Q7.1126.SM.4AD6R & GTEX.ZZ64.1226.SM.5E43R & GTEX.ZA64.1526.SM.5CVMD & GTEX.11TT1.2126.SM.5GU5Y & GTEX.11NSD.0926.SM.5N9DR & GTEX.RU1J.0626.SM.4WAWY & GTEX.133LE.1726.SM.5K7VQ & GTEX.11EM3.1326.SM.5N9C6 & GTEX.13FTX.1126.SM.5N9EN & GTEX.XQ3S.1326.SM.4BOPQ & ⋯ & GTEX.13OW5.2226.SM.5L3HC & GTEX.13O3O.0826.SM.5K7WE & GTEX.XMD1.0826.SM.4AT52 & GTEX.11EI6.0626.SM.5985T & GTEX.14753.2426.SM.5LU8U & GTEX.X4EP.2926.SM.3P5YQ & GTEX.QVJO.1826.SM.447C9 & GTEX.13NZ8.0126.SM.5IJCT & GTEX.1117F.2826.SM.5GZXL & GTEX.13N1W.0626.SM.5MR4U\\\\\n",
       "  & <dbl> & <dbl> & <dbl> & <dbl> & <dbl> & <dbl> & <dbl> & <dbl> & <dbl> & <dbl> & ⋯ & <dbl> & <dbl> & <dbl> & <dbl> & <dbl> & <dbl> & <dbl> & <dbl> & <dbl> & <dbl>\\\\\n",
       "\\hline\n",
       "\t1 & 0.02393 & 0.07924 & 0.07894 &  0.0548 &  0.1406 &  0.02687 &  0.09482 &  0.05028 & 0.2165 &  0.05749 & ⋯ &  0.0382 &  0.02005 &  0.05832 &  0.06225 & 0.1121 &  0.1559 &  0.05962 &  0.03483 &  0.05445 &  0.02398\\\\\n",
       "\t2 & 8.88100 & 9.96700 & 7.07600 & 15.0300 & 11.7900 & 25.43000 & 17.98000 & 18.39000 & 9.2880 & 13.66000 & ⋯ & 18.3700 & 14.53000 & 21.75000 & 15.63000 & 7.8300 & 17.2900 & 12.76000 & 19.20000 & 20.81000 & 13.56000\\\\\n",
       "\\end{tabular}\n"
      ],
      "text/markdown": [
       "\n",
       "A data.frame: 2 × 173\n",
       "\n",
       "| <!--/--> | GTEX.S4Q7.1126.SM.4AD6R &lt;dbl&gt; | GTEX.ZZ64.1226.SM.5E43R &lt;dbl&gt; | GTEX.ZA64.1526.SM.5CVMD &lt;dbl&gt; | GTEX.11TT1.2126.SM.5GU5Y &lt;dbl&gt; | GTEX.11NSD.0926.SM.5N9DR &lt;dbl&gt; | GTEX.RU1J.0626.SM.4WAWY &lt;dbl&gt; | GTEX.133LE.1726.SM.5K7VQ &lt;dbl&gt; | GTEX.11EM3.1326.SM.5N9C6 &lt;dbl&gt; | GTEX.13FTX.1126.SM.5N9EN &lt;dbl&gt; | GTEX.XQ3S.1326.SM.4BOPQ &lt;dbl&gt; | ⋯ ⋯ | GTEX.13OW5.2226.SM.5L3HC &lt;dbl&gt; | GTEX.13O3O.0826.SM.5K7WE &lt;dbl&gt; | GTEX.XMD1.0826.SM.4AT52 &lt;dbl&gt; | GTEX.11EI6.0626.SM.5985T &lt;dbl&gt; | GTEX.14753.2426.SM.5LU8U &lt;dbl&gt; | GTEX.X4EP.2926.SM.3P5YQ &lt;dbl&gt; | GTEX.QVJO.1826.SM.447C9 &lt;dbl&gt; | GTEX.13NZ8.0126.SM.5IJCT &lt;dbl&gt; | GTEX.1117F.2826.SM.5GZXL &lt;dbl&gt; | GTEX.13N1W.0626.SM.5MR4U &lt;dbl&gt; |\n",
       "|---|---|---|---|---|---|---|---|---|---|---|---|---|---|---|---|---|---|---|---|---|---|\n",
       "| 1 | 0.02393 | 0.07924 | 0.07894 |  0.0548 |  0.1406 |  0.02687 |  0.09482 |  0.05028 | 0.2165 |  0.05749 | ⋯ |  0.0382 |  0.02005 |  0.05832 |  0.06225 | 0.1121 |  0.1559 |  0.05962 |  0.03483 |  0.05445 |  0.02398 |\n",
       "| 2 | 8.88100 | 9.96700 | 7.07600 | 15.0300 | 11.7900 | 25.43000 | 17.98000 | 18.39000 | 9.2880 | 13.66000 | ⋯ | 18.3700 | 14.53000 | 21.75000 | 15.63000 | 7.8300 | 17.2900 | 12.76000 | 19.20000 | 20.81000 | 13.56000 |\n",
       "\n"
      ],
      "text/plain": [
       "  GTEX.S4Q7.1126.SM.4AD6R GTEX.ZZ64.1226.SM.5E43R GTEX.ZA64.1526.SM.5CVMD\n",
       "1 0.02393                 0.07924                 0.07894                \n",
       "2 8.88100                 9.96700                 7.07600                \n",
       "  GTEX.11TT1.2126.SM.5GU5Y GTEX.11NSD.0926.SM.5N9DR GTEX.RU1J.0626.SM.4WAWY\n",
       "1  0.0548                   0.1406                   0.02687               \n",
       "2 15.0300                  11.7900                  25.43000               \n",
       "  GTEX.133LE.1726.SM.5K7VQ GTEX.11EM3.1326.SM.5N9C6 GTEX.13FTX.1126.SM.5N9EN\n",
       "1  0.09482                  0.05028                 0.2165                  \n",
       "2 17.98000                 18.39000                 9.2880                  \n",
       "  GTEX.XQ3S.1326.SM.4BOPQ ⋯ GTEX.13OW5.2226.SM.5L3HC GTEX.13O3O.0826.SM.5K7WE\n",
       "1  0.05749                ⋯  0.0382                   0.02005                \n",
       "2 13.66000                ⋯ 18.3700                  14.53000                \n",
       "  GTEX.XMD1.0826.SM.4AT52 GTEX.11EI6.0626.SM.5985T GTEX.14753.2426.SM.5LU8U\n",
       "1  0.05832                 0.06225                 0.1121                  \n",
       "2 21.75000                15.63000                 7.8300                  \n",
       "  GTEX.X4EP.2926.SM.3P5YQ GTEX.QVJO.1826.SM.447C9 GTEX.13NZ8.0126.SM.5IJCT\n",
       "1  0.1559                  0.05962                 0.03483                \n",
       "2 17.2900                 12.76000                19.20000                \n",
       "  GTEX.1117F.2826.SM.5GZXL GTEX.13N1W.0626.SM.5MR4U\n",
       "1  0.05445                  0.02398                \n",
       "2 20.81000                 13.56000                "
      ]
     },
     "metadata": {},
     "output_type": "display_data"
    }
   ],
   "source": [
    "expression.mat <- expression.mat[!duplicated(all.genes$Description),]\n",
    "dim(expression.mat)\n",
    "head(expression.mat,2)"
   ]
  },
  {
   "cell_type": "code",
   "execution_count": 77,
   "metadata": {},
   "outputs": [
    {
     "data": {
      "text/html": [
       "<style>\n",
       ".list-inline {list-style: none; margin:0; padding: 0}\n",
       ".list-inline>li {display: inline-block}\n",
       ".list-inline>li:not(:last-child)::after {content: \"\\00b7\"; padding: 0 .5ex}\n",
       "</style>\n",
       "<ol class=list-inline><li>54271</li><li>2</li></ol>\n"
      ],
      "text/latex": [
       "\\begin{enumerate*}\n",
       "\\item 54271\n",
       "\\item 2\n",
       "\\end{enumerate*}\n"
      ],
      "text/markdown": [
       "1. 54271\n",
       "2. 2\n",
       "\n",
       "\n"
      ],
      "text/plain": [
       "[1] 54271     2"
      ]
     },
     "metadata": {},
     "output_type": "display_data"
    }
   ],
   "source": [
    "all.genes      <- all.genes[!duplicated(all.genes$Description),]\n",
    "dim(all.genes)"
   ]
  },
  {
   "cell_type": "code",
   "execution_count": 78,
   "metadata": {},
   "outputs": [
    {
     "data": {
      "text/html": [
       "<style>\n",
       ".list-inline {list-style: none; margin:0; padding: 0}\n",
       ".list-inline>li {display: inline-block}\n",
       ".list-inline>li:not(:last-child)::after {content: \"\\00b7\"; padding: 0 .5ex}\n",
       "</style>\n",
       "<ol class=list-inline><li>129</li><li>173</li></ol>\n"
      ],
      "text/latex": [
       "\\begin{enumerate*}\n",
       "\\item 129\n",
       "\\item 173\n",
       "\\end{enumerate*}\n"
      ],
      "text/markdown": [
       "1. 129\n",
       "2. 173\n",
       "\n",
       "\n"
      ],
      "text/plain": [
       "[1] 129 173"
      ]
     },
     "metadata": {},
     "output_type": "display_data"
    }
   ],
   "source": [
    "skip.counts    <- skip.counts[merged.table$geneSymbol %in% all.genes$Description,]\n",
    "dim(skip.counts)"
   ]
  },
  {
   "cell_type": "code",
   "execution_count": 79,
   "metadata": {},
   "outputs": [
    {
     "data": {
      "text/html": [
       "<style>\n",
       ".list-inline {list-style: none; margin:0; padding: 0}\n",
       ".list-inline>li {display: inline-block}\n",
       ".list-inline>li:not(:last-child)::after {content: \"\\00b7\"; padding: 0 .5ex}\n",
       "</style>\n",
       "<ol class=list-inline><li>129</li><li>173</li></ol>\n"
      ],
      "text/latex": [
       "\\begin{enumerate*}\n",
       "\\item 129\n",
       "\\item 173\n",
       "\\end{enumerate*}\n"
      ],
      "text/markdown": [
       "1. 129\n",
       "2. 173\n",
       "\n",
       "\n"
      ],
      "text/plain": [
       "[1] 129 173"
      ]
     },
     "metadata": {},
     "output_type": "display_data"
    }
   ],
   "source": [
    "inc.counts     <- inc.counts[merged.table$geneSymbol %in% all.genes$Description,]\n",
    "dim(inc.counts)"
   ]
  },
  {
   "cell_type": "code",
   "execution_count": 80,
   "metadata": {},
   "outputs": [
    {
     "data": {
      "text/html": [
       "<style>\n",
       ".list-inline {list-style: none; margin:0; padding: 0}\n",
       ".list-inline>li {display: inline-block}\n",
       ".list-inline>li:not(:last-child)::after {content: \"\\00b7\"; padding: 0 .5ex}\n",
       "</style>\n",
       "<ol class=list-inline><li>129</li><li>18</li></ol>\n"
      ],
      "text/latex": [
       "\\begin{enumerate*}\n",
       "\\item 129\n",
       "\\item 18\n",
       "\\end{enumerate*}\n"
      ],
      "text/markdown": [
       "1. 129\n",
       "2. 18\n",
       "\n",
       "\n"
      ],
      "text/plain": [
       "[1] 129  18"
      ]
     },
     "metadata": {},
     "output_type": "display_data"
    }
   ],
   "source": [
    "merged.table   <- merged.table[merged.table$geneSymbol %in% all.genes$Description,]\n",
    "dim(merged.table)"
   ]
  },
  {
   "cell_type": "code",
   "execution_count": 81,
   "metadata": {},
   "outputs": [
    {
     "data": {
      "text/html": [
       "110"
      ],
      "text/latex": [
       "110"
      ],
      "text/markdown": [
       "110"
      ],
      "text/plain": [
       "[1] 110"
      ]
     },
     "metadata": {},
     "output_type": "display_data"
    }
   ],
   "source": [
    "gene.names     <- unique(merged.table$geneSymbol)\n",
    "length(gene.names)"
   ]
  },
  {
   "cell_type": "code",
   "execution_count": 82,
   "metadata": {},
   "outputs": [
    {
     "data": {
      "text/html": [
       "<style>\n",
       ".list-inline {list-style: none; margin:0; padding: 0}\n",
       ".list-inline>li {display: inline-block}\n",
       ".list-inline>li:not(:last-child)::after {content: \"\\00b7\"; padding: 0 .5ex}\n",
       "</style>\n",
       "<ol class=list-inline><li>448</li><li>173</li></ol>\n"
      ],
      "text/latex": [
       "\\begin{enumerate*}\n",
       "\\item 448\n",
       "\\item 173\n",
       "\\end{enumerate*}\n"
      ],
      "text/markdown": [
       "1. 448\n",
       "2. 173\n",
       "\n",
       "\n"
      ],
      "text/plain": [
       "[1] 448 173"
      ]
     },
     "metadata": {},
     "output_type": "display_data"
    }
   ],
   "source": [
    "expression.mat <- expression.mat[all.genes$Description %in% c(as.character(rbp.table$Gene),as.character(gene.names)),]\n",
    "dim(expression.mat)"
   ]
  },
  {
   "cell_type": "code",
   "execution_count": 83,
   "metadata": {},
   "outputs": [
    {
     "data": {
      "text/html": [
       "448"
      ],
      "text/latex": [
       "448"
      ],
      "text/markdown": [
       "448"
      ],
      "text/plain": [
       "[1] 448"
      ]
     },
     "metadata": {},
     "output_type": "display_data"
    }
   ],
   "source": [
    "rownames.expression.mat <-all.genes$Description[all.genes$Description %in% c(as.character(rbp.table$Gene),as.character(gene.names))]\n",
    "length(rownames.expression.mat)"
   ]
  },
  {
   "cell_type": "code",
   "execution_count": 84,
   "metadata": {},
   "outputs": [
    {
     "data": {
      "text/html": [
       "<style>\n",
       ".list-inline {list-style: none; margin:0; padding: 0}\n",
       ".list-inline>li {display: inline-block}\n",
       ".list-inline>li:not(:last-child)::after {content: \"\\00b7\"; padding: 0 .5ex}\n",
       "</style>\n",
       "<ol class=list-inline><li>448</li><li>173</li></ol>\n"
      ],
      "text/latex": [
       "\\begin{enumerate*}\n",
       "\\item 448\n",
       "\\item 173\n",
       "\\end{enumerate*}\n"
      ],
      "text/markdown": [
       "1. 448\n",
       "2. 173\n",
       "\n",
       "\n"
      ],
      "text/plain": [
       "[1] 448 173"
      ]
     },
     "metadata": {},
     "output_type": "display_data"
    }
   ],
   "source": [
    "expression.mat <-expression.mat[!duplicated(rownames.expression.mat),]\n",
    "dim(expression.mat)"
   ]
  },
  {
   "cell_type": "code",
   "execution_count": 85,
   "metadata": {},
   "outputs": [
    {
     "data": {
      "text/html": [
       "448"
      ],
      "text/latex": [
       "448"
      ],
      "text/markdown": [
       "448"
      ],
      "text/plain": [
       "[1] 448"
      ]
     },
     "metadata": {},
     "output_type": "display_data"
    }
   ],
   "source": [
    "rownames.expression.mat <-rownames.expression.mat[!duplicated(rownames.expression.mat)]\n",
    "length(rownames.expression.mat)"
   ]
  },
  {
   "cell_type": "markdown",
   "metadata": {},
   "source": [
    "## Prepare expression of genes and RBPS:"
   ]
  },
  {
   "cell_type": "code",
   "execution_count": 86,
   "metadata": {},
   "outputs": [
    {
     "data": {
      "text/html": [
       "129"
      ],
      "text/latex": [
       "129"
      ],
      "text/markdown": [
       "129"
      ],
      "text/plain": [
       "[1] 129"
      ]
     },
     "metadata": {},
     "output_type": "display_data"
    }
   ],
   "source": [
    "num.events     <- nrow(merged.table)\n",
    "num.events"
   ]
  },
  {
   "cell_type": "code",
   "execution_count": 87,
   "metadata": {},
   "outputs": [],
   "source": [
    "event.to.gene  <- c()"
   ]
  },
  {
   "cell_type": "code",
   "execution_count": 88,
   "metadata": {},
   "outputs": [
    {
     "data": {
      "text/html": [
       "<style>\n",
       ".list-inline {list-style: none; margin:0; padding: 0}\n",
       ".list-inline>li {display: inline-block}\n",
       ".list-inline>li:not(:last-child)::after {content: \"\\00b7\"; padding: 0 .5ex}\n",
       "</style>\n",
       "<ol class=list-inline><li>110</li><li>173</li></ol>\n"
      ],
      "text/latex": [
       "\\begin{enumerate*}\n",
       "\\item 110\n",
       "\\item 173\n",
       "\\end{enumerate*}\n"
      ],
      "text/markdown": [
       "1. 110\n",
       "2. 173\n",
       "\n",
       "\n"
      ],
      "text/plain": [
       "[1] 110 173"
      ]
     },
     "metadata": {},
     "output_type": "display_data"
    }
   ],
   "source": [
    "gexp           <- expression.mat[rownames.expression.mat %in% gene.names,]\n",
    "dim(gexp)"
   ]
  },
  {
   "cell_type": "code",
   "execution_count": 89,
   "metadata": {},
   "outputs": [],
   "source": [
    "rownames(gexp) <- rownames.expression.mat[rownames.expression.mat %in% gene.names]"
   ]
  },
  {
   "cell_type": "code",
   "execution_count": 90,
   "metadata": {},
   "outputs": [
    {
     "data": {
      "text/html": [
       "<style>\n",
       ".list-inline {list-style: none; margin:0; padding: 0}\n",
       ".list-inline>li {display: inline-block}\n",
       ".list-inline>li:not(:last-child)::after {content: \"\\00b7\"; padding: 0 .5ex}\n",
       "</style>\n",
       "<ol class=list-inline><li>110</li><li>173</li></ol>\n"
      ],
      "text/latex": [
       "\\begin{enumerate*}\n",
       "\\item 110\n",
       "\\item 173\n",
       "\\end{enumerate*}\n"
      ],
      "text/markdown": [
       "1. 110\n",
       "2. 173\n",
       "\n",
       "\n"
      ],
      "text/plain": [
       "[1] 110 173"
      ]
     },
     "metadata": {},
     "output_type": "display_data"
    },
    {
     "data": {
      "text/html": [
       "<table>\n",
       "<caption>A data.frame: 2 × 173</caption>\n",
       "<thead>\n",
       "\t<tr><th></th><th scope=col>GTEX.S4Q7.1126.SM.4AD6R</th><th scope=col>GTEX.ZZ64.1226.SM.5E43R</th><th scope=col>GTEX.ZA64.1526.SM.5CVMD</th><th scope=col>GTEX.11TT1.2126.SM.5GU5Y</th><th scope=col>GTEX.11NSD.0926.SM.5N9DR</th><th scope=col>GTEX.RU1J.0626.SM.4WAWY</th><th scope=col>GTEX.133LE.1726.SM.5K7VQ</th><th scope=col>GTEX.11EM3.1326.SM.5N9C6</th><th scope=col>GTEX.13FTX.1126.SM.5N9EN</th><th scope=col>GTEX.XQ3S.1326.SM.4BOPQ</th><th scope=col>⋯</th><th scope=col>GTEX.13OW5.2226.SM.5L3HC</th><th scope=col>GTEX.13O3O.0826.SM.5K7WE</th><th scope=col>GTEX.XMD1.0826.SM.4AT52</th><th scope=col>GTEX.11EI6.0626.SM.5985T</th><th scope=col>GTEX.14753.2426.SM.5LU8U</th><th scope=col>GTEX.X4EP.2926.SM.3P5YQ</th><th scope=col>GTEX.QVJO.1826.SM.447C9</th><th scope=col>GTEX.13NZ8.0126.SM.5IJCT</th><th scope=col>GTEX.1117F.2826.SM.5GZXL</th><th scope=col>GTEX.13N1W.0626.SM.5MR4U</th></tr>\n",
       "\t<tr><th></th><th scope=col>&lt;dbl&gt;</th><th scope=col>&lt;dbl&gt;</th><th scope=col>&lt;dbl&gt;</th><th scope=col>&lt;dbl&gt;</th><th scope=col>&lt;dbl&gt;</th><th scope=col>&lt;dbl&gt;</th><th scope=col>&lt;dbl&gt;</th><th scope=col>&lt;dbl&gt;</th><th scope=col>&lt;dbl&gt;</th><th scope=col>&lt;dbl&gt;</th><th scope=col>⋯</th><th scope=col>&lt;dbl&gt;</th><th scope=col>&lt;dbl&gt;</th><th scope=col>&lt;dbl&gt;</th><th scope=col>&lt;dbl&gt;</th><th scope=col>&lt;dbl&gt;</th><th scope=col>&lt;dbl&gt;</th><th scope=col>&lt;dbl&gt;</th><th scope=col>&lt;dbl&gt;</th><th scope=col>&lt;dbl&gt;</th><th scope=col>&lt;dbl&gt;</th></tr>\n",
       "</thead>\n",
       "<tbody>\n",
       "\t<tr><th scope=row>LYPD6B</th><td>0.000</td><td>0.1255</td><td>0.04762</td><td> 0.3347</td><td>0.8268</td><td> 1.434</td><td> 3.453</td><td> 3.048</td><td>0.000</td><td>0.03901</td><td>⋯</td><td> 7.604</td><td> 4.889</td><td> 8.482</td><td> 4.732</td><td>0.3549</td><td> 6.12</td><td>0.5125</td><td> 3.025</td><td> 3.411</td><td>0.5423</td></tr>\n",
       "\t<tr><th scope=row>SH2D3A</th><td>2.657</td><td>1.5360</td><td>1.83200</td><td>15.5700</td><td>8.5270</td><td>46.770</td><td>36.080</td><td>47.000</td><td>1.534</td><td>2.32200</td><td>⋯</td><td>39.140</td><td>28.950</td><td>25.800</td><td>23.760</td><td>1.5830</td><td>47.17</td><td>6.0710</td><td>28.560</td><td>11.860</td><td>3.2440</td></tr>\n",
       "</tbody>\n",
       "</table>\n"
      ],
      "text/latex": [
       "A data.frame: 2 × 173\n",
       "\\begin{tabular}{r|lllllllllllllllllllll}\n",
       "  & GTEX.S4Q7.1126.SM.4AD6R & GTEX.ZZ64.1226.SM.5E43R & GTEX.ZA64.1526.SM.5CVMD & GTEX.11TT1.2126.SM.5GU5Y & GTEX.11NSD.0926.SM.5N9DR & GTEX.RU1J.0626.SM.4WAWY & GTEX.133LE.1726.SM.5K7VQ & GTEX.11EM3.1326.SM.5N9C6 & GTEX.13FTX.1126.SM.5N9EN & GTEX.XQ3S.1326.SM.4BOPQ & ⋯ & GTEX.13OW5.2226.SM.5L3HC & GTEX.13O3O.0826.SM.5K7WE & GTEX.XMD1.0826.SM.4AT52 & GTEX.11EI6.0626.SM.5985T & GTEX.14753.2426.SM.5LU8U & GTEX.X4EP.2926.SM.3P5YQ & GTEX.QVJO.1826.SM.447C9 & GTEX.13NZ8.0126.SM.5IJCT & GTEX.1117F.2826.SM.5GZXL & GTEX.13N1W.0626.SM.5MR4U\\\\\n",
       "  & <dbl> & <dbl> & <dbl> & <dbl> & <dbl> & <dbl> & <dbl> & <dbl> & <dbl> & <dbl> & ⋯ & <dbl> & <dbl> & <dbl> & <dbl> & <dbl> & <dbl> & <dbl> & <dbl> & <dbl> & <dbl>\\\\\n",
       "\\hline\n",
       "\tLYPD6B & 0.000 & 0.1255 & 0.04762 &  0.3347 & 0.8268 &  1.434 &  3.453 &  3.048 & 0.000 & 0.03901 & ⋯ &  7.604 &  4.889 &  8.482 &  4.732 & 0.3549 &  6.12 & 0.5125 &  3.025 &  3.411 & 0.5423\\\\\n",
       "\tSH2D3A & 2.657 & 1.5360 & 1.83200 & 15.5700 & 8.5270 & 46.770 & 36.080 & 47.000 & 1.534 & 2.32200 & ⋯ & 39.140 & 28.950 & 25.800 & 23.760 & 1.5830 & 47.17 & 6.0710 & 28.560 & 11.860 & 3.2440\\\\\n",
       "\\end{tabular}\n"
      ],
      "text/markdown": [
       "\n",
       "A data.frame: 2 × 173\n",
       "\n",
       "| <!--/--> | GTEX.S4Q7.1126.SM.4AD6R &lt;dbl&gt; | GTEX.ZZ64.1226.SM.5E43R &lt;dbl&gt; | GTEX.ZA64.1526.SM.5CVMD &lt;dbl&gt; | GTEX.11TT1.2126.SM.5GU5Y &lt;dbl&gt; | GTEX.11NSD.0926.SM.5N9DR &lt;dbl&gt; | GTEX.RU1J.0626.SM.4WAWY &lt;dbl&gt; | GTEX.133LE.1726.SM.5K7VQ &lt;dbl&gt; | GTEX.11EM3.1326.SM.5N9C6 &lt;dbl&gt; | GTEX.13FTX.1126.SM.5N9EN &lt;dbl&gt; | GTEX.XQ3S.1326.SM.4BOPQ &lt;dbl&gt; | ⋯ ⋯ | GTEX.13OW5.2226.SM.5L3HC &lt;dbl&gt; | GTEX.13O3O.0826.SM.5K7WE &lt;dbl&gt; | GTEX.XMD1.0826.SM.4AT52 &lt;dbl&gt; | GTEX.11EI6.0626.SM.5985T &lt;dbl&gt; | GTEX.14753.2426.SM.5LU8U &lt;dbl&gt; | GTEX.X4EP.2926.SM.3P5YQ &lt;dbl&gt; | GTEX.QVJO.1826.SM.447C9 &lt;dbl&gt; | GTEX.13NZ8.0126.SM.5IJCT &lt;dbl&gt; | GTEX.1117F.2826.SM.5GZXL &lt;dbl&gt; | GTEX.13N1W.0626.SM.5MR4U &lt;dbl&gt; |\n",
       "|---|---|---|---|---|---|---|---|---|---|---|---|---|---|---|---|---|---|---|---|---|---|\n",
       "| LYPD6B | 0.000 | 0.1255 | 0.04762 |  0.3347 | 0.8268 |  1.434 |  3.453 |  3.048 | 0.000 | 0.03901 | ⋯ |  7.604 |  4.889 |  8.482 |  4.732 | 0.3549 |  6.12 | 0.5125 |  3.025 |  3.411 | 0.5423 |\n",
       "| SH2D3A | 2.657 | 1.5360 | 1.83200 | 15.5700 | 8.5270 | 46.770 | 36.080 | 47.000 | 1.534 | 2.32200 | ⋯ | 39.140 | 28.950 | 25.800 | 23.760 | 1.5830 | 47.17 | 6.0710 | 28.560 | 11.860 | 3.2440 |\n",
       "\n"
      ],
      "text/plain": [
       "       GTEX.S4Q7.1126.SM.4AD6R GTEX.ZZ64.1226.SM.5E43R GTEX.ZA64.1526.SM.5CVMD\n",
       "LYPD6B 0.000                   0.1255                  0.04762                \n",
       "SH2D3A 2.657                   1.5360                  1.83200                \n",
       "       GTEX.11TT1.2126.SM.5GU5Y GTEX.11NSD.0926.SM.5N9DR\n",
       "LYPD6B  0.3347                  0.8268                  \n",
       "SH2D3A 15.5700                  8.5270                  \n",
       "       GTEX.RU1J.0626.SM.4WAWY GTEX.133LE.1726.SM.5K7VQ\n",
       "LYPD6B  1.434                   3.453                  \n",
       "SH2D3A 46.770                  36.080                  \n",
       "       GTEX.11EM3.1326.SM.5N9C6 GTEX.13FTX.1126.SM.5N9EN\n",
       "LYPD6B  3.048                   0.000                   \n",
       "SH2D3A 47.000                   1.534                   \n",
       "       GTEX.XQ3S.1326.SM.4BOPQ ⋯ GTEX.13OW5.2226.SM.5L3HC\n",
       "LYPD6B 0.03901                 ⋯  7.604                  \n",
       "SH2D3A 2.32200                 ⋯ 39.140                  \n",
       "       GTEX.13O3O.0826.SM.5K7WE GTEX.XMD1.0826.SM.4AT52\n",
       "LYPD6B  4.889                    8.482                 \n",
       "SH2D3A 28.950                   25.800                 \n",
       "       GTEX.11EI6.0626.SM.5985T GTEX.14753.2426.SM.5LU8U\n",
       "LYPD6B  4.732                   0.3549                  \n",
       "SH2D3A 23.760                   1.5830                  \n",
       "       GTEX.X4EP.2926.SM.3P5YQ GTEX.QVJO.1826.SM.447C9 GTEX.13NZ8.0126.SM.5IJCT\n",
       "LYPD6B  6.12                   0.5125                   3.025                  \n",
       "SH2D3A 47.17                   6.0710                  28.560                  \n",
       "       GTEX.1117F.2826.SM.5GZXL GTEX.13N1W.0626.SM.5MR4U\n",
       "LYPD6B  3.411                   0.5423                  \n",
       "SH2D3A 11.860                   3.2440                  "
      ]
     },
     "metadata": {},
     "output_type": "display_data"
    }
   ],
   "source": [
    "gexp           <- gexp[order(match(rownames(gexp),gene.names)),]\n",
    "dim(gexp)\n",
    "head(gexp,2)"
   ]
  },
  {
   "cell_type": "code",
   "execution_count": 91,
   "metadata": {},
   "outputs": [],
   "source": [
    "gexp           <- log2(gexp+0.5)"
   ]
  },
  {
   "cell_type": "code",
   "execution_count": 92,
   "metadata": {},
   "outputs": [],
   "source": [
    "gexp           <- gexp-rowMeans(gexp)"
   ]
  },
  {
   "cell_type": "code",
   "execution_count": 93,
   "metadata": {},
   "outputs": [],
   "source": [
    "gexp[apply(gexp,1,sd)>0,] <- gexp[apply(gexp,1,sd)>0,]/apply(gexp[apply(gexp,1,sd)>0,],1,sd)"
   ]
  },
  {
   "cell_type": "code",
   "execution_count": 94,
   "metadata": {},
   "outputs": [],
   "source": [
    "rexp           <- expression.mat[rownames.expression.mat %in% rbp.table$Gene,]"
   ]
  },
  {
   "cell_type": "code",
   "execution_count": 95,
   "metadata": {},
   "outputs": [],
   "source": [
    "rownames(rexp) <- rownames.expression.mat[rownames.expression.mat %in% rbp.table$Gene]"
   ]
  },
  {
   "cell_type": "code",
   "execution_count": 96,
   "metadata": {},
   "outputs": [],
   "source": [
    "rexp           <- rexp[order(match(rownames(rexp),rbp.table$Gene)),]"
   ]
  },
  {
   "cell_type": "code",
   "execution_count": 97,
   "metadata": {},
   "outputs": [],
   "source": [
    "rexp           <- log2(rexp+0.5)"
   ]
  },
  {
   "cell_type": "code",
   "execution_count": 98,
   "metadata": {},
   "outputs": [],
   "source": [
    "rexp           <- rexp-rowMeans(rexp)"
   ]
  },
  {
   "cell_type": "code",
   "execution_count": 99,
   "metadata": {},
   "outputs": [],
   "source": [
    "rexp           <- rexp/apply(rexp,1,function(v){ifelse(sum(v==v[1])<length(v),sd(v),1)})"
   ]
  },
  {
   "cell_type": "code",
   "execution_count": 100,
   "metadata": {},
   "outputs": [],
   "source": [
    "for (i in (1:num.events))\n",
    "  event.to.gene<-c(event.to.gene,which(unique(merged.table$geneSymbol)==merged.table[i,\"geneSymbol\"]))\n",
    "    sex<-ifelse(meta.data$SEX==1,1,0)"
   ]
  },
  {
   "cell_type": "code",
   "execution_count": 101,
   "metadata": {},
   "outputs": [
    {
     "data": {
      "text/html": [
       "<style>\n",
       ".list-inline {list-style: none; margin:0; padding: 0}\n",
       ".list-inline>li {display: inline-block}\n",
       ".list-inline>li:not(:last-child)::after {content: \"\\00b7\"; padding: 0 .5ex}\n",
       "</style>\n",
       "<ol class=list-inline><li>1</li><li>1</li><li>1</li><li>1</li></ol>\n"
      ],
      "text/latex": [
       "\\begin{enumerate*}\n",
       "\\item 1\n",
       "\\item 1\n",
       "\\item 1\n",
       "\\item 1\n",
       "\\end{enumerate*}\n"
      ],
      "text/markdown": [
       "1. 1\n",
       "2. 1\n",
       "3. 1\n",
       "4. 1\n",
       "\n",
       "\n"
      ],
      "text/plain": [
       "[1] 1 1 1 1"
      ]
     },
     "metadata": {},
     "output_type": "display_data"
    },
    {
     "data": {
      "text/plain": [
       "sex\n",
       "  0   1 \n",
       " 73 100 "
      ]
     },
     "metadata": {},
     "output_type": "display_data"
    }
   ],
   "source": [
    "sex[1:4]\n",
    "table(sex)"
   ]
  },
  {
   "cell_type": "code",
   "execution_count": 102,
   "metadata": {},
   "outputs": [
    {
     "data": {
      "text/plain": [
       "Time difference of 3.002217 mins"
      ]
     },
     "metadata": {},
     "output_type": "display_data"
    }
   ],
   "source": [
    "end_time <- Sys.time()\n",
    "end_time - start_time"
   ]
  },
  {
   "cell_type": "markdown",
   "metadata": {},
   "source": [
    "## Run stan:"
   ]
  },
  {
   "cell_type": "code",
   "execution_count": 103,
   "metadata": {},
   "outputs": [
    {
     "name": "stderr",
     "output_type": "stream",
     "text": [
      "Warning message:\n",
      "“There were 4 divergent transitions after warmup. Increasing adapt_delta above 0.8 may help. See\n",
      "http://mc-stan.org/misc/warnings.html#divergent-transitions-after-warmup”\n",
      "Warning message:\n",
      "“Examine the pairs() plot to diagnose sampling problems\n",
      "”\n",
      "Warning message:\n",
      "“The largest R-hat is NA, indicating chains have not mixed.\n",
      "Running the chains for more iterations may help. See\n",
      "http://mc-stan.org/misc/warnings.html#r-hat”\n",
      "Warning message:\n",
      "“Bulk Effective Samples Size (ESS) is too low, indicating posterior means and medians may be unreliable.\n",
      "Running the chains for more iterations may help. See\n",
      "http://mc-stan.org/misc/warnings.html#bulk-ess”\n",
      "Warning message:\n",
      "“Tail Effective Samples Size (ESS) is too low, indicating posterior variances and tail quantiles may be unreliable.\n",
      "Running the chains for more iterations may help. See\n",
      "http://mc-stan.org/misc/warnings.html#tail-ess”\n"
     ]
    },
    {
     "data": {
      "text/plain": [
       "Time difference of 2.419398 mins"
      ]
     },
     "metadata": {},
     "output_type": "display_data"
    }
   ],
   "source": [
    "dataList = list(\n",
    "  as = round(skip.counts) ,   #skip event counts across experiments\n",
    "  c = round(skip.counts+inc.counts)    , #total counts for event, i.e. skip+inclusion, across experiments\n",
    "  gexp = gexp, #read counts for genes (from gtex, take the raw counts) across experiments\n",
    "  rexp = rexp, #read counts for RBPs (from gtex, take the raw counts)\n",
    "  event_to_gene = event.to.gene,  #the gene index for each event (1 to the number of distinct genes) \n",
    "  Nrbp = nrow(rexp), #number of RBPs\n",
    "  Nevents = nrow(merged.table),  #most varying AS events in \n",
    "  Nexp = ncol(expression.mat),#number of experiments such that we measured each event, gene and RBP in each experiment\n",
    "  Ngenes = nrow(gexp),\n",
    "  sex=sex\n",
    ")\n",
    "\n",
    "\n",
    "modelString = \"\n",
    "data {\n",
    "int<lower=0> Nevents;\n",
    "int<lower=0> Nexp;\n",
    "int<lower=0> Nrbp;\n",
    "int<lower=0> Ngenes;\n",
    "int<lower=0> as[Nevents,Nexp] ;\n",
    "int<lower=0> c[Nevents,Nexp] ;\n",
    "matrix[Ngenes,Nexp] gexp ; \n",
    "matrix[Nrbp,Nexp] rexp ; \n",
    "int<lower=0> event_to_gene[Nevents];\n",
    "int<lower=0,upper=1> sex[Nexp];\n",
    "\n",
    "}\n",
    "\n",
    "\n",
    "parameters {\n",
    "real beta0[Nevents] ;\n",
    "real beta1[Nevents] ;\n",
    "matrix[Nevents,Nrbp] beta2 ;\n",
    "real beta3[Nevents];\n",
    "real beta4[Nrbp];\n",
    "\n",
    "}\n",
    "model {\n",
    "\n",
    "for ( i in 1:Nexp ) {  \n",
    "\n",
    "\n",
    "    for ( j in 1:Nevents ) if (c[j,i]>0) { \n",
    "\n",
    "      as[j,i] ~ binomial(c[j,i], inv_logit(beta0[j]+beta1[j]*sex[i]+dot_product(beta2[j,],rexp[,i])+beta3[j]*gexp[event_to_gene[j],i] ) );\n",
    "\n",
    "  }\n",
    "}\n",
    "\n",
    "for (k in 1:Nrbp){\n",
    "\n",
    "  for ( j in 1:Nevents ) { \n",
    "\n",
    "        beta2[j,k] ~normal(beta4[k],1);\n",
    "  }\n",
    "\n",
    "  beta4[k]~normal(0,1);\n",
    "\n",
    "}\n",
    "\n",
    "\n",
    "for ( j in 1:Nevents ) { \n",
    "\n",
    "    beta1[j] ~ normal(0,1);\n",
    "    beta0[j] ~ normal(0,1);\n",
    "    beta3[j] ~ normal(0,1);\n",
    "  }\n",
    "\n",
    "}\n",
    "\"\n",
    "\n",
    "# Start the clock!\n",
    "start_time <- Sys.time()\n",
    "\n",
    "stanDso <- rstan::stan_model( model_code=modelString ) \n",
    "stanFit <- sampling( object=stanDso , \n",
    "                    data = dataList , \n",
    "                    chains = 2 , #3\n",
    "                    iter = 8, #8000\n",
    "                    warmup = 6, #6000\n",
    "                    thin = 1,\n",
    "                    init = 0, \n",
    "                    cores = parallel::detectCores() - 2 )\n",
    "\n",
    "mcmcCoda = coda::mcmc.list( lapply( 1:ncol(stanFit) , function(x) { mcmc(as.array(stanFit)[,x,]) } ) )\n",
    "\n",
    "end_time <- Sys.time()\n",
    "end_time - start_time"
   ]
  },
  {
   "cell_type": "markdown",
   "metadata": {},
   "source": [
    "## Save R objects"
   ]
  },
  {
   "cell_type": "code",
   "execution_count": 108,
   "metadata": {},
   "outputs": [
    {
     "data": {
      "text/html": [
       "TRUE"
      ],
      "text/latex": [
       "TRUE"
      ],
      "text/markdown": [
       "TRUE"
      ],
      "text/plain": [
       "[1] TRUE"
      ]
     },
     "metadata": {},
     "output_type": "display_data"
    },
    {
     "data": {
      "text/html": [
       "<style>\n",
       ".list-inline {list-style: none; margin:0; padding: 0}\n",
       ".list-inline>li {display: inline-block}\n",
       ".list-inline>li:not(:last-child)::after {content: \"\\00b7\"; padding: 0 .5ex}\n",
       "</style>\n",
       "<ol class=list-inline><li>'/mnt/shared/gcp-user/session_data/sbas/jupyter'</li><li>'-rw-r--r-- 1 jovyan users 9008475 Jun 26 09:47 notebook.RData'</li></ol>\n"
      ],
      "text/latex": [
       "\\begin{enumerate*}\n",
       "\\item '/mnt/shared/gcp-user/session\\_data/sbas/jupyter'\n",
       "\\item '-rw-r--r-- 1 jovyan users 9008475 Jun 26 09:47 notebook.RData'\n",
       "\\end{enumerate*}\n"
      ],
      "text/markdown": [
       "1. '/mnt/shared/gcp-user/session_data/sbas/jupyter'\n",
       "2. '-rw-r--r-- 1 jovyan users 9008475 Jun 26 09:47 notebook.RData'\n",
       "\n",
       "\n"
      ],
      "text/plain": [
       "[1] \"/mnt/shared/gcp-user/session_data/sbas/jupyter\"               \n",
       "[2] \"-rw-r--r-- 1 jovyan users 9008475 Jun 26 09:47 notebook.RData\""
      ]
     },
     "metadata": {},
     "output_type": "display_data"
    }
   ],
   "source": [
    "save.image(file = \"notebook.RData\")\n",
    "file.exists(\"notebook.RData\")\n",
    "system(\"pwd && ls -l notebook.RData\", intern = TRUE)"
   ]
  },
  {
   "cell_type": "markdown",
   "metadata": {},
   "source": [
    "## Metadata\n",
    "\n",
    "For replicability and reproducibility purposes, we also print the following metadata:\n",
    "\n",
    "1. Checksums of **\"artefacts\"**, files generated during the analysis and stored in the folder directory **`data`**\n",
    "2. List of environment metadata, dependencies, versions of libraries using `utils::sessionInfo()` and [`devtools::session_info()`](https://devtools.r-lib.org/reference/session_info.html)"
   ]
  },
  {
   "cell_type": "markdown",
   "metadata": {},
   "source": [
    "### 1. Checksums with the sha256 algorithm"
   ]
  },
  {
   "cell_type": "code",
   "execution_count": 105,
   "metadata": {},
   "outputs": [
    {
     "name": "stderr",
     "output_type": "stream",
     "text": [
      "Generating sha256 checksums of the artefacts in the `..data/` directory .. \n",
      "\n"
     ]
    },
    {
     "data": {
      "text/html": [],
      "text/latex": [],
      "text/markdown": [],
      "text/plain": [
       "character(0)"
      ]
     },
     "metadata": {},
     "output_type": "display_data"
    },
    {
     "name": "stderr",
     "output_type": "stream",
     "text": [
      "Done!\n",
      "\n",
      "\n"
     ]
    },
    {
     "data": {
      "text/html": [
       "<table>\n",
       "<caption>A data.table: 4841 × 2</caption>\n",
       "<thead>\n",
       "\t<tr><th scope=col>sha256sum</th><th scope=col>file</th></tr>\n",
       "\t<tr><th scope=col>&lt;chr&gt;</th><th scope=col>&lt;chr&gt;</th></tr>\n",
       "</thead>\n",
       "<tbody>\n",
       "\t<tr><td>6f2b3dc37ab2186f7cb6d317d80d9f70e9cd1c2bcab3cfc86c7de5c5e76e2514</td><td>./mxe_spleen_AS_model_B_sex.csv                                           </td></tr>\n",
       "\t<tr><td>3d378262fa13e905cfa51d6ec2a88f01965d82dd54357131771c0a95c226805a</td><td>./mxe_brain_cerebellum_AS_model_A_ijc_wo_DGE_sex_gene_set.txt             </td></tr>\n",
       "\t<tr><td>94a7fa75a9c0072a745bb513040e778f90961310fc3751b90141b62a06429903</td><td>./liver_DGE.csv                                                           </td></tr>\n",
       "\t<tr><td>c04f787ffba8d422a66d2e807ece6ac8c6900287572f31105a5549c4021faf81</td><td>./ri_pancreas_AS_model_A_ijc_wo_DGE_sex.csv                               </td></tr>\n",
       "\t<tr><td>b4776f57f9780ef4c2068f55a9a56e02f2544d70438ce16de8a98a454bbaa14e</td><td>./ri_breast_mammary_tissue_AS_model_A_ijc_wo_DGE_sex_refined.csv          </td></tr>\n",
       "\t<tr><td>f6c59cceb70e2f036dc4ad705125a10412d22dca8dc2b6b2f8ebadd4aaf98280</td><td>./mxe_spleen_AS_model_A_sjc_sex.csv                                       </td></tr>\n",
       "\t<tr><td>2b5e26957f499a525c03053e7b5362681e1ebc7e71f0ae69e621153e56cbc3b9</td><td>./se_lung_AS_model_A_ijc_wo_DGE_sex.csv                                   </td></tr>\n",
       "\t<tr><td>cf6e8ed384c002dd3beaf00318db269252e11e447f57a2829c87c597dacc6dfb</td><td>./se_whole_blood_AS_model_B_sex_as_events_universe.txt                    </td></tr>\n",
       "\t<tr><td>63c22570491153b15c881dd82928c26491fac0bd246beb1de65cbf81d9049911</td><td>./a5ss_thyroid_AS_model_B_sex_as_events_universe.txt                      </td></tr>\n",
       "\t<tr><td>9d72aeeee5ff54e5764bd33715031e8e035f6e84c2ec662ebf4eef5a7a74174a</td><td>./ri_brain_hippocampus_AS_model_A_ijc_sex_refined.csv                     </td></tr>\n",
       "\t<tr><td>0679053bf980a3ce90ec057d4d31190a55d8b13664ba6b641d6deac57873d3a6</td><td>./a5ss_brain_cerebellum_AS_model_A_sjc_sex_refined.csv                    </td></tr>\n",
       "\t<tr><td>3bb210ab221cd5e5401e3f676847d73c008adae99bb7fe8add593b2af8c7e3b8</td><td>./a5ss_esophagus_muscularis_AS_model_A_ijc_wo_DGE_sex_gene_set.txt        </td></tr>\n",
       "\t<tr><td>33e9281f0fc39925617b78d242eda106be19132ec2251416e581b3510d773bf5</td><td>./se_colon_transverse_AS_model_B_sex_as_events_refined.csv                </td></tr>\n",
       "\t<tr><td>0ed1cbc060424f978613d288907031da2ba33d49e3fe6bb300ee378526e063f5</td><td>./a3ss_brain_putamen_basal_ganglia_AS_model_A_sjc_sex_refined.csv         </td></tr>\n",
       "\t<tr><td>5f72f6c7c8f97016beb93fe2ed29411132b4237e546d89a5971e5ee3baf51e10</td><td>./ri_breast_mammary_tissue_AS_model_A_sjc_wo_DGE_sex_gene_set.txt         </td></tr>\n",
       "\t<tr><td>ce7cfd476dd881cf8997118dad34565685a9db56c24aa3896a840b054d5383e5</td><td>./ri_heart_atrial_appendage_AS_model_A_ijc_wo_DGE_sex_refined.csv         </td></tr>\n",
       "\t<tr><td>cbb76ec5f3e4084cdaf41251f5d2ff0f1bd10790fe783f913d2ee37f8d5c9352</td><td>./se_cells_cultured_fibroblasts_AS_model_A_ijc_sex_refined.csv            </td></tr>\n",
       "\t<tr><td>eb865b17a941af4f8cec7d4c3aa49ebf728720d989fc1325adc1de5de08607d1</td><td>./a5ss_brain_cerebellar_hemisphere_AS_model_B_sex.csv                     </td></tr>\n",
       "\t<tr><td>d87ce728b9cac6b98a6f1855de598bcc1a4cbd353133eef76360fa4263d80202</td><td>./se_brain_cortex_AS_model_B_sex.csv                                      </td></tr>\n",
       "\t<tr><td>a263070ab088392154065080dd71ef9c9f7503074d4cb63f0f20d0ee9a302aed</td><td>./a3ss_stomach_AS_model_A_sjc_sex_gene_set.txt                            </td></tr>\n",
       "\t<tr><td>a373603e7b11015357b6450dedaa1176808a7de742039e32ea593ec63fd2824e</td><td>./ri_brain_cerebellar_hemisphere_AS_model_A_sjc_sex_universe.txt          </td></tr>\n",
       "\t<tr><td>6661a0af3fdcf1f71b8de14c777b63b15e99041602f22750b901259674167975</td><td>./se_adipose_visceral_omentum_AS_model_B_sex.csv                          </td></tr>\n",
       "\t<tr><td>4c0f4bff6f254305af6caf9e5226dce2f0e7c1277454ec68452231eada857cf5</td><td>./mxe_pancreas_AS_model_A_ijc_wo_DGE_sex_gene_set.txt                     </td></tr>\n",
       "\t<tr><td>e3b0c44298fc1c149afbf4c8996fb92427ae41e4649b934ca495991b7852b855</td><td>./ri_colon_sigmoid_AS_model_A_ijc_sex_gene_set.txt                        </td></tr>\n",
       "\t<tr><td>9a519dae069f03d31447bd18660d8b6e2392744c5b963b3040f422473f18c3f1</td><td>./mxe_colon_sigmoid_AS_model_B_sex_as_events_universe.txt                 </td></tr>\n",
       "\t<tr><td>defd9c7e91c8b71a0e1f96966925c0de12fdc45be2f320edec4cc656f45bb98c</td><td>./ri_brain_hippocampus_AS_model_A_sjc_wo_DGE_sex_universe.txt             </td></tr>\n",
       "\t<tr><td>8d64c97a44c87fbff33fa4d7c59299425b25cf8a0a9222b288f380f52801608f</td><td>./se_brain_nucleus_accumbens_basal_ganglia_AS_model_A_sjc_sex_gene_set.txt</td></tr>\n",
       "\t<tr><td>d4a0d527c6d01b14bae1e93f750ff2e4e9af8033955e5dad79f8b359036ee7a9</td><td>./se_whole_blood_AS_model_B_sex_gene_set.txt                              </td></tr>\n",
       "\t<tr><td>d7fe5d52f34d8c526ca7922c1491ce1304b94e0a80e3b9f1f35142dfdc7bad77</td><td>./a3ss_skin_not_sun_exposed_suprapubic_AS_model_A_ijc_sex_gene_set.txt    </td></tr>\n",
       "\t<tr><td>d674ac8b1e8df6aaea6b9e74601738ab075f5a4e783d71f023b8367f5f22addf</td><td>./mxe_adrenal_gland_AS_model_A_ijc_wo_DGE_sex.csv                         </td></tr>\n",
       "\t<tr><td>⋮</td><td>⋮</td></tr>\n",
       "\t<tr><td>396bd78e383871ce4998dffd1afd4227056a248b030cf17f366228b69a42cd03</td><td>./se_brain_spinal_cord_cervical_c_1_AS_model_A_ijc_wo_DGE_sex_universe.txt       </td></tr>\n",
       "\t<tr><td>8291be77c7ad6cd73d9f7797658e3f1ffc197532a23385a85911ca4d4db13483</td><td>./SraRunTable.txt.gz                                                             </td></tr>\n",
       "\t<tr><td>e6b6357664cac4a2652a0706f853569e61bf34e06a490b0496e210a122ed70dd</td><td>./a5ss_whole_blood_AS_model_A_sjc_sex_universe.txt                               </td></tr>\n",
       "\t<tr><td>e3b0c44298fc1c149afbf4c8996fb92427ae41e4649b934ca495991b7852b855</td><td>./se_brain_frontal_cortex_ba_9_AS_model_A_sjc_wo_DGE_sex_gene_set.txt            </td></tr>\n",
       "\t<tr><td>ffb0e4fc320652654b5f443256ba56e001dbf0b262da3b6593124a6f3363444a</td><td>./ri_breast_mammary_tissue_AS_model_B_sex_universe.txt                           </td></tr>\n",
       "\t<tr><td>c15433c76446fc2eacbfc23e28acfd6413295c6c8cbe01804138beec7fc9050a</td><td>./se_esophagus_mucosa_AS_model_B_sex_universe.txt                                </td></tr>\n",
       "\t<tr><td>ce7cfd476dd881cf8997118dad34565685a9db56c24aa3896a840b054d5383e5</td><td>./ri_whole_blood_AS_model_A_sjc_wo_DGE_sex_refined.csv                           </td></tr>\n",
       "\t<tr><td>34790f1369731b428902af30fb87a5db462f48650a4d1b67d3c18dbf8af5b232</td><td>./a5ss_skin_not_sun_exposed_suprapubic_AS_model_B_sex_as_events.csv              </td></tr>\n",
       "\t<tr><td>0dec98d7a87a9112bd1cbc9688e706620b148fa262b696308d9f79e13005e977</td><td>./se_artery_aorta_AS_model_A_ijc_wo_DGE_sex_refined.csv                          </td></tr>\n",
       "\t<tr><td>342276a47c585d8e004f55d1d7f7e30b32053afe6ee74c162317faa82b1e8188</td><td>./mxe_brain_hippocampus_AS_model_B_sex_gene_set.txt                              </td></tr>\n",
       "\t<tr><td>3b1b778242b9672a549d20a1673e8dd7e11d5c84814769db831a611297b6e349</td><td>./a3ss_adrenal_gland_AS_model_B_sex_refined.csv                                  </td></tr>\n",
       "\t<tr><td>e2ca31af12bb3e0e9f3348263c57a69d7e7c4fc2e51b3fe5f4e489574113ce85</td><td>./a3ss_cells_ebv_transformed_lymphocytes_AS_model_A_ijc_sex_refined.csv          </td></tr>\n",
       "\t<tr><td>56731989dbb9a5d4896e9f4edd89e6b2fb5d7db3bb541e2ab788079cffdd33b9</td><td>./a3ss_esophagus_gastroesophageal_junction_AS_model_A_sjc_wo_DGE_sex_refined.csv </td></tr>\n",
       "\t<tr><td>d851f9842e29d4f19a73d093d28fa0c60a7e2c79c9ef646cb5551e721c4c51e6</td><td>./se_heart_left_ventricle_AS_model_B_sex_as_events_universe.txt                  </td></tr>\n",
       "\t<tr><td>e3b0c44298fc1c149afbf4c8996fb92427ae41e4649b934ca495991b7852b855</td><td>./a5ss_esophagus_muscularis_AS_model_A_sjc_wo_DGE_sex_gene_set.txt               </td></tr>\n",
       "\t<tr><td>29744dd3512916906371d61c5dc6c7bb1e5b50ec4c4a2049d7595368b77b7881</td><td>./mxe_adrenal_gland_AS_model_A_sjc_sex.csv                                       </td></tr>\n",
       "\t<tr><td>dd0101649202009bd298b769562869479e33b6dc0ab7888f36ea2eadfee4caea</td><td>./se_lung_AS_model_A_ijc_wo_DGE_sex_universe.txt                                 </td></tr>\n",
       "\t<tr><td>8da2360c922e390e16440df84bc9245f37c4fcbdd1ef0ad0a84fd40ab2935d67</td><td>./a3ss_brain_spinal_cord_cervical_c_1_AS_model_B_sex_as_events_gene_set.txt      </td></tr>\n",
       "\t<tr><td>0d8d19610a13d90595b2ddc38dde69d6f2ac839f9354ec10ef3f64db7b6a48a7</td><td>./a5ss_esophagus_gastroesophageal_junction_AS_model_A_sjc_wo_DGE_sex_universe.txt</td></tr>\n",
       "\t<tr><td>e3b0c44298fc1c149afbf4c8996fb92427ae41e4649b934ca495991b7852b855</td><td>./a5ss_colon_transverse_AS_model_B_sex_as_events_gene_set.txt                    </td></tr>\n",
       "\t<tr><td>ae7651681cd508270da1b25a27b44b0b6c22d2820b8b632d13be9d116ce4ad34</td><td>./a5ss_esophagus_gastroesophageal_junction_AS_model_B_sex_as_events.csv          </td></tr>\n",
       "\t<tr><td>8223fe7d34e791d9be72117581f31da8415486c29bed9622cc7bc7a7bd6589c4</td><td>./mxe_muscle_skeletal_AS_model_B_sex_as_events.csv                               </td></tr>\n",
       "\t<tr><td>ff4fac0fc938cf950ffbc4a29a90abe093b6fe2c742b073d12220451d70b6cca</td><td>./ri_artery_tibial_AS_model_A_sjc_wo_DGE_sex.csv                                 </td></tr>\n",
       "\t<tr><td>b1767f9cb48a6b070e8615870e7d880b0715696ae5c2be17a0c6971727019161</td><td>./a3ss_brain_cerebellum_AS_model_A_ijc_wo_DGE_sex_universe.txt                   </td></tr>\n",
       "\t<tr><td>c7ef0cc2d9f818e15e708f9818083de58cc124b282753210e262f2114ceae013</td><td>./a5ss_nerve_tibial_AS_model_B_sex_as_events_gene_set.txt                        </td></tr>\n",
       "\t<tr><td>797eca353987df05dcc8f15a2482937ed8378881cc344b504c8faf79d81e6525</td><td>./mxe_esophagus_gastroesophageal_junction_AS_model_A_sjc_wo_DGE_sex.csv          </td></tr>\n",
       "\t<tr><td>bf984a55e6ec203b5f0720cba52491510b3ce58d655aaec93a1ae847b792837a</td><td>./mxe_esophagus_muscularis_AS_model_A_sjc_wo_DGE_sex_refined.csv                 </td></tr>\n",
       "\t<tr><td>2cde861b46367ffeaf547fba8434482ef486dbca21158740ddff1faf22482ca6</td><td>./a3ss_brain_cortex_AS_model_B_sex_as_events_gene_set.txt                        </td></tr>\n",
       "\t<tr><td>e6e023fa1a2248983e2a30aad0f7db8d8ccf82d4def4057d30ab67f02f666c51</td><td>./a3ss_brain_nucleus_accumbens_basal_ganglia_AS_model_A_ijc_wo_DGE_sex.csv       </td></tr>\n",
       "\t<tr><td>35966f56cbb64574e77fc1ebf5a0acf9b07e1cf442623460f450dbad88fc5f1d</td><td>./se_brain_cerebellar_hemisphere_AS_model_A_ijc_sex_gene_set.txt                 </td></tr>\n",
       "</tbody>\n",
       "</table>\n"
      ],
      "text/latex": [
       "A data.table: 4841 × 2\n",
       "\\begin{tabular}{ll}\n",
       " sha256sum & file\\\\\n",
       " <chr> & <chr>\\\\\n",
       "\\hline\n",
       "\t 6f2b3dc37ab2186f7cb6d317d80d9f70e9cd1c2bcab3cfc86c7de5c5e76e2514 & ./mxe\\_spleen\\_AS\\_model\\_B\\_sex.csv                                           \\\\\n",
       "\t 3d378262fa13e905cfa51d6ec2a88f01965d82dd54357131771c0a95c226805a & ./mxe\\_brain\\_cerebellum\\_AS\\_model\\_A\\_ijc\\_wo\\_DGE\\_sex\\_gene\\_set.txt             \\\\\n",
       "\t 94a7fa75a9c0072a745bb513040e778f90961310fc3751b90141b62a06429903 & ./liver\\_DGE.csv                                                           \\\\\n",
       "\t c04f787ffba8d422a66d2e807ece6ac8c6900287572f31105a5549c4021faf81 & ./ri\\_pancreas\\_AS\\_model\\_A\\_ijc\\_wo\\_DGE\\_sex.csv                               \\\\\n",
       "\t b4776f57f9780ef4c2068f55a9a56e02f2544d70438ce16de8a98a454bbaa14e & ./ri\\_breast\\_mammary\\_tissue\\_AS\\_model\\_A\\_ijc\\_wo\\_DGE\\_sex\\_refined.csv          \\\\\n",
       "\t f6c59cceb70e2f036dc4ad705125a10412d22dca8dc2b6b2f8ebadd4aaf98280 & ./mxe\\_spleen\\_AS\\_model\\_A\\_sjc\\_sex.csv                                       \\\\\n",
       "\t 2b5e26957f499a525c03053e7b5362681e1ebc7e71f0ae69e621153e56cbc3b9 & ./se\\_lung\\_AS\\_model\\_A\\_ijc\\_wo\\_DGE\\_sex.csv                                   \\\\\n",
       "\t cf6e8ed384c002dd3beaf00318db269252e11e447f57a2829c87c597dacc6dfb & ./se\\_whole\\_blood\\_AS\\_model\\_B\\_sex\\_as\\_events\\_universe.txt                    \\\\\n",
       "\t 63c22570491153b15c881dd82928c26491fac0bd246beb1de65cbf81d9049911 & ./a5ss\\_thyroid\\_AS\\_model\\_B\\_sex\\_as\\_events\\_universe.txt                      \\\\\n",
       "\t 9d72aeeee5ff54e5764bd33715031e8e035f6e84c2ec662ebf4eef5a7a74174a & ./ri\\_brain\\_hippocampus\\_AS\\_model\\_A\\_ijc\\_sex\\_refined.csv                     \\\\\n",
       "\t 0679053bf980a3ce90ec057d4d31190a55d8b13664ba6b641d6deac57873d3a6 & ./a5ss\\_brain\\_cerebellum\\_AS\\_model\\_A\\_sjc\\_sex\\_refined.csv                    \\\\\n",
       "\t 3bb210ab221cd5e5401e3f676847d73c008adae99bb7fe8add593b2af8c7e3b8 & ./a5ss\\_esophagus\\_muscularis\\_AS\\_model\\_A\\_ijc\\_wo\\_DGE\\_sex\\_gene\\_set.txt        \\\\\n",
       "\t 33e9281f0fc39925617b78d242eda106be19132ec2251416e581b3510d773bf5 & ./se\\_colon\\_transverse\\_AS\\_model\\_B\\_sex\\_as\\_events\\_refined.csv                \\\\\n",
       "\t 0ed1cbc060424f978613d288907031da2ba33d49e3fe6bb300ee378526e063f5 & ./a3ss\\_brain\\_putamen\\_basal\\_ganglia\\_AS\\_model\\_A\\_sjc\\_sex\\_refined.csv         \\\\\n",
       "\t 5f72f6c7c8f97016beb93fe2ed29411132b4237e546d89a5971e5ee3baf51e10 & ./ri\\_breast\\_mammary\\_tissue\\_AS\\_model\\_A\\_sjc\\_wo\\_DGE\\_sex\\_gene\\_set.txt         \\\\\n",
       "\t ce7cfd476dd881cf8997118dad34565685a9db56c24aa3896a840b054d5383e5 & ./ri\\_heart\\_atrial\\_appendage\\_AS\\_model\\_A\\_ijc\\_wo\\_DGE\\_sex\\_refined.csv         \\\\\n",
       "\t cbb76ec5f3e4084cdaf41251f5d2ff0f1bd10790fe783f913d2ee37f8d5c9352 & ./se\\_cells\\_cultured\\_fibroblasts\\_AS\\_model\\_A\\_ijc\\_sex\\_refined.csv            \\\\\n",
       "\t eb865b17a941af4f8cec7d4c3aa49ebf728720d989fc1325adc1de5de08607d1 & ./a5ss\\_brain\\_cerebellar\\_hemisphere\\_AS\\_model\\_B\\_sex.csv                     \\\\\n",
       "\t d87ce728b9cac6b98a6f1855de598bcc1a4cbd353133eef76360fa4263d80202 & ./se\\_brain\\_cortex\\_AS\\_model\\_B\\_sex.csv                                      \\\\\n",
       "\t a263070ab088392154065080dd71ef9c9f7503074d4cb63f0f20d0ee9a302aed & ./a3ss\\_stomach\\_AS\\_model\\_A\\_sjc\\_sex\\_gene\\_set.txt                            \\\\\n",
       "\t a373603e7b11015357b6450dedaa1176808a7de742039e32ea593ec63fd2824e & ./ri\\_brain\\_cerebellar\\_hemisphere\\_AS\\_model\\_A\\_sjc\\_sex\\_universe.txt          \\\\\n",
       "\t 6661a0af3fdcf1f71b8de14c777b63b15e99041602f22750b901259674167975 & ./se\\_adipose\\_visceral\\_omentum\\_AS\\_model\\_B\\_sex.csv                          \\\\\n",
       "\t 4c0f4bff6f254305af6caf9e5226dce2f0e7c1277454ec68452231eada857cf5 & ./mxe\\_pancreas\\_AS\\_model\\_A\\_ijc\\_wo\\_DGE\\_sex\\_gene\\_set.txt                     \\\\\n",
       "\t e3b0c44298fc1c149afbf4c8996fb92427ae41e4649b934ca495991b7852b855 & ./ri\\_colon\\_sigmoid\\_AS\\_model\\_A\\_ijc\\_sex\\_gene\\_set.txt                        \\\\\n",
       "\t 9a519dae069f03d31447bd18660d8b6e2392744c5b963b3040f422473f18c3f1 & ./mxe\\_colon\\_sigmoid\\_AS\\_model\\_B\\_sex\\_as\\_events\\_universe.txt                 \\\\\n",
       "\t defd9c7e91c8b71a0e1f96966925c0de12fdc45be2f320edec4cc656f45bb98c & ./ri\\_brain\\_hippocampus\\_AS\\_model\\_A\\_sjc\\_wo\\_DGE\\_sex\\_universe.txt             \\\\\n",
       "\t 8d64c97a44c87fbff33fa4d7c59299425b25cf8a0a9222b288f380f52801608f & ./se\\_brain\\_nucleus\\_accumbens\\_basal\\_ganglia\\_AS\\_model\\_A\\_sjc\\_sex\\_gene\\_set.txt\\\\\n",
       "\t d4a0d527c6d01b14bae1e93f750ff2e4e9af8033955e5dad79f8b359036ee7a9 & ./se\\_whole\\_blood\\_AS\\_model\\_B\\_sex\\_gene\\_set.txt                              \\\\\n",
       "\t d7fe5d52f34d8c526ca7922c1491ce1304b94e0a80e3b9f1f35142dfdc7bad77 & ./a3ss\\_skin\\_not\\_sun\\_exposed\\_suprapubic\\_AS\\_model\\_A\\_ijc\\_sex\\_gene\\_set.txt    \\\\\n",
       "\t d674ac8b1e8df6aaea6b9e74601738ab075f5a4e783d71f023b8367f5f22addf & ./mxe\\_adrenal\\_gland\\_AS\\_model\\_A\\_ijc\\_wo\\_DGE\\_sex.csv                         \\\\\n",
       "\t ⋮ & ⋮\\\\\n",
       "\t 396bd78e383871ce4998dffd1afd4227056a248b030cf17f366228b69a42cd03 & ./se\\_brain\\_spinal\\_cord\\_cervical\\_c\\_1\\_AS\\_model\\_A\\_ijc\\_wo\\_DGE\\_sex\\_universe.txt       \\\\\n",
       "\t 8291be77c7ad6cd73d9f7797658e3f1ffc197532a23385a85911ca4d4db13483 & ./SraRunTable.txt.gz                                                             \\\\\n",
       "\t e6b6357664cac4a2652a0706f853569e61bf34e06a490b0496e210a122ed70dd & ./a5ss\\_whole\\_blood\\_AS\\_model\\_A\\_sjc\\_sex\\_universe.txt                               \\\\\n",
       "\t e3b0c44298fc1c149afbf4c8996fb92427ae41e4649b934ca495991b7852b855 & ./se\\_brain\\_frontal\\_cortex\\_ba\\_9\\_AS\\_model\\_A\\_sjc\\_wo\\_DGE\\_sex\\_gene\\_set.txt            \\\\\n",
       "\t ffb0e4fc320652654b5f443256ba56e001dbf0b262da3b6593124a6f3363444a & ./ri\\_breast\\_mammary\\_tissue\\_AS\\_model\\_B\\_sex\\_universe.txt                           \\\\\n",
       "\t c15433c76446fc2eacbfc23e28acfd6413295c6c8cbe01804138beec7fc9050a & ./se\\_esophagus\\_mucosa\\_AS\\_model\\_B\\_sex\\_universe.txt                                \\\\\n",
       "\t ce7cfd476dd881cf8997118dad34565685a9db56c24aa3896a840b054d5383e5 & ./ri\\_whole\\_blood\\_AS\\_model\\_A\\_sjc\\_wo\\_DGE\\_sex\\_refined.csv                           \\\\\n",
       "\t 34790f1369731b428902af30fb87a5db462f48650a4d1b67d3c18dbf8af5b232 & ./a5ss\\_skin\\_not\\_sun\\_exposed\\_suprapubic\\_AS\\_model\\_B\\_sex\\_as\\_events.csv              \\\\\n",
       "\t 0dec98d7a87a9112bd1cbc9688e706620b148fa262b696308d9f79e13005e977 & ./se\\_artery\\_aorta\\_AS\\_model\\_A\\_ijc\\_wo\\_DGE\\_sex\\_refined.csv                          \\\\\n",
       "\t 342276a47c585d8e004f55d1d7f7e30b32053afe6ee74c162317faa82b1e8188 & ./mxe\\_brain\\_hippocampus\\_AS\\_model\\_B\\_sex\\_gene\\_set.txt                              \\\\\n",
       "\t 3b1b778242b9672a549d20a1673e8dd7e11d5c84814769db831a611297b6e349 & ./a3ss\\_adrenal\\_gland\\_AS\\_model\\_B\\_sex\\_refined.csv                                  \\\\\n",
       "\t e2ca31af12bb3e0e9f3348263c57a69d7e7c4fc2e51b3fe5f4e489574113ce85 & ./a3ss\\_cells\\_ebv\\_transformed\\_lymphocytes\\_AS\\_model\\_A\\_ijc\\_sex\\_refined.csv          \\\\\n",
       "\t 56731989dbb9a5d4896e9f4edd89e6b2fb5d7db3bb541e2ab788079cffdd33b9 & ./a3ss\\_esophagus\\_gastroesophageal\\_junction\\_AS\\_model\\_A\\_sjc\\_wo\\_DGE\\_sex\\_refined.csv \\\\\n",
       "\t d851f9842e29d4f19a73d093d28fa0c60a7e2c79c9ef646cb5551e721c4c51e6 & ./se\\_heart\\_left\\_ventricle\\_AS\\_model\\_B\\_sex\\_as\\_events\\_universe.txt                  \\\\\n",
       "\t e3b0c44298fc1c149afbf4c8996fb92427ae41e4649b934ca495991b7852b855 & ./a5ss\\_esophagus\\_muscularis\\_AS\\_model\\_A\\_sjc\\_wo\\_DGE\\_sex\\_gene\\_set.txt               \\\\\n",
       "\t 29744dd3512916906371d61c5dc6c7bb1e5b50ec4c4a2049d7595368b77b7881 & ./mxe\\_adrenal\\_gland\\_AS\\_model\\_A\\_sjc\\_sex.csv                                       \\\\\n",
       "\t dd0101649202009bd298b769562869479e33b6dc0ab7888f36ea2eadfee4caea & ./se\\_lung\\_AS\\_model\\_A\\_ijc\\_wo\\_DGE\\_sex\\_universe.txt                                 \\\\\n",
       "\t 8da2360c922e390e16440df84bc9245f37c4fcbdd1ef0ad0a84fd40ab2935d67 & ./a3ss\\_brain\\_spinal\\_cord\\_cervical\\_c\\_1\\_AS\\_model\\_B\\_sex\\_as\\_events\\_gene\\_set.txt      \\\\\n",
       "\t 0d8d19610a13d90595b2ddc38dde69d6f2ac839f9354ec10ef3f64db7b6a48a7 & ./a5ss\\_esophagus\\_gastroesophageal\\_junction\\_AS\\_model\\_A\\_sjc\\_wo\\_DGE\\_sex\\_universe.txt\\\\\n",
       "\t e3b0c44298fc1c149afbf4c8996fb92427ae41e4649b934ca495991b7852b855 & ./a5ss\\_colon\\_transverse\\_AS\\_model\\_B\\_sex\\_as\\_events\\_gene\\_set.txt                    \\\\\n",
       "\t ae7651681cd508270da1b25a27b44b0b6c22d2820b8b632d13be9d116ce4ad34 & ./a5ss\\_esophagus\\_gastroesophageal\\_junction\\_AS\\_model\\_B\\_sex\\_as\\_events.csv          \\\\\n",
       "\t 8223fe7d34e791d9be72117581f31da8415486c29bed9622cc7bc7a7bd6589c4 & ./mxe\\_muscle\\_skeletal\\_AS\\_model\\_B\\_sex\\_as\\_events.csv                               \\\\\n",
       "\t ff4fac0fc938cf950ffbc4a29a90abe093b6fe2c742b073d12220451d70b6cca & ./ri\\_artery\\_tibial\\_AS\\_model\\_A\\_sjc\\_wo\\_DGE\\_sex.csv                                 \\\\\n",
       "\t b1767f9cb48a6b070e8615870e7d880b0715696ae5c2be17a0c6971727019161 & ./a3ss\\_brain\\_cerebellum\\_AS\\_model\\_A\\_ijc\\_wo\\_DGE\\_sex\\_universe.txt                   \\\\\n",
       "\t c7ef0cc2d9f818e15e708f9818083de58cc124b282753210e262f2114ceae013 & ./a5ss\\_nerve\\_tibial\\_AS\\_model\\_B\\_sex\\_as\\_events\\_gene\\_set.txt                        \\\\\n",
       "\t 797eca353987df05dcc8f15a2482937ed8378881cc344b504c8faf79d81e6525 & ./mxe\\_esophagus\\_gastroesophageal\\_junction\\_AS\\_model\\_A\\_sjc\\_wo\\_DGE\\_sex.csv          \\\\\n",
       "\t bf984a55e6ec203b5f0720cba52491510b3ce58d655aaec93a1ae847b792837a & ./mxe\\_esophagus\\_muscularis\\_AS\\_model\\_A\\_sjc\\_wo\\_DGE\\_sex\\_refined.csv                 \\\\\n",
       "\t 2cde861b46367ffeaf547fba8434482ef486dbca21158740ddff1faf22482ca6 & ./a3ss\\_brain\\_cortex\\_AS\\_model\\_B\\_sex\\_as\\_events\\_gene\\_set.txt                        \\\\\n",
       "\t e6e023fa1a2248983e2a30aad0f7db8d8ccf82d4def4057d30ab67f02f666c51 & ./a3ss\\_brain\\_nucleus\\_accumbens\\_basal\\_ganglia\\_AS\\_model\\_A\\_ijc\\_wo\\_DGE\\_sex.csv       \\\\\n",
       "\t 35966f56cbb64574e77fc1ebf5a0acf9b07e1cf442623460f450dbad88fc5f1d & ./se\\_brain\\_cerebellar\\_hemisphere\\_AS\\_model\\_A\\_ijc\\_sex\\_gene\\_set.txt                 \\\\\n",
       "\\end{tabular}\n"
      ],
      "text/markdown": [
       "\n",
       "A data.table: 4841 × 2\n",
       "\n",
       "| sha256sum &lt;chr&gt; | file &lt;chr&gt; |\n",
       "|---|---|\n",
       "| 6f2b3dc37ab2186f7cb6d317d80d9f70e9cd1c2bcab3cfc86c7de5c5e76e2514 | ./mxe_spleen_AS_model_B_sex.csv                                            |\n",
       "| 3d378262fa13e905cfa51d6ec2a88f01965d82dd54357131771c0a95c226805a | ./mxe_brain_cerebellum_AS_model_A_ijc_wo_DGE_sex_gene_set.txt              |\n",
       "| 94a7fa75a9c0072a745bb513040e778f90961310fc3751b90141b62a06429903 | ./liver_DGE.csv                                                            |\n",
       "| c04f787ffba8d422a66d2e807ece6ac8c6900287572f31105a5549c4021faf81 | ./ri_pancreas_AS_model_A_ijc_wo_DGE_sex.csv                                |\n",
       "| b4776f57f9780ef4c2068f55a9a56e02f2544d70438ce16de8a98a454bbaa14e | ./ri_breast_mammary_tissue_AS_model_A_ijc_wo_DGE_sex_refined.csv           |\n",
       "| f6c59cceb70e2f036dc4ad705125a10412d22dca8dc2b6b2f8ebadd4aaf98280 | ./mxe_spleen_AS_model_A_sjc_sex.csv                                        |\n",
       "| 2b5e26957f499a525c03053e7b5362681e1ebc7e71f0ae69e621153e56cbc3b9 | ./se_lung_AS_model_A_ijc_wo_DGE_sex.csv                                    |\n",
       "| cf6e8ed384c002dd3beaf00318db269252e11e447f57a2829c87c597dacc6dfb | ./se_whole_blood_AS_model_B_sex_as_events_universe.txt                     |\n",
       "| 63c22570491153b15c881dd82928c26491fac0bd246beb1de65cbf81d9049911 | ./a5ss_thyroid_AS_model_B_sex_as_events_universe.txt                       |\n",
       "| 9d72aeeee5ff54e5764bd33715031e8e035f6e84c2ec662ebf4eef5a7a74174a | ./ri_brain_hippocampus_AS_model_A_ijc_sex_refined.csv                      |\n",
       "| 0679053bf980a3ce90ec057d4d31190a55d8b13664ba6b641d6deac57873d3a6 | ./a5ss_brain_cerebellum_AS_model_A_sjc_sex_refined.csv                     |\n",
       "| 3bb210ab221cd5e5401e3f676847d73c008adae99bb7fe8add593b2af8c7e3b8 | ./a5ss_esophagus_muscularis_AS_model_A_ijc_wo_DGE_sex_gene_set.txt         |\n",
       "| 33e9281f0fc39925617b78d242eda106be19132ec2251416e581b3510d773bf5 | ./se_colon_transverse_AS_model_B_sex_as_events_refined.csv                 |\n",
       "| 0ed1cbc060424f978613d288907031da2ba33d49e3fe6bb300ee378526e063f5 | ./a3ss_brain_putamen_basal_ganglia_AS_model_A_sjc_sex_refined.csv          |\n",
       "| 5f72f6c7c8f97016beb93fe2ed29411132b4237e546d89a5971e5ee3baf51e10 | ./ri_breast_mammary_tissue_AS_model_A_sjc_wo_DGE_sex_gene_set.txt          |\n",
       "| ce7cfd476dd881cf8997118dad34565685a9db56c24aa3896a840b054d5383e5 | ./ri_heart_atrial_appendage_AS_model_A_ijc_wo_DGE_sex_refined.csv          |\n",
       "| cbb76ec5f3e4084cdaf41251f5d2ff0f1bd10790fe783f913d2ee37f8d5c9352 | ./se_cells_cultured_fibroblasts_AS_model_A_ijc_sex_refined.csv             |\n",
       "| eb865b17a941af4f8cec7d4c3aa49ebf728720d989fc1325adc1de5de08607d1 | ./a5ss_brain_cerebellar_hemisphere_AS_model_B_sex.csv                      |\n",
       "| d87ce728b9cac6b98a6f1855de598bcc1a4cbd353133eef76360fa4263d80202 | ./se_brain_cortex_AS_model_B_sex.csv                                       |\n",
       "| a263070ab088392154065080dd71ef9c9f7503074d4cb63f0f20d0ee9a302aed | ./a3ss_stomach_AS_model_A_sjc_sex_gene_set.txt                             |\n",
       "| a373603e7b11015357b6450dedaa1176808a7de742039e32ea593ec63fd2824e | ./ri_brain_cerebellar_hemisphere_AS_model_A_sjc_sex_universe.txt           |\n",
       "| 6661a0af3fdcf1f71b8de14c777b63b15e99041602f22750b901259674167975 | ./se_adipose_visceral_omentum_AS_model_B_sex.csv                           |\n",
       "| 4c0f4bff6f254305af6caf9e5226dce2f0e7c1277454ec68452231eada857cf5 | ./mxe_pancreas_AS_model_A_ijc_wo_DGE_sex_gene_set.txt                      |\n",
       "| e3b0c44298fc1c149afbf4c8996fb92427ae41e4649b934ca495991b7852b855 | ./ri_colon_sigmoid_AS_model_A_ijc_sex_gene_set.txt                         |\n",
       "| 9a519dae069f03d31447bd18660d8b6e2392744c5b963b3040f422473f18c3f1 | ./mxe_colon_sigmoid_AS_model_B_sex_as_events_universe.txt                  |\n",
       "| defd9c7e91c8b71a0e1f96966925c0de12fdc45be2f320edec4cc656f45bb98c | ./ri_brain_hippocampus_AS_model_A_sjc_wo_DGE_sex_universe.txt              |\n",
       "| 8d64c97a44c87fbff33fa4d7c59299425b25cf8a0a9222b288f380f52801608f | ./se_brain_nucleus_accumbens_basal_ganglia_AS_model_A_sjc_sex_gene_set.txt |\n",
       "| d4a0d527c6d01b14bae1e93f750ff2e4e9af8033955e5dad79f8b359036ee7a9 | ./se_whole_blood_AS_model_B_sex_gene_set.txt                               |\n",
       "| d7fe5d52f34d8c526ca7922c1491ce1304b94e0a80e3b9f1f35142dfdc7bad77 | ./a3ss_skin_not_sun_exposed_suprapubic_AS_model_A_ijc_sex_gene_set.txt     |\n",
       "| d674ac8b1e8df6aaea6b9e74601738ab075f5a4e783d71f023b8367f5f22addf | ./mxe_adrenal_gland_AS_model_A_ijc_wo_DGE_sex.csv                          |\n",
       "| ⋮ | ⋮ |\n",
       "| 396bd78e383871ce4998dffd1afd4227056a248b030cf17f366228b69a42cd03 | ./se_brain_spinal_cord_cervical_c_1_AS_model_A_ijc_wo_DGE_sex_universe.txt        |\n",
       "| 8291be77c7ad6cd73d9f7797658e3f1ffc197532a23385a85911ca4d4db13483 | ./SraRunTable.txt.gz                                                              |\n",
       "| e6b6357664cac4a2652a0706f853569e61bf34e06a490b0496e210a122ed70dd | ./a5ss_whole_blood_AS_model_A_sjc_sex_universe.txt                                |\n",
       "| e3b0c44298fc1c149afbf4c8996fb92427ae41e4649b934ca495991b7852b855 | ./se_brain_frontal_cortex_ba_9_AS_model_A_sjc_wo_DGE_sex_gene_set.txt             |\n",
       "| ffb0e4fc320652654b5f443256ba56e001dbf0b262da3b6593124a6f3363444a | ./ri_breast_mammary_tissue_AS_model_B_sex_universe.txt                            |\n",
       "| c15433c76446fc2eacbfc23e28acfd6413295c6c8cbe01804138beec7fc9050a | ./se_esophagus_mucosa_AS_model_B_sex_universe.txt                                 |\n",
       "| ce7cfd476dd881cf8997118dad34565685a9db56c24aa3896a840b054d5383e5 | ./ri_whole_blood_AS_model_A_sjc_wo_DGE_sex_refined.csv                            |\n",
       "| 34790f1369731b428902af30fb87a5db462f48650a4d1b67d3c18dbf8af5b232 | ./a5ss_skin_not_sun_exposed_suprapubic_AS_model_B_sex_as_events.csv               |\n",
       "| 0dec98d7a87a9112bd1cbc9688e706620b148fa262b696308d9f79e13005e977 | ./se_artery_aorta_AS_model_A_ijc_wo_DGE_sex_refined.csv                           |\n",
       "| 342276a47c585d8e004f55d1d7f7e30b32053afe6ee74c162317faa82b1e8188 | ./mxe_brain_hippocampus_AS_model_B_sex_gene_set.txt                               |\n",
       "| 3b1b778242b9672a549d20a1673e8dd7e11d5c84814769db831a611297b6e349 | ./a3ss_adrenal_gland_AS_model_B_sex_refined.csv                                   |\n",
       "| e2ca31af12bb3e0e9f3348263c57a69d7e7c4fc2e51b3fe5f4e489574113ce85 | ./a3ss_cells_ebv_transformed_lymphocytes_AS_model_A_ijc_sex_refined.csv           |\n",
       "| 56731989dbb9a5d4896e9f4edd89e6b2fb5d7db3bb541e2ab788079cffdd33b9 | ./a3ss_esophagus_gastroesophageal_junction_AS_model_A_sjc_wo_DGE_sex_refined.csv  |\n",
       "| d851f9842e29d4f19a73d093d28fa0c60a7e2c79c9ef646cb5551e721c4c51e6 | ./se_heart_left_ventricle_AS_model_B_sex_as_events_universe.txt                   |\n",
       "| e3b0c44298fc1c149afbf4c8996fb92427ae41e4649b934ca495991b7852b855 | ./a5ss_esophagus_muscularis_AS_model_A_sjc_wo_DGE_sex_gene_set.txt                |\n",
       "| 29744dd3512916906371d61c5dc6c7bb1e5b50ec4c4a2049d7595368b77b7881 | ./mxe_adrenal_gland_AS_model_A_sjc_sex.csv                                        |\n",
       "| dd0101649202009bd298b769562869479e33b6dc0ab7888f36ea2eadfee4caea | ./se_lung_AS_model_A_ijc_wo_DGE_sex_universe.txt                                  |\n",
       "| 8da2360c922e390e16440df84bc9245f37c4fcbdd1ef0ad0a84fd40ab2935d67 | ./a3ss_brain_spinal_cord_cervical_c_1_AS_model_B_sex_as_events_gene_set.txt       |\n",
       "| 0d8d19610a13d90595b2ddc38dde69d6f2ac839f9354ec10ef3f64db7b6a48a7 | ./a5ss_esophagus_gastroesophageal_junction_AS_model_A_sjc_wo_DGE_sex_universe.txt |\n",
       "| e3b0c44298fc1c149afbf4c8996fb92427ae41e4649b934ca495991b7852b855 | ./a5ss_colon_transverse_AS_model_B_sex_as_events_gene_set.txt                     |\n",
       "| ae7651681cd508270da1b25a27b44b0b6c22d2820b8b632d13be9d116ce4ad34 | ./a5ss_esophagus_gastroesophageal_junction_AS_model_B_sex_as_events.csv           |\n",
       "| 8223fe7d34e791d9be72117581f31da8415486c29bed9622cc7bc7a7bd6589c4 | ./mxe_muscle_skeletal_AS_model_B_sex_as_events.csv                                |\n",
       "| ff4fac0fc938cf950ffbc4a29a90abe093b6fe2c742b073d12220451d70b6cca | ./ri_artery_tibial_AS_model_A_sjc_wo_DGE_sex.csv                                  |\n",
       "| b1767f9cb48a6b070e8615870e7d880b0715696ae5c2be17a0c6971727019161 | ./a3ss_brain_cerebellum_AS_model_A_ijc_wo_DGE_sex_universe.txt                    |\n",
       "| c7ef0cc2d9f818e15e708f9818083de58cc124b282753210e262f2114ceae013 | ./a5ss_nerve_tibial_AS_model_B_sex_as_events_gene_set.txt                         |\n",
       "| 797eca353987df05dcc8f15a2482937ed8378881cc344b504c8faf79d81e6525 | ./mxe_esophagus_gastroesophageal_junction_AS_model_A_sjc_wo_DGE_sex.csv           |\n",
       "| bf984a55e6ec203b5f0720cba52491510b3ce58d655aaec93a1ae847b792837a | ./mxe_esophagus_muscularis_AS_model_A_sjc_wo_DGE_sex_refined.csv                  |\n",
       "| 2cde861b46367ffeaf547fba8434482ef486dbca21158740ddff1faf22482ca6 | ./a3ss_brain_cortex_AS_model_B_sex_as_events_gene_set.txt                         |\n",
       "| e6e023fa1a2248983e2a30aad0f7db8d8ccf82d4def4057d30ab67f02f666c51 | ./a3ss_brain_nucleus_accumbens_basal_ganglia_AS_model_A_ijc_wo_DGE_sex.csv        |\n",
       "| 35966f56cbb64574e77fc1ebf5a0acf9b07e1cf442623460f450dbad88fc5f1d | ./se_brain_cerebellar_hemisphere_AS_model_A_ijc_sex_gene_set.txt                  |\n",
       "\n"
      ],
      "text/plain": [
       "     sha256sum                                                       \n",
       "1    6f2b3dc37ab2186f7cb6d317d80d9f70e9cd1c2bcab3cfc86c7de5c5e76e2514\n",
       "2    3d378262fa13e905cfa51d6ec2a88f01965d82dd54357131771c0a95c226805a\n",
       "3    94a7fa75a9c0072a745bb513040e778f90961310fc3751b90141b62a06429903\n",
       "4    c04f787ffba8d422a66d2e807ece6ac8c6900287572f31105a5549c4021faf81\n",
       "5    b4776f57f9780ef4c2068f55a9a56e02f2544d70438ce16de8a98a454bbaa14e\n",
       "6    f6c59cceb70e2f036dc4ad705125a10412d22dca8dc2b6b2f8ebadd4aaf98280\n",
       "7    2b5e26957f499a525c03053e7b5362681e1ebc7e71f0ae69e621153e56cbc3b9\n",
       "8    cf6e8ed384c002dd3beaf00318db269252e11e447f57a2829c87c597dacc6dfb\n",
       "9    63c22570491153b15c881dd82928c26491fac0bd246beb1de65cbf81d9049911\n",
       "10   9d72aeeee5ff54e5764bd33715031e8e035f6e84c2ec662ebf4eef5a7a74174a\n",
       "11   0679053bf980a3ce90ec057d4d31190a55d8b13664ba6b641d6deac57873d3a6\n",
       "12   3bb210ab221cd5e5401e3f676847d73c008adae99bb7fe8add593b2af8c7e3b8\n",
       "13   33e9281f0fc39925617b78d242eda106be19132ec2251416e581b3510d773bf5\n",
       "14   0ed1cbc060424f978613d288907031da2ba33d49e3fe6bb300ee378526e063f5\n",
       "15   5f72f6c7c8f97016beb93fe2ed29411132b4237e546d89a5971e5ee3baf51e10\n",
       "16   ce7cfd476dd881cf8997118dad34565685a9db56c24aa3896a840b054d5383e5\n",
       "17   cbb76ec5f3e4084cdaf41251f5d2ff0f1bd10790fe783f913d2ee37f8d5c9352\n",
       "18   eb865b17a941af4f8cec7d4c3aa49ebf728720d989fc1325adc1de5de08607d1\n",
       "19   d87ce728b9cac6b98a6f1855de598bcc1a4cbd353133eef76360fa4263d80202\n",
       "20   a263070ab088392154065080dd71ef9c9f7503074d4cb63f0f20d0ee9a302aed\n",
       "21   a373603e7b11015357b6450dedaa1176808a7de742039e32ea593ec63fd2824e\n",
       "22   6661a0af3fdcf1f71b8de14c777b63b15e99041602f22750b901259674167975\n",
       "23   4c0f4bff6f254305af6caf9e5226dce2f0e7c1277454ec68452231eada857cf5\n",
       "24   e3b0c44298fc1c149afbf4c8996fb92427ae41e4649b934ca495991b7852b855\n",
       "25   9a519dae069f03d31447bd18660d8b6e2392744c5b963b3040f422473f18c3f1\n",
       "26   defd9c7e91c8b71a0e1f96966925c0de12fdc45be2f320edec4cc656f45bb98c\n",
       "27   8d64c97a44c87fbff33fa4d7c59299425b25cf8a0a9222b288f380f52801608f\n",
       "28   d4a0d527c6d01b14bae1e93f750ff2e4e9af8033955e5dad79f8b359036ee7a9\n",
       "29   d7fe5d52f34d8c526ca7922c1491ce1304b94e0a80e3b9f1f35142dfdc7bad77\n",
       "30   d674ac8b1e8df6aaea6b9e74601738ab075f5a4e783d71f023b8367f5f22addf\n",
       "⋮    ⋮                                                               \n",
       "4812 396bd78e383871ce4998dffd1afd4227056a248b030cf17f366228b69a42cd03\n",
       "4813 8291be77c7ad6cd73d9f7797658e3f1ffc197532a23385a85911ca4d4db13483\n",
       "4814 e6b6357664cac4a2652a0706f853569e61bf34e06a490b0496e210a122ed70dd\n",
       "4815 e3b0c44298fc1c149afbf4c8996fb92427ae41e4649b934ca495991b7852b855\n",
       "4816 ffb0e4fc320652654b5f443256ba56e001dbf0b262da3b6593124a6f3363444a\n",
       "4817 c15433c76446fc2eacbfc23e28acfd6413295c6c8cbe01804138beec7fc9050a\n",
       "4818 ce7cfd476dd881cf8997118dad34565685a9db56c24aa3896a840b054d5383e5\n",
       "4819 34790f1369731b428902af30fb87a5db462f48650a4d1b67d3c18dbf8af5b232\n",
       "4820 0dec98d7a87a9112bd1cbc9688e706620b148fa262b696308d9f79e13005e977\n",
       "4821 342276a47c585d8e004f55d1d7f7e30b32053afe6ee74c162317faa82b1e8188\n",
       "4822 3b1b778242b9672a549d20a1673e8dd7e11d5c84814769db831a611297b6e349\n",
       "4823 e2ca31af12bb3e0e9f3348263c57a69d7e7c4fc2e51b3fe5f4e489574113ce85\n",
       "4824 56731989dbb9a5d4896e9f4edd89e6b2fb5d7db3bb541e2ab788079cffdd33b9\n",
       "4825 d851f9842e29d4f19a73d093d28fa0c60a7e2c79c9ef646cb5551e721c4c51e6\n",
       "4826 e3b0c44298fc1c149afbf4c8996fb92427ae41e4649b934ca495991b7852b855\n",
       "4827 29744dd3512916906371d61c5dc6c7bb1e5b50ec4c4a2049d7595368b77b7881\n",
       "4828 dd0101649202009bd298b769562869479e33b6dc0ab7888f36ea2eadfee4caea\n",
       "4829 8da2360c922e390e16440df84bc9245f37c4fcbdd1ef0ad0a84fd40ab2935d67\n",
       "4830 0d8d19610a13d90595b2ddc38dde69d6f2ac839f9354ec10ef3f64db7b6a48a7\n",
       "4831 e3b0c44298fc1c149afbf4c8996fb92427ae41e4649b934ca495991b7852b855\n",
       "4832 ae7651681cd508270da1b25a27b44b0b6c22d2820b8b632d13be9d116ce4ad34\n",
       "4833 8223fe7d34e791d9be72117581f31da8415486c29bed9622cc7bc7a7bd6589c4\n",
       "4834 ff4fac0fc938cf950ffbc4a29a90abe093b6fe2c742b073d12220451d70b6cca\n",
       "4835 b1767f9cb48a6b070e8615870e7d880b0715696ae5c2be17a0c6971727019161\n",
       "4836 c7ef0cc2d9f818e15e708f9818083de58cc124b282753210e262f2114ceae013\n",
       "4837 797eca353987df05dcc8f15a2482937ed8378881cc344b504c8faf79d81e6525\n",
       "4838 bf984a55e6ec203b5f0720cba52491510b3ce58d655aaec93a1ae847b792837a\n",
       "4839 2cde861b46367ffeaf547fba8434482ef486dbca21158740ddff1faf22482ca6\n",
       "4840 e6e023fa1a2248983e2a30aad0f7db8d8ccf82d4def4057d30ab67f02f666c51\n",
       "4841 35966f56cbb64574e77fc1ebf5a0acf9b07e1cf442623460f450dbad88fc5f1d\n",
       "     file                                                                             \n",
       "1    ./mxe_spleen_AS_model_B_sex.csv                                                  \n",
       "2    ./mxe_brain_cerebellum_AS_model_A_ijc_wo_DGE_sex_gene_set.txt                    \n",
       "3    ./liver_DGE.csv                                                                  \n",
       "4    ./ri_pancreas_AS_model_A_ijc_wo_DGE_sex.csv                                      \n",
       "5    ./ri_breast_mammary_tissue_AS_model_A_ijc_wo_DGE_sex_refined.csv                 \n",
       "6    ./mxe_spleen_AS_model_A_sjc_sex.csv                                              \n",
       "7    ./se_lung_AS_model_A_ijc_wo_DGE_sex.csv                                          \n",
       "8    ./se_whole_blood_AS_model_B_sex_as_events_universe.txt                           \n",
       "9    ./a5ss_thyroid_AS_model_B_sex_as_events_universe.txt                             \n",
       "10   ./ri_brain_hippocampus_AS_model_A_ijc_sex_refined.csv                            \n",
       "11   ./a5ss_brain_cerebellum_AS_model_A_sjc_sex_refined.csv                           \n",
       "12   ./a5ss_esophagus_muscularis_AS_model_A_ijc_wo_DGE_sex_gene_set.txt               \n",
       "13   ./se_colon_transverse_AS_model_B_sex_as_events_refined.csv                       \n",
       "14   ./a3ss_brain_putamen_basal_ganglia_AS_model_A_sjc_sex_refined.csv                \n",
       "15   ./ri_breast_mammary_tissue_AS_model_A_sjc_wo_DGE_sex_gene_set.txt                \n",
       "16   ./ri_heart_atrial_appendage_AS_model_A_ijc_wo_DGE_sex_refined.csv                \n",
       "17   ./se_cells_cultured_fibroblasts_AS_model_A_ijc_sex_refined.csv                   \n",
       "18   ./a5ss_brain_cerebellar_hemisphere_AS_model_B_sex.csv                            \n",
       "19   ./se_brain_cortex_AS_model_B_sex.csv                                             \n",
       "20   ./a3ss_stomach_AS_model_A_sjc_sex_gene_set.txt                                   \n",
       "21   ./ri_brain_cerebellar_hemisphere_AS_model_A_sjc_sex_universe.txt                 \n",
       "22   ./se_adipose_visceral_omentum_AS_model_B_sex.csv                                 \n",
       "23   ./mxe_pancreas_AS_model_A_ijc_wo_DGE_sex_gene_set.txt                            \n",
       "24   ./ri_colon_sigmoid_AS_model_A_ijc_sex_gene_set.txt                               \n",
       "25   ./mxe_colon_sigmoid_AS_model_B_sex_as_events_universe.txt                        \n",
       "26   ./ri_brain_hippocampus_AS_model_A_sjc_wo_DGE_sex_universe.txt                    \n",
       "27   ./se_brain_nucleus_accumbens_basal_ganglia_AS_model_A_sjc_sex_gene_set.txt       \n",
       "28   ./se_whole_blood_AS_model_B_sex_gene_set.txt                                     \n",
       "29   ./a3ss_skin_not_sun_exposed_suprapubic_AS_model_A_ijc_sex_gene_set.txt           \n",
       "30   ./mxe_adrenal_gland_AS_model_A_ijc_wo_DGE_sex.csv                                \n",
       "⋮    ⋮                                                                                \n",
       "4812 ./se_brain_spinal_cord_cervical_c_1_AS_model_A_ijc_wo_DGE_sex_universe.txt       \n",
       "4813 ./SraRunTable.txt.gz                                                             \n",
       "4814 ./a5ss_whole_blood_AS_model_A_sjc_sex_universe.txt                               \n",
       "4815 ./se_brain_frontal_cortex_ba_9_AS_model_A_sjc_wo_DGE_sex_gene_set.txt            \n",
       "4816 ./ri_breast_mammary_tissue_AS_model_B_sex_universe.txt                           \n",
       "4817 ./se_esophagus_mucosa_AS_model_B_sex_universe.txt                                \n",
       "4818 ./ri_whole_blood_AS_model_A_sjc_wo_DGE_sex_refined.csv                           \n",
       "4819 ./a5ss_skin_not_sun_exposed_suprapubic_AS_model_B_sex_as_events.csv              \n",
       "4820 ./se_artery_aorta_AS_model_A_ijc_wo_DGE_sex_refined.csv                          \n",
       "4821 ./mxe_brain_hippocampus_AS_model_B_sex_gene_set.txt                              \n",
       "4822 ./a3ss_adrenal_gland_AS_model_B_sex_refined.csv                                  \n",
       "4823 ./a3ss_cells_ebv_transformed_lymphocytes_AS_model_A_ijc_sex_refined.csv          \n",
       "4824 ./a3ss_esophagus_gastroesophageal_junction_AS_model_A_sjc_wo_DGE_sex_refined.csv \n",
       "4825 ./se_heart_left_ventricle_AS_model_B_sex_as_events_universe.txt                  \n",
       "4826 ./a5ss_esophagus_muscularis_AS_model_A_sjc_wo_DGE_sex_gene_set.txt               \n",
       "4827 ./mxe_adrenal_gland_AS_model_A_sjc_sex.csv                                       \n",
       "4828 ./se_lung_AS_model_A_ijc_wo_DGE_sex_universe.txt                                 \n",
       "4829 ./a3ss_brain_spinal_cord_cervical_c_1_AS_model_B_sex_as_events_gene_set.txt      \n",
       "4830 ./a5ss_esophagus_gastroesophageal_junction_AS_model_A_sjc_wo_DGE_sex_universe.txt\n",
       "4831 ./a5ss_colon_transverse_AS_model_B_sex_as_events_gene_set.txt                    \n",
       "4832 ./a5ss_esophagus_gastroesophageal_junction_AS_model_B_sex_as_events.csv          \n",
       "4833 ./mxe_muscle_skeletal_AS_model_B_sex_as_events.csv                               \n",
       "4834 ./ri_artery_tibial_AS_model_A_sjc_wo_DGE_sex.csv                                 \n",
       "4835 ./a3ss_brain_cerebellum_AS_model_A_ijc_wo_DGE_sex_universe.txt                   \n",
       "4836 ./a5ss_nerve_tibial_AS_model_B_sex_as_events_gene_set.txt                        \n",
       "4837 ./mxe_esophagus_gastroesophageal_junction_AS_model_A_sjc_wo_DGE_sex.csv          \n",
       "4838 ./mxe_esophagus_muscularis_AS_model_A_sjc_wo_DGE_sex_refined.csv                 \n",
       "4839 ./a3ss_brain_cortex_AS_model_B_sex_as_events_gene_set.txt                        \n",
       "4840 ./a3ss_brain_nucleus_accumbens_basal_ganglia_AS_model_A_ijc_wo_DGE_sex.csv       \n",
       "4841 ./se_brain_cerebellar_hemisphere_AS_model_A_ijc_sex_gene_set.txt                 "
      ]
     },
     "metadata": {},
     "output_type": "display_data"
    }
   ],
   "source": [
    "figure_id       <- \"bayesian-modeling\"\n",
    "\n",
    "message(\"Generating sha256 checksums of the artefacts in the `..data/` directory .. \")\n",
    "system(paste0(\"cd ../data/ && find . -type f -exec sha256sum {} \\\\; > ../metadata/\",  figure_id, \"_sha256sums.txt\"), intern = TRUE)\n",
    "message(\"Done!\\n\")\n",
    "\n",
    "data.table::fread(paste0(\"../metadata/\", figure_id, \"_sha256sums.txt\"), header = FALSE, col.names = c(\"sha256sum\", \"file\"))"
   ]
  },
  {
   "cell_type": "markdown",
   "metadata": {},
   "source": [
    "### 2. Libraries metadata"
   ]
  },
  {
   "cell_type": "code",
   "execution_count": 106,
   "metadata": {},
   "outputs": [
    {
     "name": "stderr",
     "output_type": "stream",
     "text": [
      "Saving `devtools::session_info()` objects in ../metadata/devtools_session_info.rds  ..\n",
      "\n",
      "Done!\n",
      "\n",
      "\n",
      "Saving `utils::sessionInfo()` objects in ../metadata/utils_session_info.rds  ..\n",
      "\n",
      "Done!\n",
      "\n",
      "\n"
     ]
    },
    {
     "data": {
      "text/plain": [
       " setting  value                       \n",
       " version  R version 3.6.2 (2019-12-12)\n",
       " os       Ubuntu 18.04.3 LTS          \n",
       " system   x86_64, linux-gnu           \n",
       " ui       X11                         \n",
       " language en_US.UTF-8                 \n",
       " collate  en_US.UTF-8                 \n",
       " ctype    en_US.UTF-8                 \n",
       " tz       Etc/UTC                     \n",
       " date     2020-06-26                  "
      ]
     },
     "metadata": {},
     "output_type": "display_data"
    },
    {
     "data": {
      "text/html": [
       "<table>\n",
       "<caption>A packages_info: 11 × 11</caption>\n",
       "<thead>\n",
       "\t<tr><th></th><th scope=col>package</th><th scope=col>ondiskversion</th><th scope=col>loadedversion</th><th scope=col>path</th><th scope=col>loadedpath</th><th scope=col>attached</th><th scope=col>is_base</th><th scope=col>date</th><th scope=col>source</th><th scope=col>md5ok</th><th scope=col>library</th></tr>\n",
       "\t<tr><th></th><th scope=col>&lt;chr&gt;</th><th scope=col>&lt;chr&gt;</th><th scope=col>&lt;chr&gt;</th><th scope=col>&lt;chr&gt;</th><th scope=col>&lt;chr&gt;</th><th scope=col>&lt;lgl&gt;</th><th scope=col>&lt;lgl&gt;</th><th scope=col>&lt;chr&gt;</th><th scope=col>&lt;chr&gt;</th><th scope=col>&lt;lgl&gt;</th><th scope=col>&lt;fct&gt;</th></tr>\n",
       "</thead>\n",
       "<tbody>\n",
       "\t<tr><th scope=row>coda</th><td>coda       </td><td>0.19.3  </td><td>0.19-3  </td><td>/opt/conda/lib/R/library/coda       </td><td>/opt/conda/lib/R/library/coda       </td><td>TRUE</td><td>FALSE</td><td>2019-07-05</td><td>CRAN (R 3.6.3)</td><td>NA</td><td>/opt/conda/lib/R/library</td></tr>\n",
       "\t<tr><th scope=row>compute.es</th><td>compute.es </td><td>0.2.5   </td><td>0.2-5   </td><td>/opt/conda/lib/R/library/compute.es </td><td>/opt/conda/lib/R/library/compute.es </td><td>TRUE</td><td>FALSE</td><td>2020-04-01</td><td>CRAN (R 3.6.3)</td><td>NA</td><td>/opt/conda/lib/R/library</td></tr>\n",
       "\t<tr><th scope=row>ggplot2</th><td>ggplot2    </td><td>3.3.2   </td><td>3.3.2   </td><td>/opt/conda/lib/R/library/ggplot2    </td><td>/opt/conda/lib/R/library/ggplot2    </td><td>TRUE</td><td>FALSE</td><td>2020-06-19</td><td>CRAN (R 3.6.3)</td><td>NA</td><td>/opt/conda/lib/R/library</td></tr>\n",
       "\t<tr><th scope=row>ggsci</th><td>ggsci      </td><td>2.9     </td><td>2.9     </td><td>/opt/conda/lib/R/library/ggsci      </td><td>/opt/conda/lib/R/library/ggsci      </td><td>TRUE</td><td>FALSE</td><td>2018-05-14</td><td>CRAN (R 3.6.3)</td><td>NA</td><td>/opt/conda/lib/R/library</td></tr>\n",
       "\t<tr><th scope=row>gridExtra</th><td>gridExtra  </td><td>2.3     </td><td>2.3     </td><td>/opt/conda/lib/R/library/gridExtra  </td><td>/opt/conda/lib/R/library/gridExtra  </td><td>TRUE</td><td>FALSE</td><td>2017-09-09</td><td>CRAN (R 3.6.3)</td><td>NA</td><td>/opt/conda/lib/R/library</td></tr>\n",
       "\t<tr><th scope=row>rjags</th><td>rjags      </td><td>4.10    </td><td>4-10    </td><td>/opt/conda/lib/R/library/rjags      </td><td>/opt/conda/lib/R/library/rjags      </td><td>TRUE</td><td>FALSE</td><td>2019-11-06</td><td>CRAN (R 3.6.3)</td><td>NA</td><td>/opt/conda/lib/R/library</td></tr>\n",
       "\t<tr><th scope=row>rstan</th><td>rstan      </td><td>2.19.3  </td><td>2.19.3  </td><td>/opt/conda/lib/R/library/rstan      </td><td>/opt/conda/lib/R/library/rstan      </td><td>TRUE</td><td>FALSE</td><td>2020-02-11</td><td>CRAN (R 3.6.3)</td><td>NA</td><td>/opt/conda/lib/R/library</td></tr>\n",
       "\t<tr><th scope=row>runjags</th><td>runjags    </td><td>2.0.4.6 </td><td>2.0.4-6 </td><td>/opt/conda/lib/R/library/runjags    </td><td>/opt/conda/lib/R/library/runjags    </td><td>TRUE</td><td>FALSE</td><td>2019-12-17</td><td>CRAN (R 3.6.2)</td><td>NA</td><td>/opt/conda/lib/R/library</td></tr>\n",
       "\t<tr><th scope=row>snakecase</th><td>snakecase  </td><td>0.11.0  </td><td>0.11.0  </td><td>/opt/conda/lib/R/library/snakecase  </td><td>/opt/conda/lib/R/library/snakecase  </td><td>TRUE</td><td>FALSE</td><td>2019-05-25</td><td>CRAN (R 3.6.3)</td><td>NA</td><td>/opt/conda/lib/R/library</td></tr>\n",
       "\t<tr><th scope=row>StanHeaders</th><td>StanHeaders</td><td>2.21.0.5</td><td>2.21.0-5</td><td>/opt/conda/lib/R/library/StanHeaders</td><td>/opt/conda/lib/R/library/StanHeaders</td><td>TRUE</td><td>FALSE</td><td>2020-06-09</td><td>CRAN (R 3.6.3)</td><td>NA</td><td>/opt/conda/lib/R/library</td></tr>\n",
       "\t<tr><th scope=row>stringr</th><td>stringr    </td><td>1.4.0   </td><td>1.4.0   </td><td>/opt/conda/lib/R/library/stringr    </td><td>/opt/conda/lib/R/library/stringr    </td><td>TRUE</td><td>FALSE</td><td>2019-02-10</td><td>CRAN (R 3.6.1)</td><td>NA</td><td>/opt/conda/lib/R/library</td></tr>\n",
       "</tbody>\n",
       "</table>\n"
      ],
      "text/latex": [
       "A packages\\_info: 11 × 11\n",
       "\\begin{tabular}{r|lllllllllll}\n",
       "  & package & ondiskversion & loadedversion & path & loadedpath & attached & is\\_base & date & source & md5ok & library\\\\\n",
       "  & <chr> & <chr> & <chr> & <chr> & <chr> & <lgl> & <lgl> & <chr> & <chr> & <lgl> & <fct>\\\\\n",
       "\\hline\n",
       "\tcoda & coda        & 0.19.3   & 0.19-3   & /opt/conda/lib/R/library/coda        & /opt/conda/lib/R/library/coda        & TRUE & FALSE & 2019-07-05 & CRAN (R 3.6.3) & NA & /opt/conda/lib/R/library\\\\\n",
       "\tcompute.es & compute.es  & 0.2.5    & 0.2-5    & /opt/conda/lib/R/library/compute.es  & /opt/conda/lib/R/library/compute.es  & TRUE & FALSE & 2020-04-01 & CRAN (R 3.6.3) & NA & /opt/conda/lib/R/library\\\\\n",
       "\tggplot2 & ggplot2     & 3.3.2    & 3.3.2    & /opt/conda/lib/R/library/ggplot2     & /opt/conda/lib/R/library/ggplot2     & TRUE & FALSE & 2020-06-19 & CRAN (R 3.6.3) & NA & /opt/conda/lib/R/library\\\\\n",
       "\tggsci & ggsci       & 2.9      & 2.9      & /opt/conda/lib/R/library/ggsci       & /opt/conda/lib/R/library/ggsci       & TRUE & FALSE & 2018-05-14 & CRAN (R 3.6.3) & NA & /opt/conda/lib/R/library\\\\\n",
       "\tgridExtra & gridExtra   & 2.3      & 2.3      & /opt/conda/lib/R/library/gridExtra   & /opt/conda/lib/R/library/gridExtra   & TRUE & FALSE & 2017-09-09 & CRAN (R 3.6.3) & NA & /opt/conda/lib/R/library\\\\\n",
       "\trjags & rjags       & 4.10     & 4-10     & /opt/conda/lib/R/library/rjags       & /opt/conda/lib/R/library/rjags       & TRUE & FALSE & 2019-11-06 & CRAN (R 3.6.3) & NA & /opt/conda/lib/R/library\\\\\n",
       "\trstan & rstan       & 2.19.3   & 2.19.3   & /opt/conda/lib/R/library/rstan       & /opt/conda/lib/R/library/rstan       & TRUE & FALSE & 2020-02-11 & CRAN (R 3.6.3) & NA & /opt/conda/lib/R/library\\\\\n",
       "\trunjags & runjags     & 2.0.4.6  & 2.0.4-6  & /opt/conda/lib/R/library/runjags     & /opt/conda/lib/R/library/runjags     & TRUE & FALSE & 2019-12-17 & CRAN (R 3.6.2) & NA & /opt/conda/lib/R/library\\\\\n",
       "\tsnakecase & snakecase   & 0.11.0   & 0.11.0   & /opt/conda/lib/R/library/snakecase   & /opt/conda/lib/R/library/snakecase   & TRUE & FALSE & 2019-05-25 & CRAN (R 3.6.3) & NA & /opt/conda/lib/R/library\\\\\n",
       "\tStanHeaders & StanHeaders & 2.21.0.5 & 2.21.0-5 & /opt/conda/lib/R/library/StanHeaders & /opt/conda/lib/R/library/StanHeaders & TRUE & FALSE & 2020-06-09 & CRAN (R 3.6.3) & NA & /opt/conda/lib/R/library\\\\\n",
       "\tstringr & stringr     & 1.4.0    & 1.4.0    & /opt/conda/lib/R/library/stringr     & /opt/conda/lib/R/library/stringr     & TRUE & FALSE & 2019-02-10 & CRAN (R 3.6.1) & NA & /opt/conda/lib/R/library\\\\\n",
       "\\end{tabular}\n"
      ],
      "text/markdown": [
       "\n",
       "A packages_info: 11 × 11\n",
       "\n",
       "| <!--/--> | package &lt;chr&gt; | ondiskversion &lt;chr&gt; | loadedversion &lt;chr&gt; | path &lt;chr&gt; | loadedpath &lt;chr&gt; | attached &lt;lgl&gt; | is_base &lt;lgl&gt; | date &lt;chr&gt; | source &lt;chr&gt; | md5ok &lt;lgl&gt; | library &lt;fct&gt; |\n",
       "|---|---|---|---|---|---|---|---|---|---|---|---|\n",
       "| coda | coda        | 0.19.3   | 0.19-3   | /opt/conda/lib/R/library/coda        | /opt/conda/lib/R/library/coda        | TRUE | FALSE | 2019-07-05 | CRAN (R 3.6.3) | NA | /opt/conda/lib/R/library |\n",
       "| compute.es | compute.es  | 0.2.5    | 0.2-5    | /opt/conda/lib/R/library/compute.es  | /opt/conda/lib/R/library/compute.es  | TRUE | FALSE | 2020-04-01 | CRAN (R 3.6.3) | NA | /opt/conda/lib/R/library |\n",
       "| ggplot2 | ggplot2     | 3.3.2    | 3.3.2    | /opt/conda/lib/R/library/ggplot2     | /opt/conda/lib/R/library/ggplot2     | TRUE | FALSE | 2020-06-19 | CRAN (R 3.6.3) | NA | /opt/conda/lib/R/library |\n",
       "| ggsci | ggsci       | 2.9      | 2.9      | /opt/conda/lib/R/library/ggsci       | /opt/conda/lib/R/library/ggsci       | TRUE | FALSE | 2018-05-14 | CRAN (R 3.6.3) | NA | /opt/conda/lib/R/library |\n",
       "| gridExtra | gridExtra   | 2.3      | 2.3      | /opt/conda/lib/R/library/gridExtra   | /opt/conda/lib/R/library/gridExtra   | TRUE | FALSE | 2017-09-09 | CRAN (R 3.6.3) | NA | /opt/conda/lib/R/library |\n",
       "| rjags | rjags       | 4.10     | 4-10     | /opt/conda/lib/R/library/rjags       | /opt/conda/lib/R/library/rjags       | TRUE | FALSE | 2019-11-06 | CRAN (R 3.6.3) | NA | /opt/conda/lib/R/library |\n",
       "| rstan | rstan       | 2.19.3   | 2.19.3   | /opt/conda/lib/R/library/rstan       | /opt/conda/lib/R/library/rstan       | TRUE | FALSE | 2020-02-11 | CRAN (R 3.6.3) | NA | /opt/conda/lib/R/library |\n",
       "| runjags | runjags     | 2.0.4.6  | 2.0.4-6  | /opt/conda/lib/R/library/runjags     | /opt/conda/lib/R/library/runjags     | TRUE | FALSE | 2019-12-17 | CRAN (R 3.6.2) | NA | /opt/conda/lib/R/library |\n",
       "| snakecase | snakecase   | 0.11.0   | 0.11.0   | /opt/conda/lib/R/library/snakecase   | /opt/conda/lib/R/library/snakecase   | TRUE | FALSE | 2019-05-25 | CRAN (R 3.6.3) | NA | /opt/conda/lib/R/library |\n",
       "| StanHeaders | StanHeaders | 2.21.0.5 | 2.21.0-5 | /opt/conda/lib/R/library/StanHeaders | /opt/conda/lib/R/library/StanHeaders | TRUE | FALSE | 2020-06-09 | CRAN (R 3.6.3) | NA | /opt/conda/lib/R/library |\n",
       "| stringr | stringr     | 1.4.0    | 1.4.0    | /opt/conda/lib/R/library/stringr     | /opt/conda/lib/R/library/stringr     | TRUE | FALSE | 2019-02-10 | CRAN (R 3.6.1) | NA | /opt/conda/lib/R/library |\n",
       "\n"
      ],
      "text/plain": [
       "            package     ondiskversion loadedversion\n",
       "coda        coda        0.19.3        0.19-3       \n",
       "compute.es  compute.es  0.2.5         0.2-5        \n",
       "ggplot2     ggplot2     3.3.2         3.3.2        \n",
       "ggsci       ggsci       2.9           2.9          \n",
       "gridExtra   gridExtra   2.3           2.3          \n",
       "rjags       rjags       4.10          4-10         \n",
       "rstan       rstan       2.19.3        2.19.3       \n",
       "runjags     runjags     2.0.4.6       2.0.4-6      \n",
       "snakecase   snakecase   0.11.0        0.11.0       \n",
       "StanHeaders StanHeaders 2.21.0.5      2.21.0-5     \n",
       "stringr     stringr     1.4.0         1.4.0        \n",
       "            path                                \n",
       "coda        /opt/conda/lib/R/library/coda       \n",
       "compute.es  /opt/conda/lib/R/library/compute.es \n",
       "ggplot2     /opt/conda/lib/R/library/ggplot2    \n",
       "ggsci       /opt/conda/lib/R/library/ggsci      \n",
       "gridExtra   /opt/conda/lib/R/library/gridExtra  \n",
       "rjags       /opt/conda/lib/R/library/rjags      \n",
       "rstan       /opt/conda/lib/R/library/rstan      \n",
       "runjags     /opt/conda/lib/R/library/runjags    \n",
       "snakecase   /opt/conda/lib/R/library/snakecase  \n",
       "StanHeaders /opt/conda/lib/R/library/StanHeaders\n",
       "stringr     /opt/conda/lib/R/library/stringr    \n",
       "            loadedpath                           attached is_base date      \n",
       "coda        /opt/conda/lib/R/library/coda        TRUE     FALSE   2019-07-05\n",
       "compute.es  /opt/conda/lib/R/library/compute.es  TRUE     FALSE   2020-04-01\n",
       "ggplot2     /opt/conda/lib/R/library/ggplot2     TRUE     FALSE   2020-06-19\n",
       "ggsci       /opt/conda/lib/R/library/ggsci       TRUE     FALSE   2018-05-14\n",
       "gridExtra   /opt/conda/lib/R/library/gridExtra   TRUE     FALSE   2017-09-09\n",
       "rjags       /opt/conda/lib/R/library/rjags       TRUE     FALSE   2019-11-06\n",
       "rstan       /opt/conda/lib/R/library/rstan       TRUE     FALSE   2020-02-11\n",
       "runjags     /opt/conda/lib/R/library/runjags     TRUE     FALSE   2019-12-17\n",
       "snakecase   /opt/conda/lib/R/library/snakecase   TRUE     FALSE   2019-05-25\n",
       "StanHeaders /opt/conda/lib/R/library/StanHeaders TRUE     FALSE   2020-06-09\n",
       "stringr     /opt/conda/lib/R/library/stringr     TRUE     FALSE   2019-02-10\n",
       "            source         md5ok library                 \n",
       "coda        CRAN (R 3.6.3) NA    /opt/conda/lib/R/library\n",
       "compute.es  CRAN (R 3.6.3) NA    /opt/conda/lib/R/library\n",
       "ggplot2     CRAN (R 3.6.3) NA    /opt/conda/lib/R/library\n",
       "ggsci       CRAN (R 3.6.3) NA    /opt/conda/lib/R/library\n",
       "gridExtra   CRAN (R 3.6.3) NA    /opt/conda/lib/R/library\n",
       "rjags       CRAN (R 3.6.3) NA    /opt/conda/lib/R/library\n",
       "rstan       CRAN (R 3.6.3) NA    /opt/conda/lib/R/library\n",
       "runjags     CRAN (R 3.6.2) NA    /opt/conda/lib/R/library\n",
       "snakecase   CRAN (R 3.6.3) NA    /opt/conda/lib/R/library\n",
       "StanHeaders CRAN (R 3.6.3) NA    /opt/conda/lib/R/library\n",
       "stringr     CRAN (R 3.6.1) NA    /opt/conda/lib/R/library"
      ]
     },
     "metadata": {},
     "output_type": "display_data"
    }
   ],
   "source": [
    "dev_session_info   <- devtools::session_info()\n",
    "utils_session_info <- utils::sessionInfo()\n",
    "\n",
    "message(\"Saving `devtools::session_info()` objects in ../metadata/devtools_session_info.rds  ..\")\n",
    "saveRDS(dev_session_info, file = paste0(\"../metadata/\", figure_id, \"_devtools_session_info.rds\"))\n",
    "message(\"Done!\\n\")\n",
    "\n",
    "message(\"Saving `utils::sessionInfo()` objects in ../metadata/utils_session_info.rds  ..\")\n",
    "saveRDS(utils_session_info, file = paste0(\"../metadata/\", figure_id ,\"_utils_info.rds\"))\n",
    "message(\"Done!\\n\")\n",
    "\n",
    "dev_session_info$platform\n",
    "dev_session_info$packages[dev_session_info$packages$attached==TRUE, ]"
   ]
  }
 ],
 "metadata": {
  "kernelspec": {
   "display_name": "R",
   "language": "R",
   "name": "ir"
  },
  "language_info": {
   "codemirror_mode": "r",
   "file_extension": ".r",
   "mimetype": "text/x-r-source",
   "name": "R",
   "pygments_lexer": "r",
   "version": "3.6.2"
  }
 },
 "nbformat": 4,
 "nbformat_minor": 4
}
